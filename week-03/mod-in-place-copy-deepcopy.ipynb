{
 "cells": [
  {
   "cell_type": "markdown",
   "id": "9a0cf4fe-692f-498d-9431-34eebcddd792",
   "metadata": {},
   "source": [
    "# Modify in place, copy & deepcopy - example with lists"
   ]
  },
  {
   "cell_type": "code",
   "execution_count": 5,
   "id": "1d3fbcc3-4f6b-4406-b613-222374265529",
   "metadata": {},
   "outputs": [],
   "source": [
    "import copy"
   ]
  },
  {
   "cell_type": "markdown",
   "id": "7be275f2-b7f0-4a80-b728-e4b5a955b917",
   "metadata": {},
   "source": [
    "### Modify in place"
   ]
  },
  {
   "cell_type": "code",
   "execution_count": null,
   "id": "27e10f15-8c71-48fa-9cab-6c9a7524733c",
   "metadata": {},
   "outputs": [],
   "source": [
    "# Original list with a nested list\n",
    "l = [1, 2, [3, 4]]\n",
    "\n",
    "# 1. Modify in place\n",
    "l_in_place = l\n",
    "l_in_place[0] = 99  #?\n",
    "l_in_place[2][0] = 77  #?\n",
    "\n",
    "\n",
    "print(\"We started with l = [1, 2, [3, 4]]\")\n",
    "print(\"After modifying in place:\")\n",
    "print(\"Original list:\", l)  #?\n",
    "print(\"In-place modified list:\", l_in_place)#?\n",
    "print()"
   ]
  },
  {
   "cell_type": "markdown",
   "id": "89f624e6-df45-4d24-a439-fb009e1066dd",
   "metadata": {},
   "source": [
    "1. **In-Place Modification**:\n",
    "   - Both `l` and `l_in_place` refer to the same list, so modifying `l_in_place` also modifies `l`."
   ]
  },
  {
   "cell_type": "markdown",
   "id": "0aac6d1d-0f06-4440-97dc-f766f9bb79d9",
   "metadata": {},
   "source": [
    "### Copy\n",
    "- aka shallow copy"
   ]
  },
  {
   "cell_type": "code",
   "execution_count": null,
   "id": "ea0bcbd2-a8ae-4b9d-8091-d05aeea3a404",
   "metadata": {},
   "outputs": [],
   "source": [
    "l = [1, 2, [3, 4]]  # ?\n",
    "l_shallow = l.copy()  # ?\n",
    "l_shallow[0] = 88  # ?\n",
    "l_shallow[2][0] = 66  # ?\n",
    "\n",
    "print(\"We started with l = [1, 2, [3, 4]]\")\n",
    "print(\"After shallow copy and modifications:\")\n",
    "print(\"Original list:\", l)  #?\n",
    "print(\"Shallow copied list:\", l_shallow) #?"
   ]
  },
  {
   "cell_type": "markdown",
   "id": "d4656d1c-3206-4950-957b-b9376dffce7b",
   "metadata": {},
   "source": [
    "2. **Shallow Copy**:\n",
    "   - `l_shallow` is a new list, so changing its top-level elements (like `l_shallow[0]`) does not affect `l`.\n",
    "   - However, the nested list `[3, 4]` is still shared between `l` and `l_shallow`, so modifying an element inside the nested list (`l_shallow[2][0] = 66`) also affects `l`."
   ]
  },
  {
   "cell_type": "markdown",
   "id": "3c0b1429-02e5-4c85-bf9e-4f9597229764",
   "metadata": {},
   "source": [
    "### Deepcopy"
   ]
  },
  {
   "cell_type": "code",
   "execution_count": null,
   "id": "2a974ad1-99db-4ba5-a087-68d2d3fbf985",
   "metadata": {},
   "outputs": [],
   "source": [
    "# 3. Deep copy\n",
    "l = [1, 2, [3, 4]]  #?\n",
    "l_deep = copy.deepcopy(l)  #?\n",
    "l_deep[0] = 77  #?\n",
    "l_deep[2][0] = 55  #?\n",
    "\n",
    "print(\"We started with l = [1, 2, [3, 4]]\")\n",
    "print(\"After deep copy and modifications:\")\n",
    "print(\"Original list:\", l) #?\n",
    "print(\"Deep copied list:\", l_deep)"
   ]
  },
  {
   "cell_type": "markdown",
   "id": "23151eeb-7f54-4b64-bde5-289c9ff2511c",
   "metadata": {},
   "source": [
    "3. **Deep Copy**:\n",
    "   - `l_deep` is a completely independent copy of `l`. Modifying `l_deep`, including the nested list, does not affect `l` at all, because `deepcopy()` creates a full copy of the nested structures."
   ]
  },
  {
   "cell_type": "code",
   "execution_count": null,
   "id": "e934f4b9-06a7-4254-bf80-da8109115df1",
   "metadata": {},
   "outputs": [],
   "source": []
  }
 ],
 "metadata": {
  "kernelspec": {
   "display_name": "Python 3 (ipykernel)",
   "language": "python",
   "name": "python3"
  },
  "language_info": {
   "codemirror_mode": {
    "name": "ipython",
    "version": 3
   },
   "file_extension": ".py",
   "mimetype": "text/x-python",
   "name": "python",
   "nbconvert_exporter": "python",
   "pygments_lexer": "ipython3",
   "version": "3.11.9"
  }
 },
 "nbformat": 4,
 "nbformat_minor": 5
}
