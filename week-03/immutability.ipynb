{
 "cells": [
  {
   "cell_type": "markdown",
   "id": "daabce01-4993-450d-995a-659901a79201",
   "metadata": {},
   "source": [
    "# Immutable\n",
    "\n",
    "1. Attempt to change an element in an immutable object will result in an error.\n",
    "2. Create a new immutable object to \"change\" it.\n",
    "\n",
    "\n",
    "\n",
    "## e.g., Tuples \n",
    "\n",
    "#### 1. Attempt to change an element in a tuple will result in an error\n"
   ]
  },
  {
   "cell_type": "code",
   "execution_count": 1,
   "id": "bca7837d-f190-4dcf-b691-22b8d73b99bc",
   "metadata": {},
   "outputs": [
    {
     "name": "stdout",
     "output_type": "stream",
     "text": [
      "You can't change a tuple, if you try `t[0] = 10` you'll get a TypeError: 'tuple' object does not support item assignment\n"
     ]
    }
   ],
   "source": [
    "t = (1, 2, 3)\n",
    "\n",
    "# 1. Attempt to change an element in a tuple will result in an error\n",
    "try:\n",
    "    t[0] = 10\n",
    "except:\n",
    "    print(\"You can't change a tuple, if you try `t[0] = 10` you'll get a TypeError: 'tuple' object does not support item assignment\")"
   ]
  },
  {
   "cell_type": "markdown",
   "id": "5bfdd621-4d68-4e52-a60d-2eb4526f8853",
   "metadata": {},
   "source": [
    "### You have to create a new tuple to \"change\" it"
   ]
  },
  {
   "cell_type": "code",
   "execution_count": 2,
   "id": "7c38dd8e-7632-4a40-9d5c-fd69ee1869d6",
   "metadata": {},
   "outputs": [
    {
     "name": "stdout",
     "output_type": "stream",
     "text": [
      "New tuple: (10, 2, 3)\n"
     ]
    }
   ],
   "source": [
    "new_t = (10,) + t[1:]  # Creating a new tuple by combining the new element with the rest\n",
    "print(\"New tuple:\", new_t)  # Output: (10, 2, 3)"
   ]
  },
  {
   "cell_type": "code",
   "execution_count": null,
   "id": "9fc27418-2bf7-490f-8058-4bd9e8100aae",
   "metadata": {},
   "outputs": [],
   "source": []
  },
  {
   "cell_type": "markdown",
   "id": "8e7d080b-03d3-422e-a68e-71964eaaffa1",
   "metadata": {},
   "source": [
    "# Mutable\n",
    "\n",
    "1. You can directly change an element in a mutable object (no error).\n",
    "2. You don't have to create a new mutable object to modify it, but you can if you want.\n",
    "\n",
    "# e.g., Lists \n",
    "### 1. You can directly change an element in a list (no error)"
   ]
  },
  {
   "cell_type": "code",
   "execution_count": 4,
   "id": "bc1330fe-ff40-499f-acb2-b8a0f5f6bd63",
   "metadata": {},
   "outputs": [
    {
     "name": "stdout",
     "output_type": "stream",
     "text": [
      "Modified list: [10, 2, 3]\n"
     ]
    }
   ],
   "source": [
    "l = [1, 2, 3]\n",
    "l[0] = 10  # Modifying the first element of the list\n",
    "print(\"Modified list:\", l)  # Output: [10, 2, 3]"
   ]
  },
  {
   "cell_type": "markdown",
   "id": "7647424a-75c3-42e8-af05-4d409b081c38",
   "metadata": {},
   "source": [
    "### 2. You don't have to create a new list to modify it, but you can:"
   ]
  },
  {
   "cell_type": "code",
   "execution_count": 13,
   "id": "adf452fc-654f-4d4e-85b7-1cd1ff5024ba",
   "metadata": {},
   "outputs": [
    {
     "name": "stdout",
     "output_type": "stream",
     "text": [
      "Original list: [1, 2, 3, 4, 5]\n",
      "New modified list: [1, 2, 10, 4, 5]\n"
     ]
    }
   ],
   "source": [
    "import copy\n",
    "\n",
    "# Original list\n",
    "numbers = [1, 2, 3, 4, 5]\n",
    "\n",
    "# Create a copy of the original list\n",
    "new_numbers = numbers.copy()\n",
    "\n",
    "# Modify the new list\n",
    "new_numbers[2] = 10  # Changing the third element from 3 to 10 in the copied list\n",
    "\n",
    "print(\"Original list:\", numbers)\n",
    "print(\"New modified list:\", new_numbers)"
   ]
  },
  {
   "cell_type": "code",
   "execution_count": null,
   "id": "137b5c1d-0411-45b2-bd5f-411cbe01c581",
   "metadata": {},
   "outputs": [],
   "source": []
  },
  {
   "cell_type": "code",
   "execution_count": null,
   "id": "87acbb4f-192b-4f5d-a3f0-d5086cb76911",
   "metadata": {},
   "outputs": [],
   "source": []
  }
 ],
 "metadata": {
  "kernelspec": {
   "display_name": "Python 3 (ipykernel)",
   "language": "python",
   "name": "python3"
  },
  "language_info": {
   "codemirror_mode": {
    "name": "ipython",
    "version": 3
   },
   "file_extension": ".py",
   "mimetype": "text/x-python",
   "name": "python",
   "nbconvert_exporter": "python",
   "pygments_lexer": "ipython3",
   "version": "3.11.9"
  }
 },
 "nbformat": 4,
 "nbformat_minor": 5
}
