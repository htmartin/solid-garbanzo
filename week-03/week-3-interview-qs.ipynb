{
 "cells": [
  {
   "cell_type": "markdown",
   "id": "522be170-b3b7-4049-9ec6-6c2f42695935",
   "metadata": {},
   "source": [
    "### General Knowledge Data Science Interview Questions about Sequences, Dictionaries & Immutability\n",
    "\n",
    "1. What are the key differences between lists, tuples, and sets in Python?\n",
    "2. How do you check if a key exists in a dictionary, and what are the ways to retrieve a value for a given key?\n",
    "3. Explain the concept of immutability in Python. How does it apply to tuples and dictionaries?\n",
    "4. How do dictionaries maintain order, and how has this changed in recent versions of Python?\n",
    "5. What are the advantages and use cases for using a tuple over a list in Python?"
   ]
  },
  {
   "cell_type": "markdown",
   "id": "f84ba2e3-682c-4447-99bc-5c0182934605",
   "metadata": {},
   "source": [
    "### Coding/Scripting Data Science Interview Questions about Sequences, Dictionaries & Immutability\n",
    "\n",
    "1. Write a Python script that removes all duplicate elements from a list while preserving the order of the remaining elements.  \n",
    "2. Given a list of tuples, write a Python script to convert this list into a dictionary where the first element of each tuple becomes the key, and the second element becomes the value. Handle potential duplicate keys by keeping only the first occurrence.\n",
    "3. How would you implement a script that counts the frequency of elements in a list using a dictionary?  \n",
    "4. Write a Python script that demonstrates the immutability of a tuple by attempting to modify one of its elements, and handle the resulting error.\n",
    "5. Write a Python script that merges two dictionaries, where values for matching keys are combined into a list of values from both dictionaries."
   ]
  },
  {
   "cell_type": "code",
   "execution_count": null,
   "id": "70f157f1-5145-4e11-90b1-4bbdade42407",
   "metadata": {},
   "outputs": [],
   "source": []
  }
 ],
 "metadata": {
  "kernelspec": {
   "display_name": "Python 3 (ipykernel)",
   "language": "python",
   "name": "python3"
  },
  "language_info": {
   "codemirror_mode": {
    "name": "ipython",
    "version": 3
   },
   "file_extension": ".py",
   "mimetype": "text/x-python",
   "name": "python",
   "nbconvert_exporter": "python",
   "pygments_lexer": "ipython3",
   "version": "3.11.9"
  }
 },
 "nbformat": 4,
 "nbformat_minor": 5
}
