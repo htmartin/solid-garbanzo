{
 "cells": [
  {
   "cell_type": "markdown",
   "id": "0047d5fa-998b-4b10-a6a2-6da1797b7f39",
   "metadata": {},
   "source": [
    "# Extraterrestrial Diplomatic Service Project"
   ]
  },
  {
   "cell_type": "markdown",
   "id": "1d54da58-38c1-44c7-8999-d577ceb49bfa",
   "metadata": {},
   "source": [
    "#### The Problem Statement\n",
    "\n",
    "It's 2733, and you are a data scientist for the Extraterrestrial Diplomatic Service. The Service is regularly tasked with providing guidance to the Galactic Council on potential trade and business relations with extraterrestrial civilizations. This analysis helps the Council in understanding the potential for fruitful collaborations.\n",
    "\n",
    "At the annual meeting of the Extraterrestrial Diplomatic Service, presenters highlighted the success of several joint space missions conducted in collaboration with extraterrestrial civilizations. They suggested that these past achievements could indicate potential for expanding partnerships into areas such as trade and business. They wondered what other characteristics of extraterrestrial civilizations could serve as predictors of future successful partnerships.\n",
    "\n",
    "**Your job** is to do EDA with the dataset to begin this analysis.\n",
    "**The goal** is to create a report that:\n",
    "1. Recommends variables that could serve as predictors of future successful partnerships to the council.\n",
    "2. Backs up your suggestions with numerical data and graphs.\n",
    "\n",
    "- Your dataset, `extraterrestrial_civilizations.csv` has a randomly selected set of 50 civilizations' information for the following variables:\n",
    "\n",
    "`Name_of_civilzation`: The civilization's name\n",
    "\n",
    "`Years_since_first_contact`: Number of years since humanity first made contact with this civilization. (0-300)\n",
    "\n",
    "`Technological_progress`: A measure of the civilization's overall technological progress on a scale from 1 to 100.\n",
    "\n",
    "`Diplomatic_relations_index`: A measure of diplomatic relations between Earth and the civilization on a scale from 1 to 10, with higher values indicating more positive relations.\n",
    "\n",
    "`Cultural_exchange_index`: A measure of the degree of cultural exchange between Earth and the  civilization on a scale from 1 to 10, with higher values indicating more exchange.\n",
    "\n",
    "`Joint_space_missions`: The number of joint space missions between Earth and the civilization.\n",
    "\n",
    "`Hostility_to_Earth_Index`: A measure of the civilization's hostility to Earth on a scale from 1 to 10, with higher values indicating more hostility.\n",
    "\n",
    "`Degree_of_positive_contact`: A continuous variable measuring the degree of positive  contact with Earth on a scale from 1 to 100, with higher values indicating more positive contact.\n",
    "\n"
   ]
  },
  {
   "cell_type": "markdown",
   "id": "29a1ddc6-7502-4b5e-bc4c-a71a29ce13b9",
   "metadata": {},
   "source": [
    "### Part I: Getting to know your dataset"
   ]
  },
  {
   "cell_type": "markdown",
   "id": "04583d2d-ebe9-43b7-9c52-a7f4b07d0ce8",
   "metadata": {},
   "source": [
    "### Exercises:"
   ]
  },
  {
   "cell_type": "markdown",
   "id": "cda0a3c8-1e89-4e18-bb6e-cccaf07a9323",
   "metadata": {
    "tags": []
   },
   "source": [
    "#### Exercise 1: Import the data\n",
    "\n",
    "Import  pandas & then read the extraterrestrial_civilizations.csv file into a DataFrame called `et_data`."
   ]
  },
  {
   "cell_type": "code",
   "execution_count": null,
   "id": "95ad4854-35d6-4e17-96ad-b440a3dc70f0",
   "metadata": {},
   "outputs": [],
   "source": [
    "# Import the pandas library.\n",
    "\n",
    "# read the CSV file into a DataFrame\n"
   ]
  },
  {
   "cell_type": "markdown",
   "id": "21623804",
   "metadata": {},
   "source": [
    "#### Exercise 2 - Preview the data\n",
    "\n",
    "View the first ten rows of the DataFrame `et_data`."
   ]
  },
  {
   "cell_type": "code",
   "execution_count": 18,
   "id": "28d28f26",
   "metadata": {},
   "outputs": [],
   "source": [
    "# View the first ten rows"
   ]
  },
  {
   "cell_type": "markdown",
   "id": "d135fb5e",
   "metadata": {},
   "source": [
    "#### Exercise 3 - Check the dimensions\n",
    "\n",
    "Check the dimensions of the `et_data` DataFrame."
   ]
  },
  {
   "cell_type": "code",
   "execution_count": 1,
   "id": "c6e349a5",
   "metadata": {},
   "outputs": [],
   "source": [
    "# check the dimensions of your DataFrame\n"
   ]
  },
  {
   "cell_type": "markdown",
   "id": "ad2c4c93-ea7c-4347-b73c-f67b600f6311",
   "metadata": {},
   "source": [
    "#### Exercise 4 Summarize the DataFrame\n",
    "\n",
    "Show a quick summary of the `et_data` DataFrame."
   ]
  },
  {
   "cell_type": "code",
   "execution_count": null,
   "id": "69dd2360-6426-45ce-84d6-17cfae94f52b",
   "metadata": {},
   "outputs": [],
   "source": [
    "# quick summary\n"
   ]
  },
  {
   "cell_type": "markdown",
   "id": "a97f9bc4-e6f5-408e-a6ae-9a6c4272b538",
   "metadata": {},
   "source": [
    "### Stop & Smell the Roses\n",
    "\n",
    "1. What preliminary hypotheses/conjectures do you have at this point?\n",
    "2. Have you thought of any ways you'll want to transform your data? (e.g, New variables you want to create? Columns you want to drop/add, ...)\n",
    "3. What problems have you noticed with the data that you'll want to clean up when we get to data cleaning?\n"
   ]
  },
  {
   "cell_type": "markdown",
   "id": "82d0ef0b-911e-4469-81bf-b6db3834ceb3",
   "metadata": {},
   "source": [
    "### Part II: Manipulating your DataFrame"
   ]
  },
  {
   "cell_type": "markdown",
   "id": "ed18ee90-1a9d-4e24-8ec3-56a3afe23972",
   "metadata": {},
   "source": [
    "#### Exercise 1: Subsetting by columns\n",
    "\n",
    "Create a subset of the `et_data` DataFrame with the variables (columns) that you think might be most important for your analysis."
   ]
  },
  {
   "cell_type": "code",
   "execution_count": null,
   "id": "4ab62d2a-4eb9-4f09-bbbd-b664f158f565",
   "metadata": {},
   "outputs": [],
   "source": [
    "#Student Code Here\n",
    "\n",
    "\n",
    "# Create a subset\n"
   ]
  },
  {
   "cell_type": "markdown",
   "id": "38132bcf-827f-44ee-9b8b-59ef44ed254e",
   "metadata": {},
   "source": [
    "#### Exercise 2: Subsetting by rows\n",
    "\n",
    "The Council is most interested in looking at civilizations who have made contact relatively recently and have advanced technology. Select civilizations with a score in the bottom 25% of the values for `Years_since_first_contact` and civilizations with a `Technological_progress` score of 7 or higher."
   ]
  },
  {
   "cell_type": "code",
   "execution_count": 23,
   "id": "f98a4a28-304f-4946-af8a-0d9014bc86a4",
   "metadata": {},
   "outputs": [],
   "source": [
    "#Student Code Here\n",
    "\n",
    "# Calculate the threshold for the bottom 25% of 'Years_since_first_contact'\n",
    "\n",
    "# Filter based on the conditions\n",
    "\n",
    "# Check that changes have been made with describe()\n",
    "\n"
   ]
  },
  {
   "cell_type": "markdown",
   "id": "89f77def-a03f-45cb-b748-6f43c4a8209e",
   "metadata": {},
   "source": [
    "### Stop & Smell the Roses\n",
    "\n",
    "1. Have your initial hypotheses/conjectures changed on further investigation of the data?\n",
    "2. What additional issues have you noticed with the data that you'll want to clean up when we get to data cleaning?\n",
    "3. Have you thought of any ways you'll want to transform your project data? (e.g, New variables you want to create? Columns you want to drop/add, ...)\n",
    "    - List them or go ahead and do them. "
   ]
  },
  {
   "cell_type": "markdown",
   "id": "a9c46941-030e-408d-954a-7e15c143faed",
   "metadata": {},
   "source": [
    "### Part III: Descriptive Statistics"
   ]
  },
  {
   "cell_type": "markdown",
   "id": "febcd149-824b-4be9-b606-53bf2d9ae9ae",
   "metadata": {},
   "source": [
    "#### Exercise 1 \n",
    "\n",
    "\n",
    "The `value_counts()` method gives frequency counts for qualitative variables, so it doesn't make a lot of sense to use it on the et_data dataset. To try it out, import `zorga_animals.csv` as `zorga_animals` and find out how many animals live in each type of habitat on Zorga? "
   ]
  },
  {
   "cell_type": "code",
   "execution_count": null,
   "id": "9ef3d43c-ae8b-4b6e-9acc-725f6c96aae1",
   "metadata": {},
   "outputs": [],
   "source": [
    "#Student Code here\n",
    "\n",
    "# output the frequency of value occurrences in column\n",
    "# Output summary value "
   ]
  },
  {
   "cell_type": "markdown",
   "id": "ecf40a92-a3a5-4f28-ac44-d52940d5298a",
   "metadata": {},
   "source": [
    "#### Exercise 2\n",
    "\n",
    "How long ago did Earth make contact with the first civilization contacted in this dataset?"
   ]
  },
  {
   "cell_type": "code",
   "execution_count": null,
   "id": "d1752d32-bb22-4868-b0fd-1060939922d9",
   "metadata": {},
   "outputs": [],
   "source": [
    "#Student Code here\n",
    "\n",
    "# Output summary value "
   ]
  },
  {
   "cell_type": "markdown",
   "id": "edf5440d-a601-445a-8355-a57402203895",
   "metadata": {},
   "source": [
    "#### Exercise 3\n",
    "\n",
    "What is the extent of positive relations that the average civilization maintains with Earth?"
   ]
  },
  {
   "cell_type": "code",
   "execution_count": null,
   "id": "211212a2-d106-49e8-b108-0e15af44f383",
   "metadata": {},
   "outputs": [],
   "source": [
    "#Student Code here\n",
    "\n",
    "# Output summary value "
   ]
  },
  {
   "cell_type": "markdown",
   "id": "26b17975-cb88-4d9f-af00-cf36dbdf5125",
   "metadata": {},
   "source": [
    "#### Exercise 4\n",
    "\n",
    "What are the characteristics of the most hostile civilizations?"
   ]
  },
  {
   "cell_type": "code",
   "execution_count": null,
   "id": "cf1de6e5-245e-4e39-976e-79738ac0d0a6",
   "metadata": {},
   "outputs": [],
   "source": [
    "#Student Code here\n",
    "\n",
    "# Create variable\n",
    "\n",
    "# groupby\n",
    "\n",
    "# display to check\n"
   ]
  },
  {
   "cell_type": "markdown",
   "id": "4af156e8-ef94-41c2-be27-7a98ef953d9b",
   "metadata": {},
   "source": [
    "### Stop & Smell the Roses\n",
    "\n",
    "1. Have your hypotheses/conjectures changed on further investigation of the data?\n",
    "2. What additional issues have you noticed with the data that you'll want to clean up when we get to data cleaning?\n",
    "3. Have you thought of any more ways you'll want to transform your project data? (e.g, New variables you want to create? Columns you want to drop/add, ...)\n",
    "4. What visualizations do you think might help you investigate your hypotheses/conjectures? (We'll dig into these next class)"
   ]
  }
 ],
 "metadata": {
  "environment": {
   "kernel": "python3",
   "name": "common-cpu.m87",
   "type": "gcloud",
   "uri": "gcr.io/deeplearning-platform-release/base-cpu:m87"
  },
  "kernelspec": {
   "display_name": "Python 3 (ipykernel)",
   "language": "python",
   "name": "python3"
  },
  "language_info": {
   "codemirror_mode": {
    "name": "ipython",
    "version": 3
   },
   "file_extension": ".py",
   "mimetype": "text/x-python",
   "name": "python",
   "nbconvert_exporter": "python",
   "pygments_lexer": "ipython3",
   "version": "3.11.9"
  }
 },
 "nbformat": 4,
 "nbformat_minor": 5
}
