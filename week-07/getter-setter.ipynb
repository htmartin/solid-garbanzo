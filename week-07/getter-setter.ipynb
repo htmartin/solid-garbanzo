{
 "cells": [
  {
   "cell_type": "markdown",
   "id": "b85460a3-c85a-4cfe-94e8-c08aa9b819c8",
   "metadata": {},
   "source": [
    "## Example\n",
    "- Controlling access to an attribute in Python using encapsulation using getter and setter methods.\n"
   ]
  },
  {
   "cell_type": "code",
   "execution_count": 6,
   "id": "b8fa3e44-45e9-4c9a-bec8-851bea4ced76",
   "metadata": {},
   "outputs": [],
   "source": [
    "class Student:\n",
    "         def __init__(self, name, age):\n",
    "             self.__age = age  # Private attribute\n",
    "         \n",
    "         def get_age(self):\n",
    "             return self.__age\n",
    "         \n",
    "         def set_age(self, age):\n",
    "             if age > 0:\n",
    "                 self.__age = age\n"
   ]
  },
  {
   "cell_type": "code",
   "execution_count": 7,
   "id": "f36c90c6-b259-4524-b055-90c0860421fd",
   "metadata": {},
   "outputs": [],
   "source": [
    "doris = Student(\"Doris\", 22)"
   ]
  },
  {
   "cell_type": "code",
   "execution_count": null,
   "id": "ac0e6a3b-443c-46bd-bc80-905ef513d21b",
   "metadata": {},
   "outputs": [],
   "source": [
    "doris.get_age()"
   ]
  },
  {
   "cell_type": "markdown",
   "id": "9129e911-7100-47fd-b48a-ea0faedd685e",
   "metadata": {},
   "source": [
    "#### What's going to happen if we run this instead of using `get_age()`?"
   ]
  },
  {
   "cell_type": "code",
   "execution_count": null,
   "id": "aeb545a5-da29-4ce1-ab12-ee5c40fdcc71",
   "metadata": {},
   "outputs": [],
   "source": [
    "doris.age"
   ]
  },
  {
   "cell_type": "code",
   "execution_count": null,
   "id": "438803d4-9a5e-44eb-a26f-1e12df15fa10",
   "metadata": {},
   "outputs": [],
   "source": [
    "doris.set_age(27)"
   ]
  },
  {
   "cell_type": "code",
   "execution_count": 10,
   "id": "b6f44598-e5e7-4fc9-b5e4-33b63f9ce90a",
   "metadata": {},
   "outputs": [],
   "source": []
  },
  {
   "cell_type": "code",
   "execution_count": null,
   "id": "f14f93af-a94f-49cf-be87-72de4d22f894",
   "metadata": {},
   "outputs": [],
   "source": []
  },
  {
   "cell_type": "code",
   "execution_count": null,
   "id": "13f3cd0c-49e2-4557-a10b-48bf2dbcbb90",
   "metadata": {},
   "outputs": [],
   "source": []
  }
 ],
 "metadata": {
  "kernelspec": {
   "display_name": "Python 3 (ipykernel)",
   "language": "python",
   "name": "python3"
  },
  "language_info": {
   "codemirror_mode": {
    "name": "ipython",
    "version": 3
   },
   "file_extension": ".py",
   "mimetype": "text/x-python",
   "name": "python",
   "nbconvert_exporter": "python",
   "pygments_lexer": "ipython3",
   "version": "3.11.9"
  }
 },
 "nbformat": 4,
 "nbformat_minor": 5
}
