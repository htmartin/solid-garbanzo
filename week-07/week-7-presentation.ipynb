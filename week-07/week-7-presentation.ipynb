{
 "cells": [
  {
   "cell_type": "markdown",
   "metadata": {},
   "source": [
    "# Classes\n",
    "\n",
    "Everything in python is an object and every object has a class (like ints, strings, floats,etc.)\n",
    "Put generally, classes are like the blueprint for creating objects\n",
    "\n",
    "Python allows users to create their own classes and there are 3 main reasons for why we may do so:\n",
    "1. Hold a specific format of data\n",
    "2. Create new functionality \n",
    "3. Build object-oriented software"
   ]
  },
  {
   "cell_type": "markdown",
   "metadata": {},
   "source": [
    "# Attributes\n",
    "\n",
    "For all classes, there are two main components:\n",
    "1. Data attributes - outward characteristics of the class (can be on an instance level or class level)\n",
    "2. Methods - functions that apply to a particular instance (can also have class methods)"
   ]
  },
  {
   "cell_type": "code",
   "execution_count": 1,
   "metadata": {},
   "outputs": [
    {
     "name": "stdout",
     "output_type": "stream",
     "text": [
      "The pumpkin-shaped cookie has icing\n",
      "The witch-shaped cookie has no icing\n",
      "The pumpkin-shaped cookie has icing\n"
     ]
    }
   ],
   "source": [
    "class Cookie:\n",
    "    \"\"\"A representation of cookie(s)\"\"\"\n",
    "    \n",
    "    # Class attributes\n",
    "    shape = \"pumpkin\"\n",
    "    icing_status = \"has icing\"\n",
    "\n",
    "    # Instance methods\n",
    "    def visual(self):\n",
    "        print(\"The \" + self.shape + \"-shaped cookie \" + self.icing_status)\n",
    "\n",
    "  \n",
    "# Generate instances of the class\n",
    "c1 = Cookie()\n",
    "c2 = Cookie()\n",
    "\n",
    "# Display attributes for instance c1\n",
    "c1.visual()  # Output: The pumpkin-shaped cookie has icing\n",
    "\n",
    "\n",
    "# Modify attributes for instance c1\n",
    "c1.shape = \"witch\"\n",
    "c1.icing_status = \"has no icing\"\n",
    "c1.visual()  # Output: The witch-shaped cookie has no icing\n",
    "c2.visual()\n",
    "# Display attributes for instance c2 without modification\n",
    "    "
   ]
  },
  {
   "cell_type": "markdown",
   "metadata": {},
   "source": [
    "# How Are Methods Called\n",
    "1. Instances get bound to a method using the syntax instance_name.method(attributes after self) -- this binding allows the self parameter to operate\n",
    "2. Parameter 'self' points to the instance in question\n",
    "3. Remaining parameters in method attach to the attributes in the calling statement \n"
   ]
  },
  {
   "cell_type": "markdown",
   "metadata": {},
   "source": [
    "![Method Calling Example](Method_Calling.png)"
   ]
  },
  {
   "cell_type": "markdown",
   "metadata": {},
   "source": [
    "# Using Self as an Identifier for an Method's Instance\n",
    "When creating methods, python needs a way to access the specific object it is referencing. \n",
    "The standard convention is to use 'self', but it is not actually a reserved word in python and any name would do. \n",
    "\n"
   ]
  },
  {
   "cell_type": "markdown",
   "metadata": {},
   "source": [
    "# Initializing a Class - A Better Way to Set Up Classes\n",
    "Initalizing ensures all necessary attributes are set up as soon as the object is created.\n",
    "This helps with consistency, readability, and avoiding AttributeErrors"
   ]
  },
  {
   "cell_type": "code",
   "execution_count": 64,
   "metadata": {},
   "outputs": [
    {
     "name": "stdout",
     "output_type": "stream",
     "text": [
      "The pumpkin-shaped cookie has icing and 0 sprinkles\n",
      "The witch-shaped cookie does not have icing and 1 sprinkles\n"
     ]
    }
   ],
   "source": [
    "class Cookie:\n",
    "    \"\"\"A representation of cookie(s)\"\"\"\n",
    "    # Example of initializing a class, this allows us to make instance attributes the moment every instance is created\n",
    "    # Syntax to initialize is __init__(self, other attributes)\n",
    "\n",
    "    def __init__(self, shape=\"pumpkin\", icing_status=\"has icing\", sprinkles=0):\n",
    "        self.sprinkles = sprinkles  # Instance attribute\n",
    "        self.shape = shape          # Instance attribute \n",
    "        self.icing_status = icing_status   # Instance attribute\n",
    "\n",
    "    def visual(self):\n",
    "        print(f\"The {self.shape}-shaped cookie {self.icing_status} and {self.sprinkles} sprinkles\")\n",
    "\n",
    "# Generate instances of the class\n",
    "c1 = Cookie()  # Creates instance of Cookie with all the instance attributes defined in the initializing method\n",
    "c1.visual()    # Displays characteristics \n",
    "c2 = Cookie(shape=\"witch\", icing_status=\"does not have icing\", sprinkles=1)  # Example to change instance-specific attributes\n",
    "c2.visual()\n",
    "\n"
   ]
  },
  {
   "cell_type": "markdown",
   "metadata": {},
   "source": [
    "# Getters and Setters\n",
    "These are alternate ways to access/change attributes\n",
    "\n",
    "They allow for more control over attribute use\n",
    "\n",
    "In this approach, there is a method to return the attribute and method to set the attribute"
   ]
  },
  {
   "cell_type": "code",
   "execution_count": 6,
   "metadata": {},
   "outputs": [
    {
     "name": "stdout",
     "output_type": "stream",
     "text": [
      "0\n",
      "0\n",
      "3\n",
      "5\n"
     ]
    }
   ],
   "source": [
    "\n",
    "class Cookie:\n",
    "    \"\"\"A representation of cookie(s)\"\"\"\n",
    "    # Example of initializing a class, this allows us to make instance attributes the moment every instance is created\n",
    "    # Syntax to initialize is __init__(self, other attributes)\n",
    "\n",
    "    def __init__(self, shape=\"pumpkin\", icing_status=\"has icing\", sprinkles=0):\n",
    "        self.sprinkles = sprinkles  # Instance attribute\n",
    "        self.shape = shape          # Instance attribute \n",
    "        self.icing_status = icing_status   # Instance attribute\n",
    "\n",
    "    def visual(self):\n",
    "        print(f\"The {self.shape}-shaped cookie {self.icing_status} and {self.sprinkles} sprinkles\")\n",
    "\n",
    "    # for getters / settings section below\n",
    "    def get_sprinkles(self):\n",
    "        return self.sprinkles\n",
    "\n",
    "    def set_sprinkles(self,new_sprinkles):\n",
    "        if new_sprinkles < 0:\n",
    "            raise Exception(\"Cookies cannot have negative sprinkles,silly\")\n",
    "        self.sprinkles = new_sprinkles\n",
    "\n",
    "c1 = Cookie()\n",
    "c2 = Cookie()\n",
    "\n",
    "#getting attributes manually\n",
    "print(c1.sprinkles)\n",
    "\n",
    "#getting attributes from get\n",
    "print(c1.get_sprinkles())\n",
    "\n",
    "#setting attributes manually\n",
    "c2.sprinkles = 3\n",
    "print(c2.sprinkles) \n",
    "\n",
    "#setting attributes with set\n",
    "c2.set_sprinkles(5)\n",
    "print(c2.sprinkles)\n"
   ]
  }
 ],
 "metadata": {
  "kernelspec": {
   "display_name": "base",
   "language": "python",
   "name": "python3"
  },
  "language_info": {
   "codemirror_mode": {
    "name": "ipython",
    "version": 3
   },
   "file_extension": ".py",
   "mimetype": "text/x-python",
   "name": "python",
   "nbconvert_exporter": "python",
   "pygments_lexer": "ipython3",
   "version": "3.12.4"
  }
 },
 "nbformat": 4,
 "nbformat_minor": 2
}
