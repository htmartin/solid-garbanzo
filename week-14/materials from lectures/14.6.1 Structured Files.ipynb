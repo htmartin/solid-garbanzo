{
 "cells": [
  {
   "cell_type": "markdown",
   "metadata": {},
   "source": [
    "## JSON - JavaScript Object Notation\n",
    "\n",
    "JSON is a type of structured text file, which is very popular for web development but it can be used to hold almost any kind of data.  It's a file format that you're bound to run into frequently as a data scientist.  So let's take a look at a JSON file.\n",
    "\n",
    "🐲 Pokédex of Pokémon GO in JSON.  \n",
    "downloaded from https://github.com/Biuni/PokemonGO-Pokedex"
   ]
  },
  {
   "cell_type": "code",
   "execution_count": 3,
   "metadata": {},
   "outputs": [
    {
     "name": "stdout",
     "output_type": "stream",
     "text": [
      "{\n",
      "  \"pokemon\": [{\n",
      "    \"id\": 1,\n",
      "    \"num\": \"001\",\n",
      "    \"name\": \"Bulbasaur\",\n",
      "    \"img\": \"http://www.serebii.net/pokemongo/pokemon/001.png\",\n",
      "    \"type\": [\n",
      "      \"Grass\",\n",
      "      \"Poison\"\n",
      "    ],\n",
      "    \"height\": \"0.71 m\",\n",
      "    \"weight\": \"6.9 kg\",\n",
      "    \"candy\": \"Bulbasaur Candy\",\n",
      "    \"candy_count\": 25,\n",
      "    \"egg\": \"2 km\",\n",
      "    \"spawn_chance\": 0.69,\n",
      "    \"avg_spawns\": 69,\n",
      "    \"spawn_time\": \"20:00\",\n",
      "    \"multipliers\": [1.58],\n",
      "    \"weaknesses\": [\n",
      "      \"Fire\",\n",
      "      \"Ice\",\n",
      "      \"Flying\",\n",
      "      \"Psychic\"\n",
      "    ],\n",
      "    \"next_evolution\": [{\n",
      "      \"num\": \"002\",\n",
      "      \"name\": \"Ivysaur\"\n",
      "    }, {\n",
      "      \"num\": \"003\",\n"
     ]
    }
   ],
   "source": [
    "!head -30 pokedex.json"
   ]
  },
  {
   "cell_type": "markdown",
   "metadata": {},
   "source": [
    "The first thing you'll notice is that a JSON file looks a lot like python code.  Actually, if you were to copy this text, and paste it into a code cell, it would be legal python code.  Python would create a dictionary where you see curly braces, and a list where you see square braces.  This is great, because it means that moving from json text to python objects is really easy.  We do that with the json library"
   ]
  },
  {
   "cell_type": "code",
   "execution_count": 4,
   "metadata": {},
   "outputs": [],
   "source": [
    "import json"
   ]
  },
  {
   "cell_type": "markdown",
   "metadata": {},
   "source": [
    "To load json you need json.load for a file, or loads for a string."
   ]
  },
  {
   "cell_type": "code",
   "execution_count": 6,
   "metadata": {},
   "outputs": [],
   "source": [
    "with open('pokedex.json') as f:\n",
    "    P = json.load(f)"
   ]
  },
  {
   "cell_type": "code",
   "execution_count": 8,
   "metadata": {},
   "outputs": [
    {
     "data": {
      "text/plain": [
       "dict"
      ]
     },
     "execution_count": 8,
     "metadata": {},
     "output_type": "execute_result"
    }
   ],
   "source": [
    "type(P)"
   ]
  },
  {
   "cell_type": "markdown",
   "metadata": {},
   "source": [
    "To get to the data, you have to bracket index through the layers."
   ]
  },
  {
   "cell_type": "code",
   "execution_count": 10,
   "metadata": {},
   "outputs": [
    {
     "data": {
      "text/plain": [
       "dict_keys(['pokemon'])"
      ]
     },
     "execution_count": 10,
     "metadata": {},
     "output_type": "execute_result"
    }
   ],
   "source": [
    "P.keys()"
   ]
  },
  {
   "cell_type": "code",
   "execution_count": 12,
   "metadata": {},
   "outputs": [
    {
     "data": {
      "text/plain": [
       "list"
      ]
     },
     "execution_count": 12,
     "metadata": {},
     "output_type": "execute_result"
    }
   ],
   "source": [
    "type(P['pokemon'])"
   ]
  },
  {
   "cell_type": "code",
   "execution_count": 13,
   "metadata": {},
   "outputs": [
    {
     "data": {
      "text/plain": [
       "{'id': 2,\n",
       " 'num': '002',\n",
       " 'name': 'Ivysaur',\n",
       " 'img': 'http://www.serebii.net/pokemongo/pokemon/002.png',\n",
       " 'type': ['Grass', 'Poison'],\n",
       " 'height': '0.99 m',\n",
       " 'weight': '13.0 kg',\n",
       " 'candy': 'Bulbasaur Candy',\n",
       " 'candy_count': 100,\n",
       " 'egg': 'Not in Eggs',\n",
       " 'spawn_chance': 0.042,\n",
       " 'avg_spawns': 4.2,\n",
       " 'spawn_time': '07:00',\n",
       " 'multipliers': [1.2, 1.6],\n",
       " 'weaknesses': ['Fire', 'Ice', 'Flying', 'Psychic'],\n",
       " 'prev_evolution': [{'num': '001', 'name': 'Bulbasaur'}],\n",
       " 'next_evolution': [{'num': '003', 'name': 'Venusaur'}]}"
      ]
     },
     "execution_count": 13,
     "metadata": {},
     "output_type": "execute_result"
    }
   ],
   "source": [
    "P['pokemon'][1]"
   ]
  },
  {
   "cell_type": "code",
   "execution_count": 18,
   "metadata": {},
   "outputs": [
    {
     "data": {
      "text/plain": [
       "'Ivysaur'"
      ]
     },
     "execution_count": 18,
     "metadata": {},
     "output_type": "execute_result"
    }
   ],
   "source": [
    "P['pokemon'][1]['name']"
   ]
  },
  {
   "cell_type": "markdown",
   "metadata": {},
   "source": [
    "If you want to go back from python objects to a json file, you need json.dump for a file or json.dumps for a string."
   ]
  },
  {
   "cell_type": "code",
   "execution_count": 17,
   "metadata": {},
   "outputs": [
    {
     "data": {
      "text/plain": [
       "'{\"id\": 2, \"num\": \"002\", \"name\": \"Ivysaur\", \"img\": \"http://www.serebii.net/pokemongo/pokemon/002.png\", \"type\": [\"Grass\", \"Poison\"], \"height\": \"0.99 m\", \"weight\": \"13.0 kg\", \"candy\": \"Bulbasaur Candy\", \"candy_count\": 100, \"egg\": \"Not in Eggs\", \"spawn_chance\": 0.042, \"avg_spawns\": 4.2, \"spawn_time\": \"07:00\", \"multipliers\": [1.2, 1.6], \"weaknesses\": [\"Fire\", \"Ice\", \"Flying\", \"Psychic\"], \"prev_evolution\": [{\"num\": \"001\", \"name\": \"Bulbasaur\"}], \"next_evolution\": [{\"num\": \"003\", \"name\": \"Venusaur\"}]}'"
      ]
     },
     "execution_count": 17,
     "metadata": {},
     "output_type": "execute_result"
    }
   ],
   "source": [
    "json.dumps(P['pokemon'][1])"
   ]
  },
  {
   "cell_type": "markdown",
   "metadata": {},
   "source": [
    "Let's say we want a list of all the pokemon names."
   ]
  },
  {
   "cell_type": "code",
   "execution_count": 16,
   "metadata": {},
   "outputs": [
    {
     "data": {
      "text/plain": [
       "['Bulbasaur',\n",
       " 'Ivysaur',\n",
       " 'Venusaur',\n",
       " 'Charmander',\n",
       " 'Charmeleon',\n",
       " 'Charizard',\n",
       " 'Squirtle',\n",
       " 'Wartortle',\n",
       " 'Blastoise',\n",
       " 'Caterpie',\n",
       " 'Metapod',\n",
       " 'Butterfree',\n",
       " 'Weedle',\n",
       " 'Kakuna',\n",
       " 'Beedrill',\n",
       " 'Pidgey',\n",
       " 'Pidgeotto',\n",
       " 'Pidgeot',\n",
       " 'Rattata',\n",
       " 'Raticate']"
      ]
     },
     "execution_count": 16,
     "metadata": {},
     "output_type": "execute_result"
    }
   ],
   "source": [
    "list(pokemon['name'] for pokemon in P['pokemon'])[:20]"
   ]
  },
  {
   "cell_type": "markdown",
   "metadata": {},
   "source": [
    "What if we want a list of all the types?  it's a little trickier, because we can loop through all of the types in each pokemon, but we'll get repeats.  the simplest idea is to use a set comprehension."
   ]
  },
  {
   "cell_type": "code",
   "execution_count": 19,
   "metadata": {},
   "outputs": [
    {
     "data": {
      "text/plain": [
       "{'Bug',\n",
       " 'Dragon',\n",
       " 'Electric',\n",
       " 'Fighting',\n",
       " 'Fire',\n",
       " 'Flying',\n",
       " 'Ghost',\n",
       " 'Grass',\n",
       " 'Ground',\n",
       " 'Ice',\n",
       " 'Normal',\n",
       " 'Poison',\n",
       " 'Psychic',\n",
       " 'Rock',\n",
       " 'Water'}"
      ]
     },
     "execution_count": 19,
     "metadata": {},
     "output_type": "execute_result"
    }
   ],
   "source": [
    "{t for pokemon in P['pokemon'] for t in pokemon['type']}"
   ]
  },
  {
   "cell_type": "markdown",
   "metadata": {},
   "source": [
    "What if you need to get data out of a json file and into a dataframe.  The json_normalize method can help.  It tries to turn the json into tabular data.  But the json is nested, so you actually end up with lists and dictionaries inside your dataframe. \n",
    "\n"
   ]
  },
  {
   "cell_type": "code",
   "execution_count": 20,
   "metadata": {},
   "outputs": [],
   "source": [
    "import pandas as pd"
   ]
  },
  {
   "cell_type": "code",
   "execution_count": 27,
   "metadata": {},
   "outputs": [
    {
     "data": {
      "text/html": [
       "<div>\n",
       "<style scoped>\n",
       "    .dataframe tbody tr th:only-of-type {\n",
       "        vertical-align: middle;\n",
       "    }\n",
       "\n",
       "    .dataframe tbody tr th {\n",
       "        vertical-align: top;\n",
       "    }\n",
       "\n",
       "    .dataframe thead th {\n",
       "        text-align: right;\n",
       "    }\n",
       "</style>\n",
       "<table border=\"1\" class=\"dataframe\">\n",
       "  <thead>\n",
       "    <tr style=\"text-align: right;\">\n",
       "      <th></th>\n",
       "      <th>avg_spawns</th>\n",
       "      <th>candy</th>\n",
       "      <th>candy_count</th>\n",
       "      <th>egg</th>\n",
       "      <th>height</th>\n",
       "      <th>id</th>\n",
       "      <th>img</th>\n",
       "      <th>multipliers</th>\n",
       "      <th>name</th>\n",
       "      <th>next_evolution</th>\n",
       "      <th>num</th>\n",
       "      <th>prev_evolution</th>\n",
       "      <th>spawn_chance</th>\n",
       "      <th>spawn_time</th>\n",
       "      <th>type</th>\n",
       "      <th>weaknesses</th>\n",
       "      <th>weight</th>\n",
       "    </tr>\n",
       "  </thead>\n",
       "  <tbody>\n",
       "    <tr>\n",
       "      <th>0</th>\n",
       "      <td>69.0</td>\n",
       "      <td>Bulbasaur Candy</td>\n",
       "      <td>25.0</td>\n",
       "      <td>2 km</td>\n",
       "      <td>0.71 m</td>\n",
       "      <td>1</td>\n",
       "      <td>http://www.serebii.net/pokemongo/pokemon/001.png</td>\n",
       "      <td>[1.58]</td>\n",
       "      <td>Bulbasaur</td>\n",
       "      <td>[{'num': '002', 'name': 'Ivysaur'}, {'num': '0...</td>\n",
       "      <td>001</td>\n",
       "      <td>NaN</td>\n",
       "      <td>0.690</td>\n",
       "      <td>20:00</td>\n",
       "      <td>[Grass, Poison]</td>\n",
       "      <td>[Fire, Ice, Flying, Psychic]</td>\n",
       "      <td>6.9 kg</td>\n",
       "    </tr>\n",
       "    <tr>\n",
       "      <th>1</th>\n",
       "      <td>4.2</td>\n",
       "      <td>Bulbasaur Candy</td>\n",
       "      <td>100.0</td>\n",
       "      <td>Not in Eggs</td>\n",
       "      <td>0.99 m</td>\n",
       "      <td>2</td>\n",
       "      <td>http://www.serebii.net/pokemongo/pokemon/002.png</td>\n",
       "      <td>[1.2, 1.6]</td>\n",
       "      <td>Ivysaur</td>\n",
       "      <td>[{'num': '003', 'name': 'Venusaur'}]</td>\n",
       "      <td>002</td>\n",
       "      <td>[{'num': '001', 'name': 'Bulbasaur'}]</td>\n",
       "      <td>0.042</td>\n",
       "      <td>07:00</td>\n",
       "      <td>[Grass, Poison]</td>\n",
       "      <td>[Fire, Ice, Flying, Psychic]</td>\n",
       "      <td>13.0 kg</td>\n",
       "    </tr>\n",
       "    <tr>\n",
       "      <th>2</th>\n",
       "      <td>1.7</td>\n",
       "      <td>Bulbasaur Candy</td>\n",
       "      <td>NaN</td>\n",
       "      <td>Not in Eggs</td>\n",
       "      <td>2.01 m</td>\n",
       "      <td>3</td>\n",
       "      <td>http://www.serebii.net/pokemongo/pokemon/003.png</td>\n",
       "      <td>None</td>\n",
       "      <td>Venusaur</td>\n",
       "      <td>NaN</td>\n",
       "      <td>003</td>\n",
       "      <td>[{'num': '001', 'name': 'Bulbasaur'}, {'num': ...</td>\n",
       "      <td>0.017</td>\n",
       "      <td>11:30</td>\n",
       "      <td>[Grass, Poison]</td>\n",
       "      <td>[Fire, Ice, Flying, Psychic]</td>\n",
       "      <td>100.0 kg</td>\n",
       "    </tr>\n",
       "    <tr>\n",
       "      <th>3</th>\n",
       "      <td>25.3</td>\n",
       "      <td>Charmander Candy</td>\n",
       "      <td>25.0</td>\n",
       "      <td>2 km</td>\n",
       "      <td>0.61 m</td>\n",
       "      <td>4</td>\n",
       "      <td>http://www.serebii.net/pokemongo/pokemon/004.png</td>\n",
       "      <td>[1.65]</td>\n",
       "      <td>Charmander</td>\n",
       "      <td>[{'num': '005', 'name': 'Charmeleon'}, {'num':...</td>\n",
       "      <td>004</td>\n",
       "      <td>NaN</td>\n",
       "      <td>0.253</td>\n",
       "      <td>08:45</td>\n",
       "      <td>[Fire]</td>\n",
       "      <td>[Water, Ground, Rock]</td>\n",
       "      <td>8.5 kg</td>\n",
       "    </tr>\n",
       "    <tr>\n",
       "      <th>4</th>\n",
       "      <td>1.2</td>\n",
       "      <td>Charmander Candy</td>\n",
       "      <td>100.0</td>\n",
       "      <td>Not in Eggs</td>\n",
       "      <td>1.09 m</td>\n",
       "      <td>5</td>\n",
       "      <td>http://www.serebii.net/pokemongo/pokemon/005.png</td>\n",
       "      <td>[1.79]</td>\n",
       "      <td>Charmeleon</td>\n",
       "      <td>[{'num': '006', 'name': 'Charizard'}]</td>\n",
       "      <td>005</td>\n",
       "      <td>[{'num': '004', 'name': 'Charmander'}]</td>\n",
       "      <td>0.012</td>\n",
       "      <td>19:00</td>\n",
       "      <td>[Fire]</td>\n",
       "      <td>[Water, Ground, Rock]</td>\n",
       "      <td>19.0 kg</td>\n",
       "    </tr>\n",
       "  </tbody>\n",
       "</table>\n",
       "</div>"
      ],
      "text/plain": [
       "   avg_spawns             candy  candy_count          egg  height  id  \\\n",
       "0        69.0   Bulbasaur Candy         25.0         2 km  0.71 m   1   \n",
       "1         4.2   Bulbasaur Candy        100.0  Not in Eggs  0.99 m   2   \n",
       "2         1.7   Bulbasaur Candy          NaN  Not in Eggs  2.01 m   3   \n",
       "3        25.3  Charmander Candy         25.0         2 km  0.61 m   4   \n",
       "4         1.2  Charmander Candy        100.0  Not in Eggs  1.09 m   5   \n",
       "\n",
       "                                                img multipliers        name  \\\n",
       "0  http://www.serebii.net/pokemongo/pokemon/001.png      [1.58]   Bulbasaur   \n",
       "1  http://www.serebii.net/pokemongo/pokemon/002.png  [1.2, 1.6]     Ivysaur   \n",
       "2  http://www.serebii.net/pokemongo/pokemon/003.png        None    Venusaur   \n",
       "3  http://www.serebii.net/pokemongo/pokemon/004.png      [1.65]  Charmander   \n",
       "4  http://www.serebii.net/pokemongo/pokemon/005.png      [1.79]  Charmeleon   \n",
       "\n",
       "                                      next_evolution  num  \\\n",
       "0  [{'num': '002', 'name': 'Ivysaur'}, {'num': '0...  001   \n",
       "1               [{'num': '003', 'name': 'Venusaur'}]  002   \n",
       "2                                                NaN  003   \n",
       "3  [{'num': '005', 'name': 'Charmeleon'}, {'num':...  004   \n",
       "4              [{'num': '006', 'name': 'Charizard'}]  005   \n",
       "\n",
       "                                      prev_evolution  spawn_chance spawn_time  \\\n",
       "0                                                NaN         0.690      20:00   \n",
       "1              [{'num': '001', 'name': 'Bulbasaur'}]         0.042      07:00   \n",
       "2  [{'num': '001', 'name': 'Bulbasaur'}, {'num': ...         0.017      11:30   \n",
       "3                                                NaN         0.253      08:45   \n",
       "4             [{'num': '004', 'name': 'Charmander'}]         0.012      19:00   \n",
       "\n",
       "              type                    weaknesses    weight  \n",
       "0  [Grass, Poison]  [Fire, Ice, Flying, Psychic]    6.9 kg  \n",
       "1  [Grass, Poison]  [Fire, Ice, Flying, Psychic]   13.0 kg  \n",
       "2  [Grass, Poison]  [Fire, Ice, Flying, Psychic]  100.0 kg  \n",
       "3           [Fire]         [Water, Ground, Rock]    8.5 kg  \n",
       "4           [Fire]         [Water, Ground, Rock]   19.0 kg  "
      ]
     },
     "execution_count": 27,
     "metadata": {},
     "output_type": "execute_result"
    }
   ],
   "source": [
    "pd.io.json.json_normalize(P, record_path=['pokemon']).head()"
   ]
  },
  {
   "cell_type": "markdown",
   "metadata": {},
   "source": [
    "Depending on what you need, this might be enough.  Usually, this is just a starting point, and you will want to take some of the nested structures and turn them into new columns.  For example, we might need a column for grass type, a column for poison type, and so on.  You might think about how you would create those in pandas."
   ]
  },
  {
   "cell_type": "code",
   "execution_count": null,
   "metadata": {},
   "outputs": [],
   "source": []
  }
 ],
 "metadata": {
  "kernelspec": {
   "display_name": "Python 3",
   "language": "python",
   "name": "python3"
  },
  "language_info": {
   "codemirror_mode": {
    "name": "ipython",
    "version": 3
   },
   "file_extension": ".py",
   "mimetype": "text/x-python",
   "name": "python",
   "nbconvert_exporter": "python",
   "pygments_lexer": "ipython3",
   "version": "3.7.3"
  }
 },
 "nbformat": 4,
 "nbformat_minor": 4
}
