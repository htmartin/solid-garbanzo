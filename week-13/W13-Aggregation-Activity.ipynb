{
 "cells": [
  {
   "cell_type": "code",
   "execution_count": 19,
   "id": "cdb20c87-53f1-4689-afc8-f8b64783f441",
   "metadata": {},
   "outputs": [],
   "source": [
    "import pandas as pd\n",
    "import numpy as np\n",
    "import matplotlib.pyplot as plt"
   ]
  },
  {
   "cell_type": "markdown",
   "id": "aad66feb-8e00-4ff1-8000-8f52fcbb605b",
   "metadata": {},
   "source": [
    "### Dataset Overview\n",
    "The `music.csv` dataset contains 11 columns and 1,994 entries. Key columns include:\n",
    "- **title**: Name of the song.\n",
    "- **artist**: Artist name.\n",
    "- **year**: Release year.\n",
    "- **bpm**: Beats per minute (tempo).\n",
    "- **energy**: Energy level (intensity).\n",
    "- **dance**: Danceability score.\n",
    "- **valence**: Positivity score.\n",
    "- **duration**: Duration of the song in minutes.\n",
    "- **popularity**: Popularity score.\n",
    "- **genre**: Genre of the song.\n",
    "\n",
    "### Exercise 1a\n",
    "**Groupby Basics**\n",
    "   - Group the dataset by `genre` and calculate:\n",
    "     - The average `popularity` for each genre.\n",
    "     - The total number of songs per genre.\n",
    "   - Display the results into a single DataFrame."
   ]
  },
  {
   "cell_type": "code",
   "execution_count": null,
   "id": "8b9bf2f0-5777-4035-b2f4-d1d5f0745d18",
   "metadata": {},
   "outputs": [],
   "source": [
    "music = pd.read_csv(\"music.csv\")\n",
    "music.head()"
   ]
  },
  {
   "cell_type": "code",
   "execution_count": 1,
   "id": "c92935c4-8f1c-4921-b677-b5b200961956",
   "metadata": {},
   "outputs": [],
   "source": [
    "#Group the dataset by `genre` \n",
    "\n",
    "#     calculate the average `popularity` for each genre.\n",
    "\n",
    "#     calculate the total number of songs per genre.\n",
    "\n",
    "# Display the results in a single DataFrame.\n",
    "\n",
    "\n"
   ]
  },
  {
   "cell_type": "markdown",
   "id": "4a0a5f51-1169-4919-9297-b8a8e7d77ad5",
   "metadata": {},
   "source": [
    "### Exercise 1b\n",
    "**Using `.agg`**\n",
    "\n",
    "- Now do the same thing in one step using `.agg`"
   ]
  },
  {
   "cell_type": "code",
   "execution_count": 2,
   "id": "a883b75d-055e-48da-81d6-7cbd71893af8",
   "metadata": {},
   "outputs": [],
   "source": [
    "#Group the dataset by `genre`, calculate the average `popularity` and total number of songs for each genre, & display the results in a single DataFrame."
   ]
  },
  {
   "cell_type": "markdown",
   "id": "b9811ea6-1799-45af-87e9-0a93ea70733b",
   "metadata": {},
   "source": [
    "### Exercise 2\n",
    "\n",
    "**Custom Aggregations**\n",
    "   - Group the dataset by `year` and aggregate the following:\n",
    "     - Average `bpm`.\n",
    "     - Maximum `energy`.\n",
    "     - Median `dance`."
   ]
  },
  {
   "cell_type": "code",
   "execution_count": 3,
   "id": "70b40ae4-d9e7-4a1e-a21b-2beaa691e431",
   "metadata": {},
   "outputs": [],
   "source": [
    "#   Group the dataset by `year` and aggregate the following:\n",
    "#     Average `bpm`.\n",
    "#     Maximum `energy`.\n",
    "#     Median `dance`.\n",
    "\n"
   ]
  },
  {
   "cell_type": "markdown",
   "id": "6268571f-68b0-499a-987d-2d555c25aae0",
   "metadata": {},
   "source": [
    "### Exercise 3\n",
    "\n",
    "**Advanced Aggregations**\n",
    "   - Group the dataset by `artist` and `genre`:\n",
    "     - Calculate the mean `valence` and `popularity` for each artist-genre pair.\n",
    "     - Use a dictionary to apply multiple functions: `min` and `max` on `duration`, and `mean` on `bpm`.\n"
   ]
  },
  {
   "cell_type": "code",
   "execution_count": 4,
   "id": "3474662e-eee2-4873-a942-e7235b76c926",
   "metadata": {},
   "outputs": [],
   "source": [
    "# Group the dataset by `artist` and `genre`:\n",
    "#     Calculate the mean `valence` and `popularity` for each artist-genre pair.\n",
    "#     Use a dictionary to apply multiple functions: `min` and `max` on `duration`, and `mean` on `bpm`.\n",
    "\n"
   ]
  },
  {
   "cell_type": "markdown",
   "id": "a5d3c37a-6a67-4585-940b-9f92513f71d0",
   "metadata": {},
   "source": [
    "### Exercise 4\n",
    "\n",
    "**Transformations**\n",
    "   - Normalize the `popularity` column within each `genre` to create a new column `popularity_zscore`."
   ]
  },
  {
   "cell_type": "code",
   "execution_count": 5,
   "id": "5dd6c5c8-86b8-421b-8c69-7ecafede563a",
   "metadata": {},
   "outputs": [],
   "source": [
    "#Normalize the `popularity` column within each `genre` to create a new column `popularity_zscore`.\n",
    "\n"
   ]
  },
  {
   "cell_type": "markdown",
   "id": "7795558a-4f7d-416d-b402-ab8069369098",
   "metadata": {},
   "source": [
    "### Exercise 5\n",
    "\n",
    "**Pivot Tables**\n",
    "   - Create a pivot table summarizing the average `popularity` for each combination of `genre` and `year`.\n",
    "   - Add margins to show overall averages."
   ]
  },
  {
   "cell_type": "code",
   "execution_count": 6,
   "id": "dd98280f-d209-4701-8b9e-6ae1e225a9bd",
   "metadata": {},
   "outputs": [],
   "source": [
    "#Create a pivot table summarizing the average `popularity` for each combination of `genre` and `year`.\n",
    "#Add margins to show overall averages.\n",
    "\n"
   ]
  },
  {
   "cell_type": "markdown",
   "id": "3451ef62-4e3c-49fb-a9da-37f3070222a4",
   "metadata": {},
   "source": [
    "### Exercise 6\n",
    "\n",
    "**Crosstabs**\n",
    "   - Create a crosstab to show the number of songs by `genre` and `year`, with column-wise percentages.\n",
    "\n"
   ]
  },
  {
   "cell_type": "code",
   "execution_count": 7,
   "id": "d900bdb5-ca6d-4c14-a883-a226a97db833",
   "metadata": {},
   "outputs": [],
   "source": [
    "#Create a crosstab to show the number of songs by `genre` and `year`, with column-wise percentages.\n",
    "\n"
   ]
  },
  {
   "cell_type": "markdown",
   "id": "252a627e-7bef-4fef-b1a2-3f620f187b3b",
   "metadata": {},
   "source": [
    "### Exercise 7\n",
    "\n",
    "**Data Binning**\n",
    "   - Bin the `duration` column into categories:\n",
    "     - Short: ≤3 minutes\n",
    "     - Medium: >3 and ≤5 minutes\n",
    "     - Long: >5 minutes\n",
    "   - Group the dataset by these bins and calculate:\n",
    "     - Average `popularity`.\n",
    "     - Count of songs."
   ]
  },
  {
   "cell_type": "code",
   "execution_count": 8,
   "id": "e401b332-213f-4872-b1a0-9ff678ce1665",
   "metadata": {},
   "outputs": [],
   "source": [
    "#   Bin the `duration` column into categories:\n",
    "#     Short: ≤3 minutes\n",
    "#     Medium: >3 and ≤5 minutes\n",
    "#     Long: >5 minutes\n",
    "\n",
    "\n",
    "\n",
    "\n",
    "#   Group the dataset by these bins and calculate:\n",
    "#     Average `popularity`.\n",
    "#     Count of songs.\n",
    "\n"
   ]
  },
  {
   "cell_type": "markdown",
   "id": "11d01e2a-4973-4906-9c67-338d97a6319e",
   "metadata": {},
   "source": [
    "### Exercise 8\n",
    "\n",
    "**Visualization**\n",
    "   - Plot a bar chart to compare the average `popularity` for each `duration` category from Exercise 7."
   ]
  },
  {
   "cell_type": "code",
   "execution_count": 9,
   "id": "bea5a561-2e30-4f22-9458-6d03156db0e4",
   "metadata": {},
   "outputs": [],
   "source": [
    "\n",
    "# Calculate average popularity by duration category\n",
    "\n",
    "# Plot a bar chart for average popularity by duration category\n"
   ]
  }
 ],
 "metadata": {
  "kernelspec": {
   "display_name": "Python 3 (ipykernel)",
   "language": "python",
   "name": "python3"
  },
  "language_info": {
   "codemirror_mode": {
    "name": "ipython",
    "version": 3
   },
   "file_extension": ".py",
   "mimetype": "text/x-python",
   "name": "python",
   "nbconvert_exporter": "python",
   "pygments_lexer": "ipython3",
   "version": "3.11.9"
  }
 },
 "nbformat": 4,
 "nbformat_minor": 5
}
