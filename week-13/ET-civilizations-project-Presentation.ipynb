{
 "cells": [
  {
   "cell_type": "markdown",
   "id": "0047d5fa-998b-4b10-a6a2-6da1797b7f39",
   "metadata": {},
   "source": [
    "# Extraterrestrial Diplomatic Service Project: Presentation"
   ]
  },
  {
   "cell_type": "markdown",
   "id": "1d54da58-38c1-44c7-8999-d577ceb49bfa",
   "metadata": {},
   "source": [
    "#### The Problem Statement\n",
    "\n",
    "It's 2733, and you are a data scientist for the Extraterrestrial Diplomatic Service. The Service is regularly tasked with providing guidance to the Galactic Council on potential trade and business relations with extraterrestrial civilizations. This analysis helps the Council in understanding the potential for fruitful collaborations.\n",
    "\n",
    "At the annual meeting of the Extraterrestrial Diplomatic Service, presenters highlighted the success of several joint space missions conducted in collaboration with extraterrestrial civilizations. They suggested that these past achievements could indicate potential for expanding partnerships into areas such as trade and business. They wondered what other characteristics of extraterrestrial civilizations could serve as predictors of future successful partnerships.\n",
    "\n",
    "**Your job** is to do EDA with the dataset to begin this analysis.\n",
    "**The goal** is to create a report that:\n",
    "1. Recommends variables that could serve as predictors of future successful partnerships to the council.\n",
    "2. Backs up your suggestions with numerical data and graphs.\n",
    "\n",
    "- Your dataset, `extraterrestrial_civilizations.csv` has a randomly selected set of 50 civilizations' information for the following variables:\n",
    "\n",
    "`Name_of_civilzation`: The civilization's name\n",
    "\n",
    "`Years_since_first_contact`: Number of years since humanity first made contact with this civilization. (0-300)\n",
    "\n",
    "`Technological_progress`: A measure of the civilization's overall technological progress on a scale from 1 to 100.\n",
    "\n",
    "`Diplomatic_relations_index`: A measure of diplomatic relations between Earth and the civilization on a scale from 1 to 10, with higher values indicating more positive relations.\n",
    "\n",
    "`Cultural_exchange_index`: A measure of the degree of cultural exchange between Earth and the  civilization on a scale from 1 to 10, with higher values indicating more exchange.\n",
    "\n",
    "`Joint_space_missions`: The number of joint space missions between Earth and the civilization.\n",
    "\n",
    "`Hostility_to_Earth_Index`: A measure of the civilization's hostility to Earth on a scale from 1 to 10, with higher values indicating more hostility.\n",
    "\n",
    "`Degree_of_positive_contact`: A continuous variable measuring the degree of positive  contact with Earth on a scale from 1 to 100, with higher values indicating more positive contact.\n",
    "\n"
   ]
  },
  {
   "cell_type": "markdown",
   "id": "0ac6f6cc-6cd9-420c-a2e0-440cfe4655f5",
   "metadata": {},
   "source": [
    "#### Question\n",
    "\n",
    "- State the question you aimed to answer clearly"
   ]
  },
  {
   "cell_type": "code",
   "execution_count": null,
   "id": "fe7a44ba-b963-49f9-9dca-fb4ad9e1e76b",
   "metadata": {},
   "outputs": [],
   "source": [
    "# What variables serve as good predictors for successful partnerships to the council?"
   ]
  },
  {
   "cell_type": "markdown",
   "id": "12007d0e-9b8d-48eb-8487-ca18e733391b",
   "metadata": {},
   "source": [
    "#### Data Cleaning\n",
    "\n",
    "- Describe the data cleaning & transformation that you did.\n",
    "- Justify the decisions you made regarding outliers, missing values, and other transformations applied. "
   ]
  },
  {
   "cell_type": "code",
   "execution_count": null,
   "id": "ed2109d3-f84d-4b98-9496-53db9dff35a3",
   "metadata": {},
   "outputs": [],
   "source": [
    "# We first looked at the number NAs in each column and then removed rows or columns that over represent these null values. \n",
    "# We removed outliers based on specifications given by the definition of variables (ie. values outside of 1-10 for scales of 1-10).\n",
    "# "
   ]
  },
  {
   "cell_type": "markdown",
   "id": "6b7e2d43-f6b0-41fc-8512-461bb3c638e2",
   "metadata": {},
   "source": [
    "#### Results & Recommendations\n",
    "\n",
    "- Describe & Justify your results/recommendations\n",
    "- Include visusalizations needed to support your findings."
   ]
  },
  {
   "cell_type": "code",
   "execution_count": null,
   "id": "214f4e08-8fce-48bb-9558-0409a2ec6152",
   "metadata": {},
   "outputs": [
    {
     "data": {
      "text/html": [
       "<div>\n",
       "<style scoped>\n",
       "    .dataframe tbody tr th:only-of-type {\n",
       "        vertical-align: middle;\n",
       "    }\n",
       "\n",
       "    .dataframe tbody tr th {\n",
       "        vertical-align: top;\n",
       "    }\n",
       "\n",
       "    .dataframe thead th {\n",
       "        text-align: right;\n",
       "    }\n",
       "</style>\n",
       "<table border=\"1\" class=\"dataframe\">\n",
       "  <thead>\n",
       "    <tr style=\"text-align: right;\">\n",
       "      <th></th>\n",
       "      <th>Years_since_first_contact</th>\n",
       "      <th>Technological_progress</th>\n",
       "      <th>Diplomatic_relations_index</th>\n",
       "      <th>Joint_space_missions</th>\n",
       "      <th>Hostility_to_Earth_Index</th>\n",
       "      <th>Degree_of_positive_contact</th>\n",
       "    </tr>\n",
       "  </thead>\n",
       "  <tbody>\n",
       "    <tr>\n",
       "      <th>Years_since_first_contact</th>\n",
       "      <td>1.000000</td>\n",
       "      <td>0.834998</td>\n",
       "      <td>0.607230</td>\n",
       "      <td>0.883748</td>\n",
       "      <td>-0.043546</td>\n",
       "      <td>0.846363</td>\n",
       "    </tr>\n",
       "    <tr>\n",
       "      <th>Technological_progress</th>\n",
       "      <td>0.834998</td>\n",
       "      <td>1.000000</td>\n",
       "      <td>0.725754</td>\n",
       "      <td>0.907989</td>\n",
       "      <td>0.178316</td>\n",
       "      <td>0.980307</td>\n",
       "    </tr>\n",
       "    <tr>\n",
       "      <th>Diplomatic_relations_index</th>\n",
       "      <td>0.607230</td>\n",
       "      <td>0.725754</td>\n",
       "      <td>1.000000</td>\n",
       "      <td>0.699873</td>\n",
       "      <td>0.132445</td>\n",
       "      <td>0.772249</td>\n",
       "    </tr>\n",
       "    <tr>\n",
       "      <th>Joint_space_missions</th>\n",
       "      <td>0.883748</td>\n",
       "      <td>0.907989</td>\n",
       "      <td>0.699873</td>\n",
       "      <td>1.000000</td>\n",
       "      <td>0.232541</td>\n",
       "      <td>0.903718</td>\n",
       "    </tr>\n",
       "    <tr>\n",
       "      <th>Hostility_to_Earth_Index</th>\n",
       "      <td>-0.043546</td>\n",
       "      <td>0.178316</td>\n",
       "      <td>0.132445</td>\n",
       "      <td>0.232541</td>\n",
       "      <td>1.000000</td>\n",
       "      <td>0.176390</td>\n",
       "    </tr>\n",
       "    <tr>\n",
       "      <th>Degree_of_positive_contact</th>\n",
       "      <td>0.846363</td>\n",
       "      <td>0.980307</td>\n",
       "      <td>0.772249</td>\n",
       "      <td>0.903718</td>\n",
       "      <td>0.176390</td>\n",
       "      <td>1.000000</td>\n",
       "    </tr>\n",
       "  </tbody>\n",
       "</table>\n",
       "</div>"
      ],
      "text/plain": [
       "                            Years_since_first_contact  Technological_progress  \\\n",
       "Years_since_first_contact                    1.000000                0.834998   \n",
       "Technological_progress                       0.834998                1.000000   \n",
       "Diplomatic_relations_index                   0.607230                0.725754   \n",
       "Joint_space_missions                         0.883748                0.907989   \n",
       "Hostility_to_Earth_Index                    -0.043546                0.178316   \n",
       "Degree_of_positive_contact                   0.846363                0.980307   \n",
       "\n",
       "                            Diplomatic_relations_index  Joint_space_missions  \\\n",
       "Years_since_first_contact                     0.607230              0.883748   \n",
       "Technological_progress                        0.725754              0.907989   \n",
       "Diplomatic_relations_index                    1.000000              0.699873   \n",
       "Joint_space_missions                          0.699873              1.000000   \n",
       "Hostility_to_Earth_Index                      0.132445              0.232541   \n",
       "Degree_of_positive_contact                    0.772249              0.903718   \n",
       "\n",
       "                            Hostility_to_Earth_Index  \\\n",
       "Years_since_first_contact                  -0.043546   \n",
       "Technological_progress                      0.178316   \n",
       "Diplomatic_relations_index                  0.132445   \n",
       "Joint_space_missions                        0.232541   \n",
       "Hostility_to_Earth_Index                    1.000000   \n",
       "Degree_of_positive_contact                  0.176390   \n",
       "\n",
       "                            Degree_of_positive_contact  \n",
       "Years_since_first_contact                     0.846363  \n",
       "Technological_progress                        0.980307  \n",
       "Diplomatic_relations_index                    0.772249  \n",
       "Joint_space_missions                          0.903718  \n",
       "Hostility_to_Earth_Index                      0.176390  \n",
       "Degree_of_positive_contact                    1.000000  "
      ]
     },
     "execution_count": 5,
     "metadata": {},
     "output_type": "execute_result"
    }
   ],
   "source": [
    "import numpy as np\n",
    "import pandas as pd\n",
    "import matplotlib.pyplot as plt\n",
    "\n",
    "# Independent = \n",
    "# Dependent = Degree of positive contact, joint space missions, technological progress\n",
    "et_data = pd.read_csv('./Extraterrestrial_civilizations.csv')\n",
    "\n",
    "et_subset = et_data[['Years_since_first_contact', 'Technological_progress', 'Diplomatic_relations_index', 'Joint_space_missions', 'Hostility_to_Earth_Index', 'Degree_of_positive_contact']]\n",
    "# Create a subset\n",
    "# et_subset.plot.scatter(x = \"Diplomatic_relations_index\",y = 'Hostility_to_Earth_Index')\n",
    "# plt.show()\n",
    "et_subset.corr()\n",
    "\n",
    "# Vizualize data - Scatterplot with relationships/\n",
    "\n"
   ]
  }
 ],
 "metadata": {
  "environment": {
   "kernel": "python3",
   "name": "common-cpu.m87",
   "type": "gcloud",
   "uri": "gcr.io/deeplearning-platform-release/base-cpu:m87"
  },
  "kernelspec": {
   "display_name": "py3jp",
   "language": "python",
   "name": "python3"
  },
  "language_info": {
   "codemirror_mode": {
    "name": "ipython",
    "version": 3
   },
   "file_extension": ".py",
   "mimetype": "text/x-python",
   "name": "python",
   "nbconvert_exporter": "python",
   "pygments_lexer": "ipython3",
   "version": "3.12.4"
  }
 },
 "nbformat": 4,
 "nbformat_minor": 5
}
