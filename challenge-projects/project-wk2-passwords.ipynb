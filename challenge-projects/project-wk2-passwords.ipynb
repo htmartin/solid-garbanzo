{
 "cells": [
  {
   "cell_type": "markdown",
   "id": "fc09608d-ecf4-453b-bd87-ff7b7ca0f73b",
   "metadata": {},
   "source": [
    "### Project: Simple Password Generator and Validator\n",
    "\n",
    "In this project, you will develop a simple password generator and validator using the fundamental Python programming concepts we worked on this week. The goal is to create a program that generates a password based on user input and validates it according to specific criteria.\n",
    "\n",
    "#### Requirements:\n",
    "\n",
    "1. **Input Collection:**\n",
    "   - Your program should prompt the user to enter their name and a favorite number. These inputs will be stored in variables.\n",
    "\n",
    "2. **Password Generation:**\n",
    "   - The password should be created by manipulating the user's name and favorite number.\n",
    "   - Reverse the user's name, convert it to lowercase, and concatenate it with the favorite number.\n",
    "   - Add a special character (e.g., \"!\") to the end of the password.\n",
    "\n",
    "3. **Validation:**\n",
    "   - Ensure the generated password is at least 8 characters long. If it is not, extend the password by appending random digits until it meets the length requirement.\n",
    "\n",
    "4. **Output:**\n",
    "   - Print each character of the password on a new line.\n",
    "   - Allow the user to generate another password by asking if they want to continue. The program should repeat until the user chooses to stop.\n",
    "\n",
    "5. **Constraints:**\n",
    "   - Use basic programming constructs: variables, control structures (`if` statements, `for` and `while` loops), string manipulation, and built-in functions.\n",
    "   - Do not define custom functions or classes.\n",
    "\n",
    "#### Deliverables:\n",
    "- A Python script that implements the password generator and validator according to the specifications.\n",
    "- Demonstration of the program's functionality with at least two different user inputs. \n",
    "\n"
   ]
  },
  {
   "cell_type": "code",
   "execution_count": null,
   "id": "81b81082-f67a-4472-999b-9d7fdf60b3f9",
   "metadata": {},
   "outputs": [],
   "source": []
  }
 ],
 "metadata": {
  "kernelspec": {
   "display_name": "Python 3 (ipykernel)",
   "language": "python",
   "name": "python3"
  },
  "language_info": {
   "codemirror_mode": {
    "name": "ipython",
    "version": 3
   },
   "file_extension": ".py",
   "mimetype": "text/x-python",
   "name": "python",
   "nbconvert_exporter": "python",
   "pygments_lexer": "ipython3",
   "version": "3.11.9"
  }
 },
 "nbformat": 4,
 "nbformat_minor": 5
}
