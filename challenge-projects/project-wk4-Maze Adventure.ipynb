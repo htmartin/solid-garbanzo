{
 "cells": [
  {
   "cell_type": "markdown",
   "id": "147fc9cf-cbdc-44c9-8729-94d496873b38",
   "metadata": {},
   "source": [
    "### **Problem Statement: Maze Adventure**\n",
    "\n",
    "In this project, you will create a simple, text-based **Maze Adventure** game where a player must navigate through a 2D maze grid to reach the exit. The maze is filled with walls, open spaces, and optional obstacles. The player will use keyboard controls to move through the maze, avoiding walls and possibly other hazards to reach the goal. \n",
    "\n",
    "#### **Objective:**\n",
    "Your goal is to implement a maze game using Python, where:\n",
    "1. A player can move up, down, left, or right using simple keyboard inputs.\n",
    "2. The game will respond to invalid moves, keeping the player within the boundaries of the maze.\n",
    "3. The game will end when the player successfully reaches the exit of the maze or fails by running out of time or moves (optional challenge).\n",
    "\n",
    "#### **Requirements:**\n",
    "1. **Maze Setup**:\n",
    "   - The maze should be represented as a 2D grid using nested lists, where `#` denotes walls, `.` denotes open spaces, `P` denotes the player, and `E` denotes the exit.\n",
    "   - The maze can be predefined or generated randomly using a simple algorithm.\n",
    "\n",
    "2. **Player Movement**:\n",
    "   - Implement keyboard input (`W` for up, `A` for left, `S` for down, `D` for right) to control the player’s movement.\n",
    "   - Use loops to handle continuous movement until the player reaches the exit or a failure condition is met.\n",
    "   - Prevent the player from moving into walls or out of bounds.\n",
    "\n",
    "3. **Game Logic**:\n",
    "   - Use a loop to run the game until the player reaches the exit or the game ends (e.g., time runs out or the player makes a set number of moves).\n",
    "   - The game should print the current state of the maze after each move, showing the player's progress.\n",
    "   - Use `break` to exit the game loop when the player wins or loses.\n",
    "   \n",
    "4. **Optional Challenges**:\n",
    "   - Introduce a time limit or move counter. If the player exceeds the limit, the game ends in failure.\n",
    "   - Add obstacles like traps or enemies that the player must avoid or deactivate using additional game mechanics (e.g., collecting keys, defeating enemies).\n",
    "\n",
    "#### **Deliverables**:\n",
    "- A Python program that generates or defines a maze and allows the player to navigate it.\n",
    "- The program should handle all specified movement and game logic, providing clear feedback to the player.\n",
    "- (Optional) Implement advanced features such as obstacles, move limits, or additional win/lose conditions."
   ]
  },
  {
   "cell_type": "code",
   "execution_count": null,
   "id": "46febd13-c28f-4a75-8e35-540bc99903e4",
   "metadata": {},
   "outputs": [],
   "source": []
  }
 ],
 "metadata": {
  "kernelspec": {
   "display_name": "Python 3 (ipykernel)",
   "language": "python",
   "name": "python3"
  },
  "language_info": {
   "codemirror_mode": {
    "name": "ipython",
    "version": 3
   },
   "file_extension": ".py",
   "mimetype": "text/x-python",
   "name": "python",
   "nbconvert_exporter": "python",
   "pygments_lexer": "ipython3",
   "version": "3.11.9"
  }
 },
 "nbformat": 4,
 "nbformat_minor": 5
}
