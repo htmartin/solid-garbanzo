{
 "cells": [
  {
   "cell_type": "markdown",
   "id": "85f8d188-8b5a-4e49-8eec-6720590585ff",
   "metadata": {},
   "source": [
    "**Escape the Haunted Mansion**\n",
    "\n",
    "You've just stepped into the haunted mansion, and the doors have locked behind you. To escape, you'll need to explore various rooms, collect key items, and avoid dangerous traps. Your mission is to find the exit without getting trapped!\n",
    "\n",
    "**Requirements**:\n",
    "1. The game should have multiple rooms that the player can navigate between (at least 5 rooms).\n",
    "2. Each room should present the player with a unique scenario (e.g., finding an item, a riddle, a trap, or a dead end).\n",
    "3. Create a function to handle each of the following:\n",
    "   - **Room Navigation**: A function that lets the player choose which room to go to.\n",
    "   - **Interaction with Items**: A function that manages collecting items or solving puzzles.\n",
    "   - **Game State**: A function that checks if the player has the required items to escape.\n",
    "   - **Error Handling**: Ensure the game continues smoothly by catching invalid inputs.\n",
    "   - **Recursion**: Use recursion for revisiting rooms or retrying challenges (e.g., if the player chooses to explore again).\n",
    "   \n",
    "**Bonus**:\n",
    "- Add a hidden room that players can only access after solving a puzzle.\n",
    "- Track the number of moves or attempts the player makes and display it at the end of the game.\n",
    "\n",
    "Good luck! Can you escape the Haunted Mansion?\n"
   ]
  },
  {
   "cell_type": "code",
   "execution_count": null,
   "id": "78d41041-8a5c-4068-9066-3ea92b9a38c9",
   "metadata": {},
   "outputs": [],
   "source": []
  }
 ],
 "metadata": {
  "kernelspec": {
   "display_name": "Python 3 (ipykernel)",
   "language": "python",
   "name": "python3"
  },
  "language_info": {
   "codemirror_mode": {
    "name": "ipython",
    "version": 3
   },
   "file_extension": ".py",
   "mimetype": "text/x-python",
   "name": "python",
   "nbconvert_exporter": "python",
   "pygments_lexer": "ipython3",
   "version": "3.11.9"
  }
 },
 "nbformat": 4,
 "nbformat_minor": 5
}
