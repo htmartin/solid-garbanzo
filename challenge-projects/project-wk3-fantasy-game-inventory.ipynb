{
 "cells": [
  {
   "cell_type": "markdown",
   "id": "e5c4f5cc-cea3-49fd-aa36-b52fcaf3c423",
   "metadata": {},
   "source": [
    "### Fantasy Game Inventory Manager\n",
    "\n",
    "### Project Description\n",
    "\n",
    "You are tasked with developing an inventory management system for a fantasy world role-playing game. The player can explore different regions (e.g., deserts, forests,caves) and collect different items like potions, weapons, and rare artifacts. The player can also drop, use, or inspect items from their inventory. \n",
    "\n",
    "### Problem Statement: Fantasy Game Inventory Manager\n",
    "\n",
    "In a fantasy world role-playing game, players explore various regions and collect a variety of items such as weapons, potions, and artifacts. Managing these items effectively is crucial for game development.\n",
    "\n",
    "You are tasked with developing an inventory management system that allows players to manage their items during exploration. The system should enable players to:\n",
    "1. Collect items from different regions (e.g., deserts, forests, caves).\n",
    "2. View the current inventory.\n",
    "3. Use items, which may reduce their quantity or remove them from the inventory.\n",
    "4. Drop items when they are no longer needed.\n",
    "5. Inspect items to check details such as item name, type, and quantity.\n",
    "6. Backup the inventory using both shallow and deep copying to avoid unwanted side effects from shared references.\n",
    "\n",
    "- The system should account for the mutability of data structures like lists and the immutability of tuples, ensuring that items are properly managed and updated without unintended consequences. \n",
    "- Additionally, it should handle cases where items of the same type are collected multiple times, increasing their quantity rather than duplicating entries in the inventory."
   ]
  },
  {
   "cell_type": "code",
   "execution_count": null,
   "id": "c8a78671-46d1-444f-a147-92d97f561069",
   "metadata": {},
   "outputs": [],
   "source": []
  }
 ],
 "metadata": {
  "kernelspec": {
   "display_name": "Python 3 (ipykernel)",
   "language": "python",
   "name": "python3"
  },
  "language_info": {
   "codemirror_mode": {
    "name": "ipython",
    "version": 3
   },
   "file_extension": ".py",
   "mimetype": "text/x-python",
   "name": "python",
   "nbconvert_exporter": "python",
   "pygments_lexer": "ipython3",
   "version": "3.11.9"
  }
 },
 "nbformat": 4,
 "nbformat_minor": 5
}
