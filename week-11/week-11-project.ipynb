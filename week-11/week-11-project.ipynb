{
 "cells": [
  {
   "cell_type": "markdown",
   "id": "0047d5fa-998b-4b10-a6a2-6da1797b7f39",
   "metadata": {},
   "source": [
    "# Extraterrestrial Diplomatic Service Project"
   ]
  },
  {
   "cell_type": "markdown",
   "id": "1d54da58-38c1-44c7-8999-d577ceb49bfa",
   "metadata": {},
   "source": [
    "#### The Problem Statement\n",
    "\n",
    "It's 2733, and you are a data scientist for the Extraterrestrial Diplomatic Service. The Service is regularly tasked with providing guidance to the Galactic Council on potential trade and business relations with extraterrestrial civilizations. This analysis helps the Council in understanding the potential for fruitful collaborations.\n",
    "\n",
    "At the annual meeting of the Extraterrestrial Diplomatic Service, presenters highlighted the success of several joint space missions conducted in collaboration with extraterrestrial civilizations. They suggested that these past achievements could indicate potential for expanding partnerships into areas such as trade and business. They wondered what other characteristics of extraterrestrial civilizations could serve as predictors of future successful partnerships.\n",
    "\n",
    "**Your job** is to do EDA with the dataset to begin this analysis.\n",
    "**The goal** is to create a report that:\n",
    "1. Recommends variables that could serve as predictors of future successful partnerships to the council.\n",
    "2. Backs up your suggestions with numerical data and graphs.\n",
    "\n",
    "- Your dataset, `extraterrestrial_civilizations.csv` has a randomly selected set of 50 civilizations' information for the following variables:\n",
    "\n",
    "`Name_of_civilzation`: The civilization's name\n",
    "\n",
    "`Years_since_first_contact`: Number of years since humanity first made contact with this civilization. (0-300)\n",
    "\n",
    "`Technological_progress`: A measure of the civilization's overall technological progress on a scale from 1 to 100.\n",
    "\n",
    "`Diplomatic_relations_index`: A measure of diplomatic relations between Earth and the civilization on a scale from 1 to 10, with higher values indicating more positive relations.\n",
    "\n",
    "`Cultural_exchange_index`: A measure of the degree of cultural exchange between Earth and the  civilization on a scale from 1 to 10, with higher values indicating more exchange.\n",
    "\n",
    "`Joint_space_missions`: The number of joint space missions between Earth and the civilization.\n",
    "\n",
    "`Hostility_to_Earth_Index`: A measure of the civilization's hostility to Earth on a scale from 1 to 10, with higher values indicating more hostility.\n",
    "\n",
    "`Degree_of_positive_contact`: A continuous variable measuring the degree of positive  contact with Earth on a scale from 1 to 100, with higher values indicating more positive contact.\n",
    "\n"
   ]
  },
  {
   "cell_type": "code",
   "execution_count": 1,
   "id": "0bf2dd30-b12b-4e81-88c8-b26f7806706c",
   "metadata": {},
   "outputs": [
    {
     "ename": "ModuleNotFoundError",
     "evalue": "No module named 'pandas'",
     "output_type": "error",
     "traceback": [
      "\u001b[0;31m---------------------------------------------------------------------------\u001b[0m",
      "\u001b[0;31mModuleNotFoundError\u001b[0m                       Traceback (most recent call last)",
      "Cell \u001b[0;32mIn[1], line 1\u001b[0m\n\u001b[0;32m----> 1\u001b[0m \u001b[38;5;28;01mimport\u001b[39;00m \u001b[38;5;21;01mpandas\u001b[39;00m \u001b[38;5;28;01mas\u001b[39;00m \u001b[38;5;21;01mpd\u001b[39;00m\n\u001b[1;32m      2\u001b[0m \u001b[38;5;28;01mimport\u001b[39;00m \u001b[38;5;21;01mmatplotlib\u001b[39;00m\u001b[38;5;21;01m.\u001b[39;00m\u001b[38;5;21;01mpyplot\u001b[39;00m \u001b[38;5;28;01mas\u001b[39;00m \u001b[38;5;21;01mplt\u001b[39;00m\n\u001b[1;32m      4\u001b[0m \u001b[38;5;66;03m# read the CSV file into a pandas DataFrame \u001b[39;00m\n",
      "\u001b[0;31mModuleNotFoundError\u001b[0m: No module named 'pandas'"
     ]
    }
   ],
   "source": [
    "import pandas as pd\n",
    "import matplotlib.pyplot as plt\n",
    "\n",
    "# read the CSV file into a pandas DataFrame \n",
    "et_data = pd.read_csv(\"../datasets/Extraterrestrial_civilizations.csv\")\n",
    "\n",
    "# display the first five rows\n",
    "et_data.head()"
   ]
  },
  {
   "cell_type": "markdown",
   "id": "f36cc0d8-8c8f-4963-8b40-08e7ec12d98b",
   "metadata": {},
   "source": [
    "## Part I: Missing Data"
   ]
  },
  {
   "cell_type": "markdown",
   "id": "f7743e1a-ee63-4929-9ee9-65a69f2b9edd",
   "metadata": {},
   "source": [
    "#### Exercise 1 \n",
    "\n",
    "1. Identify which variables have problems with missing data.\n",
    "2. Calculate the percentage of missing data for those variables"
   ]
  },
  {
   "cell_type": "code",
   "execution_count": null,
   "id": "d476429a-3c16-4616-b0f1-103a09689a1b",
   "metadata": {},
   "outputs": [],
   "source": [
    "#1 Identify which variables have problems with missing data."
   ]
  },
  {
   "cell_type": "code",
   "execution_count": null,
   "id": "70bdd2f2-feab-4d77-95c0-bf8f67bdebc4",
   "metadata": {},
   "outputs": [],
   "source": [
    "#2 Calculate the percentage of missing data for those variables\n",
    "# Create a DataFrame of boolean values with True for missing values and False if there is not a missing value at that position:\n",
    "\n",
    "#Calculate the percentage of missing data for each column\n",
    "\n",
    "#Display missing_percentages"
   ]
  },
  {
   "cell_type": "markdown",
   "id": "60964c1e-5869-4cc4-8726-072a4deb6d81",
   "metadata": {},
   "source": [
    "### Exercise 2\n",
    "\n",
    "- Decide what to do about the missing data in `Cultural_exchange_index`.\n",
    "\n",
    "Review the cases in Part-2-Data-Cleaning-Techniques.ipynb and answer these questions:\n",
    "1. Is it missing more than 50% of the data?\n",
    "2. Is `Cultural_exchange_index` important to your data analysis? Explain.\n",
    "3. Do you plan to delete the variable or emove the rows which contain missing values?"
   ]
  },
  {
   "cell_type": "code",
   "execution_count": 8,
   "id": "55480b5d-7480-4351-b4ab-b9fba84b89cd",
   "metadata": {},
   "outputs": [],
   "source": [
    "# Take the action you chose in 3.\n",
    "\n"
   ]
  },
  {
   "cell_type": "markdown",
   "id": "54dc3697-d95a-47f9-8ced-83f0999c8fd7",
   "metadata": {},
   "source": [
    "### Part II: Outliers"
   ]
  },
  {
   "cell_type": "markdown",
   "id": "6e6cea92-1af8-4d66-a4e8-e9915c24ac87",
   "metadata": {},
   "source": [
    "#### Exercise 1\n",
    "\n",
    "Preview the outliers in `Hostility_to_Earth_Index` with a boxplot. "
   ]
  },
  {
   "cell_type": "code",
   "execution_count": null,
   "id": "d7a57464-17a5-4b8b-ae4e-46d6ad8baa29",
   "metadata": {},
   "outputs": [],
   "source": []
  },
  {
   "cell_type": "markdown",
   "id": "26f6517a-cd84-47bc-b283-1aa9849fc42f",
   "metadata": {},
   "source": [
    "#### Exercise 2\n",
    "\n",
    "Manage the outliers in `Hostility_to_Earth_Index`. \n",
    "1. Identify them using IQR.\n",
    "2. What will you do with them & why? (Answer here)\n",
    "3. Implement your plan. "
   ]
  },
  {
   "cell_type": "code",
   "execution_count": null,
   "id": "bb135de3-38c9-44ef-a60f-8832787f5897",
   "metadata": {},
   "outputs": [],
   "source": [
    "#1. Identify outliers using IQR.\n",
    "\n",
    "#Calculate the IQR \n",
    "\n",
    "#Define the boundaries for outliers\n",
    "\n",
    "#Identify outliers\n",
    "\n",
    "#Display the outliers"
   ]
  },
  {
   "cell_type": "code",
   "execution_count": null,
   "id": "06e69da4-9a3e-4387-8087-d68af75eacb4",
   "metadata": {},
   "outputs": [],
   "source": [
    "#3. Implement your plan. "
   ]
  },
  {
   "cell_type": "markdown",
   "id": "92290606-78fb-4669-afaf-2355fa994084",
   "metadata": {},
   "source": [
    "### Stop & Smell the Roses\n",
    "- What questions/conjectures do you have at this point about variables that could serve as predictors of future successful partnerships?\n",
    "\n",
    "-\n",
    "-\n",
    "-\n",
    "\n",
    "\n",
    "### Experiment with graphs to check out your ideas\n",
    "- See Simple_Plotting_Guide-pandas.ipynb"
   ]
  },
  {
   "cell_type": "code",
   "execution_count": null,
   "id": "d70921a2-10d6-4782-b8c6-3704cc488eb7",
   "metadata": {},
   "outputs": [],
   "source": []
  }
 ],
 "metadata": {
  "environment": {
   "kernel": "python3",
   "name": "common-cpu.m87",
   "type": "gcloud",
   "uri": "gcr.io/deeplearning-platform-release/base-cpu:m87"
  },
  "kernelspec": {
   "display_name": "py3jp",
   "language": "python",
   "name": "python3"
  },
  "language_info": {
   "codemirror_mode": {
    "name": "ipython",
    "version": 3
   },
   "file_extension": ".py",
   "mimetype": "text/x-python",
   "name": "python",
   "nbconvert_exporter": "python",
   "pygments_lexer": "ipython3",
   "version": "3.12.4"
  }
 },
 "nbformat": 4,
 "nbformat_minor": 5
}
