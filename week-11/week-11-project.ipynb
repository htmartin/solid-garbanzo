{
 "cells": [
  {
   "cell_type": "markdown",
   "id": "0047d5fa-998b-4b10-a6a2-6da1797b7f39",
   "metadata": {},
   "source": [
    "# Extraterrestrial Diplomatic Service Project"
   ]
  },
  {
   "cell_type": "markdown",
   "id": "1d54da58-38c1-44c7-8999-d577ceb49bfa",
   "metadata": {},
   "source": [
    "#### The Problem Statement\n",
    "\n",
    "It's 2733, and you are a data scientist for the Extraterrestrial Diplomatic Service. The Service is regularly tasked with providing guidance to the Galactic Council on potential trade and business relations with extraterrestrial civilizations. This analysis helps the Council in understanding the potential for fruitful collaborations.\n",
    "\n",
    "At the annual meeting of the Extraterrestrial Diplomatic Service, presenters highlighted the success of several joint space missions conducted in collaboration with extraterrestrial civilizations. They suggested that these past achievements could indicate potential for expanding partnerships into areas such as trade and business. They wondered what other characteristics of extraterrestrial civilizations could serve as predictors of future successful partnerships.\n",
    "\n",
    "**Your job** is to do EDA with the dataset to begin this analysis.\n",
    "**The goal** is to create a report that:\n",
    "1. Recommends variables that could serve as predictors of future successful partnerships to the council.\n",
    "2. Backs up your suggestions with numerical data and graphs.\n",
    "\n",
    "- Your dataset, `extraterrestrial_civilizations.csv` has a randomly selected set of 50 civilizations' information for the following variables:\n",
    "\n",
    "`Name_of_civilzation`: The civilization's name\n",
    "\n",
    "`Years_since_first_contact`: Number of years since humanity first made contact with this civilization. (0-300)\n",
    "\n",
    "`Technological_progress`: A measure of the civilization's overall technological progress on a scale from 1 to 100.\n",
    "\n",
    "`Diplomatic_relations_index`: A measure of diplomatic relations between Earth and the civilization on a scale from 1 to 10, with higher values indicating more positive relations.\n",
    "\n",
    "`Cultural_exchange_index`: A measure of the degree of cultural exchange between Earth and the  civilization on a scale from 1 to 10, with higher values indicating more exchange.\n",
    "\n",
    "`Joint_space_missions`: The number of joint space missions between Earth and the civilization.\n",
    "\n",
    "`Hostility_to_Earth_Index`: A measure of the civilization's hostility to Earth on a scale from 1 to 10, with higher values indicating more hostility.\n",
    "\n",
    "`Degree_of_positive_contact`: A continuous variable measuring the degree of positive  contact with Earth on a scale from 1 to 100, with higher values indicating more positive contact.\n",
    "\n"
   ]
  },
  {
   "cell_type": "code",
   "execution_count": 21,
   "id": "0bf2dd30-b12b-4e81-88c8-b26f7806706c",
   "metadata": {},
   "outputs": [
    {
     "data": {
      "text/html": [
       "<div>\n",
       "<style scoped>\n",
       "    .dataframe tbody tr th:only-of-type {\n",
       "        vertical-align: middle;\n",
       "    }\n",
       "\n",
       "    .dataframe tbody tr th {\n",
       "        vertical-align: top;\n",
       "    }\n",
       "\n",
       "    .dataframe thead th {\n",
       "        text-align: right;\n",
       "    }\n",
       "</style>\n",
       "<table border=\"1\" class=\"dataframe\">\n",
       "  <thead>\n",
       "    <tr style=\"text-align: right;\">\n",
       "      <th></th>\n",
       "      <th>Name_of_civilzation</th>\n",
       "      <th>Years_since_first_contact</th>\n",
       "      <th>Technological_progress</th>\n",
       "      <th>Diplomatic_relations_index</th>\n",
       "      <th>Cultural_exchange_index</th>\n",
       "      <th>Joint_space_missions</th>\n",
       "      <th>Hostility_to_Earth_Index</th>\n",
       "      <th>Degree_of_positive_contact</th>\n",
       "    </tr>\n",
       "  </thead>\n",
       "  <tbody>\n",
       "    <tr>\n",
       "      <th>0</th>\n",
       "      <td>Venusians</td>\n",
       "      <td>50.0</td>\n",
       "      <td>20.0</td>\n",
       "      <td>7.0</td>\n",
       "      <td>5.0</td>\n",
       "      <td>1.0</td>\n",
       "      <td>3.0</td>\n",
       "      <td>55.0</td>\n",
       "    </tr>\n",
       "    <tr>\n",
       "      <th>1</th>\n",
       "      <td>Gargeleblobs</td>\n",
       "      <td>120.0</td>\n",
       "      <td>85.0</td>\n",
       "      <td>8.0</td>\n",
       "      <td>NaN</td>\n",
       "      <td>12.0</td>\n",
       "      <td>2.0</td>\n",
       "      <td>88.0</td>\n",
       "    </tr>\n",
       "    <tr>\n",
       "      <th>2</th>\n",
       "      <td>Vogons</td>\n",
       "      <td>75.0</td>\n",
       "      <td>50.0</td>\n",
       "      <td>6.0</td>\n",
       "      <td>NaN</td>\n",
       "      <td>4.0</td>\n",
       "      <td>4.0</td>\n",
       "      <td>60.0</td>\n",
       "    </tr>\n",
       "    <tr>\n",
       "      <th>3</th>\n",
       "      <td>Betelgeusians</td>\n",
       "      <td>200.0</td>\n",
       "      <td>90.0</td>\n",
       "      <td>9.0</td>\n",
       "      <td>NaN</td>\n",
       "      <td>15.0</td>\n",
       "      <td>1.0</td>\n",
       "      <td>95.0</td>\n",
       "    </tr>\n",
       "    <tr>\n",
       "      <th>4</th>\n",
       "      <td>Pluvarians</td>\n",
       "      <td>150.0</td>\n",
       "      <td>70.0</td>\n",
       "      <td>7.0</td>\n",
       "      <td>NaN</td>\n",
       "      <td>10.0</td>\n",
       "      <td>3.0</td>\n",
       "      <td>75.0</td>\n",
       "    </tr>\n",
       "  </tbody>\n",
       "</table>\n",
       "</div>"
      ],
      "text/plain": [
       "  Name_of_civilzation  Years_since_first_contact  Technological_progress  \\\n",
       "0           Venusians                       50.0                    20.0   \n",
       "1        Gargeleblobs                      120.0                    85.0   \n",
       "2              Vogons                       75.0                    50.0   \n",
       "3       Betelgeusians                      200.0                    90.0   \n",
       "4          Pluvarians                      150.0                    70.0   \n",
       "\n",
       "   Diplomatic_relations_index  Cultural_exchange_index  Joint_space_missions  \\\n",
       "0                         7.0                      5.0                   1.0   \n",
       "1                         8.0                      NaN                  12.0   \n",
       "2                         6.0                      NaN                   4.0   \n",
       "3                         9.0                      NaN                  15.0   \n",
       "4                         7.0                      NaN                  10.0   \n",
       "\n",
       "   Hostility_to_Earth_Index  Degree_of_positive_contact  \n",
       "0                       3.0                        55.0  \n",
       "1                       2.0                        88.0  \n",
       "2                       4.0                        60.0  \n",
       "3                       1.0                        95.0  \n",
       "4                       3.0                        75.0  "
      ]
     },
     "execution_count": 21,
     "metadata": {},
     "output_type": "execute_result"
    }
   ],
   "source": [
    "import pandas as pd\n",
    "import matplotlib.pyplot as plt\n",
    "\n",
    "# read the CSV file into a pandas DataFrame \n",
    "et_data = pd.read_csv(\"../datasets/Extraterrestrial_civilizations.csv\")\n",
    "\n",
    "# display the first five rows\n",
    "et_data.head()"
   ]
  },
  {
   "cell_type": "markdown",
   "id": "f36cc0d8-8c8f-4963-8b40-08e7ec12d98b",
   "metadata": {},
   "source": [
    "## Part I: Missing Data"
   ]
  },
  {
   "cell_type": "markdown",
   "id": "f7743e1a-ee63-4929-9ee9-65a69f2b9edd",
   "metadata": {},
   "source": [
    "#### Exercise 1 \n",
    "\n",
    "1. Identify which variables have problems with missing data.\n",
    "2. Calculate the percentage of missing data for those variables"
   ]
  },
  {
   "cell_type": "code",
   "execution_count": null,
   "id": "d476429a-3c16-4616-b0f1-103a09689a1b",
   "metadata": {},
   "outputs": [],
   "source": [
    "#1 Identify which variables have problems with missing data."
   ]
  },
  {
   "cell_type": "code",
   "execution_count": null,
   "id": "70bdd2f2-feab-4d77-95c0-bf8f67bdebc4",
   "metadata": {},
   "outputs": [],
   "source": [
    "#2 Calculate the percentage of missing data for those variables\n",
    "# Create a DataFrame of boolean values with True for missing values and False if there is not a missing value at that position:\n",
    "\n",
    "#Calculate the percentage of missing data for each column\n",
    "\n",
    "#Display missing_percentages"
   ]
  },
  {
   "cell_type": "markdown",
   "id": "60964c1e-5869-4cc4-8726-072a4deb6d81",
   "metadata": {},
   "source": [
    "### Exercise 2\n",
    "\n",
    "- Decide what to do about the missing data in `Cultural_exchange_index`.\n",
    "\n",
    "Review the cases in Part-2-Data-Cleaning-Techniques.ipynb and answer these questions:\n",
    "1. Is it missing more than 50% of the data?\n",
    "2. Is `Cultural_exchange_index` important to your data analysis? Explain.\n",
    "3. Do you plan to delete the variable or emove the rows which contain missing values?"
   ]
  },
  {
   "cell_type": "code",
   "execution_count": 8,
   "id": "55480b5d-7480-4351-b4ab-b9fba84b89cd",
   "metadata": {},
   "outputs": [],
   "source": [
    "# Take the action you chose in 3.\n",
    "\n"
   ]
  },
  {
   "cell_type": "markdown",
   "id": "54dc3697-d95a-47f9-8ced-83f0999c8fd7",
   "metadata": {},
   "source": [
    "### Part II: Outliers"
   ]
  },
  {
   "cell_type": "markdown",
   "id": "6e6cea92-1af8-4d66-a4e8-e9915c24ac87",
   "metadata": {},
   "source": [
    "#### Exercise 1\n",
    "\n",
    "Preview the outliers in `Hostility_to_Earth_Index` with a boxplot. "
   ]
  },
  {
   "cell_type": "code",
   "execution_count": null,
   "id": "d7a57464-17a5-4b8b-ae4e-46d6ad8baa29",
   "metadata": {},
   "outputs": [],
   "source": []
  },
  {
   "cell_type": "markdown",
   "id": "26f6517a-cd84-47bc-b283-1aa9849fc42f",
   "metadata": {},
   "source": [
    "#### Exercise 2\n",
    "\n",
    "Manage the outliers in `Hostility_to_Earth_Index`. \n",
    "1. Identify them using IQR.\n",
    "2. What will you do with them & why? (Answer here)\n",
    "3. Implement your plan. "
   ]
  },
  {
   "cell_type": "code",
   "execution_count": null,
   "id": "bb135de3-38c9-44ef-a60f-8832787f5897",
   "metadata": {},
   "outputs": [],
   "source": [
    "#1. Identify outliers using IQR.\n",
    "\n",
    "#Calculate the IQR \n",
    "\n",
    "#Define the boundaries for outliers\n",
    "\n",
    "#Identify outliers\n",
    "\n",
    "#Display the outliers"
   ]
  },
  {
   "cell_type": "code",
   "execution_count": null,
   "id": "06e69da4-9a3e-4387-8087-d68af75eacb4",
   "metadata": {},
   "outputs": [],
   "source": [
    "#3. Implement your plan. "
   ]
  },
  {
   "cell_type": "markdown",
   "id": "92290606-78fb-4669-afaf-2355fa994084",
   "metadata": {},
   "source": [
    "### Stop & Smell the Roses\n",
    "- What questions/conjectures do you have at this point about variables that could serve as predictors of future successful partnerships?\n",
    "\n",
    "-\n",
    "-\n",
    "-\n",
    "\n",
    "\n",
    "### Experiment with graphs to check out your ideas\n",
    "- See Simple_Plotting_Guide-pandas.ipynb"
   ]
  },
  {
   "cell_type": "code",
   "execution_count": null,
   "id": "d70921a2-10d6-4782-b8c6-3704cc488eb7",
   "metadata": {},
   "outputs": [],
   "source": []
  }
 ],
 "metadata": {
  "environment": {
   "kernel": "python3",
   "name": "common-cpu.m87",
   "type": "gcloud",
   "uri": "gcr.io/deeplearning-platform-release/base-cpu:m87"
  },
  "kernelspec": {
   "display_name": "Python 3 (ipykernel)",
   "language": "python",
   "name": "python3"
  },
  "language_info": {
   "codemirror_mode": {
    "name": "ipython",
    "version": 3
   },
   "file_extension": ".py",
   "mimetype": "text/x-python",
   "name": "python",
   "nbconvert_exporter": "python",
   "pygments_lexer": "ipython3",
   "version": "3.11.9"
  }
 },
 "nbformat": 4,
 "nbformat_minor": 5
}
