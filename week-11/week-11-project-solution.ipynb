{
 "cells": [
  {
   "cell_type": "markdown",
   "id": "0047d5fa-998b-4b10-a6a2-6da1797b7f39",
   "metadata": {},
   "source": [
    "# Extraterrestrial Diplomatic Service Project"
   ]
  },
  {
   "cell_type": "markdown",
   "id": "1d54da58-38c1-44c7-8999-d577ceb49bfa",
   "metadata": {},
   "source": [
    "#### The Problem Statement\n",
    "\n",
    "It's 2733, and you are a data scientist for the Extraterrestrial Diplomatic Service. The Service is regularly tasked with providing guidance to the Galactic Council on potential trade and business relations with extraterrestrial civilizations. This analysis helps the Council in understanding the potential for fruitful collaborations.\n",
    "\n",
    "At the annual meeting of the Extraterrestrial Diplomatic Service, presenters highlighted the success of several joint space missions conducted in collaboration with extraterrestrial civilizations. They suggested that these past achievements could indicate potential for expanding partnerships into areas such as trade and business. They wondered what other characteristics of extraterrestrial civilizations could serve as predictors of future successful partnerships.\n",
    "\n",
    "**Your job** is to do EDA with the dataset to begin this analysis.\n",
    "**The goal** is to create a report that:\n",
    "1. Recommends variables that could serve as predictors of future successful partnerships to the council.\n",
    "2. Backs up your suggestions with numerical data and graphs.\n",
    "\n",
    "- Your dataset, `extraterrestrial_civilizations.csv` has a randomly selected set of 50 civilizations' information for the following variables:\n",
    "\n",
    "`Name_of_civilzation`: The civilization's name\n",
    "\n",
    "`Years_since_first_contact`: Number of years since humanity first made contact with this civilization. (0-300)\n",
    "\n",
    "`Technological_progress`: A measure of the civilization's overall technological progress on a scale from 1 to 100.\n",
    "\n",
    "`Diplomatic_relations_index`: A measure of diplomatic relations between Earth and the civilization on a scale from 1 to 10, with higher values indicating more positive relations.\n",
    "\n",
    "`Cultural_exchange_index`: A measure of the degree of cultural exchange between Earth and the  civilization on a scale from 1 to 10, with higher values indicating more exchange.\n",
    "\n",
    "`Joint_space_missions`: The number of joint space missions between Earth and the civilization.\n",
    "\n",
    "`Hostility_to_Earth_Index`: A measure of the civilization's hostility to Earth on a scale from 1 to 10, with higher values indicating more hostility.\n",
    "\n",
    "`Degree_of_positive_contact`: A continuous variable measuring the degree of positive  contact with Earth on a scale from 1 to 100, with higher values indicating more positive contact.\n",
    "\n"
   ]
  },
  {
   "cell_type": "code",
   "execution_count": 21,
   "id": "0bf2dd30-b12b-4e81-88c8-b26f7806706c",
   "metadata": {},
   "outputs": [
    {
     "data": {
      "text/html": [
       "<div>\n",
       "<style scoped>\n",
       "    .dataframe tbody tr th:only-of-type {\n",
       "        vertical-align: middle;\n",
       "    }\n",
       "\n",
       "    .dataframe tbody tr th {\n",
       "        vertical-align: top;\n",
       "    }\n",
       "\n",
       "    .dataframe thead th {\n",
       "        text-align: right;\n",
       "    }\n",
       "</style>\n",
       "<table border=\"1\" class=\"dataframe\">\n",
       "  <thead>\n",
       "    <tr style=\"text-align: right;\">\n",
       "      <th></th>\n",
       "      <th>Name_of_civilzation</th>\n",
       "      <th>Years_since_first_contact</th>\n",
       "      <th>Technological_progress</th>\n",
       "      <th>Diplomatic_relations_index</th>\n",
       "      <th>Cultural_exchange_index</th>\n",
       "      <th>Joint_space_missions</th>\n",
       "      <th>Hostility_to_Earth_Index</th>\n",
       "      <th>Degree_of_positive_contact</th>\n",
       "    </tr>\n",
       "  </thead>\n",
       "  <tbody>\n",
       "    <tr>\n",
       "      <th>0</th>\n",
       "      <td>Venusians</td>\n",
       "      <td>50.0</td>\n",
       "      <td>20.0</td>\n",
       "      <td>7.0</td>\n",
       "      <td>5.0</td>\n",
       "      <td>1.0</td>\n",
       "      <td>3.0</td>\n",
       "      <td>55.0</td>\n",
       "    </tr>\n",
       "    <tr>\n",
       "      <th>1</th>\n",
       "      <td>Gargeleblobs</td>\n",
       "      <td>120.0</td>\n",
       "      <td>85.0</td>\n",
       "      <td>8.0</td>\n",
       "      <td>NaN</td>\n",
       "      <td>12.0</td>\n",
       "      <td>2.0</td>\n",
       "      <td>88.0</td>\n",
       "    </tr>\n",
       "    <tr>\n",
       "      <th>2</th>\n",
       "      <td>Vogons</td>\n",
       "      <td>75.0</td>\n",
       "      <td>50.0</td>\n",
       "      <td>6.0</td>\n",
       "      <td>NaN</td>\n",
       "      <td>4.0</td>\n",
       "      <td>4.0</td>\n",
       "      <td>60.0</td>\n",
       "    </tr>\n",
       "    <tr>\n",
       "      <th>3</th>\n",
       "      <td>Betelgeusians</td>\n",
       "      <td>200.0</td>\n",
       "      <td>90.0</td>\n",
       "      <td>9.0</td>\n",
       "      <td>NaN</td>\n",
       "      <td>15.0</td>\n",
       "      <td>1.0</td>\n",
       "      <td>95.0</td>\n",
       "    </tr>\n",
       "    <tr>\n",
       "      <th>4</th>\n",
       "      <td>Pluvarians</td>\n",
       "      <td>150.0</td>\n",
       "      <td>70.0</td>\n",
       "      <td>7.0</td>\n",
       "      <td>NaN</td>\n",
       "      <td>10.0</td>\n",
       "      <td>3.0</td>\n",
       "      <td>75.0</td>\n",
       "    </tr>\n",
       "  </tbody>\n",
       "</table>\n",
       "</div>"
      ],
      "text/plain": [
       "  Name_of_civilzation  Years_since_first_contact  Technological_progress  \\\n",
       "0           Venusians                       50.0                    20.0   \n",
       "1        Gargeleblobs                      120.0                    85.0   \n",
       "2              Vogons                       75.0                    50.0   \n",
       "3       Betelgeusians                      200.0                    90.0   \n",
       "4          Pluvarians                      150.0                    70.0   \n",
       "\n",
       "   Diplomatic_relations_index  Cultural_exchange_index  Joint_space_missions  \\\n",
       "0                         7.0                      5.0                   1.0   \n",
       "1                         8.0                      NaN                  12.0   \n",
       "2                         6.0                      NaN                   4.0   \n",
       "3                         9.0                      NaN                  15.0   \n",
       "4                         7.0                      NaN                  10.0   \n",
       "\n",
       "   Hostility_to_Earth_Index  Degree_of_positive_contact  \n",
       "0                       3.0                        55.0  \n",
       "1                       2.0                        88.0  \n",
       "2                       4.0                        60.0  \n",
       "3                       1.0                        95.0  \n",
       "4                       3.0                        75.0  "
      ]
     },
     "execution_count": 21,
     "metadata": {},
     "output_type": "execute_result"
    }
   ],
   "source": [
    "import pandas as pd\n",
    "import matplotlib.pyplot as plt\n",
    "\n",
    "# read the CSV file into a pandas DataFrame \n",
    "et_data = pd.read_csv(\"../datasets/Extraterrestrial_civilizations.csv\")\n",
    "\n",
    "# display the first five rows\n",
    "et_data.head()"
   ]
  },
  {
   "cell_type": "markdown",
   "id": "f36cc0d8-8c8f-4963-8b40-08e7ec12d98b",
   "metadata": {},
   "source": [
    "## Part I: Missing Data"
   ]
  },
  {
   "cell_type": "markdown",
   "id": "f7743e1a-ee63-4929-9ee9-65a69f2b9edd",
   "metadata": {},
   "source": [
    "#### Exercise 1 \n",
    "\n",
    "1. Identify which variables have problems with missing data.\n",
    "2. Calculate the percentage of missing data for those variables"
   ]
  },
  {
   "cell_type": "code",
   "execution_count": null,
   "id": "d476429a-3c16-4616-b0f1-103a09689a1b",
   "metadata": {},
   "outputs": [],
   "source": [
    "#1 Identify which variables have problems with missing data."
   ]
  },
  {
   "cell_type": "code",
   "execution_count": null,
   "id": "70bdd2f2-feab-4d77-95c0-bf8f67bdebc4",
   "metadata": {},
   "outputs": [],
   "source": [
    "#2 Calculate the percentage of missing data for those variables\n",
    "# Create a DataFrame of boolean values with True for missing values and False if there is not a missing value at that position:\n",
    "\n",
    "#Calculate the percentage of missing data for each column\n",
    "\n",
    "#Display missing_percentages"
   ]
  },
  {
   "cell_type": "markdown",
   "id": "a0bd6913-c652-4257-a357-32f8cd9b285d",
   "metadata": {},
   "source": [
    "#### Exercise 1 Answer"
   ]
  },
  {
   "cell_type": "code",
   "execution_count": 6,
   "id": "e45f67a4-c754-4d5b-8734-d9cefe087bdf",
   "metadata": {},
   "outputs": [
    {
     "name": "stdout",
     "output_type": "stream",
     "text": [
      "<class 'pandas.core.frame.DataFrame'>\n",
      "RangeIndex: 51 entries, 0 to 50\n",
      "Data columns (total 8 columns):\n",
      " #   Column                      Non-Null Count  Dtype  \n",
      "---  ------                      --------------  -----  \n",
      " 0   Name_of_civilzation         51 non-null     object \n",
      " 1   Years_since_first_contact   51 non-null     float64\n",
      " 2   Technological_progress      51 non-null     float64\n",
      " 3   Diplomatic_relations_index  51 non-null     float64\n",
      " 4   Cultural_exchange_index     17 non-null     float64\n",
      " 5   Joint_space_missions        51 non-null     float64\n",
      " 6   Hostility_to_Earth_Index    51 non-null     float64\n",
      " 7   Degree_of_positive_contact  51 non-null     float64\n",
      "dtypes: float64(7), object(1)\n",
      "memory usage: 3.3+ KB\n"
     ]
    }
   ],
   "source": [
    "#1 Identify which variables have problems with missing data.\n",
    "et_data.info()"
   ]
  },
  {
   "cell_type": "code",
   "execution_count": 7,
   "id": "a8af56ba-1f03-4964-b095-f21a3988949c",
   "metadata": {},
   "outputs": [
    {
     "name": "stdout",
     "output_type": "stream",
     "text": [
      "Cultural_exchange_index: 66.7%\n"
     ]
    }
   ],
   "source": [
    "#2 Calculate the percentage of missing data for those variables\n",
    "# Create a DataFrame of boolean values with True for missing values and False if there is not a missing value at that position:\n",
    "et_data_missing = et_data['Cultural_exchange_index']\n",
    "\n",
    "#Calculate the percentage of missing data for each column\n",
    "missing_percentages = et_data_missing.isnull().mean() * 100\n",
    "\n",
    "#Display missing_percentages\n",
    "print(f\"Cultural_exchange_index: {round(missing_percentages, 1)}%\")"
   ]
  },
  {
   "cell_type": "markdown",
   "id": "60964c1e-5869-4cc4-8726-072a4deb6d81",
   "metadata": {},
   "source": [
    "### Exercise 2\n",
    "\n",
    "- Decide what to do about the missing data in `Cultural_exchange_index`.\n",
    "\n",
    "Review the cases in Part-2-Data-Cleaning-Techniques.ipynb and answer these questions:\n",
    "1. Is it missing more than 50% of the data?\n",
    "2. Is `Cultural_exchange_index` important to your data analysis? Explain.\n",
    "3. Do you plan to delete the variable or emove the rows which contain missing values?"
   ]
  },
  {
   "cell_type": "code",
   "execution_count": 8,
   "id": "55480b5d-7480-4351-b4ab-b9fba84b89cd",
   "metadata": {},
   "outputs": [],
   "source": [
    "# Take the action you chose in 3.\n",
    "\n"
   ]
  },
  {
   "cell_type": "markdown",
   "id": "b83a7db1-0d70-49b3-b4f4-eea2c2f8fcac",
   "metadata": {},
   "source": [
    "### Exercise 2 Answer\n",
    "\n",
    "**NOTES TO SELF:**\n",
    "-replace 9 with max\n",
    "- use exercises w jobs canada for inconsistent and unnecessary bec we don;t really have that\n",
    "\n",
    "- OR have open time for graphing and starting your hypotheses\n",
    "\n",
    "- Somewhat up to you, but most likely\n",
    "\n",
    "Review the cases in Part-2-Data-Cleaning-Techniques.ipynb and answer these questions:\n",
    "1. Is it missing more than 50% of the data? - Yes\n",
    "2. Is `Cultural_exchange_index` important to your data analysis? - Depends on your analysis\n",
    "3. Do you plan to delete the variable or impute a replacement value? - Delete."
   ]
  },
  {
   "cell_type": "code",
   "execution_count": 9,
   "id": "17cb6f7f-7d19-472b-9871-2a7f14382dbc",
   "metadata": {},
   "outputs": [
    {
     "data": {
      "text/html": [
       "<div>\n",
       "<style scoped>\n",
       "    .dataframe tbody tr th:only-of-type {\n",
       "        vertical-align: middle;\n",
       "    }\n",
       "\n",
       "    .dataframe tbody tr th {\n",
       "        vertical-align: top;\n",
       "    }\n",
       "\n",
       "    .dataframe thead th {\n",
       "        text-align: right;\n",
       "    }\n",
       "</style>\n",
       "<table border=\"1\" class=\"dataframe\">\n",
       "  <thead>\n",
       "    <tr style=\"text-align: right;\">\n",
       "      <th></th>\n",
       "      <th>Name_of_civilzation</th>\n",
       "      <th>Years_since_first_contact</th>\n",
       "      <th>Technological_progress</th>\n",
       "      <th>Diplomatic_relations_index</th>\n",
       "      <th>Joint_space_missions</th>\n",
       "      <th>Hostility_to_Earth_Index</th>\n",
       "      <th>Degree_of_positive_contact</th>\n",
       "    </tr>\n",
       "  </thead>\n",
       "  <tbody>\n",
       "    <tr>\n",
       "      <th>0</th>\n",
       "      <td>Venusians</td>\n",
       "      <td>50.0</td>\n",
       "      <td>20.0</td>\n",
       "      <td>7.0</td>\n",
       "      <td>1.0</td>\n",
       "      <td>3.0</td>\n",
       "      <td>55.0</td>\n",
       "    </tr>\n",
       "    <tr>\n",
       "      <th>1</th>\n",
       "      <td>Gargeleblobs</td>\n",
       "      <td>120.0</td>\n",
       "      <td>85.0</td>\n",
       "      <td>8.0</td>\n",
       "      <td>12.0</td>\n",
       "      <td>2.0</td>\n",
       "      <td>88.0</td>\n",
       "    </tr>\n",
       "    <tr>\n",
       "      <th>2</th>\n",
       "      <td>Vogons</td>\n",
       "      <td>75.0</td>\n",
       "      <td>50.0</td>\n",
       "      <td>6.0</td>\n",
       "      <td>4.0</td>\n",
       "      <td>4.0</td>\n",
       "      <td>60.0</td>\n",
       "    </tr>\n",
       "    <tr>\n",
       "      <th>3</th>\n",
       "      <td>Betelgeusians</td>\n",
       "      <td>200.0</td>\n",
       "      <td>90.0</td>\n",
       "      <td>9.0</td>\n",
       "      <td>15.0</td>\n",
       "      <td>1.0</td>\n",
       "      <td>95.0</td>\n",
       "    </tr>\n",
       "    <tr>\n",
       "      <th>4</th>\n",
       "      <td>Pluvarians</td>\n",
       "      <td>150.0</td>\n",
       "      <td>70.0</td>\n",
       "      <td>7.0</td>\n",
       "      <td>10.0</td>\n",
       "      <td>3.0</td>\n",
       "      <td>75.0</td>\n",
       "    </tr>\n",
       "  </tbody>\n",
       "</table>\n",
       "</div>"
      ],
      "text/plain": [
       "  Name_of_civilzation  Years_since_first_contact  Technological_progress  \\\n",
       "0           Venusians                       50.0                    20.0   \n",
       "1        Gargeleblobs                      120.0                    85.0   \n",
       "2              Vogons                       75.0                    50.0   \n",
       "3       Betelgeusians                      200.0                    90.0   \n",
       "4          Pluvarians                      150.0                    70.0   \n",
       "\n",
       "   Diplomatic_relations_index  Joint_space_missions  Hostility_to_Earth_Index  \\\n",
       "0                         7.0                   1.0                       3.0   \n",
       "1                         8.0                  12.0                       2.0   \n",
       "2                         6.0                   4.0                       4.0   \n",
       "3                         9.0                  15.0                       1.0   \n",
       "4                         7.0                  10.0                       3.0   \n",
       "\n",
       "   Degree_of_positive_contact  \n",
       "0                        55.0  \n",
       "1                        88.0  \n",
       "2                        60.0  \n",
       "3                        95.0  \n",
       "4                        75.0  "
      ]
     },
     "execution_count": 9,
     "metadata": {},
     "output_type": "execute_result"
    }
   ],
   "source": [
    "# If you chose to Delete `Cultural_exchange_index`.\n",
    "\n",
    "# drop column(s)\n",
    "et_data.drop(columns=['Cultural_exchange_index'],inplace=True)\n",
    "\n",
    "# display the first five rows to check\n",
    "et_data.head()"
   ]
  },
  {
   "cell_type": "code",
   "execution_count": 3,
   "id": "d5631c18-929c-4f8d-ae0c-cd4b2538d30a",
   "metadata": {},
   "outputs": [
    {
     "data": {
      "text/html": [
       "<div>\n",
       "<style scoped>\n",
       "    .dataframe tbody tr th:only-of-type {\n",
       "        vertical-align: middle;\n",
       "    }\n",
       "\n",
       "    .dataframe tbody tr th {\n",
       "        vertical-align: top;\n",
       "    }\n",
       "\n",
       "    .dataframe thead th {\n",
       "        text-align: right;\n",
       "    }\n",
       "</style>\n",
       "<table border=\"1\" class=\"dataframe\">\n",
       "  <thead>\n",
       "    <tr style=\"text-align: right;\">\n",
       "      <th></th>\n",
       "      <th>Years_since_first_contact</th>\n",
       "      <th>Technological_progress</th>\n",
       "      <th>Diplomatic_relations_index</th>\n",
       "      <th>Cultural_exchange_index</th>\n",
       "      <th>Joint_space_missions</th>\n",
       "      <th>Hostility_to_Earth_Index</th>\n",
       "      <th>Degree_of_positive_contact</th>\n",
       "    </tr>\n",
       "  </thead>\n",
       "  <tbody>\n",
       "    <tr>\n",
       "      <th>count</th>\n",
       "      <td>17.000000</td>\n",
       "      <td>17.000000</td>\n",
       "      <td>17.000000</td>\n",
       "      <td>17.000000</td>\n",
       "      <td>17.000000</td>\n",
       "      <td>17.000000</td>\n",
       "      <td>17.000000</td>\n",
       "    </tr>\n",
       "    <tr>\n",
       "      <th>mean</th>\n",
       "      <td>89.705882</td>\n",
       "      <td>47.058824</td>\n",
       "      <td>6.529412</td>\n",
       "      <td>5.882353</td>\n",
       "      <td>5.882353</td>\n",
       "      <td>3.529412</td>\n",
       "      <td>55.117647</td>\n",
       "    </tr>\n",
       "    <tr>\n",
       "      <th>std</th>\n",
       "      <td>72.251094</td>\n",
       "      <td>27.960844</td>\n",
       "      <td>2.896499</td>\n",
       "      <td>1.363926</td>\n",
       "      <td>6.669730</td>\n",
       "      <td>2.348341</td>\n",
       "      <td>27.138263</td>\n",
       "    </tr>\n",
       "    <tr>\n",
       "      <th>min</th>\n",
       "      <td>5.000000</td>\n",
       "      <td>5.000000</td>\n",
       "      <td>1.000000</td>\n",
       "      <td>3.000000</td>\n",
       "      <td>0.000000</td>\n",
       "      <td>1.000000</td>\n",
       "      <td>8.000000</td>\n",
       "    </tr>\n",
       "    <tr>\n",
       "      <th>25%</th>\n",
       "      <td>35.000000</td>\n",
       "      <td>22.000000</td>\n",
       "      <td>5.000000</td>\n",
       "      <td>5.000000</td>\n",
       "      <td>1.000000</td>\n",
       "      <td>1.000000</td>\n",
       "      <td>38.000000</td>\n",
       "    </tr>\n",
       "    <tr>\n",
       "      <th>50%</th>\n",
       "      <td>60.000000</td>\n",
       "      <td>45.000000</td>\n",
       "      <td>7.000000</td>\n",
       "      <td>6.000000</td>\n",
       "      <td>3.000000</td>\n",
       "      <td>3.000000</td>\n",
       "      <td>52.000000</td>\n",
       "    </tr>\n",
       "    <tr>\n",
       "      <th>75%</th>\n",
       "      <td>150.000000</td>\n",
       "      <td>69.000000</td>\n",
       "      <td>8.000000</td>\n",
       "      <td>7.000000</td>\n",
       "      <td>8.000000</td>\n",
       "      <td>5.000000</td>\n",
       "      <td>79.000000</td>\n",
       "    </tr>\n",
       "    <tr>\n",
       "      <th>max</th>\n",
       "      <td>230.000000</td>\n",
       "      <td>92.000000</td>\n",
       "      <td>12.000000</td>\n",
       "      <td>8.000000</td>\n",
       "      <td>20.000000</td>\n",
       "      <td>9.000000</td>\n",
       "      <td>99.000000</td>\n",
       "    </tr>\n",
       "  </tbody>\n",
       "</table>\n",
       "</div>"
      ],
      "text/plain": [
       "       Years_since_first_contact  Technological_progress  \\\n",
       "count                  17.000000               17.000000   \n",
       "mean                   89.705882               47.058824   \n",
       "std                    72.251094               27.960844   \n",
       "min                     5.000000                5.000000   \n",
       "25%                    35.000000               22.000000   \n",
       "50%                    60.000000               45.000000   \n",
       "75%                   150.000000               69.000000   \n",
       "max                   230.000000               92.000000   \n",
       "\n",
       "       Diplomatic_relations_index  Cultural_exchange_index  \\\n",
       "count                   17.000000                17.000000   \n",
       "mean                     6.529412                 5.882353   \n",
       "std                      2.896499                 1.363926   \n",
       "min                      1.000000                 3.000000   \n",
       "25%                      5.000000                 5.000000   \n",
       "50%                      7.000000                 6.000000   \n",
       "75%                      8.000000                 7.000000   \n",
       "max                     12.000000                 8.000000   \n",
       "\n",
       "       Joint_space_missions  Hostility_to_Earth_Index  \\\n",
       "count             17.000000                 17.000000   \n",
       "mean               5.882353                  3.529412   \n",
       "std                6.669730                  2.348341   \n",
       "min                0.000000                  1.000000   \n",
       "25%                1.000000                  1.000000   \n",
       "50%                3.000000                  3.000000   \n",
       "75%                8.000000                  5.000000   \n",
       "max               20.000000                  9.000000   \n",
       "\n",
       "       Degree_of_positive_contact  \n",
       "count                   17.000000  \n",
       "mean                    55.117647  \n",
       "std                     27.138263  \n",
       "min                      8.000000  \n",
       "25%                     38.000000  \n",
       "50%                     52.000000  \n",
       "75%                     79.000000  \n",
       "max                     99.000000  "
      ]
     },
     "execution_count": 3,
     "metadata": {},
     "output_type": "execute_result"
    }
   ],
   "source": [
    "# If you chose to remove the rows that contain missing values.\n",
    "\n",
    "# remove rows with missing values in particular column\n",
    "et_data.dropna(subset=['Cultural_exchange_index'], inplace=True)\n",
    "\n",
    "# Check \n",
    "et_data['Cultural_exchange_index'].describe()"
   ]
  },
  {
   "cell_type": "markdown",
   "id": "54dc3697-d95a-47f9-8ced-83f0999c8fd7",
   "metadata": {},
   "source": [
    "### Part II: Outliers"
   ]
  },
  {
   "cell_type": "markdown",
   "id": "6e6cea92-1af8-4d66-a4e8-e9915c24ac87",
   "metadata": {},
   "source": [
    "#### Exercise 1\n",
    "\n",
    "Preview the outliers in `Hostility_to_Earth_Index` with a boxplot. "
   ]
  },
  {
   "cell_type": "code",
   "execution_count": null,
   "id": "d7a57464-17a5-4b8b-ae4e-46d6ad8baa29",
   "metadata": {},
   "outputs": [],
   "source": []
  },
  {
   "cell_type": "markdown",
   "id": "e80d97e4-ae32-4b27-8ebe-6edb1d064ac5",
   "metadata": {},
   "source": [
    "#### Exercise 1 Answer"
   ]
  },
  {
   "cell_type": "code",
   "execution_count": 12,
   "id": "ef0cfd44-ea77-4e2a-8a81-46f2787f4cd3",
   "metadata": {},
   "outputs": [
    {
     "data": {
      "text/plain": [
       "Text(0, 0.5, 'Hostility')"
      ]
     },
     "execution_count": 12,
     "metadata": {},
     "output_type": "execute_result"
    },
    {
     "data": {
      "image/png": "[encoded data removed]",
      "text/plain": [
       "<Figure size 640x480 with 1 Axes>"
      ]
     },
     "metadata": {},
     "output_type": "display_data"
    }
   ],
   "source": [
    "# create a boxplot \n",
    "plt.boxplot(et_data['Hostility_to_Earth_Index'])\n",
    "\n",
    "# Title\n",
    "plt.title('Boxplot for Hostility_to_Earth_Index')\n",
    "\n",
    "# label y-axis\n",
    "plt.ylabel(\"Hostility\")\n"
   ]
  },
  {
   "cell_type": "markdown",
   "id": "26f6517a-cd84-47bc-b283-1aa9849fc42f",
   "metadata": {},
   "source": [
    "#### Exercise 2\n",
    "\n",
    "Manage the outliers in `Hostility_to_Earth_Index`. \n",
    "1. Identify them using IQR.\n",
    "2. What will you do with them & why? (Answer here)\n",
    "3. Implement your plan. "
   ]
  },
  {
   "cell_type": "code",
   "execution_count": null,
   "id": "bb135de3-38c9-44ef-a60f-8832787f5897",
   "metadata": {},
   "outputs": [],
   "source": [
    "#1. Identify outliers using IQR.\n",
    "\n",
    "#Calculate the IQR \n",
    "\n",
    "#Define the boundaries for outliers\n",
    "\n",
    "#Identify outliers\n",
    "\n",
    "#Display the outliers"
   ]
  },
  {
   "cell_type": "code",
   "execution_count": null,
   "id": "06e69da4-9a3e-4387-8087-d68af75eacb4",
   "metadata": {},
   "outputs": [],
   "source": [
    "#3. Implement your plan. "
   ]
  },
  {
   "cell_type": "markdown",
   "id": "102b2967-8714-453b-916a-263d9bbc10ce",
   "metadata": {},
   "source": [
    "#### Exercise 2 Answer\n",
    "\n",
    "Manage the outliers in `Hostility_to_Earth_Index`. \n",
    "1. Identify outliers using IQR.\n",
    "- outliers: 9, 35 & 400\n",
    "2. What will you do with them & why?\n",
    "- Option 1:\n",
    "     - Remove 35 and 400 as they are extreme values beyond the expected range for `Hostility_to_Earth_Index`, which distorts the analysis.\n",
    "    - Retain 9, as although it is an outlier, it remains within the plausible range for this variable. Studying civilizations with higher hostility levels could provide valuable insights into characteristics associated with antagonism toward Earth.\n",
    "- Option 2:\n",
    "    - Replace outliers with the max value without outliers. \n",
    "3. Implement your plan. "
   ]
  },
  {
   "cell_type": "code",
   "execution_count": 13,
   "id": "e284c2df-c674-4a61-991f-1ce79734c0bf",
   "metadata": {},
   "outputs": [
    {
     "data": {
      "text/plain": [
       "19      9.0\n",
       "20    400.0\n",
       "39     35.0\n",
       "Name: Hostility_to_Earth_Index, dtype: float64"
      ]
     },
     "execution_count": 13,
     "metadata": {},
     "output_type": "execute_result"
    }
   ],
   "source": [
    "#1. Identify outliers using IQR.\n",
    "\n",
    "#Calculate the IQR\n",
    "Q1 = et_data['Hostility_to_Earth_Index'].quantile(0.25)\n",
    "Q3 = et_data['Hostility_to_Earth_Index'].quantile(0.75)\n",
    "IQR= Q3-Q1\n",
    "\n",
    "#define boundaries for outliers\n",
    "lower_bound= Q1-1.5*IQR\n",
    "upper_bound= Q3+1.5*IQR\n",
    "\n",
    "#identify outliers\n",
    "outliers= et_data['Hostility_to_Earth_Index'][(et_data['Hostility_to_Earth_Index']< lower_bound) | (et_data['Hostility_to_Earth_Index']>upper_bound)]\n",
    "\n",
    "#display the outliers\n",
    "outliers"
   ]
  },
  {
   "cell_type": "code",
   "execution_count": 16,
   "id": "448175fb-f861-4ebb-b723-9f29166cc7a2",
   "metadata": {},
   "outputs": [
    {
     "data": {
      "text/plain": [
       "Text(0, 0.5, 'Hostility')"
      ]
     },
     "execution_count": 16,
     "metadata": {},
     "output_type": "execute_result"
    },
    {
     "data": {
      "image/png": "[encoded data removed]",
      "text/plain": [
       "<Figure size 640x480 with 1 Axes>"
      ]
     },
     "metadata": {},
     "output_type": "display_data"
    }
   ],
   "source": [
    "# Implement Option 1\n",
    "\n",
    "# Filter out rows where 'Hostility_to_Earth_Index' is not equal to 35 or 400\n",
    "et_data_cleaned = et_data[(et_data['Hostility_to_Earth_Index'] != 35) & \n",
    "                          (et_data['Hostility_to_Earth_Index'] != 400)]\n",
    "\n",
    "# Display the cleaned data to confirm the changes\n",
    "#et_data_cleaned[['Hostility_to_Earth_Index']].value_counts()\n",
    "# create a boxplot \n",
    "plt.boxplot(et_data['Hostility_to_Earth_Index'])\n",
    "\n",
    "# Title\n",
    "plt.title('Boxplot for Hostility_to_Earth_Index')\n",
    "\n",
    "# label y-axis\n",
    "plt.ylabel(\"Hostility\")\n"
   ]
  },
  {
   "cell_type": "code",
   "execution_count": 22,
   "id": "33d13b69-1c09-45f2-89a6-e34efa012c14",
   "metadata": {},
   "outputs": [
    {
     "data": {
      "text/html": [
       "<div>\n",
       "<style scoped>\n",
       "    .dataframe tbody tr th:only-of-type {\n",
       "        vertical-align: middle;\n",
       "    }\n",
       "\n",
       "    .dataframe tbody tr th {\n",
       "        vertical-align: top;\n",
       "    }\n",
       "\n",
       "    .dataframe thead th {\n",
       "        text-align: right;\n",
       "    }\n",
       "</style>\n",
       "<table border=\"1\" class=\"dataframe\">\n",
       "  <thead>\n",
       "    <tr style=\"text-align: right;\">\n",
       "      <th></th>\n",
       "      <th>Name_of_civilzation</th>\n",
       "      <th>Years_since_first_contact</th>\n",
       "      <th>Technological_progress</th>\n",
       "      <th>Diplomatic_relations_index</th>\n",
       "      <th>Cultural_exchange_index</th>\n",
       "      <th>Joint_space_missions</th>\n",
       "      <th>Hostility_to_Earth_Index</th>\n",
       "      <th>Degree_of_positive_contact</th>\n",
       "    </tr>\n",
       "  </thead>\n",
       "  <tbody>\n",
       "    <tr>\n",
       "      <th>19</th>\n",
       "      <td>Iotans</td>\n",
       "      <td>5.0</td>\n",
       "      <td>5.0</td>\n",
       "      <td>1.0</td>\n",
       "      <td>3.0</td>\n",
       "      <td>0.0</td>\n",
       "      <td>7.0</td>\n",
       "      <td>8.0</td>\n",
       "    </tr>\n",
       "    <tr>\n",
       "      <th>20</th>\n",
       "      <td>Jargoths</td>\n",
       "      <td>95.0</td>\n",
       "      <td>95.0</td>\n",
       "      <td>10.0</td>\n",
       "      <td>NaN</td>\n",
       "      <td>18.0</td>\n",
       "      <td>7.0</td>\n",
       "      <td>100.0</td>\n",
       "    </tr>\n",
       "    <tr>\n",
       "      <th>39</th>\n",
       "      <td>Cetians</td>\n",
       "      <td>25.0</td>\n",
       "      <td>19.0</td>\n",
       "      <td>3.0</td>\n",
       "      <td>NaN</td>\n",
       "      <td>1.0</td>\n",
       "      <td>7.0</td>\n",
       "      <td>29.0</td>\n",
       "    </tr>\n",
       "  </tbody>\n",
       "</table>\n",
       "</div>"
      ],
      "text/plain": [
       "   Name_of_civilzation  Years_since_first_contact  Technological_progress  \\\n",
       "19              Iotans                        5.0                     5.0   \n",
       "20            Jargoths                       95.0                    95.0   \n",
       "39             Cetians                       25.0                    19.0   \n",
       "\n",
       "    Diplomatic_relations_index  Cultural_exchange_index  Joint_space_missions  \\\n",
       "19                         1.0                      3.0                   0.0   \n",
       "20                        10.0                      NaN                  18.0   \n",
       "39                         3.0                      NaN                   1.0   \n",
       "\n",
       "    Hostility_to_Earth_Index  Degree_of_positive_contact  \n",
       "19                       7.0                         8.0  \n",
       "20                       7.0                       100.0  \n",
       "39                       7.0                        29.0  "
      ]
     },
     "execution_count": 22,
     "metadata": {},
     "output_type": "execute_result"
    }
   ],
   "source": [
    "#3. Implement Option 2. \n",
    "\n",
    "# assign max value of distribution without the outliers\n",
    "max_value = et_data[et_data['Hostility_to_Earth_Index'] < 9].Hostility_to_Earth_Index.max()\n",
    "\n",
    "# assign indices of rows which needs to be replaced (the rows with the outliers)\n",
    "indices = et_data[et_data['Hostility_to_Earth_Index'] >= 9].index\n",
    "\n",
    "# replace the outlier values with replacement value\n",
    "et_data.loc[indices,'Hostility_to_Earth_Index'] = max_value\n",
    "\n",
    "# verify that the values have been changed\n",
    "et_data.loc[indices]"
   ]
  },
  {
   "cell_type": "markdown",
   "id": "92290606-78fb-4669-afaf-2355fa994084",
   "metadata": {},
   "source": [
    "### Stop & Smell the Roses\n",
    "- What questions/conjectures do you have at this point about variables that could serve as predictors of future successful partnerships?\n",
    "\n",
    "-\n",
    "-\n",
    "-\n",
    "\n",
    "\n",
    "### Experiment with graphs to check out your ideas\n",
    "- See Simple_Plotting_Guide-pandas.ipynb"
   ]
  },
  {
   "cell_type": "code",
   "execution_count": null,
   "id": "d70921a2-10d6-4782-b8c6-3704cc488eb7",
   "metadata": {},
   "outputs": [],
   "source": []
  }
 ],
 "metadata": {
  "environment": {
   "kernel": "python3",
   "name": "common-cpu.m87",
   "type": "gcloud",
   "uri": "gcr.io/deeplearning-platform-release/base-cpu:m87"
  },
  "kernelspec": {
   "display_name": "Python 3 (ipykernel)",
   "language": "python",
   "name": "python3"
  },
  "language_info": {
   "codemirror_mode": {
    "name": "ipython",
    "version": 3
   },
   "file_extension": ".py",
   "mimetype": "text/x-python",
   "name": "python",
   "nbconvert_exporter": "python",
   "pygments_lexer": "ipython3",
   "version": "3.11.9"
  }
 },
 "nbformat": 4,
 "nbformat_minor": 5
}
