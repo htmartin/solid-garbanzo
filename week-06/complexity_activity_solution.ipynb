{
 "cells": [
  {
   "cell_type": "markdown",
   "id": "b2d9e125-eb01-4639-b981-467e8105adba",
   "metadata": {},
   "source": [
    "# Example 1: Logarithmic\n",
    "**Explanation:**\n",
    "- The code repeatedly divides the number `n` by 2 until it becomes 1. \n",
    "- If at any point `n` is not divisible by 2, the function returns `False`.\n",
    "\n",
    "**Complexity:** Θ(log n)\n",
    "The number of iterations required to reduce `n` to 1 is approximately equal to the base-2 logarithm of `n`. This is because each iteration halves the value of `n`.\n",
    "\n",
    "**Optimized Version (Constant):**\n",
    "```python\n",
    "def is_power_of_two_constant(n):\n",
    "    return n > 0 and (n & (n - 1)) == 0\n",
    "```\n",
    "- This version uses a bitwise AND operation to check if the number is a power of 2. \n",
    "- If the number is a power of 2, its binary representation will have only one set bit. \n",
    "- Subtracting 1 from a power of 2 will flip the least significant set bit and all bits to its right. \n",
    "- The bitwise AND operation will result in 0 if the number is a power of 2."
   ]
  },
  {
   "cell_type": "markdown",
   "id": "ef0a2281-c35e-458c-8473-68e67a3be4e0",
   "metadata": {},
   "source": [
    "### Example 2: Factorial"
   ]
  },
  {
   "cell_type": "code",
   "execution_count": 1,
   "id": "4f0267a3-adab-4d4b-8594-e33b7b441c3d",
   "metadata": {},
   "outputs": [],
   "source": [
    "\n",
    "**Explanation:**\n",
    "- The code generates all permutations of the given array recursively. \n",
    "- For each element in the array, it recursively generates permutations of the remaining elements and appends the current element to each permutation.\n",
    "\n",
    "**Complexity:** Θ(n!)\n",
    "The number of permutations of an array of length `n` is n!. This function generates all possible permutations, leading to exponential time complexity.\n",
    "\n",
    "**Optimized Version (Not possible):**\n",
    "- Generating all permutations is inherently an exponential time problem. \n",
    "- There is no known algorithm that can generate all permutations in polynomial time."
   ]
  },
  {
   "cell_type": "markdown",
   "id": "2e7836c0-f83c-4859-a940-3abd9016f97d",
   "metadata": {},
   "source": [
    "### Example 3: Exponential\n",
    "\n",
    "**Explanation:**\n",
    "- The code calculates the Fibonacci sequence recursively. \n",
    "- Each Fibonacci number is calculated by summing the previous two Fibonacci numbers.\n",
    "\n",
    "**Complexity:** Θ(2^n)\n",
    "- The recursive calls to `fibonacci` create a binary tree structure. \n",
    "- The depth of the tree is `n`, and each level of the tree has 2^i nodes (where `i` is the level). \n",
    "- This leads to a total of 2^n nodes in the tree, resulting in exponential time complexity.\n",
    "\n",
    "**Optimized Version (Linear):**\n",
    "```python\n",
    "def fibonacci_linear(n):\n",
    "    if n <= 1:\n",
    "        return n\n",
    "    a, b = 0, 1\n",
    "    for _ in range(2, n + 1):\n",
    "        a, b = b, a + b\n",
    "    return b\n",
    "```\n",
    "- This version uses a loop to iteratively calculate the Fibonacci sequence. \n",
    "- It thereby avoids the redundant recursive calls. \n",
    "- This results in linear time complexity.\n"
   ]
  },
  {
   "cell_type": "markdown",
   "id": "3d87dc7c-8983-44cd-9b6b-d4f08431261f",
   "metadata": {},
   "source": [
    "### Example 4: Linear\n",
    "**Explanation:**\n",
    "The code iterates over the array and adds each element to a running total.\n",
    "\n",
    "**Complexity:** Θ(n)\n",
    "The loop iterates over each element in the array once, resulting in linear time complexity.\n",
    "\n",
    "**Optimized Version (Not possible):**"
   ]
  },
  {
   "cell_type": "code",
   "execution_count": null,
   "id": "6e709530-877c-4b49-8922-b4b6a606a69b",
   "metadata": {},
   "outputs": [],
   "source": []
  },
  {
   "cell_type": "code",
   "execution_count": null,
   "id": "4c10507d-62c7-4361-a67b-a7f04fba74d6",
   "metadata": {},
   "outputs": [],
   "source": []
  }
 ],
 "metadata": {
  "kernelspec": {
   "display_name": "Python 3 (ipykernel)",
   "language": "python",
   "name": "python3"
  },
  "language_info": {
   "codemirror_mode": {
    "name": "ipython",
    "version": 3
   },
   "file_extension": ".py",
   "mimetype": "text/x-python",
   "name": "python",
   "nbconvert_exporter": "python",
   "pygments_lexer": "ipython3",
   "version": "3.11.9"
  }
 },
 "nbformat": 4,
 "nbformat_minor": 5
}
