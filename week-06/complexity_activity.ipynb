{
 "cells": [
  {
   "cell_type": "markdown",
   "id": "1a9a667b-5e7c-4a0e-b255-198bb4f83a96",
   "metadata": {},
   "source": [
    "# Complexity Activity\n",
    "\n",
    "1. Explain how each example code snippet works and classify its Big Theta time complexity class. \n",
    "2. If possible, rewrite the code snippet so that that it achieves the exact same result but has a lower ranked big theta time complexity. If it's not possible, explain why.\n"
   ]
  },
  {
   "cell_type": "markdown",
   "id": "216a76e4-ab54-4bf3-b5a2-e96465a662e8",
   "metadata": {},
   "source": [
    "## Example 1\n",
    "\n"
   ]
  },
  {
   "cell_type": "code",
   "execution_count": null,
   "id": "5e41cb8d-9b2a-4581-a70e-41251b4efe52",
   "metadata": {},
   "outputs": [],
   "source": [
    "def is_power_of_two(n):\n",
    "    while n > 1:\n",
    "        if n % 2 != 0:\n",
    "            return False\n",
    "        n //= 2\n",
    "    return n == 1\n",
    "\n",
    "# Example usage:\n",
    "print(is_power_of_two(16))  # Output: True\n",
    "print(is_power_of_two(18))  # Output: False"
   ]
  },
  {
   "cell_type": "markdown",
   "id": "de686205-86c8-41be-aa83-d4ee7741dc7b",
   "metadata": {},
   "source": [
    "## Example 2"
   ]
  },
  {
   "cell_type": "code",
   "execution_count": null,
   "id": "8c1eaf42-0e87-402e-a21f-afc6299ef0dc",
   "metadata": {},
   "outputs": [],
   "source": [
    "def permutations(arr):\n",
    "    if len(arr) == 0:\n",
    "        return [[]]\n",
    "    result = []\n",
    "    for i in range(len(arr)):\n",
    "        for p in permutations(arr[:i] + arr[i+1:]):\n",
    "            result.append([arr[i]] + p)\n",
    "    return result\n",
    "\n",
    "# Example usage:\n",
    "arr = [1, 2, 3]\n",
    "print(permutations(arr))  # Output: [[1, 2, 3], [1, 3, 2], [2, 1, 3], [2, 3, 1], [3, 1, 2], [3, 2, 1]]"
   ]
  },
  {
   "cell_type": "markdown",
   "id": "20a651f8-eebf-4da8-bfb6-f9549a89e534",
   "metadata": {},
   "source": [
    "## Example 3"
   ]
  },
  {
   "cell_type": "code",
   "execution_count": null,
   "id": "309ed29d-bb9e-45d4-a621-b52eac16dfab",
   "metadata": {},
   "outputs": [],
   "source": [
    "def fibonacci(n):\n",
    "    if n <= 1:\n",
    "        return n\n",
    "    return fibonacci(n - 1) + fibonacci(n - 2)\n",
    "\n",
    "# Example usage:\n",
    "print(fibonacci(5))  # Output: 5\n",
    "print(fibonacci(10))  # Output: 55"
   ]
  },
  {
   "cell_type": "markdown",
   "id": "36e307d4-f60f-4495-9486-1dc43069d3f4",
   "metadata": {},
   "source": [
    "## Example 4\n",
    "\n"
   ]
  },
  {
   "cell_type": "code",
   "execution_count": null,
   "id": "325b6f6f-529e-42bc-8507-c031fc345fe9",
   "metadata": {},
   "outputs": [],
   "source": [
    "def sum_of_elements(arr):\n",
    "    total = 0\n",
    "    for element in arr:\n",
    "        total += element\n",
    "    return total\n",
    "\n",
    "# Example usage:\n",
    "arr = [1, 2, 3, 4, 5]\n",
    "print(sum_of_elements(arr))  # Output: 15"
   ]
  },
  {
   "cell_type": "code",
   "execution_count": null,
   "id": "9f4a0b71-aa02-4e1c-8790-808eba74731d",
   "metadata": {},
   "outputs": [],
   "source": []
  }
 ],
 "metadata": {
  "kernelspec": {
   "display_name": "Python 3 (ipykernel)",
   "language": "python",
   "name": "python3"
  },
  "language_info": {
   "codemirror_mode": {
    "name": "ipython",
    "version": 3
   },
   "file_extension": ".py",
   "mimetype": "text/x-python",
   "name": "python",
   "nbconvert_exporter": "python",
   "pygments_lexer": "ipython3",
   "version": "3.11.9"
  }
 },
 "nbformat": 4,
 "nbformat_minor": 5
}
