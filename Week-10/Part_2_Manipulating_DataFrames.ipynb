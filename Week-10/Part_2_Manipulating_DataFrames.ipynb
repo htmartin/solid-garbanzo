{
 "cells": [
  {
   "cell_type": "markdown",
   "id": "d2eb5f44",
   "metadata": {},
   "source": [
    "## Manipulating DataFrames"
   ]
  },
  {
   "cell_type": "markdown",
   "id": "dd23ad62-5821-429e-9529-8a200192a7ae",
   "metadata": {},
   "source": [
    "### Introduction\n"
   ]
  },
  {
   "cell_type": "markdown",
   "id": "e8695665",
   "metadata": {},
   "source": [
    "Data manipulation is a fundamental step in the data analysis process and involves reshaping, transforming, or otherwise preparing your data for further exploration, analysis, or visualization. When working with pandas dataframes, common data manipulation tasks include subsetting (selecting specific portions of the data), sorting (arranging data in a certain order), and creating new columns (often from existing ones). These operations not only allow for a streamlined analysis process by focusing on relevant data, but also enable the creation of new insights and patterns from the dataset, thus making data manipulation an essential skill in the data scientist's toolbox.\n",
    "\n",
    "To refresh our memory from the last section, you are a data scientist working for a talent agency. The agency is interested in conducting preliminary analysis on the attributes of hit songs to provide actionable insights to its music producers. This will assist them in collaborating with their current artists to produce songs that are likely to become popular. In this section, you'll do basic data manipulation to prepare the data for analysis.\n",
    "  \n",
    "  \n",
    "In this section, we are going to use pandas, so we’ll start by importing that library using an alias here:"
   ]
  },
  {
   "cell_type": "code",
   "execution_count": 1,
   "id": "0657ca7a",
   "metadata": {},
   "outputs": [],
   "source": [
    "import pandas as pd"
   ]
  },
  {
   "cell_type": "markdown",
   "id": "0efffdd6",
   "metadata": {},
   "source": [
    "We also continue from where we left off in the previous section by importing the dataset and applying the changes we made previously:"
   ]
  },
  {
   "cell_type": "code",
   "execution_count": null,
   "id": "f06f4adc",
   "metadata": {},
   "outputs": [],
   "source": [
    "# read CSV file into DataFrame\n",
    "music = pd.read_csv(\"../datasets/spotify-dataset.csv\") \n",
    " \n",
    "# rename column(s)\n",
    "music.rename(columns={'dur':'duration', 'dnce':'dance', 'val':'valence', 'en':'energy', 'acous':'acoustic', 'pop':'popularity'}, inplace=True)\n",
    " \n",
    "# display the first five rows\n",
    "music.head()\n"
   ]
  },
  {
   "cell_type": "markdown",
   "id": "3d831a35",
   "metadata": {},
   "source": [
    "### 1.1 - Subsetting by columns\n"
   ]
  },
  {
   "cell_type": "markdown",
   "id": "1b2e738a-d6a1-40d4-8dc2-05524cc52ee0",
   "metadata": {},
   "source": [
    "DataFrame subsetting is a fundamental concept when working with pandas. The term 'subsetting' refers to the process of selecting specific sections of your DataFrame based on either columns or rows. \n",
    "\n",
    "Why is subsetting important? When dealing with large datasets, we are often interested only in specific portions of the data. Maybe we want to analyze sales in a particular region, or we need to study patterns among a subset of users in a survey. Instead of working with the entire data, which can be computationally expensive, we can subset and focus on the relevant part of the data, making our analysis more efficient and easier to manage.\n",
    "\n",
    "In this section, we'll work with subsetting by columns. In the next section, we'll work with subsetting by rows.\n",
    "\n",
    "To look at subsetting by columns, let's start with a simple DataFrame:"
   ]
  },
  {
   "cell_type": "code",
   "execution_count": 3,
   "id": "898bf0aa-7696-40d4-9096-ea77f0b75a08",
   "metadata": {},
   "outputs": [
    {
     "data": {
      "text/html": [
       "<div>\n",
       "<style scoped>\n",
       "    .dataframe tbody tr th:only-of-type {\n",
       "        vertical-align: middle;\n",
       "    }\n",
       "\n",
       "    .dataframe tbody tr th {\n",
       "        vertical-align: top;\n",
       "    }\n",
       "\n",
       "    .dataframe thead th {\n",
       "        text-align: right;\n",
       "    }\n",
       "</style>\n",
       "<table border=\"1\" class=\"dataframe\">\n",
       "  <thead>\n",
       "    <tr style=\"text-align: right;\">\n",
       "      <th></th>\n",
       "      <th>Name</th>\n",
       "      <th>Age</th>\n",
       "      <th>City</th>\n",
       "    </tr>\n",
       "  </thead>\n",
       "  <tbody>\n",
       "    <tr>\n",
       "      <th>0</th>\n",
       "      <td>Alice</td>\n",
       "      <td>25</td>\n",
       "      <td>New York</td>\n",
       "    </tr>\n",
       "    <tr>\n",
       "      <th>1</th>\n",
       "      <td>Bob</td>\n",
       "      <td>32</td>\n",
       "      <td>London</td>\n",
       "    </tr>\n",
       "    <tr>\n",
       "      <th>2</th>\n",
       "      <td>Charlie</td>\n",
       "      <td>18</td>\n",
       "      <td>Paris</td>\n",
       "    </tr>\n",
       "    <tr>\n",
       "      <th>3</th>\n",
       "      <td>David</td>\n",
       "      <td>47</td>\n",
       "      <td>Berlin</td>\n",
       "    </tr>\n",
       "  </tbody>\n",
       "</table>\n",
       "</div>"
      ],
      "text/plain": [
       "      Name  Age      City\n",
       "0    Alice   25  New York\n",
       "1      Bob   32    London\n",
       "2  Charlie   18     Paris\n",
       "3    David   47    Berlin"
      ]
     },
     "execution_count": 3,
     "metadata": {},
     "output_type": "execute_result"
    }
   ],
   "source": [
    "# Create data lists\n",
    "data = {\n",
    "    'Name': ['Alice', 'Bob', 'Charlie', 'David'],\n",
    "    'Age': [25, 32, 18, 47],\n",
    "    'City': ['New York', 'London', 'Paris', 'Berlin'],\n",
    "}\n",
    "\n",
    "#Create DataFrame\n",
    "simple_df = pd.DataFrame(data)\n",
    "\n",
    "# display DataFrame\n",
    "simple_df"
   ]
  },
  {
   "cell_type": "markdown",
   "id": "fc6eb486-1bf6-465e-9bb9-ce70ba5dc180",
   "metadata": {},
   "source": [
    "To subset by a single column, you can do it by calling the column's name, like this:\n",
    "\n",
    "`df_name = df['column_name']`\n",
    "\n",
    "So for our simple DataFrame:"
   ]
  },
  {
   "cell_type": "code",
   "execution_count": null,
   "id": "c13a444e-6d94-48c6-bfce-4aa6b5fa8863",
   "metadata": {},
   "outputs": [],
   "source": [
    "#subset a single column\n",
    "simple_df_names = simple_df['Name']\n",
    "\n",
    "# display DataFrame to check\n",
    "simple_df_names"
   ]
  },
  {
   "cell_type": "markdown",
   "id": "1cb40e60",
   "metadata": {},
   "source": [
    "The music producers at your agency are mainly concerned with studio-produced electronic dance music (EDM), so you want to limit the dataset for your analysis to columns with information that might affect only the danceability of the songs produced in the studio. Based on their criteria, you look over the data dictionary and conclude that the `acoustic`, `live`, `speech`, and `loud` variables will not be relevant.\n",
    "\n",
    "##### Data Dictionary\n",
    "- title: name of the Track \n",
    "- artist: name of the Artist \n",
    "- year: release year of the track \n",
    "- bpm: beats per minute; the tempo of the song \n",
    "- en: energy; the higher the value, the more energetic a song \n",
    "- dnce: danceability, the higher the value, the easier it is to dance to this song\n",
    "- loud: loudness; the higher the value, the louder the song\n",
    "- val: valence; the higher the value, the more positive mood for the song\n",
    "- dur: duration; length of the song\n",
    "- acous: acoustic; the higher the value the more acoustic the song is\n",
    "- speech: speechiness; the higher the value the more spoken words the song contains \n",
    "- pop: popularity; the higher the value the more popular the song is\n",
    "  \n",
    "We now want to select more than one column, like this:\n",
    "\n",
    "`df_name_subset = df_name[['column_name1', 'column_name2', ..., 'column_nameN']]`\n",
    "\n",
    "* Notice the double brackets:\n",
    "- **Single brackets (`[]`)**: When you use single brackets with a DataFrame, you're accessing a single column. For example, `music['title']` returns a Series object representing the 'title' column.\n",
    "  \n",
    "- **Double brackets (`[[]]`)**: When you want to select multiple columns from a DataFrame, you need to pass a list of column names inside the brackets. The list itself is enclosed in the first set of brackets, and this results in the DataFrame being subset with just the specified columns.\n",
    " \n",
    "Let's make our music DataFrame subset:\n"
   ]
  },
  {
   "cell_type": "code",
   "execution_count": null,
   "id": "a1ab274e",
   "metadata": {},
   "outputs": [],
   "source": [
    "# subset the DataFrame with the columns we want to keep\n",
    "music_subset = music[['title', 'artist', 'year', 'bpm', 'energy', 'dance', 'valence', 'duration', 'popularity']]\n",
    " \n",
    "# display the first five rows\n",
    "music_subset.head()"
   ]
  },
  {
   "cell_type": "markdown",
   "id": "81767629",
   "metadata": {},
   "source": [
    "We can also reorder the columns simply by changing the order of the columns in the list when subsetting. We will redo our subset so that `popularity` and `dance` are the first two columns. That way we see the most pertinent information first:"
   ]
  },
  {
   "cell_type": "code",
   "execution_count": null,
   "id": "ed7fb185",
   "metadata": {},
   "outputs": [],
   "source": [
    "# subset the DataFrame\n",
    "music_subset = music[['popularity', 'dance', 'title', 'artist', 'year', 'bpm', 'energy', 'valence', 'duration']]\n",
    " \n",
    "# display the first five rows\n",
    "music_subset.head()"
   ]
  },
  {
   "cell_type": "markdown",
   "id": "657e34f0-7306-4e81-a804-7c51e74ade08",
   "metadata": {},
   "source": [
    "#### 1.2 Subsetting by Rows\n",
    "\n",
    "Imagine we only want the data of people who are 30 years or older from our simple DataFrame. We're basically saying we want to select only the rows where Age = 30 or above. We do this by writing conditions to specify what we want, like this:"
   ]
  },
  {
   "cell_type": "code",
   "execution_count": null,
   "id": "f3fbf9a1-359e-47dd-93de-cedee3ec598c",
   "metadata": {},
   "outputs": [],
   "source": [
    "# select rows\n",
    "people_over_30 = simple_df[simple_df['Age'] >= 30]\n",
    "\n",
    "# display to check\n",
    "people_over_30"
   ]
  },
  {
   "cell_type": "markdown",
   "id": "c56b0469-8188-4fa5-b362-3473a0b7c758",
   "metadata": {},
   "source": [
    "Luckily, these conditions can be fairly complex to allow us to be specific about what we want. Let's see what our music producers are interested in. Going back to your stakeholder interviews, you found out they were focused on 3 things for your analysis: the music of popular artists, current trends which they define as music from 2010 until now, and a sweet spot for popularity between 95 and 135 BPM. \n",
    "\n",
    "We'll start with selecting the the music of popular artists. We select the rows that match our conditions by writing simple and complex boolean expressions to match individual rows of the dataset.\n",
    "\n",
    "Say you want all the rows with a single artist. You do that by using the `==` operator like this:\n",
    "\n",
    "`new_df = original_df[original_df['column_name'] == 'column_value']`\n",
    "\n",
    "\n",
    "NOTE you can also select all rows except the ones with a particular value using the `!=` operator like this:\n",
    " \n",
    "`new_df = original_df[original_df['column_name'] != 'column_value']`\n",
    "\n",
    "\n",
    "You do some data exploration and realize that most of the artists are not particularly current. You find three that are relatively current and have a decent number of songs in the dataset: Adele, Beyoncé, and P!nk.\n",
    "\n",
    "We'll start by creating a subset with Beyoncé's songs:\n"
   ]
  },
  {
   "cell_type": "code",
   "execution_count": null,
   "id": "a46e6118-fe6b-4d7e-af7f-ec33b32c8017",
   "metadata": {},
   "outputs": [],
   "source": [
    "# select rows\n",
    "music[music['artist'] == 'Beyoncé']"
   ]
  },
  {
   "cell_type": "markdown",
   "id": "bb44d306-a82d-441a-985a-930dd90dc923",
   "metadata": {},
   "source": [
    "But you want a dataet with three artists you say? You combine your conditions with the `&` operator (and), or the `|` operator (or) like this:\n",
    " \n",
    "`new_df = original_df[(original_df['column_name'] == 'column_value') & (original_df['column_name'] == 'column_value')]`\n",
    " \n",
    "It's important to remember that the `&` operator returns True only if both conditions are True. For example, if you're looking for songs that are by the artist 'P!nk' AND from the year 2010, both conditions need to be satisfied for a row to be included in the subset. The `|` operator (or) returns True if at least one of the conditions  is True. For example, if you're looking for songs that are by the artist 'P!nk' OR by the artist 'Adele', a row will be included in the subset if it satisfies either one of these conditions.\n",
    "\n",
    "Let's finish our first subset:"
   ]
  },
  {
   "cell_type": "code",
   "execution_count": null,
   "id": "9529b2ef-7a8d-4e89-a44f-eefb7361a6d4",
   "metadata": {},
   "outputs": [],
   "source": [
    "# select rows\n",
    "popular_artists = music[(music['artist'] == 'P!nk') | (music['artist'] == 'Adele') | (music['artist'] == 'Beyoncé')]\n",
    "\n",
    "# display to check\n",
    "popular_artists"
   ]
  },
  {
   "cell_type": "markdown",
   "id": "8b35d233-7a80-44a3-8aa3-ff1cafd25fc9",
   "metadata": {},
   "source": [
    "Now let's look at the other two conditions that we're interested in: current trends (songs from 2010 or later), and the sweet spot for popularity (songs between 95 and 135 BPM). \n",
    "\n",
    "We don't want to write `|` statements for every value greater than 2010 or between 95 and 135 BPM! Pandas to the rescue again: We can also use the `<`, `>`, `<=`, and `>=` operators:\n",
    " \n",
    "`new_df = original_df[original_df['column_name'] < numerical_value]`\n",
    " \n",
    "`new_df = original_df[original_df['column_name'] <= numerical_value]`\n",
    " \n",
    "First let's select all rows with songs released in 2010 or later:"
   ]
  },
  {
   "cell_type": "code",
   "execution_count": null,
   "id": "41d4aee1-02a7-4e44-9ded-f419a5fbeab4",
   "metadata": {},
   "outputs": [],
   "source": [
    "# select rows \n",
    "music_2010_on = music[music[\"year\"] >= 2010]\n",
    " \n",
    "# display to check\n",
    "music_2010_on"
   ]
  },
  {
   "cell_type": "markdown",
   "id": "d4ffab38-7eea-443f-8cfe-f4fe8e0439ee",
   "metadata": {},
   "source": [
    "Now we'll select rows with songs between 95 and 135 BPM. We will use multiple conditions for this:\n"
   ]
  },
  {
   "cell_type": "code",
   "execution_count": null,
   "id": "a7096978-b522-42d2-b5b4-bce7bc98c373",
   "metadata": {},
   "outputs": [],
   "source": [
    "# select rows \n",
    "music_95_135_bpm = music[(music[\"bpm\"] >= 95) & (music[\"bpm\"] <= 135)]\n",
    " \n",
    "# display to check\n",
    "music_95_135_bpm\n"
   ]
  },
  {
   "cell_type": "markdown",
   "id": "4c71ac6a",
   "metadata": {},
   "source": [
    "### 1.3\tSorting Dataframes"
   ]
  },
  {
   "cell_type": "markdown",
   "id": "e3589ac8",
   "metadata": {},
   "source": [
    "Since our project is about the attributes of hit songs, it makes sense to highlight the data for the most popular songs. In this section, we'll sort by popularity so the most popular songs are at the top of the dataset. This makes it easier for the producers to read through the list of songs. \n",
    "\n",
    "The method used to sort a dataframe is `sort_values()` and it is used liked this:\n",
    "\n",
    "`df_name.sort_values(by=['variable_name'])`\n",
    "\n",
    "Let's sort by popularity:"
   ]
  },
  {
   "cell_type": "code",
   "execution_count": null,
   "id": "f83d7c65",
   "metadata": {},
   "outputs": [],
   "source": [
    "# sort column(s) values\n",
    "music.sort_values(by = ['popularity'])"
   ]
  },
  {
   "cell_type": "markdown",
   "id": "c3c45fc7",
   "metadata": {},
   "source": [
    "Wait a minute! All the least popular songs are at the top. That's not what we want. By default, the `sort_values()` method sorts the rows in ascending order, i.e., from smallest to largest for numbers, earliest to latest for dates, and alphabetically for strings. We want to sort  in descending order, i.e., from larger to smaller for numbers, from latest to earliest for dates, and reverse alphabetically for strings.  To do this, you set the ascending parameter to False, like this:\n",
    "\n",
    "`df_name.sort_values(by=['variable_name'], ascending=[False])`\n",
    "\n",
    " \n",
    "Let's sort by popularity with the most popular song at the top:"
   ]
  },
  {
   "cell_type": "code",
   "execution_count": null,
   "id": "61e8b6fd",
   "metadata": {},
   "outputs": [],
   "source": [
    "# sort descending\n",
    "music.sort_values(by = ['popularity'], ascending=[False])\n"
   ]
  },
  {
   "cell_type": "markdown",
   "id": "3af4ad6c",
   "metadata": {},
   "source": [
    "The `sort_values()` method accepts a list of column names in its by parameter, enabling multi-column sorting. The columns are sorted in the order they appear in this list.\n",
    "\n",
    "The first column in the list becomes the primary sorting column. The sorting starts with this column. Then, for each group of identical values in this primary column, the second column in the list is sorted, and so on. This forms a hierarchy of sorts.\n",
    "\n",
    "In addition, pandas allows you to specify the sort order—either ascending or descending—for each column independently. For instance, you could sort the first column in ascending order, but then within each group of identical values in the first column, sort the second column in descending order. This flexibility allows for detailed and custom sorting of your data.\n",
    "\n",
    "  To ensure that the danceability metric is sorted after the popularity metric, we apply the `sort_values()` method again using the `dance` column as the second sort condition:\n"
   ]
  },
  {
   "cell_type": "code",
   "execution_count": null,
   "id": "b4ab641c",
   "metadata": {},
   "outputs": [],
   "source": [
    "# sort column(s) values\n",
    "music.sort_values(by=['popularity','dance'], ascending=[False, False])"
   ]
  },
  {
   "cell_type": "markdown",
   "id": "0c03469b",
   "metadata": {},
   "source": [
    "### 1.4 Adding columns to a DataFrame\n",
    "\n",
    "\n",
    "Adding columns (variables) to a DataFrame is a common operation. It's similar to the process of adding a new field to a database or a new column in a spreadsheet. One of the main ways to to add new variables is by transforming existing variables.\n",
    "\n",
    "When analyzing data, we often need to create new features based on existing ones. For example, in the `music` DataFrame, you might want to convert song duration from seconds to minutes. "
   ]
  },
  {
   "cell_type": "code",
   "execution_count": null,
   "id": "78c562d4-4c3b-4806-9fed-3bf97ecc8f2b",
   "metadata": {},
   "outputs": [],
   "source": [
    "# convert data from seconds into minutes\n",
    "music['duration'] = music['duration'] / 60\n",
    "\n",
    "# display to check\n",
    "music.head()"
   ]
  },
  {
   "cell_type": "markdown",
   "id": "040fdfcd-c677-4d8b-9aca-c95bde978b54",
   "metadata": {},
   "source": [
    "You also might want to create new categorical variables. For example, your stakeholders are mostly interested in what we might call high energy music. Therefore, we might want to transform the continuous variable `energy` to a categorical variable `energy level` which classifies the song as high (energy level of 68-100), medium (energy level of 34-67), or low (energy level of 0-33). We’ll use the `cut()` method like this:\n",
    "\n",
    "First, define bins for your categorical values.\n",
    "\n",
    "`bins = [n, n, n, n]`\n",
    "\n",
    "Next define labels for the groups\n",
    "\n",
    "`labels = ['label1', 'label2', 'label3']`\n",
    "\n",
    "Finally, create your new column.\n",
    "\n",
    "`df_name['variable_name'] = pd.cut(df_name['variable_name'], bins=bins, labels=labels, include_lowest=True)`\n",
    "\n",
    "The parameter `include_lowest=True` makes the first interval closed on the left, meaning it includes the lower bound, so e.g., 34 is categorized as medium, not low.\n",
    "\n",
    "\n",
    "Let’s create `energy level`:"
   ]
  },
  {
   "cell_type": "code",
   "execution_count": null,
   "id": "053fdb79-17ef-430b-9e9f-c74e22914206",
   "metadata": {},
   "outputs": [],
   "source": [
    "# Define bins for 'low', 'medium', 'high'\n",
    "bins = [0, 33, 67, 100]\n",
    "\n",
    "# Define labels for the three energy level groups\n",
    "labels = ['low', 'medium', 'high']\n",
    "\n",
    "# Create new column 'energy_level' \n",
    "music['energy_level'] = pd.cut(music['energy'], bins=bins, labels=labels, include_lowest=True)\n",
    "# display to check\n",
    "music.head()"
   ]
  },
  {
   "cell_type": "markdown",
   "id": "7632af8d-5cbf-413b-9157-2b9f2039dcdc",
   "metadata": {},
   "source": [
    "Another common way to add new variables is to add data to the DataFrame by incorporating data from other DataFrames.\n",
    "\n",
    "As you've begun your data exploration of the music dataset, you've been talking to your stakeholders. One question that keeps coming up as you discuss the data with music producers is \"What about genre?\" Several of them pointed out that understanding the attributes of hit songs across different genres gives them key insights into what makes a song popular. \n",
    "\n",
    "Luckily, one of your colleagues has created a companion CSV file, `spotify-dataset-genre.csv` containing genre information for all the songs in the original `spotify-dataset.csv` file. Let's import that CSV file now:\n"
   ]
  },
  {
   "cell_type": "code",
   "execution_count": null,
   "id": "7d243402",
   "metadata": {
    "scrolled": true
   },
   "outputs": [],
   "source": [
    "# read CSV file into DataFrame\n",
    "genre = pd.read_csv(\"../datasets/spotify-dataset-genre.csv\")\n",
    "\n",
    "# display the first five rows\n",
    "genre.head()"
   ]
  },
  {
   "cell_type": "markdown",
   "id": "412a1cbe",
   "metadata": {},
   "source": [
    "We see that the `genre` DataFrame has the same song titles and artist names as the `music` DataFrame plus the variable `genre`. So how do we add the `genre` variable to the `music` DataFrame? We can add a column like this:\n",
    "\n",
    "`df_name['new_column_name'] = source_df['source_column_name']`\n",
    "\n",
    "Let's add the `genre` variable to the data from the `music` DataFrame. First, we'll create a copy of the original DataFrame using the `copy()` method. This provides a separate DataFrame that you can modify without affecting the original data:"
   ]
  },
  {
   "cell_type": "code",
   "execution_count": null,
   "id": "29c82dc2",
   "metadata": {
    "scrolled": true
   },
   "outputs": [],
   "source": [
    "# make a copy\n",
    "music_genre = music.copy()\n",
    "\n",
    "# add a new column \n",
    "music_genre['genre'] = genre['genre']\n",
    " \n",
    "# # display the first five rows\n",
    "music_genre.head()"
   ]
  },
  {
   "cell_type": "code",
   "execution_count": null,
   "id": "8b616c00-3fe6-4a96-93e8-468bd2fc7134",
   "metadata": {},
   "outputs": [],
   "source": []
  }
 ],
 "metadata": {
  "environment": {
   "kernel": "python3",
   "name": "common-cpu.m87",
   "type": "gcloud",
   "uri": "gcr.io/deeplearning-platform-release/base-cpu:m87"
  },
  "kernelspec": {
   "display_name": "Python 3",
   "language": "python",
   "name": "python3"
  },
  "language_info": {
   "codemirror_mode": {
    "name": "ipython",
    "version": 3
   },
   "file_extension": ".py",
   "mimetype": "text/x-python",
   "name": "python",
   "nbconvert_exporter": "python",
   "pygments_lexer": "ipython3",
   "version": "3.11.5"
  }
 },
 "nbformat": 4,
 "nbformat_minor": 5
}
