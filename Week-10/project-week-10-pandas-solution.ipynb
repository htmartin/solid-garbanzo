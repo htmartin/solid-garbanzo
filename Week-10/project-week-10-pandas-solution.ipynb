{
 "cells": [
  {
   "cell_type": "markdown",
   "id": "0047d5fa-998b-4b10-a6a2-6da1797b7f39",
   "metadata": {},
   "source": [
    "# Extraterrestrial Diplomatic Service Project"
   ]
  },
  {
   "cell_type": "markdown",
   "id": "1d54da58-38c1-44c7-8999-d577ceb49bfa",
   "metadata": {},
   "source": [
    "#### The Problem Statement\n",
    "\n",
    "It's 2733, and you are a data scientist for the Extraterrestrial Diplomatic Service. The Service is regularly tasked with providing guidance to the Galactic Council on potential trade and business relations with extraterrestrial civilizations. This analysis helps the Council in understanding the potential for fruitful collaborations.\n",
    "\n",
    "At the annual meeting of the Extraterrestrial Diplomatic Service, presenters highlighted the success of several joint space missions conducted in collaboration with extraterrestrial civilizations. They suggested that these past achievements could indicate potential for expanding partnerships into areas such as trade and business. They wondered what other characteristics of extraterrestrial civilizations could serve as predictors of future successful partnerships.\n",
    "\n",
    "**Your job** is to do EDA with the dataset to begin this analysis.\n",
    "**The goal** is to create a report that:\n",
    "1. Recommends variables that could serve as predictors of future successful partnerships to the council.\n",
    "2. Backs up your suggestions with numerical data and graphs.\n",
    "\n",
    "- Your dataset, `extraterrestrial_civilizations.csv` has a randomly selected set of 50 civilizations' information for the following variables:\n",
    "\n",
    "`Name_of_civilzation`: The civilization's name\n",
    "\n",
    "`Years_since_first_contact`: Number of years since humanity first made contact with this civilization. (0-300)\n",
    "\n",
    "`Technological_progress`: A measure of the civilization's overall technological progress on a scale from 1 to 100.\n",
    "\n",
    "`Diplomatic_relations_index`: A measure of diplomatic relations between Earth and the civilization on a scale from 1 to 10, with higher values indicating more positive relations.\n",
    "\n",
    "`Cultural_exchange_index`: A measure of the degree of cultural exchange between Earth and the  civilization on a scale from 1 to 10, with higher values indicating more exchange.\n",
    "\n",
    "`Joint_space_missions`: The number of joint space missions between Earth and the civilization.\n",
    "\n",
    "`Hostility_to_Earth_Index`: A measure of the civilization's hostility to Earth on a scale from 1 to 10, with higher values indicating more hostility.\n",
    "\n",
    "`Degree_of_positive_contact`: A continuous variable measuring the degree of positive  contact with Earth on a scale from 1 to 100, with higher values indicating more positive contact.\n",
    "\n"
   ]
  },
  {
   "cell_type": "markdown",
   "id": "29a1ddc6-7502-4b5e-bc4c-a71a29ce13b9",
   "metadata": {},
   "source": [
    "### Part I: Getting to know your dataset"
   ]
  },
  {
   "cell_type": "markdown",
   "id": "04583d2d-ebe9-43b7-9c52-a7f4b07d0ce8",
   "metadata": {},
   "source": [
    "### Exercises:"
   ]
  },
  {
   "cell_type": "markdown",
   "id": "cda0a3c8-1e89-4e18-bb6e-cccaf07a9323",
   "metadata": {
    "tags": []
   },
   "source": [
    "#### Exercise 1: Import the data\n",
    "\n",
    "Import  pandas & then read the extraterrestrial_civilizations.csv file into a DataFrame called `et_data`."
   ]
  },
  {
   "cell_type": "code",
   "execution_count": null,
   "id": "95ad4854-35d6-4e17-96ad-b440a3dc70f0",
   "metadata": {},
   "outputs": [],
   "source": [
    "# Import the pandas library.\n",
    "\n",
    "# read the CSV file into a DataFrame\n"
   ]
  },
  {
   "cell_type": "markdown",
   "id": "5cdfb644-c78e-4c95-b640-5bd724880d42",
   "metadata": {},
   "source": [
    "#### Exercise 1 Answer"
   ]
  },
  {
   "cell_type": "code",
   "execution_count": 17,
   "id": "8f736bf5-5db9-475b-9856-6cfbe9c2b33b",
   "metadata": {},
   "outputs": [],
   "source": [
    "import pandas as pd\n",
    "\n",
    "# Read the extraterrestrial_civilizations.csv file into a DataFrame named et_data\n",
    "et_data = pd.read_csv(\"../datasets/Extraterrestrial_civilizations.csv\")\n",
    "\n"
   ]
  },
  {
   "cell_type": "markdown",
   "id": "21623804",
   "metadata": {},
   "source": [
    "#### Exercise 2 - Preview the data\n",
    "\n",
    "View the first ten rows of the DataFrame `et_data`."
   ]
  },
  {
   "cell_type": "code",
   "execution_count": 18,
   "id": "28d28f26",
   "metadata": {},
   "outputs": [],
   "source": [
    "# View the first ten rows"
   ]
  },
  {
   "cell_type": "markdown",
   "id": "503b33fe",
   "metadata": {},
   "source": [
    "#### Exercise 2 Answer"
   ]
  },
  {
   "cell_type": "code",
   "execution_count": 21,
   "id": "45459b4b",
   "metadata": {},
   "outputs": [
    {
     "data": {
      "text/html": [
       "<div>\n",
       "<style scoped>\n",
       "    .dataframe tbody tr th:only-of-type {\n",
       "        vertical-align: middle;\n",
       "    }\n",
       "\n",
       "    .dataframe tbody tr th {\n",
       "        vertical-align: top;\n",
       "    }\n",
       "\n",
       "    .dataframe thead th {\n",
       "        text-align: right;\n",
       "    }\n",
       "</style>\n",
       "<table border=\"1\" class=\"dataframe\">\n",
       "  <thead>\n",
       "    <tr style=\"text-align: right;\">\n",
       "      <th></th>\n",
       "      <th>Name_of_civilzation</th>\n",
       "      <th>Years_since_first_contact</th>\n",
       "      <th>Technological_progress</th>\n",
       "      <th>Diplomatic_relations_index</th>\n",
       "      <th>Cultural_exchange_index</th>\n",
       "      <th>Joint_space_missions</th>\n",
       "      <th>Hostility_to_Earth_Index</th>\n",
       "      <th>Degree_of_positive_contact</th>\n",
       "    </tr>\n",
       "  </thead>\n",
       "  <tbody>\n",
       "    <tr>\n",
       "      <th>0</th>\n",
       "      <td>Venusians</td>\n",
       "      <td>50.0</td>\n",
       "      <td>20.0</td>\n",
       "      <td>7.0</td>\n",
       "      <td>5.0</td>\n",
       "      <td>1.0</td>\n",
       "      <td>3.0</td>\n",
       "      <td>55.0</td>\n",
       "    </tr>\n",
       "    <tr>\n",
       "      <th>1</th>\n",
       "      <td>Gargeleblobs</td>\n",
       "      <td>120.0</td>\n",
       "      <td>85.0</td>\n",
       "      <td>8.0</td>\n",
       "      <td>NaN</td>\n",
       "      <td>12.0</td>\n",
       "      <td>2.0</td>\n",
       "      <td>88.0</td>\n",
       "    </tr>\n",
       "    <tr>\n",
       "      <th>2</th>\n",
       "      <td>Vogons</td>\n",
       "      <td>75.0</td>\n",
       "      <td>50.0</td>\n",
       "      <td>6.0</td>\n",
       "      <td>NaN</td>\n",
       "      <td>4.0</td>\n",
       "      <td>4.0</td>\n",
       "      <td>60.0</td>\n",
       "    </tr>\n",
       "    <tr>\n",
       "      <th>3</th>\n",
       "      <td>Betelgeusians</td>\n",
       "      <td>200.0</td>\n",
       "      <td>90.0</td>\n",
       "      <td>9.0</td>\n",
       "      <td>NaN</td>\n",
       "      <td>15.0</td>\n",
       "      <td>1.0</td>\n",
       "      <td>95.0</td>\n",
       "    </tr>\n",
       "    <tr>\n",
       "      <th>4</th>\n",
       "      <td>Pluvarians</td>\n",
       "      <td>150.0</td>\n",
       "      <td>70.0</td>\n",
       "      <td>7.0</td>\n",
       "      <td>NaN</td>\n",
       "      <td>10.0</td>\n",
       "      <td>3.0</td>\n",
       "      <td>75.0</td>\n",
       "    </tr>\n",
       "    <tr>\n",
       "      <th>5</th>\n",
       "      <td>Xytrons</td>\n",
       "      <td>10.0</td>\n",
       "      <td>30.0</td>\n",
       "      <td>4.0</td>\n",
       "      <td>NaN</td>\n",
       "      <td>0.0</td>\n",
       "      <td>6.0</td>\n",
       "      <td>40.0</td>\n",
       "    </tr>\n",
       "    <tr>\n",
       "      <th>6</th>\n",
       "      <td>Zarblatts</td>\n",
       "      <td>80.0</td>\n",
       "      <td>60.0</td>\n",
       "      <td>14.0</td>\n",
       "      <td>NaN</td>\n",
       "      <td>8.0</td>\n",
       "      <td>2.0</td>\n",
       "      <td>70.0</td>\n",
       "    </tr>\n",
       "    <tr>\n",
       "      <th>7</th>\n",
       "      <td>Kritons</td>\n",
       "      <td>175.0</td>\n",
       "      <td>95.0</td>\n",
       "      <td>9.0</td>\n",
       "      <td>NaN</td>\n",
       "      <td>20.0</td>\n",
       "      <td>1.0</td>\n",
       "      <td>98.0</td>\n",
       "    </tr>\n",
       "    <tr>\n",
       "      <th>8</th>\n",
       "      <td>Qooglians</td>\n",
       "      <td>20.0</td>\n",
       "      <td>25.0</td>\n",
       "      <td>3.0</td>\n",
       "      <td>NaN</td>\n",
       "      <td>1.0</td>\n",
       "      <td>5.0</td>\n",
       "      <td>30.0</td>\n",
       "    </tr>\n",
       "    <tr>\n",
       "      <th>9</th>\n",
       "      <td>Thumbers</td>\n",
       "      <td>100.0</td>\n",
       "      <td>80.0</td>\n",
       "      <td>5.0</td>\n",
       "      <td>NaN</td>\n",
       "      <td>7.0</td>\n",
       "      <td>3.0</td>\n",
       "      <td>83.0</td>\n",
       "    </tr>\n",
       "  </tbody>\n",
       "</table>\n",
       "</div>"
      ],
      "text/plain": [
       "  Name_of_civilzation  Years_since_first_contact  Technological_progress  \\\n",
       "0           Venusians                       50.0                    20.0   \n",
       "1        Gargeleblobs                      120.0                    85.0   \n",
       "2              Vogons                       75.0                    50.0   \n",
       "3       Betelgeusians                      200.0                    90.0   \n",
       "4          Pluvarians                      150.0                    70.0   \n",
       "5             Xytrons                       10.0                    30.0   \n",
       "6           Zarblatts                       80.0                    60.0   \n",
       "7             Kritons                      175.0                    95.0   \n",
       "8           Qooglians                       20.0                    25.0   \n",
       "9            Thumbers                      100.0                    80.0   \n",
       "\n",
       "   Diplomatic_relations_index  Cultural_exchange_index  Joint_space_missions  \\\n",
       "0                         7.0                      5.0                   1.0   \n",
       "1                         8.0                      NaN                  12.0   \n",
       "2                         6.0                      NaN                   4.0   \n",
       "3                         9.0                      NaN                  15.0   \n",
       "4                         7.0                      NaN                  10.0   \n",
       "5                         4.0                      NaN                   0.0   \n",
       "6                        14.0                      NaN                   8.0   \n",
       "7                         9.0                      NaN                  20.0   \n",
       "8                         3.0                      NaN                   1.0   \n",
       "9                         5.0                      NaN                   7.0   \n",
       "\n",
       "   Hostility_to_Earth_Index  Degree_of_positive_contact  \n",
       "0                       3.0                        55.0  \n",
       "1                       2.0                        88.0  \n",
       "2                       4.0                        60.0  \n",
       "3                       1.0                        95.0  \n",
       "4                       3.0                        75.0  \n",
       "5                       6.0                        40.0  \n",
       "6                       2.0                        70.0  \n",
       "7                       1.0                        98.0  \n",
       "8                       5.0                        30.0  \n",
       "9                       3.0                        83.0  "
      ]
     },
     "execution_count": 21,
     "metadata": {},
     "output_type": "execute_result"
    }
   ],
   "source": [
    "# View the first ten rows\n",
    "et_data.head(10)"
   ]
  },
  {
   "cell_type": "markdown",
   "id": "d135fb5e",
   "metadata": {},
   "source": [
    "#### Exercise 3 - Check the dimensions\n",
    "\n",
    "Check the dimensions of the `et_data` DataFrame."
   ]
  },
  {
   "cell_type": "code",
   "execution_count": 1,
   "id": "c6e349a5",
   "metadata": {},
   "outputs": [],
   "source": [
    "# check the dimensions of your DataFrame\n"
   ]
  },
  {
   "cell_type": "markdown",
   "id": "2824191d",
   "metadata": {},
   "source": [
    "#### Exercise 3 Answer"
   ]
  },
  {
   "cell_type": "code",
   "execution_count": null,
   "id": "1d4c810a",
   "metadata": {},
   "outputs": [],
   "source": [
    "# check the dimensions of your DataFrame\n",
    "et_data.shape"
   ]
  },
  {
   "cell_type": "markdown",
   "id": "ad2c4c93-ea7c-4347-b73c-f67b600f6311",
   "metadata": {},
   "source": [
    "#### Exercise 4 Summarize the DataFrame\n",
    "\n",
    "Show a quick summary of the `et_data` DataFrame."
   ]
  },
  {
   "cell_type": "code",
   "execution_count": null,
   "id": "69dd2360-6426-45ce-84d6-17cfae94f52b",
   "metadata": {},
   "outputs": [],
   "source": [
    "# quick summary\n"
   ]
  },
  {
   "cell_type": "markdown",
   "id": "a5b34589-61e6-4d73-9016-144d4d76f5c1",
   "metadata": {},
   "source": [
    "#### Exercise 4 Answer"
   ]
  },
  {
   "cell_type": "code",
   "execution_count": 20,
   "id": "15bae0f3-f7cb-4b38-b27a-2fdaab9339bb",
   "metadata": {},
   "outputs": [
    {
     "data": {
      "text/html": [
       "<div>\n",
       "<style scoped>\n",
       "    .dataframe tbody tr th:only-of-type {\n",
       "        vertical-align: middle;\n",
       "    }\n",
       "\n",
       "    .dataframe tbody tr th {\n",
       "        vertical-align: top;\n",
       "    }\n",
       "\n",
       "    .dataframe thead th {\n",
       "        text-align: right;\n",
       "    }\n",
       "</style>\n",
       "<table border=\"1\" class=\"dataframe\">\n",
       "  <thead>\n",
       "    <tr style=\"text-align: right;\">\n",
       "      <th></th>\n",
       "      <th>Years_since_first_contact</th>\n",
       "      <th>Technological_progress</th>\n",
       "      <th>Diplomatic_relations_index</th>\n",
       "      <th>Cultural_exchange_index</th>\n",
       "      <th>Joint_space_missions</th>\n",
       "      <th>Hostility_to_Earth_Index</th>\n",
       "      <th>Degree_of_positive_contact</th>\n",
       "    </tr>\n",
       "  </thead>\n",
       "  <tbody>\n",
       "    <tr>\n",
       "      <th>count</th>\n",
       "      <td>51.000000</td>\n",
       "      <td>51.000000</td>\n",
       "      <td>51.000000</td>\n",
       "      <td>17.000000</td>\n",
       "      <td>51.000000</td>\n",
       "      <td>51.000000</td>\n",
       "      <td>51.000000</td>\n",
       "    </tr>\n",
       "    <tr>\n",
       "      <th>mean</th>\n",
       "      <td>96.862745</td>\n",
       "      <td>54.784314</td>\n",
       "      <td>6.686275</td>\n",
       "      <td>5.882353</td>\n",
       "      <td>6.784314</td>\n",
       "      <td>11.431373</td>\n",
       "      <td>61.431373</td>\n",
       "    </tr>\n",
       "    <tr>\n",
       "      <th>std</th>\n",
       "      <td>62.088331</td>\n",
       "      <td>25.864504</td>\n",
       "      <td>2.723896</td>\n",
       "      <td>1.363926</td>\n",
       "      <td>5.954204</td>\n",
       "      <td>55.709337</td>\n",
       "      <td>24.976193</td>\n",
       "    </tr>\n",
       "    <tr>\n",
       "      <th>min</th>\n",
       "      <td>5.000000</td>\n",
       "      <td>5.000000</td>\n",
       "      <td>1.000000</td>\n",
       "      <td>3.000000</td>\n",
       "      <td>0.000000</td>\n",
       "      <td>1.000000</td>\n",
       "      <td>8.000000</td>\n",
       "    </tr>\n",
       "    <tr>\n",
       "      <th>25%</th>\n",
       "      <td>47.500000</td>\n",
       "      <td>33.500000</td>\n",
       "      <td>5.000000</td>\n",
       "      <td>5.000000</td>\n",
       "      <td>2.000000</td>\n",
       "      <td>1.000000</td>\n",
       "      <td>41.000000</td>\n",
       "    </tr>\n",
       "    <tr>\n",
       "      <th>50%</th>\n",
       "      <td>90.000000</td>\n",
       "      <td>55.000000</td>\n",
       "      <td>7.000000</td>\n",
       "      <td>6.000000</td>\n",
       "      <td>5.000000</td>\n",
       "      <td>3.000000</td>\n",
       "      <td>62.000000</td>\n",
       "    </tr>\n",
       "    <tr>\n",
       "      <th>75%</th>\n",
       "      <td>145.000000</td>\n",
       "      <td>77.500000</td>\n",
       "      <td>9.000000</td>\n",
       "      <td>7.000000</td>\n",
       "      <td>10.500000</td>\n",
       "      <td>4.000000</td>\n",
       "      <td>81.500000</td>\n",
       "    </tr>\n",
       "    <tr>\n",
       "      <th>max</th>\n",
       "      <td>230.000000</td>\n",
       "      <td>95.000000</td>\n",
       "      <td>14.000000</td>\n",
       "      <td>8.000000</td>\n",
       "      <td>20.000000</td>\n",
       "      <td>400.000000</td>\n",
       "      <td>100.000000</td>\n",
       "    </tr>\n",
       "  </tbody>\n",
       "</table>\n",
       "</div>"
      ],
      "text/plain": [
       "       Years_since_first_contact  Technological_progress  \\\n",
       "count                  51.000000               51.000000   \n",
       "mean                   96.862745               54.784314   \n",
       "std                    62.088331               25.864504   \n",
       "min                     5.000000                5.000000   \n",
       "25%                    47.500000               33.500000   \n",
       "50%                    90.000000               55.000000   \n",
       "75%                   145.000000               77.500000   \n",
       "max                   230.000000               95.000000   \n",
       "\n",
       "       Diplomatic_relations_index  Cultural_exchange_index  \\\n",
       "count                   51.000000                17.000000   \n",
       "mean                     6.686275                 5.882353   \n",
       "std                      2.723896                 1.363926   \n",
       "min                      1.000000                 3.000000   \n",
       "25%                      5.000000                 5.000000   \n",
       "50%                      7.000000                 6.000000   \n",
       "75%                      9.000000                 7.000000   \n",
       "max                     14.000000                 8.000000   \n",
       "\n",
       "       Joint_space_missions  Hostility_to_Earth_Index  \\\n",
       "count             51.000000                 51.000000   \n",
       "mean               6.784314                 11.431373   \n",
       "std                5.954204                 55.709337   \n",
       "min                0.000000                  1.000000   \n",
       "25%                2.000000                  1.000000   \n",
       "50%                5.000000                  3.000000   \n",
       "75%               10.500000                  4.000000   \n",
       "max               20.000000                400.000000   \n",
       "\n",
       "       Degree_of_positive_contact  \n",
       "count                   51.000000  \n",
       "mean                    61.431373  \n",
       "std                     24.976193  \n",
       "min                      8.000000  \n",
       "25%                     41.000000  \n",
       "50%                     62.000000  \n",
       "75%                     81.500000  \n",
       "max                    100.000000  "
      ]
     },
     "execution_count": 20,
     "metadata": {},
     "output_type": "execute_result"
    }
   ],
   "source": [
    "# quick summary\n",
    "et_data.describe()"
   ]
  },
  {
   "cell_type": "markdown",
   "id": "a97f9bc4-e6f5-408e-a6ae-9a6c4272b538",
   "metadata": {},
   "source": [
    "### Stop & Smell the Roses\n",
    "\n",
    "List 3 things you notice or find interesting about the dataset so far:\n",
    "1.\n",
    "2.\n",
    "3.\n"
   ]
  },
  {
   "cell_type": "markdown",
   "id": "82d0ef0b-911e-4469-81bf-b6db3834ceb3",
   "metadata": {},
   "source": [
    "### Part II: Manipulating your DataFrame"
   ]
  },
  {
   "cell_type": "markdown",
   "id": "ed18ee90-1a9d-4e24-8ec3-56a3afe23972",
   "metadata": {},
   "source": [
    "#### Exercise 1: Subsetting by columns\n",
    "\n",
    "Create a subset of the `et_data` DataFrame with the variables (columns) that you think might be most important for your analysis."
   ]
  },
  {
   "cell_type": "code",
   "execution_count": null,
   "id": "4ab62d2a-4eb9-4f09-bbbd-b664f158f565",
   "metadata": {},
   "outputs": [],
   "source": [
    "#Student Code Here\n",
    "\n",
    "\n",
    "# Create a subset\n"
   ]
  },
  {
   "cell_type": "markdown",
   "id": "b0027150-4109-4658-897a-239921bce25c",
   "metadata": {},
   "source": [
    "#### Answers will vary\n",
    "\n",
    "\n",
    "General code format:\n",
    "\n",
    "```\n",
    "# subset the DataFrame\n",
    "_________ = et_data[[ '___' , '___' , ..., '___']]\n",
    "```"
   ]
  },
  {
   "cell_type": "markdown",
   "id": "38132bcf-827f-44ee-9b8b-59ef44ed254e",
   "metadata": {},
   "source": [
    "#### Exercise 2: Subsetting by rows\n",
    "\n",
    "The Council is most interested in looking at civilizations who have made contact relatively recently and have advanced technology. Select civilizations with a score in the bottom 25% of the values for `Years_since_first_contact` and civilizations with a `Technological_progress` score of 7 or higher."
   ]
  },
  {
   "cell_type": "code",
   "execution_count": 23,
   "id": "f98a4a28-304f-4946-af8a-0d9014bc86a4",
   "metadata": {},
   "outputs": [],
   "source": [
    "#Student Code Here\n",
    "\n",
    "# Calculate the threshold for the bottom 25% of 'Years_since_first_contact'\n",
    "\n",
    "# Filter based on the conditions\n",
    "\n",
    "# Check that changes have been made with describe()\n",
    "\n"
   ]
  },
  {
   "cell_type": "markdown",
   "id": "34eae2ab-9fe5-4f33-bb63-9edca82d38fe",
   "metadata": {},
   "source": [
    "#### Exercise 2 Answer\n"
   ]
  },
  {
   "cell_type": "code",
   "execution_count": 26,
   "id": "792e59e0-449d-44a8-8862-23ff10dc8e1d",
   "metadata": {},
   "outputs": [
    {
     "data": {
      "text/html": [
       "<div>\n",
       "<style scoped>\n",
       "    .dataframe tbody tr th:only-of-type {\n",
       "        vertical-align: middle;\n",
       "    }\n",
       "\n",
       "    .dataframe tbody tr th {\n",
       "        vertical-align: top;\n",
       "    }\n",
       "\n",
       "    .dataframe thead th {\n",
       "        text-align: right;\n",
       "    }\n",
       "</style>\n",
       "<table border=\"1\" class=\"dataframe\">\n",
       "  <thead>\n",
       "    <tr style=\"text-align: right;\">\n",
       "      <th></th>\n",
       "      <th>Years_since_first_contact</th>\n",
       "      <th>Technological_progress</th>\n",
       "    </tr>\n",
       "  </thead>\n",
       "  <tbody>\n",
       "    <tr>\n",
       "      <th>count</th>\n",
       "      <td>12.000000</td>\n",
       "      <td>12.000000</td>\n",
       "    </tr>\n",
       "    <tr>\n",
       "      <th>mean</th>\n",
       "      <td>25.416667</td>\n",
       "      <td>28.666667</td>\n",
       "    </tr>\n",
       "    <tr>\n",
       "      <th>std</th>\n",
       "      <td>11.171867</td>\n",
       "      <td>15.423320</td>\n",
       "    </tr>\n",
       "    <tr>\n",
       "      <th>min</th>\n",
       "      <td>10.000000</td>\n",
       "      <td>10.000000</td>\n",
       "    </tr>\n",
       "    <tr>\n",
       "      <th>25%</th>\n",
       "      <td>18.750000</td>\n",
       "      <td>18.000000</td>\n",
       "    </tr>\n",
       "    <tr>\n",
       "      <th>50%</th>\n",
       "      <td>25.000000</td>\n",
       "      <td>25.000000</td>\n",
       "    </tr>\n",
       "    <tr>\n",
       "      <th>75%</th>\n",
       "      <td>31.250000</td>\n",
       "      <td>34.750000</td>\n",
       "    </tr>\n",
       "    <tr>\n",
       "      <th>max</th>\n",
       "      <td>45.000000</td>\n",
       "      <td>63.000000</td>\n",
       "    </tr>\n",
       "  </tbody>\n",
       "</table>\n",
       "</div>"
      ],
      "text/plain": [
       "       Years_since_first_contact  Technological_progress\n",
       "count                  12.000000               12.000000\n",
       "mean                   25.416667               28.666667\n",
       "std                    11.171867               15.423320\n",
       "min                    10.000000               10.000000\n",
       "25%                    18.750000               18.000000\n",
       "50%                    25.000000               25.000000\n",
       "75%                    31.250000               34.750000\n",
       "max                    45.000000               63.000000"
      ]
     },
     "execution_count": 26,
     "metadata": {},
     "output_type": "execute_result"
    }
   ],
   "source": [
    "# Selecting civilizations in the bottom 25% for 'Years_since_first_contact' and with 'Technological_progress' of 7 or higher\n",
    "\n",
    "# Calculate the threshold for the bottom 25% of 'Years_since_first_contact'\n",
    "years_threshold = et_data['Years_since_first_contact'].quantile(0.25)\n",
    "\n",
    "# Filter based on the conditions\n",
    "filtered_civilizations = et_data[\n",
    "    (et_data['Years_since_first_contact'] <= years_threshold) & \n",
    "    (et_data['Technological_progress'] >= 7)\n",
    "]\n",
    "\n",
    "# Check that changes have been made with describe()\n",
    "filtered_civilizations[['Years_since_first_contact', 'Technological_progress']].describe()"
   ]
  },
  {
   "cell_type": "markdown",
   "id": "89f77def-a03f-45cb-b748-6f43c4a8209e",
   "metadata": {},
   "source": [
    "### Stop & Smell the Roses\n",
    "\n",
    "- Are there ways that you think you'll want to manipulate or transform your data for analysis?\n",
    "- List them or go ahead and do them. "
   ]
  },
  {
   "cell_type": "markdown",
   "id": "a9c46941-030e-408d-954a-7e15c143faed",
   "metadata": {},
   "source": [
    "### Part III: Descriptive Statistics"
   ]
  },
  {
   "cell_type": "markdown",
   "id": "febcd149-824b-4be9-b606-53bf2d9ae9ae",
   "metadata": {},
   "source": [
    "#### Exercise 1 \n",
    "\n",
    "\n",
    "The `value_counts()` method gives frequency counts for qualitative variables, so it doesn't make a lot of sense to use it on the et_data dataset. To try it out, import `zorga_animals.csv` as `zorga_animals` and find out how many animals live in each type of habitat on Zorga? "
   ]
  },
  {
   "cell_type": "code",
   "execution_count": null,
   "id": "9ef3d43c-ae8b-4b6e-9acc-725f6c96aae1",
   "metadata": {},
   "outputs": [],
   "source": [
    "#Student Code here\n",
    "\n",
    "# output the frequency of value occurrences in column\n",
    "# Output summary value "
   ]
  },
  {
   "cell_type": "markdown",
   "id": "e68b390d-c1c0-4816-b4f8-6dbd0628e6e4",
   "metadata": {},
   "source": [
    "#### Exercise 1 Answer"
   ]
  },
  {
   "cell_type": "code",
   "execution_count": 25,
   "id": "539588d8-dca0-478c-999f-2f2aafa1dbc6",
   "metadata": {},
   "outputs": [
    {
     "data": {
      "text/plain": [
       "Habitat\n",
       "Zero Gravity Sky       11\n",
       "Volcanic Mountains      6\n",
       "Underground Caves       6\n",
       "Lush Forests            6\n",
       "High Gravity Plains     5\n",
       "Frozen Tundra           5\n",
       "Gas Swamps              5\n",
       "Methane Oceans          3\n",
       "Desert Plains           3\n",
       "Name: count, dtype: int64"
      ]
     },
     "execution_count": 25,
     "metadata": {},
     "output_type": "execute_result"
    }
   ],
   "source": [
    "# read CSV file into DataFrame\n",
    "zorga_animals = pd.read_csv(\"../datasets/zorga_animals.csv\")\n",
    " \n",
    "\n",
    "# output the frequency of value occurrences in column\n",
    "zorga_animals['Habitat'].value_counts()"
   ]
  },
  {
   "cell_type": "markdown",
   "id": "ecf40a92-a3a5-4f28-ac44-d52940d5298a",
   "metadata": {},
   "source": [
    "#### Exercise 2\n",
    "\n",
    "How long ago did Earth make contact with the first civilization contacted in this dataset?"
   ]
  },
  {
   "cell_type": "code",
   "execution_count": null,
   "id": "d1752d32-bb22-4868-b0fd-1060939922d9",
   "metadata": {},
   "outputs": [],
   "source": [
    "#Student Code here\n",
    "\n",
    "# Output summary value "
   ]
  },
  {
   "cell_type": "markdown",
   "id": "454d567b-332b-4dba-8392-087c207049cc",
   "metadata": {},
   "source": [
    "#### Exercise 2 Answer\n"
   ]
  },
  {
   "cell_type": "code",
   "execution_count": 27,
   "id": "8343aa8d-d6af-4a5f-a966-20ba5e4ac29d",
   "metadata": {},
   "outputs": [
    {
     "data": {
      "text/plain": [
       "np.float64(230.0)"
      ]
     },
     "execution_count": 27,
     "metadata": {},
     "output_type": "execute_result"
    }
   ],
   "source": [
    "# output summary value \n",
    "et_data['Years_since_first_contact'].max()"
   ]
  },
  {
   "cell_type": "markdown",
   "id": "edf5440d-a601-445a-8355-a57402203895",
   "metadata": {},
   "source": [
    "#### Exercise 3\n",
    "\n",
    "What is the extent of positive relations that the average civilization maintains with Earth?"
   ]
  },
  {
   "cell_type": "code",
   "execution_count": null,
   "id": "211212a2-d106-49e8-b108-0e15af44f383",
   "metadata": {},
   "outputs": [],
   "source": [
    "#Student Code here\n",
    "\n",
    "# Output summary value "
   ]
  },
  {
   "cell_type": "markdown",
   "id": "899d73b1-e022-4321-b591-bb49696ec424",
   "metadata": {},
   "source": [
    "#### Exercise 3 Answer\n"
   ]
  },
  {
   "cell_type": "code",
   "execution_count": 30,
   "id": "83670d3e-6fea-498d-a51b-a735f331f335",
   "metadata": {},
   "outputs": [
    {
     "data": {
      "text/plain": [
       "np.float64(61.431372549019606)"
      ]
     },
     "execution_count": 30,
     "metadata": {},
     "output_type": "execute_result"
    }
   ],
   "source": [
    "# output summary value \n",
    "et_data['Degree_of_positive_contact'].mean()"
   ]
  },
  {
   "cell_type": "markdown",
   "id": "26b17975-cb88-4d9f-af00-cf36dbdf5125",
   "metadata": {},
   "source": [
    "#### Exercise 4\n",
    "\n",
    "What are the characteristics of the most hostile civilizations?"
   ]
  },
  {
   "cell_type": "code",
   "execution_count": null,
   "id": "cf1de6e5-245e-4e39-976e-79738ac0d0a6",
   "metadata": {},
   "outputs": [],
   "source": [
    "#Student Code here\n",
    "\n",
    "# Create variable\n",
    "\n",
    "# groupby\n",
    "\n",
    "# display to check\n"
   ]
  },
  {
   "cell_type": "markdown",
   "id": "56165eda-ab9f-48d4-b975-d9d4a0bbe91b",
   "metadata": {},
   "source": [
    "#### Exercise 4 Answer"
   ]
  },
  {
   "cell_type": "code",
   "execution_count": null,
   "id": "451a8789-1085-4c65-949a-c9330f5f9ab5",
   "metadata": {},
   "outputs": [],
   "source": [
    "# Create variable\n",
    "et_data['hostility_range'] = pd.cut(et_data['Hostility_to_Earth_Index'], bins=[0, 3.3, 6.6, 10], labels=['Low', 'Medium', 'High'])\n",
    "\n",
    "\n",
    "# groupby\n",
    "mean_characteristics_by_hostility = et_data.groupby('hostility_range')[['Years_since_first_contact', 'Technological_progress', 'Diplomatic_relations_index', 'Cultural_exchange_index', 'Joint_space_missions']].mean()\n",
    "\n",
    "\n",
    "# display to check\n",
    "mean_characteristics_by_hostility"
   ]
  }
 ],
 "metadata": {
  "environment": {
   "kernel": "python3",
   "name": "common-cpu.m87",
   "type": "gcloud",
   "uri": "gcr.io/deeplearning-platform-release/base-cpu:m87"
  },
  "kernelspec": {
   "display_name": "Python 3 (ipykernel)",
   "language": "python",
   "name": "python3"
  },
  "language_info": {
   "codemirror_mode": {
    "name": "ipython",
    "version": 3
   },
   "file_extension": ".py",
   "mimetype": "text/x-python",
   "name": "python",
   "nbconvert_exporter": "python",
   "pygments_lexer": "ipython3",
   "version": "3.11.9"
  }
 },
 "nbformat": 4,
 "nbformat_minor": 5
}
