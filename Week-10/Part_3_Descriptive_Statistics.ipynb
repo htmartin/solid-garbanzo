{
 "cells": [
  {
   "cell_type": "markdown",
   "id": "0047d5fa-998b-4b10-a6a2-6da1797b7f39",
   "metadata": {},
   "source": [
    "# Descriptive Statistics"
   ]
  },
  {
   "cell_type": "markdown",
   "id": "a55df82c-c1ab-4dd5-b6b1-f1a7e0666264",
   "metadata": {
    "tags": []
   },
   "source": [
    "In data science, it's really important to be able to take a lot of information and condense it into a single bit of info you can communicate quickly. This process is kind of like taking a large book and creating a one-sentence summary of it. One way we do this is through something called aggregation.\n",
    "\n",
    "Aggregation lets us take lots of data, sort it into different groups, and then come up with a single number (like an average or a total) that tells us something about each group. This helps us understand the whole set of data better, or compare different groups to see how they're different or similar.\n",
    "\n",
    "In the course of your exploratory data project on popular songs, different stakeholders have asked you all sorts of questions. What's the most popular song? How fast are the songs of the 10 most popular artists? How have the characteristics of popular songs changed over time? It feels like their lists will never end! :-) Pandas' handy methods for aggregation are here to help!\n",
    " \n",
    " \n",
    "We’ll start by importing pandas:"
   ]
  },
  {
   "cell_type": "code",
   "execution_count": 1,
   "id": "1cf47d6f-a39a-4dfc-80e7-37e26eb85f54",
   "metadata": {},
   "outputs": [],
   "source": [
    "import pandas as pd"
   ]
  },
  {
   "cell_type": "markdown",
   "id": "340b158d-a070-4a52-a05f-f71c1823e2a9",
   "metadata": {},
   "source": [
    "We saved the file with all your changes from the last section as `music_for_analysis.csv` so let's import that now:\n"
   ]
  },
  {
   "cell_type": "code",
   "execution_count": 2,
   "id": "93e0a61c-228f-4e5f-8002-5beb97448eff",
   "metadata": {},
   "outputs": [
    {
     "data": {
      "text/html": [
       "<div>\n",
       "<style scoped>\n",
       "    .dataframe tbody tr th:only-of-type {\n",
       "        vertical-align: middle;\n",
       "    }\n",
       "\n",
       "    .dataframe tbody tr th {\n",
       "        vertical-align: top;\n",
       "    }\n",
       "\n",
       "    .dataframe thead th {\n",
       "        text-align: right;\n",
       "    }\n",
       "</style>\n",
       "<table border=\"1\" class=\"dataframe\">\n",
       "  <thead>\n",
       "    <tr style=\"text-align: right;\">\n",
       "      <th></th>\n",
       "      <th>Unnamed: 0</th>\n",
       "      <th>title</th>\n",
       "      <th>artist</th>\n",
       "      <th>year</th>\n",
       "      <th>bpm</th>\n",
       "      <th>energy</th>\n",
       "      <th>dance</th>\n",
       "      <th>valence</th>\n",
       "      <th>duration</th>\n",
       "      <th>popularity</th>\n",
       "      <th>genre</th>\n",
       "    </tr>\n",
       "  </thead>\n",
       "  <tbody>\n",
       "    <tr>\n",
       "      <th>0</th>\n",
       "      <td>0</td>\n",
       "      <td>Sunrise</td>\n",
       "      <td>Norah Jones</td>\n",
       "      <td>2004</td>\n",
       "      <td>157</td>\n",
       "      <td>30</td>\n",
       "      <td>53</td>\n",
       "      <td>68</td>\n",
       "      <td>3.350000</td>\n",
       "      <td>71</td>\n",
       "      <td>adult standards</td>\n",
       "    </tr>\n",
       "    <tr>\n",
       "      <th>1</th>\n",
       "      <td>1</td>\n",
       "      <td>Black Night</td>\n",
       "      <td>Deep Purple</td>\n",
       "      <td>2000</td>\n",
       "      <td>135</td>\n",
       "      <td>79</td>\n",
       "      <td>50</td>\n",
       "      <td>81</td>\n",
       "      <td>3.450000</td>\n",
       "      <td>39</td>\n",
       "      <td>album rock</td>\n",
       "    </tr>\n",
       "    <tr>\n",
       "      <th>2</th>\n",
       "      <td>2</td>\n",
       "      <td>Clint Eastwood</td>\n",
       "      <td>Gorillaz</td>\n",
       "      <td>2001</td>\n",
       "      <td>168</td>\n",
       "      <td>69</td>\n",
       "      <td>66</td>\n",
       "      <td>52</td>\n",
       "      <td>5.683333</td>\n",
       "      <td>69</td>\n",
       "      <td>alternative hip hop</td>\n",
       "    </tr>\n",
       "    <tr>\n",
       "      <th>3</th>\n",
       "      <td>3</td>\n",
       "      <td>The Pretender</td>\n",
       "      <td>Foo Fighters</td>\n",
       "      <td>2007</td>\n",
       "      <td>173</td>\n",
       "      <td>96</td>\n",
       "      <td>43</td>\n",
       "      <td>37</td>\n",
       "      <td>4.483333</td>\n",
       "      <td>76</td>\n",
       "      <td>alternative metal</td>\n",
       "    </tr>\n",
       "    <tr>\n",
       "      <th>4</th>\n",
       "      <td>4</td>\n",
       "      <td>Waitin' On A Sunny Day</td>\n",
       "      <td>Bruce Springsteen</td>\n",
       "      <td>2002</td>\n",
       "      <td>106</td>\n",
       "      <td>82</td>\n",
       "      <td>58</td>\n",
       "      <td>87</td>\n",
       "      <td>4.266667</td>\n",
       "      <td>59</td>\n",
       "      <td>classic rock</td>\n",
       "    </tr>\n",
       "  </tbody>\n",
       "</table>\n",
       "</div>"
      ],
      "text/plain": [
       "   Unnamed: 0                   title             artist  year  bpm  energy  \\\n",
       "0           0                 Sunrise        Norah Jones  2004  157      30   \n",
       "1           1             Black Night        Deep Purple  2000  135      79   \n",
       "2           2          Clint Eastwood           Gorillaz  2001  168      69   \n",
       "3           3           The Pretender       Foo Fighters  2007  173      96   \n",
       "4           4  Waitin' On A Sunny Day  Bruce Springsteen  2002  106      82   \n",
       "\n",
       "   dance  valence  duration  popularity                genre  \n",
       "0     53       68  3.350000          71      adult standards  \n",
       "1     50       81  3.450000          39           album rock  \n",
       "2     66       52  5.683333          69  alternative hip hop  \n",
       "3     43       37  4.483333          76    alternative metal  \n",
       "4     58       87  4.266667          59         classic rock  "
      ]
     },
     "execution_count": 2,
     "metadata": {},
     "output_type": "execute_result"
    }
   ],
   "source": [
    "# read CSV file into DataFrame\n",
    "music_analysis = pd.read_csv(\"../datasets/music_for_analysis.csv\")\n",
    " \n",
    "# display the first five rows\n",
    "music_analysis.head()\n"
   ]
  },
  {
   "cell_type": "markdown",
   "id": "adaf173d-388b-4675-9a00-272912fdf023",
   "metadata": {},
   "source": [
    "We'll also be working with a dataset on the animal life on a planet called Zorga. Here's the Data dictionary for that dataset:\n",
    "\n",
    "Zorga Animals Data Dictionary:\n",
    "\n",
    "`Species`: Zorga animal species name\n",
    "\n",
    "`Height`: Typical height between 0.1 and 5 meters\n",
    "\n",
    "`Weight`: Typical weight between 1 and 1000 kilograms\n",
    "\n",
    "`Habitat`: The animals' habitats\n",
    "\n",
    "`Diet`: The animals' diets\n",
    "\n",
    "`Special trait`: Any special traits the animals have\n",
    "\n",
    "`Lifespan`: Average lifespan between 1 and 100 Earth years\n",
    "\n",
    "`Reproduction Rate`: reproduction rate between 1 and 10 offspring per year\n",
    "\n",
    "\n",
    "\n",
    "\n",
    "Let's import that as `zorga_animals`:"
   ]
  },
  {
   "cell_type": "code",
   "execution_count": null,
   "id": "cdc780f2-397b-4061-8f12-699d9500052d",
   "metadata": {},
   "outputs": [],
   "source": [
    "# read CSV file into DataFrame\n",
    "zorga_animals = pd.read_csv(\"../datasets/zorga_animals.csv\")\n",
    " \n",
    "# display the first five rows\n",
    "zorga_animals.head()"
   ]
  },
  {
   "cell_type": "markdown",
   "id": "e3efa457-3da8-4870-8879-3e01b70f6fe0",
   "metadata": {},
   "source": [
    "### 1.1 Descriptive Statistics\n",
    "\n",
    "Descriptive statistics are calculations performed on a data set to summarize, describe, or present the data in a meaningful way. They provide simple summaries about the variables. \n",
    "\n",
    "- Here are a few examples:\n",
    "- sum() adds all the numbers up\n",
    "- mean() calculates the average score or price or number of visitors\n",
    "- count() counts the number of valid entries in a particular column or row,\n",
    "- min() finds the smallest number in the group, and max() finds the largest number.\n",
    "- You use all of these methods like this:\n",
    "\n",
    "To run the method on all the columns in the DataFrame:\n",
    "\n",
    "`df_name.method_name()` \n",
    "\n",
    "To run the method on a particular column, add the column name:\n",
    "\n",
    "`df_name['column_name'].method_name()` \n",
    "\n",
    "\n",
    "Descriptive statistics provide a powerful summary that may reveal patterns in data, but they do not allow us to make conclusions beyond the data we have analysed or reach conclusions regarding any hypotheses we might have made.\n",
    "\n",
    "Descriptive statistics also give us the tools to answer some of those stakeholder questions quickly. Let's look at some of those questions:\n",
    "\n",
    "- One executive who loves 70's rock asked \"What's the oldest song?\" Translated into data analysis terms, this question is: \"What's the minimum value in the `year` column?\"\n"
   ]
  },
  {
   "cell_type": "code",
   "execution_count": null,
   "id": "14040fa4-a259-4eb3-98cf-a6cefc361e90",
   "metadata": {
    "scrolled": true
   },
   "outputs": [],
   "source": [
    "# output summary value \n",
    "music_analysis['year'].min()"
   ]
  },
  {
   "cell_type": "markdown",
   "id": "3f4a5127",
   "metadata": {},
   "source": [
    "Another question that came up was, \"What's the fastest song?\" "
   ]
  },
  {
   "cell_type": "code",
   "execution_count": null,
   "id": "584e5cdf",
   "metadata": {},
   "outputs": [],
   "source": [
    "\n",
    "# output summary value \n",
    "music_analysis['bpm'].max()"
   ]
  },
  {
   "cell_type": "markdown",
   "id": "09452830",
   "metadata": {},
   "source": [
    "##### `count()` vs `value_counts()`\n",
    "\n",
    "- An artist asked you a question that seems like you should be able to answer by counting:\n",
    "- How many songs does each artist have?\n",
    "\n",
    "- But for this question, you need `value_counts()` not `count()`\n",
    "- `count()` counts all the values in the column.\n",
    "- This question is asking about the frequency counts for different values in the column.\n",
    "- For that, we need the `value_counts()` method.\n",
    "- The `value_counts()` method outputs the frequency of each unique value found in that column. \n"
   ]
  },
  {
   "cell_type": "code",
   "execution_count": null,
   "id": "9aafc6be",
   "metadata": {
    "scrolled": true
   },
   "outputs": [],
   "source": [
    "# output the frequency of value occurrences in column\n",
    "music_analysis['artist'].value_counts()"
   ]
  },
  {
   "cell_type": "markdown",
   "id": "4d96df06",
   "metadata": {},
   "source": [
    "### 1.2 Grouping Data"
   ]
  },
  {
   "cell_type": "markdown",
   "id": "469b3bde",
   "metadata": {},
   "source": [
    "Applying simple descriptive statistics like `max()`, `min()`, or `mean()` to entire columns is useful, but your project goal is to explore the attributes of hit songs to provide actionable insights to your company's music producers. To do that, you're going to want to ask more complicated questions like: \"What are the characteristics of the most popular songs?\" Just running descriptive statistics on entire columns won't answer those questions. Instead, we need to divide the data into sections and calculate descriptive statistics for these segments for comparison. For this, we use the `groupby()` method:\n",
    "\n",
    "`df_name.groupby('grouping_column')['target_column'].method_name()`\n",
    "\n",
    "\n",
    "Let's illustrate with a simple example using the `animals` DataFrame from the last section:\n"
   ]
  },
  {
   "cell_type": "code",
   "execution_count": 8,
   "id": "63adb6bb",
   "metadata": {
    "scrolled": true
   },
   "outputs": [
    {
     "data": {
      "text/html": [
       "<div>\n",
       "<style scoped>\n",
       "    .dataframe tbody tr th:only-of-type {\n",
       "        vertical-align: middle;\n",
       "    }\n",
       "\n",
       "    .dataframe tbody tr th {\n",
       "        vertical-align: top;\n",
       "    }\n",
       "\n",
       "    .dataframe thead th {\n",
       "        text-align: right;\n",
       "    }\n",
       "</style>\n",
       "<table border=\"1\" class=\"dataframe\">\n",
       "  <thead>\n",
       "    <tr style=\"text-align: right;\">\n",
       "      <th></th>\n",
       "      <th>animal_name</th>\n",
       "      <th>lifespan_years</th>\n",
       "      <th>diet</th>\n",
       "    </tr>\n",
       "  </thead>\n",
       "  <tbody>\n",
       "    <tr>\n",
       "      <th>0</th>\n",
       "      <td>dog</td>\n",
       "      <td>10</td>\n",
       "      <td>omnivore</td>\n",
       "    </tr>\n",
       "    <tr>\n",
       "      <th>1</th>\n",
       "      <td>cat</td>\n",
       "      <td>15</td>\n",
       "      <td>carnivore</td>\n",
       "    </tr>\n",
       "    <tr>\n",
       "      <th>2</th>\n",
       "      <td>rabbit</td>\n",
       "      <td>9</td>\n",
       "      <td>herbivore</td>\n",
       "    </tr>\n",
       "    <tr>\n",
       "      <th>3</th>\n",
       "      <td>elephant</td>\n",
       "      <td>60</td>\n",
       "      <td>herbivore</td>\n",
       "    </tr>\n",
       "    <tr>\n",
       "      <th>4</th>\n",
       "      <td>tiger</td>\n",
       "      <td>25</td>\n",
       "      <td>carnivore</td>\n",
       "    </tr>\n",
       "  </tbody>\n",
       "</table>\n",
       "</div>"
      ],
      "text/plain": [
       "  animal_name  lifespan_years       diet\n",
       "0         dog              10   omnivore\n",
       "1         cat              15  carnivore\n",
       "2      rabbit               9  herbivore\n",
       "3    elephant              60  herbivore\n",
       "4       tiger              25  carnivore"
      ]
     },
     "execution_count": 8,
     "metadata": {},
     "output_type": "execute_result"
    }
   ],
   "source": [
    "# Create the DataFrame\n",
    "animals = pd.DataFrame({\n",
    "    'animal_name': ['dog', 'cat', 'rabbit', 'elephant', 'tiger'],\n",
    "    'lifespan_years': [10, 15, 9, 60, 25],\n",
    "    'diet': ['omnivore', 'carnivore', 'herbivore', 'herbivore', 'carnivore']\n",
    "})\n",
    "\n",
    "# Display DataFrame\n",
    "animals"
   ]
  },
  {
   "cell_type": "markdown",
   "id": "147c93c2",
   "metadata": {},
   "source": [
    "To find the average lifespan for each dietary group, we'll group by `diet` and take the mean of `lifespan_years`:\n"
   ]
  },
  {
   "cell_type": "code",
   "execution_count": null,
   "id": "f135e1b8",
   "metadata": {},
   "outputs": [],
   "source": [
    "# Group by diet and calculate the mean lifespan\n",
    "animals.groupby(\"diet\")['lifespan_years'].mean()"
   ]
  },
  {
   "cell_type": "markdown",
   "id": "e24822c9-b8d5-4db7-b473-50ee5fe7f345",
   "metadata": {},
   "source": [
    "From this data, herbivores appear to have the longest lifespans. However, it's crucial to treat these findings as descriptive of the specific dataset we're using, rather than making broad generalizations. Various factors can influence these results that aren't necessarily connected to diet. For instance, the long lifespan of elephants (a well-known trait of this species) contributes significantly to the average lifespan of the herbivore group.\n",
    "\n",
    "How do we use `groupby()` to answer our question: \"What are the characteristics of the most popular songs?\" We need to use `popularity` as a grouping column and then calculate descriptive statistics to describe the characteristics of popular songs. We usually use categorical variables for grouping columns, like `diet` in the example above. `Popularity` is a continuous variable. To use it as a grouping variable, we can create a categorical variable `popularity_range` using the familiar `cut()` method to create ranges (or \"bins\") of `popularity`. \n",
    "\n",
    "In the following code, we use`cut()` to create five bins of popularity: 'Very Low' (0-20), 'Low' (20-40), 'Medium' (40-60), 'High' (60-80), and 'Very High' (80-100). We add this new column 'popularity_range' to our music DataFrame:"
   ]
  },
  {
   "cell_type": "code",
   "execution_count": 10,
   "id": "c9725cdb-902a-46ff-9ef1-02558bb2e173",
   "metadata": {},
   "outputs": [
    {
     "data": {
      "text/html": [
       "<div>\n",
       "<style scoped>\n",
       "    .dataframe tbody tr th:only-of-type {\n",
       "        vertical-align: middle;\n",
       "    }\n",
       "\n",
       "    .dataframe tbody tr th {\n",
       "        vertical-align: top;\n",
       "    }\n",
       "\n",
       "    .dataframe thead th {\n",
       "        text-align: right;\n",
       "    }\n",
       "</style>\n",
       "<table border=\"1\" class=\"dataframe\">\n",
       "  <thead>\n",
       "    <tr style=\"text-align: right;\">\n",
       "      <th></th>\n",
       "      <th>Unnamed: 0</th>\n",
       "      <th>title</th>\n",
       "      <th>artist</th>\n",
       "      <th>year</th>\n",
       "      <th>bpm</th>\n",
       "      <th>energy</th>\n",
       "      <th>dance</th>\n",
       "      <th>valence</th>\n",
       "      <th>duration</th>\n",
       "      <th>popularity</th>\n",
       "      <th>genre</th>\n",
       "      <th>popularity_range</th>\n",
       "    </tr>\n",
       "  </thead>\n",
       "  <tbody>\n",
       "    <tr>\n",
       "      <th>0</th>\n",
       "      <td>0</td>\n",
       "      <td>Sunrise</td>\n",
       "      <td>Norah Jones</td>\n",
       "      <td>2004</td>\n",
       "      <td>157</td>\n",
       "      <td>30</td>\n",
       "      <td>53</td>\n",
       "      <td>68</td>\n",
       "      <td>3.350000</td>\n",
       "      <td>71</td>\n",
       "      <td>adult standards</td>\n",
       "      <td>High</td>\n",
       "    </tr>\n",
       "    <tr>\n",
       "      <th>1</th>\n",
       "      <td>1</td>\n",
       "      <td>Black Night</td>\n",
       "      <td>Deep Purple</td>\n",
       "      <td>2000</td>\n",
       "      <td>135</td>\n",
       "      <td>79</td>\n",
       "      <td>50</td>\n",
       "      <td>81</td>\n",
       "      <td>3.450000</td>\n",
       "      <td>39</td>\n",
       "      <td>album rock</td>\n",
       "      <td>Low</td>\n",
       "    </tr>\n",
       "    <tr>\n",
       "      <th>2</th>\n",
       "      <td>2</td>\n",
       "      <td>Clint Eastwood</td>\n",
       "      <td>Gorillaz</td>\n",
       "      <td>2001</td>\n",
       "      <td>168</td>\n",
       "      <td>69</td>\n",
       "      <td>66</td>\n",
       "      <td>52</td>\n",
       "      <td>5.683333</td>\n",
       "      <td>69</td>\n",
       "      <td>alternative hip hop</td>\n",
       "      <td>High</td>\n",
       "    </tr>\n",
       "    <tr>\n",
       "      <th>3</th>\n",
       "      <td>3</td>\n",
       "      <td>The Pretender</td>\n",
       "      <td>Foo Fighters</td>\n",
       "      <td>2007</td>\n",
       "      <td>173</td>\n",
       "      <td>96</td>\n",
       "      <td>43</td>\n",
       "      <td>37</td>\n",
       "      <td>4.483333</td>\n",
       "      <td>76</td>\n",
       "      <td>alternative metal</td>\n",
       "      <td>High</td>\n",
       "    </tr>\n",
       "    <tr>\n",
       "      <th>4</th>\n",
       "      <td>4</td>\n",
       "      <td>Waitin' On A Sunny Day</td>\n",
       "      <td>Bruce Springsteen</td>\n",
       "      <td>2002</td>\n",
       "      <td>106</td>\n",
       "      <td>82</td>\n",
       "      <td>58</td>\n",
       "      <td>87</td>\n",
       "      <td>4.266667</td>\n",
       "      <td>59</td>\n",
       "      <td>classic rock</td>\n",
       "      <td>Medium</td>\n",
       "    </tr>\n",
       "  </tbody>\n",
       "</table>\n",
       "</div>"
      ],
      "text/plain": [
       "   Unnamed: 0                   title             artist  year  bpm  energy  \\\n",
       "0           0                 Sunrise        Norah Jones  2004  157      30   \n",
       "1           1             Black Night        Deep Purple  2000  135      79   \n",
       "2           2          Clint Eastwood           Gorillaz  2001  168      69   \n",
       "3           3           The Pretender       Foo Fighters  2007  173      96   \n",
       "4           4  Waitin' On A Sunny Day  Bruce Springsteen  2002  106      82   \n",
       "\n",
       "   dance  valence  duration  popularity                genre popularity_range  \n",
       "0     53       68  3.350000          71      adult standards             High  \n",
       "1     50       81  3.450000          39           album rock              Low  \n",
       "2     66       52  5.683333          69  alternative hip hop             High  \n",
       "3     43       37  4.483333          76    alternative metal             High  \n",
       "4     58       87  4.266667          59         classic rock           Medium  "
      ]
     },
     "execution_count": 10,
     "metadata": {},
     "output_type": "execute_result"
    }
   ],
   "source": [
    "# Create variable\n",
    "music_analysis['popularity_range'] = pd.cut(music_analysis['popularity'], bins=[0, 20, 40, 60, 80, 100], labels=['Very Low', 'Low', 'Medium', 'High', 'Very High'])\n",
    "\n",
    "# display to check\n",
    "music_analysis.head()"
   ]
  },
  {
   "cell_type": "markdown",
   "id": "b417640b-68ac-4050-a6d6-abcfeb442c48",
   "metadata": {},
   "source": [
    "Next, we use the `groupby()` method on 'popularity_range', and calculate the mean of `bpm` for each popularity group. The result, mean_bpm_by_popularity, will be a new DataFrame showing the average bpm for each range of popularity."
   ]
  },
  {
   "cell_type": "code",
   "execution_count": null,
   "id": "ca7b3d98-8310-4cc6-92a3-cc11a225c290",
   "metadata": {},
   "outputs": [],
   "source": [
    "# groupby\n",
    "mean_bpm_by_popularity = music_analysis.groupby('popularity_range')['bpm'].mean()\n",
    "\n",
    "\n",
    "# display to check\n",
    "mean_bpm_by_popularity\n"
   ]
  },
  {
   "cell_type": "markdown",
   "id": "5aae9523-1408-4da6-878a-04890c321800",
   "metadata": {},
   "source": [
    "### Multiple target columns with `groupby()`:\n",
    "\n",
    "We can also calculate descriptive statistics for multiple variables for each popularity group. Instead of one target column, we use a list of target columns:\n",
    "\n",
    "`df_name.groupby('grouping_column')[['target_column1', 'target_column2', 'target_column3']].method_name()`\n",
    "\n",
    "Let's calculate the mean of `bpm, dance, duration, valence`, and `energy` for each popularity group."
   ]
  },
  {
   "cell_type": "code",
   "execution_count": null,
   "id": "702a5cbf-a690-41ff-b629-ab8de5b5e755",
   "metadata": {},
   "outputs": [],
   "source": [
    "# groupby\n",
    "avg_characteristics_by_popularity= music_analysis.groupby('popularity_range')[['bpm', 'dance', 'duration', 'valence', 'energy']].mean()\n",
    "\n",
    "# display to check\n",
    "avg_characteristics_by_popularity"
   ]
  },
  {
   "cell_type": "code",
   "execution_count": null,
   "id": "bff050cc-f78f-4445-acb7-1fc23b17f52d",
   "metadata": {},
   "outputs": [],
   "source": []
  }
 ],
 "metadata": {
  "environment": {
   "kernel": "python3",
   "name": "common-cpu.m87",
   "type": "gcloud",
   "uri": "gcr.io/deeplearning-platform-release/base-cpu:m87"
  },
  "kernelspec": {
   "display_name": "Python 3",
   "language": "python",
   "name": "python3"
  },
  "language_info": {
   "codemirror_mode": {
    "name": "ipython",
    "version": 3
   },
   "file_extension": ".py",
   "mimetype": "text/x-python",
   "name": "python",
   "nbconvert_exporter": "python",
   "pygments_lexer": "ipython3",
   "version": "3.11.5"
  }
 },
 "nbformat": 4,
 "nbformat_minor": 5
}
