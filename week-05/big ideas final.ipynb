{
 "cells": [
  {
   "cell_type": "markdown",
   "metadata": {},
   "source": [
    "Big Ideas 5.2.1 - 5.7.1 \n",
    "- Piece of code that can be reused in different parts of the program.\n",
    "Helps organize your code as the scripts become longer. \n",
    "- Functions break down the code into manageable pieces, each piece has a specific job making the code modular.\n",
    "- Fuctions are useful because they are able to pass different values as inputs, then calculate, and finally provide a result that can be used in other parts of the program.\n",
    "\n",
    "- Functions can be nested within each other (Nested Functions)\n",
    "- We can call functions within other functions.\n",
    "- Call Stack: Control doesn't move linearly\n",
    "python uses a special object to keep track of all places that control needs to go.\n",
    "\n",
    "Stack: imagine a stack of plate, one is restricted. You can either take a new plate and add it to the top, or take the last plate and take it out. you cant put it two plates at a time, or take a plate from the middle. That is the stack.\n",
    "\n",
    "\n"
   ]
  },
  {
   "cell_type": "markdown",
   "metadata": {},
   "source": [
    "Example of function: \n",
    "- Start setting up by defining functions using def keyword ex: def(sqrt) with paremeters (x, epsilon)\n",
    "- We create a mutiline string aka document string using \"\"\" \"\"\" in order to explain what the function actually does. In this case Newton's Method for Finding Square Roots to within a precision epsilon\n",
    "- We can use it later if we type in help(sqrt) \n",
    "- We execute by calling the function print(sqrt)\n",
    "\n",
    "In functions the values we choose to input are called arguments, so we are calling the square root with the argument 5 and the argument 0.00001.\n",
    "The function starts the the top with arguments 5 and 0.00001\n",
    "\n",
    "So what happens? \n",
    "The program reaches the function sqrt skips over it until it finds until it reaches the function call.\n",
    "Control then jumps to the top of the sqrt function, the arguments 5 and 0.00001 are inputed into the arguments x and epsilon. The function is excecuted starting from the top and the body step by step.\n",
    "Then when the return statement is reached the results of is passed back to the point where sqrt was called.\n",
    "Control returns to the main program and the results is used in the print() statement."
   ]
  },
  {
   "cell_type": "code",
   "execution_count": null,
   "metadata": {},
   "outputs": [
    {
     "name": "stdout",
     "output_type": "stream",
     "text": [
      "2.2360688956433634 is close to the square root of 5\n",
      "1.495349088238384 is close to the fourth root of 5\n"
     ]
    }
   ],
   "source": [
    "def sqrt(x, epsilon):\n",
    "    \"\"\"Newton's Method for Finding Square Roots to within a precision epsilon\"\"\"\n",
    "    ans = 1 \n",
    "    num_guesses = 0\n",
    "    while abs(x/ans - ans) > epsilon:\n",
    "        ans = (x/ans + ans) / 2\n",
    "        num_guesses += 1\n",
    "    return ans\n",
    "\n",
    "root = sqrt(5, 0.00001)\n",
    "print(root,\"is close to the square root of 5\") "
   ]
  },
  {
   "cell_type": "markdown",
   "metadata": {},
   "source": [
    "Nested Functions: \n",
    "In this example the functions are broken down into three parts, \n",
    "- The program first applies the pythagorean theorem function = def distance_to_origin(x, y):\n",
    "- then a lower level of finding the square root = def sqrt(x, epsilon):. \n",
    "- finally the program uses the return of the square roof function to complete the geometric_mean function = def geometric_mean(x, y):\n",
    "- both functions use the result of the sqrt function\n",
    "\n",
    "Stack Debug:\n",
    "- You can use the stack to debug. aka stack trace it shows the whole stack and where the erros occured.\n",
    "Example; we add 0/0 to num guesses.\n",
    "\n",
    "we get a zero division error and the stack trace\n",
    "we have 3 stack frames\n",
    "we had to pause execution in the first stack frame\n",
    "the stack from shows us the line and what we got wrong\n",
    "line 4 num_guesses division by zero"
   ]
  },
  {
   "cell_type": "code",
   "execution_count": null,
   "metadata": {},
   "outputs": [
    {
     "name": "stdout",
     "output_type": "stream",
     "text": [
      "The magnitude of you vector is 5.000000000063723\n",
      "The geometric mean of x and y is 0.007071075075508593\n"
     ]
    }
   ],
   "source": [
    "def sqrt(x, epsilon):\n",
    "    \"\"\"Newton's Method for Finding Square Roots to within a precision epsilon\"\"\"\n",
    "    ans = 1 \n",
    "    num_guesses = 0\n",
    "    while abs(x/ans - ans) > epsilon:\n",
    "        ans = (x/ans + ans) / 2\n",
    "        num_guesses += 1\n",
    "    return ans\n",
    "\n",
    "def distance_to_origin(x, y):\n",
    "    \"\"\"\"Find the distance from a point at (x,y) to the origin\"\"\"\n",
    "    ans = sqrt(x**2 + y**2, 0.00001)\n",
    "    return ans\n",
    "\n",
    "def geometric_mean(x, y):\n",
    "    \"\"\"compose the square root of x * y\"\"\"\n",
    "    return sqrt(x*y, 0.00001)\n",
    "\n",
    "x = float(input(\"Enter an x-coordinate: \"))\n",
    "y = float(input(\"Enter a y-coordinate: \"))\n",
    "magnitude = distance_to_origin(x, y)\n",
    "print(\"The magnitude of you vector is\", magnitude)\n",
    "geo_mean = geometric_mean(x,y)\n",
    "print(\"The geometric mean of x and y is\", geo_mean)"
   ]
  },
  {
   "cell_type": "markdown",
   "metadata": {},
   "source": [
    "# Module 5 Outline by section:"
   ]
  },
  {
   "cell_type": "markdown",
   "metadata": {},
   "source": [
    "# 5.2.1 Functions\n",
    "- Piece of code that can be reused in different parts of the program.\n",
    "Helps organize your code as the scripts become longer. \n",
    "- Functions break down the code into manageable pieces, each piece has a specific job, aka encapsulation or modularity. \n",
    "\n",
    "1. Define the fuction:\n",
    "def print_stuff():\n",
    "    print(\"some stuff\")\n",
    "    print(\"more stuff\")\n",
    "print_stuff"
   ]
  },
  {
   "cell_type": "code",
   "execution_count": null,
   "metadata": {},
   "outputs": [
    {
     "data": {
      "text/plain": [
       "<function __main__.print_stuff()>"
      ]
     },
     "metadata": {},
     "output_type": "display_data"
    }
   ],
   "source": [
    "def print_stuff():\n",
    "    print(\"some stuff\")\n",
    "    print(\"more stuff\")\n",
    "print_stuff"
   ]
  },
  {
   "cell_type": "markdown",
   "metadata": {},
   "source": [
    "Explanation: When defining the fuction there will be no output. The code in the fuction body won't be executed. The result will just give you the fuction. To execute the code you have to call the fuction.\n",
    "\n",
    "2. Call the function:\n",
    "print(\"Things on my todo list:\")\n",
    "print_stuff()\n",
    "print_stuff()"
   ]
  },
  {
   "cell_type": "code",
   "execution_count": null,
   "metadata": {},
   "outputs": [
    {
     "name": "stdout",
     "output_type": "stream",
     "text": [
      "Things on my todo list:\n",
      "some stuff\n",
      "more stuff\n",
      "some stuff\n",
      "more stuff\n"
     ]
    }
   ],
   "source": [
    "def print_stuff():\n",
    "    print(\"some stuff\")\n",
    "    print(\"more stuff\")\n",
    "print_stuff\n",
    "\n",
    "print(\"Things on my todo list:\")\n",
    "print_stuff()\n",
    "print_stuff()"
   ]
  },
  {
   "cell_type": "markdown",
   "metadata": {},
   "source": [
    "Explanation: The statements in the fuction body were executed and fuction was called twice. \n",
    "- Control enters the fuction and executes the first print, second.\n",
    "- print. Then it is done again.\n",
    "3. Make the fuctions useful.\n",
    "- to make the fuction useful it has to be able to pass different values as inputs, then calculate, finally provide a result that can be used in other parts of the program\n",
    "Example using algorithm used for finding square roots:\n",
    "ans = 1\n",
    "num_guesses = 0\n",
    "while abs(x/ans - ans) > epsilon:\n",
    "    ans = (x/ans + ans) / 2\n",
    "    num_guesses += 1"
   ]
  },
  {
   "cell_type": "code",
   "execution_count": null,
   "metadata": {},
   "outputs": [],
   "source": [
    "def sqrt(x, epsilon):\n",
    "    \"\"\"Newton's Method for Finding Square Roots to within a precision epsilon\"\"\"\n",
    "    ans = 1 \n",
    "    num_guesses = 0\n",
    "    while abs(x/ans - ans) > epsilon:\n",
    "        ans = (x/ans + ans) / 2\n",
    "        num_guesses += 1\n",
    "    return ans"
   ]
  },
  {
   "cell_type": "markdown",
   "metadata": {},
   "source": [
    "So in order to use Newton's method as a function, we define the fuction. We create a mutiline string aka document string using \"\"\" \"\"\" in order to explain what the function actually does. We can use it later if we type in help(sqrt) "
   ]
  },
  {
   "cell_type": "code",
   "execution_count": null,
   "metadata": {},
   "outputs": [
    {
     "name": "stdout",
     "output_type": "stream",
     "text": [
      "Help on function sqrt in module __main__:\n",
      "\n",
      "sqrt(x, epsilon)\n",
      "    Newton's Method for Finding Square Roots to within a precision epsilon\n",
      "\n"
     ]
    }
   ],
   "source": [
    "help(sqrt)"
   ]
  },
  {
   "cell_type": "markdown",
   "metadata": {},
   "source": [
    "After defining the fuction of Newton's method we have to call in. In the example we want to find the square root of 5 to a precision 0.00001. To add, the example will also find the fourth root."
   ]
  },
  {
   "cell_type": "code",
   "execution_count": null,
   "metadata": {},
   "outputs": [
    {
     "name": "stdout",
     "output_type": "stream",
     "text": [
      "2.2360688956433634 is close to the square root of 5\n",
      "1.495349088238384 is close to the fourth root of 5\n"
     ]
    }
   ],
   "source": [
    "root = sqrt(5, 0.00001)\n",
    "print(root,\"is close to the square root of 5\") \n",
    "fourth_root = sqrt(root, 0.00001)\n",
    "print(fourth_root,\"is close to the fourth root of 5\")"
   ]
  },
  {
   "cell_type": "markdown",
   "metadata": {},
   "source": [
    "Now this function shows how flexible functions can be, when compared to the print_stuff function we had earlier. \n",
    "\n",
    "In functions the values we choose to input are called arguments, so we are calling the square root with the argument 5 and the argument 0.00001.\n",
    "\n",
    "When looking at the x, epsilon within the culture we call them parameters. "
   ]
  },
  {
   "cell_type": "markdown",
   "metadata": {},
   "source": [
    "# 5.3.1 Calling Functions and explanation of control movement\n"
   ]
  },
  {
   "cell_type": "code",
   "execution_count": null,
   "metadata": {},
   "outputs": [
    {
     "name": "stdout",
     "output_type": "stream",
     "text": [
      "2.2360688956433634 is close to the square root of 5\n"
     ]
    }
   ],
   "source": [
    "def sqrt(x, epsilon):\n",
    "    \"\"\"Newton's Method for Finding Square Roots to within a precision epsilon\"\"\"\n",
    "    ans = 1 \n",
    "    num_guesses = 0\n",
    "    while abs(x/ans - ans) > epsilon:\n",
    "        ans = (x/ans + ans) / 2\n",
    "        num_guesses += 1\n",
    "    return ans\n",
    "root = sqrt(5, 0.00001)\n",
    "print(root, \"is close to the square root of 5\")"
   ]
  },
  {
   "cell_type": "markdown",
   "metadata": {},
   "source": [
    "First, function is defined. Control then passes through the function without executing.\n",
    "- Program encounters the sqrt function definition and skips over it.\n",
    "Second, when program reaches function it goes back into the top of the fuction to start it. \n",
    "- The program reaches the function call sqrt(5, 0.00001).\n",
    "- Third, the values are passed as arguments. So from parameters x, epsilon to arguments 5, 0.00001\n",
    "- Control jumps to the top of the sqrt function, and x is set to 5 and epsilon to 0.00001.\n",
    "Fourth, control moves inside the function and are executed one by one from the top.\n",
    "- The function’s body is executed step by step.\n",
    "Fifth: when the return statement is reached the value of the variable returned is passed back. AKA the return value replaces the fuction.\n",
    "- When the return statement is reached, the result (e.g., the square root of 5) is passed back to the point where sqrt(5, 0.00001) was called.\n",
    "- Sixth: the returned value goes back to the program instead of the function. \n",
    "- Control returns to the main program, and the result is used in the print() statement.\n",
    "Seventh: the print() statement is executed.\n",
    "- The final output is printed."
   ]
  },
  {
   "cell_type": "markdown",
   "metadata": {},
   "source": [
    "# 5.4.1 Nesting Functions\n",
    "Functions can be nested within each other\n",
    "We can call functions within other functions.\n",
    "In the following example we add the def distance_to_origin function (the pythatgorean theorem)\n",
    "\n",
    "The functions are broken down into two, applying the pythagorean theorem, and then a lower level of finding the square root. Breaking down into two parts makes the parts modularized into two different functions.\n",
    "\n",
    "The fuction with the purpose of applying the pythagorean theorem calls the other function of finding the square root. The def sqrt function becomes a component of the bigger purpose."
   ]
  },
  {
   "cell_type": "code",
   "execution_count": null,
   "metadata": {},
   "outputs": [
    {
     "name": "stdout",
     "output_type": "stream",
     "text": [
      "The magnitude of you vector is 5.000000000063723\n"
     ]
    }
   ],
   "source": [
    "def sqrt(x, epsilon):\n",
    "    \"\"\"Newton's Method for Finding Square Roots to within a precision epsilon\"\"\"\n",
    "    ans = 1 \n",
    "    num_guesses = 0\n",
    "    while abs(x/ans - ans) > epsilon:\n",
    "        ans = (x/ans + ans) / 2\n",
    "        num_guesses += 1\n",
    "    return ans\n",
    "def distance_to_origin(x, y):\n",
    "    \"\"\"\"Find the distance from a point at (x,y) to the origin\"\"\"\n",
    "    ans = sqrt(x**2 + y**2, 0.00001)\n",
    "    return ans\n",
    "x = float(input(\"Enter an x-coordinate: \"))\n",
    "y = float(input(\"Enter a y-coordinate: \"))\n",
    "magnitude = distance_to_origin(x, y)\n",
    "print(\"The magnitude of you vector is\", magnitude)"
   ]
  },
  {
   "cell_type": "markdown",
   "metadata": {},
   "source": [
    "Let's add another function\n",
    "def geometric_mean(x, y):\n",
    "    \"\"\"compose the square root of x * y\"\"\"\n",
    "    return sqrt (x*y), 0.00001\n",
    "and lets use the return of the square roof function to complete the geometric_mean function"
   ]
  },
  {
   "cell_type": "code",
   "execution_count": null,
   "metadata": {},
   "outputs": [
    {
     "name": "stdout",
     "output_type": "stream",
     "text": [
      "The magnitude of you vector is 5.000000000303723\n",
      "The geometric mean of x and y is 0.015811391237221015\n"
     ]
    }
   ],
   "source": [
    "def sqrt(x, epsilon):\n",
    "    \"\"\"Newton's Method for Finding Square Roots to within a precision epsilon\"\"\"\n",
    "    ans = 1 \n",
    "    num_guesses = 0\n",
    "    while abs(x/ans - ans) > epsilon:\n",
    "        ans = (x/ans + ans) / 2\n",
    "        num_guesses += 1\n",
    "    return ans\n",
    "def distance_to_origin(x, y):\n",
    "    \"\"\"\"Find the distance from a point at (x,y) to the origin\"\"\"\n",
    "    ans = sqrt(x**2 + y**2, 0.00001)\n",
    "    return ans\n",
    "\n",
    "def geometric_mean(x, y):\n",
    "    \"\"\"compose the square root of x * y\"\"\"\n",
    "    return sqrt(x*y, 0.00001)\n",
    "\n",
    "x = float(input(\"Enter an x-coordinate: \"))\n",
    "y = float(input(\"Enter a y-coordinate: \"))\n",
    "magnitude = distance_to_origin(x, y)\n",
    "print(\"The magnitude of you vector is\", magnitude)\n",
    "geo_mean = geometric_mean(x,y)\n",
    "print(\"The geometric mean of x and y is\", geo_mean)"
   ]
  },
  {
   "cell_type": "markdown",
   "metadata": {},
   "source": [
    "# 5.5.1 Functions and the Call Stack\n",
    "Control doesn't move linearly\n",
    "python uses a special object to keep track of all palces that control needs to go.\n",
    "Stack: imagine a stack of plate, one is restricted. You can either take a newplate and add it to the top, or take the last plate and take it out. you cant put it two plates at a time, or take a plate from the middle. That is the stack.\n",
    "\n",
    "Every plate in the stack is the execution fram aka stack frame. \n",
    "Example: the plate is upside down.\n",
    "                            Call Stack\n",
    "                            in main at line 25\n",
    "                            in geometric_mean at line 15\n",
    "                            in sqrt at line 8\n",
    "Functions are separate programs, running side by side."
   ]
  },
  {
   "cell_type": "markdown",
   "metadata": {},
   "source": [
    "# 5.6.1 The Stack Trace\n",
    "You can use the stack to debug. aka stack trace it shows the whole stack and where the erros occured.\n",
    "Example; we add 0/0 to num guesses."
   ]
  },
  {
   "cell_type": "code",
   "execution_count": null,
   "metadata": {},
   "outputs": [
    {
     "ename": "ValueError",
     "evalue": "could not convert string to float: ''",
     "output_type": "error",
     "traceback": [
      "\u001b[0;31m---------------------------------------------------------------------------\u001b[0m\n",
      "\n",
      "\u001b[0;31mValueError\u001b[0m                                Traceback (most recent call last)\n",
      "\n",
      "Cell \u001b[0;32mIn[34], line 18\u001b[0m\n",
      "\n",
      "\u001b[1;32m     15\u001b[0m \u001b[38;5;250m    \u001b[39m\u001b[38;5;124;03m\"\"\"compose the square root of x * y\"\"\"\u001b[39;00m\n",
      "\n",
      "\u001b[1;32m     16\u001b[0m     \u001b[38;5;28;01mreturn\u001b[39;00m sqrt(x\u001b[38;5;241m*\u001b[39my, \u001b[38;5;241m0.00001\u001b[39m)\n",
      "\n",
      "\u001b[0;32m---> 18\u001b[0m x \u001b[38;5;241m=\u001b[39m \u001b[38;5;28mfloat\u001b[39m(\u001b[38;5;28minput\u001b[39m(\u001b[38;5;124m\"\u001b[39m\u001b[38;5;124mEnter an x-coordinate: \u001b[39m\u001b[38;5;124m\"\u001b[39m))\n",
      "\n",
      "\u001b[1;32m     19\u001b[0m y \u001b[38;5;241m=\u001b[39m \u001b[38;5;28mfloat\u001b[39m(\u001b[38;5;28minput\u001b[39m(\u001b[38;5;124m\"\u001b[39m\u001b[38;5;124mEnter a y-coordinate: \u001b[39m\u001b[38;5;124m\"\u001b[39m))\n",
      "\n",
      "\u001b[1;32m     20\u001b[0m magnitude \u001b[38;5;241m=\u001b[39m distance_to_origin(x, y)\n",
      "\n",
      "\n",
      "\n",
      "\u001b[0;31mValueError\u001b[0m: could not convert string to float: ''"
     ]
    }
   ],
   "source": [
    "def sqrt(x, epsilon):\n",
    "    \"\"\"Newton's Method for Finding Square Roots to within a precision epsilon\"\"\"\n",
    "    ans = 1 \n",
    "    num_guesses = 0/0\n",
    "    while abs(x/ans - ans) > epsilon:\n",
    "        ans = (x/ans + ans) / 2\n",
    "        num_guesses += 1\n",
    "    return ans\n",
    "def distance_to_origin(x, y):\n",
    "    \"\"\"\"Find the distance from a point at (x,y) to the origin\"\"\"\n",
    "    ans = sqrt(x**2 + y**2, 0.00001)\n",
    "    return ans\n",
    "\n",
    "def geometric_mean(x, y):\n",
    "    \"\"\"compose the square root of x * y\"\"\"\n",
    "    return sqrt(x*y, 0.00001)\n",
    "\n",
    "x = float(input(\"Enter an x-coordinate: \"))\n",
    "y = float(input(\"Enter a y-coordinate: \"))\n",
    "magnitude = distance_to_origin(x, y)\n",
    "print(\"The magnitude of you vector is\", magnitude)\n",
    "geo_mean = geometric_mean(x,y)\n",
    "print(\"The geometric mean of x and y is\", geo_mean)"
   ]
  },
  {
   "cell_type": "markdown",
   "metadata": {},
   "source": [
    "we get a zero division error and the stack trace\n",
    "we have 3 stack frames\n",
    "we had to pause execution in the first stack frame\n",
    "the stack from shows us the line and what we got wrong\n",
    "line 4 num_guesses division by zero\n"
   ]
  },
  {
   "cell_type": "markdown",
   "metadata": {},
   "source": [
    "# 5.7.1 Value of Functions\n",
    "3 advantages:\n",
    "Decomposition: break up programming tasks into self-contained pieces\n",
    "Modularity: write flexible code that can be reused, and makes code more readable.\n",
    "Abstraction: create layers for low-level and high-level tasks, defines interaction between program components. "
   ]
  },
  {
   "cell_type": "markdown",
   "metadata": {},
   "source": [
    "# 5.8.1 Namespaces\n",
    "Namespaces are used to track variable names and prevent conflict.\n",
    "global vs local variables.\n",
    "Global namesapce: holds global variables in the main script\n",
    "Local namespace: Created each time a function is called\n",
    "each function call creates its own local namespace\n",
    "Fuction parameters= local variables\n",
    "\n"
   ]
  },
  {
   "cell_type": "markdown",
   "metadata": {},
   "source": [
    "# 5.10.1 Accessing Global Variables\n",
    "most recommended and cleanest way= pass values into a fuction as arguments. \n",
    "we can acces global variables inside a function.=less clean\n",
    "Here we define a gloable variable y in the main script and use it in a function\n",
    "then we call the function\n"
   ]
  },
  {
   "cell_type": "code",
   "execution_count": null,
   "metadata": {},
   "outputs": [],
   "source": [
    "y = 5\n",
    "\n",
    "def add_y(x):\n",
    "    answer = x + y\n",
    "    print(\"In the function, y =\", y)\n",
    "    return answer"
   ]
  },
  {
   "cell_type": "code",
   "execution_count": null,
   "metadata": {},
   "outputs": [
    {
     "name": "stdout",
     "output_type": "stream",
     "text": [
      "In the function, y = 5\n",
      "Function returned: 8\n",
      "Outside the function, y = 5\n"
     ]
    }
   ],
   "source": [
    "result = add_y(3)\n",
    "print(\"Function returned:\", result)\n",
    "print(\"Outside the function, y =\", y)"
   ]
  },
  {
   "cell_type": "markdown",
   "metadata": {},
   "source": [
    "Y was accessed and added to x\n",
    "The function returns the correct result, 3+5 = 8\n",
    "y it still 5 because it wasn't changed\n",
    "python first check the local namespace for y, then if doesn't find it it looks in the global namespace\n",
    "\n",
    "if we try to change the global variable inside a fucntion will results in an error. python creates a local namespace when the function starts, it tries to create one for y before assigning values causing the error\n",
    "Example"
   ]
  },
  {
   "cell_type": "code",
   "execution_count": null,
   "metadata": {},
   "outputs": [
    {
     "ename": "UnboundLocalError",
     "evalue": "cannot access local variable 'y' where it is not associated with a value",
     "output_type": "error",
     "traceback": [
      "\u001b[0;31m---------------------------------------------------------------------------\u001b[0m\n",
      "\u001b[0;31mUnboundLocalError\u001b[0m                         Traceback (most recent call last)\n",
      "Cell \u001b[0;32mIn[92], line 5\u001b[0m\n",
      "\u001b[1;32m      3\u001b[0m     \u001b[38;5;28mprint\u001b[39m(\u001b[38;5;124m\"\u001b[39m\u001b[38;5;124mIn the function, y =\u001b[39m\u001b[38;5;124m\"\u001b[39m, y)\n",
      "\u001b[1;32m      4\u001b[0m y \u001b[38;5;241m=\u001b[39m \u001b[38;5;241m5\u001b[39m\n",
      "\u001b[0;32m----> 5\u001b[0m change_y()\n",
      "\u001b[1;32m      6\u001b[0m \u001b[38;5;28mprint\u001b[39m(\u001b[38;5;124m\"\u001b[39m\u001b[38;5;124mOutside the function, y =\u001b[39m\u001b[38;5;124m\"\u001b[39m, y)\n",
      "\n",
      "Cell \u001b[0;32mIn[92], line 2\u001b[0m, in \u001b[0;36mchange_y\u001b[0;34m()\u001b[0m\n",
      "\u001b[1;32m      1\u001b[0m \u001b[38;5;28;01mdef\u001b[39;00m \u001b[38;5;21mchange_y\u001b[39m():\n",
      "\u001b[0;32m----> 2\u001b[0m     y \u001b[38;5;241m=\u001b[39m y \u001b[38;5;241m+\u001b[39m \u001b[38;5;241m1\u001b[39m  \n",
      "\u001b[1;32m      3\u001b[0m     \u001b[38;5;28mprint\u001b[39m(\u001b[38;5;124m\"\u001b[39m\u001b[38;5;124mIn the function, y =\u001b[39m\u001b[38;5;124m\"\u001b[39m, y)\n",
      "\n",
      "\u001b[0;31mUnboundLocalError\u001b[0m: cannot access local variable 'y' where it is not associated with a value"
     ]
    }
   ],
   "source": [
    "def change_y():\n",
    "    y = y + 1  \n",
    "    print(\"In the function, y =\", y)\n",
    "y = 5\n",
    "change_y()\n",
    "print(\"Outside the function, y =\", y)"
   ]
  },
  {
   "cell_type": "markdown",
   "metadata": {},
   "source": [
    "To modify Global variables\n",
    "you must declare it using global keywords"
   ]
  },
  {
   "cell_type": "code",
   "execution_count": null,
   "metadata": {},
   "outputs": [
    {
     "name": "stdout",
     "output_type": "stream",
     "text": [
      "In the function, y = 6\n",
      "Outside the function, y = 6\n"
     ]
    }
   ],
   "source": [
    "def change_y():\n",
    "    global y  \n",
    "    y = y + 1\n",
    "    print(\"In the function, y =\", y)\n",
    "y = 5\n",
    "change_y()\n",
    "print(\"Outside the function, y =\", y)"
   ]
  },
  {
   "cell_type": "markdown",
   "metadata": {},
   "source": [
    "Changing the gloabal variables inside the function can make code harder to understand and maintain.\n",
    "It can create side effects= more difficult to predict the behavior of the program\n",
    "introducing global variables kinda take away from the self contained nature of functions which is kinda the point."
   ]
  },
  {
   "cell_type": "markdown",
   "metadata": {},
   "source": [
    "# 5.11.1 Recursion Basics\n",
    "Recursion is when a fuction calls itself as port of its process\n",
    "used to break down complex problems into smaller problems\n",
    "\n",
    "Recursive Function:\n",
    "- base case: the condition under which the function stops calling itself\n",
    "- recursive rule: the rule that breaks down the problem into simpler instances of the same problem\n",
    "example:"
   ]
  },
  {
   "cell_type": "code",
   "execution_count": null,
   "metadata": {},
   "outputs": [
    {
     "name": "stdout",
     "output_type": "stream",
     "text": [
      "1\n",
      "2\n",
      "6\n"
     ]
    }
   ],
   "source": [
    "def factorial(n):\n",
    "    if n == 1:\n",
    "        return 1\n",
    "    return n * factorial(n - 1)\n",
    "print(factorial(1))\n",
    "print(factorial(2))\n",
    "print(factorial(3))"
   ]
  },
  {
   "cell_type": "markdown",
   "metadata": {},
   "source": [
    "for the factorial(3)\n",
    "- we start calling the factorial function with n = 3\n",
    "since n is not equal to 1, fucntion doesn't stop in returns 3* factorial(2)\n",
    "- then we call factorial(2) because we need to calculate the factorial of 2 to complete the previous step, since n is still not 1, the function agin doesn't stop and retunrs 2* factorial(1)\n",
    "- after that we call factorial(1). Since n = 1, we hit the Base Case, the function returns 1 without recursion.\n",
    "- since the return s 1 we can now do the previous call, so factorail(2) becomes 2*1=2\n",
    "- and so on we go to the origical call factorial 3 becomes 3*2=6 giving us the final result of 6\n",
    "\n",
    "Mathematics: n * factorial(n - 1) which we can see in the function we wrote return n * factorial(n - 1)\n",
    "Recursive algorithms start by writing down the math or logical steps that breaks the problem into smaller pieces, then turn that into a recursive function."
   ]
  },
  {
   "cell_type": "markdown",
   "metadata": {},
   "source": [
    "# 5.12.1 Traversing Nested Dictionaries with Recursion\n",
    "Recursion can be more easy to understand than loops, for exmaple when dealing with nested structures like dictionaries.\n",
    "\n",
    "Why use recursion in nested data structure\n",
    "Loops can handle most tasks, but working with nested data like JSON file with multiple layers, recursion often looks cleaner.\n",
    "Example: JSON data is converted into nested dictionary when loaded into python"
   ]
  },
  {
   "cell_type": "code",
   "execution_count": null,
   "metadata": {},
   "outputs": [],
   "source": [
    "json_str = \"\"\"\n",
    "{\n",
    "    \"widget\": {\n",
    "        \"debug\": \"on\",\n",
    "        \"window\": {\n",
    "            \"title\": \"Sample Konfabulator Widget\",\n",
    "            \"name\": \"main_window\",\n",
    "            \"width\": 500,\n",
    "            \"height\": 500\n",
    "        },\n",
    "        \"image\": {\n",
    "            \"src\": \"Images/Sun.png\",\n",
    "            \"name\": \"sun1\",\n",
    "            \"hOffset\": 250,\n",
    "            \"vOffset\": 250,\n",
    "            \"alignment\": \"center\"\n",
    "        },\n",
    "        \"text\": {\n",
    "            \"data\": \"Click Here\",\n",
    "            \"size\": 36,\n",
    "            \"style\": \"bold\",\n",
    "            \"name\": \"text1\",\n",
    "            \"hOffset\": 250,\n",
    "            \"vOffset\": 100,\n",
    "            \"alignment\": \"center\",\n",
    "            \"onMouseUp\": \"sun1.opacity = (sun1.opacity / 100) * 90;\"\n",
    "        }\n",
    "    }\n",
    "}\n",
    "\"\"\""
   ]
  },
  {
   "cell_type": "code",
   "execution_count": null,
   "metadata": {},
   "outputs": [
    {
     "data": {
      "text/plain": [
       "dict"
      ]
     },
     "metadata": {},
     "output_type": "display_data"
    }
   ],
   "source": [
    "import json\n",
    "data = json.loads(json_str)\n",
    "type(data)"
   ]
  },
  {
   "cell_type": "code",
   "execution_count": null,
   "metadata": {},
   "outputs": [
    {
     "name": "stdout",
     "output_type": "stream",
     "text": [
      "widget\n"
     ]
    },
    {
     "data": {
      "text/plain": [
       "dict"
      ]
     },
     "metadata": {},
     "output_type": "display_data"
    }
   ],
   "source": [
    "for item in data.keys():\n",
    "    print(item)\n",
    "type(data['widget'])"
   ]
  },
  {
   "cell_type": "markdown",
   "metadata": {},
   "source": [
    "depth (data) = 1 + max(depth (data(0))), depth(data[1]),...)\n",
    "\n",
    "Recursive formula= maximum depth of a nested data structure in a dictionary or list\n",
    "depth(data) represents the current depth of the data structure \n",
    "base case(1)= current level of depth\n",
    "(max(depth(data[0]), depth(data[1]), ...)): = recursively find the depth of each nested element inside data.\n",
    "max() = finds the maximum depth among all the nested elements. \n",
    "addign 1 for each level = Once the deepest nested depth is found, we add 1 to account for the current level."
   ]
  },
  {
   "cell_type": "code",
   "execution_count": null,
   "metadata": {},
   "outputs": [
    {
     "data": {
      "text/plain": [
       "4"
      ]
     },
     "metadata": {},
     "output_type": "display_data"
    }
   ],
   "source": [
    "def depth(data):\n",
    "    #base case = data type is not a dictionary = no more levels\n",
    "    if type(data) == dict:\n",
    "        return 1 + max(depth(item) for item in data.values())\n",
    "        # Calls itself (depth(item)) for each value, finds the maximum depth of all these values , Adds 1 to this value to account for the current level\n",
    "    return 1\n",
    "depth(data)"
   ]
  },
  {
   "cell_type": "markdown",
   "metadata": {},
   "source": [
    "without recursion we would be writing a bunch of loops"
   ]
  },
  {
   "cell_type": "markdown",
   "metadata": {},
   "source": [
    "# 5.13.1 Using parameters\n",
    "Best way to pass values into functions. They keep functions encapsulated aka separate and modular."
   ]
  },
  {
   "cell_type": "code",
   "execution_count": null,
   "metadata": {},
   "outputs": [],
   "source": [
    "def feedback(grade, comment=\"\"):\n",
    "    if grade >= 90 and grade <= 100:\n",
    "        return \"A \" + comment  # Add space after the letter grade\n",
    "    elif grade >= 80 and grade < 90:\n",
    "        return \"B \" + comment\n",
    "    elif grade >= 70 and grade < 80:\n",
    "        return \"C \" + comment\n",
    "    elif grade >= 60 and grade < 70:\n",
    "        return \"D \" + comment\n",
    "    else:\n",
    "        return \"F \" + comment"
   ]
  },
  {
   "cell_type": "code",
   "execution_count": null,
   "metadata": {},
   "outputs": [
    {
     "name": "stdout",
     "output_type": "stream",
     "text": [
      "A  - Great work!\n",
      "B \n"
     ]
    }
   ],
   "source": [
    "print(feedback(90, \"Great work!\"))\n",
    "print(feedback(80))"
   ]
  },
  {
   "cell_type": "markdown",
   "metadata": {},
   "source": [
    "Using None as a Default Value:"
   ]
  },
  {
   "cell_type": "code",
   "execution_count": null,
   "metadata": {},
   "outputs": [],
   "source": [
    "def feedback(grade=None, comment=None):\n",
    "    text = \"\"if comment == None else \" - \" + comment\n",
    "    if grade == None:\n",
    "        return (\"grade is Missing. \" + text)\n",
    "    elif grade >= 90 and grade <= 100:\n",
    "        return \"A \" + text  \n",
    "    elif grade >= 80 and grade < 90:\n",
    "        return \"B \" + text\n",
    "    elif grade >= 70 and grade < 80:\n",
    "        return \"C \" + text\n",
    "    elif grade >= 60 and grade < 70:\n",
    "        return \"D \" + text\n",
    "    else:\n",
    "        return \"F \" + text"
   ]
  },
  {
   "cell_type": "code",
   "execution_count": null,
   "metadata": {},
   "outputs": [
    {
     "name": "stdout",
     "output_type": "stream",
     "text": [
      "A  - Great work!\n",
      "B \n",
      "C  - please study more\n",
      "grade is Missing. \n"
     ]
    }
   ],
   "source": [
    "print(feedback(90, \"Great work!\"))\n",
    "print(feedback(80))\n",
    "print(feedback(75, \"please study more\"))\n",
    "print(feedback())"
   ]
  },
  {
   "cell_type": "code",
   "execution_count": null,
   "metadata": {},
   "outputs": [],
   "source": [
    "def add_total(order_list = []):\n",
    "    total = sum([quantity for name, quantity in order_list])\n",
    "    order_list.append((\"total\", total))\n",
    "    print(order_list)"
   ]
  },
  {
   "cell_type": "code",
   "execution_count": null,
   "metadata": {},
   "outputs": [
    {
     "name": "stdout",
     "output_type": "stream",
     "text": [
      "[('Bob', 8), ('teri', 3), ('pat', 4), ('total', 15)]\n"
     ]
    }
   ],
   "source": [
    "order_list = [(\"Bob\", 8), (\"teri\", 3), (\"pat\", 4)]\n",
    "add_total(order_list)"
   ]
  },
  {
   "cell_type": "markdown",
   "metadata": {},
   "source": [
    "Default variable in the parameter continues to grow; they are not reset with each function call"
   ]
  },
  {
   "cell_type": "code",
   "execution_count": null,
   "metadata": {},
   "outputs": [
    {
     "name": "stdout",
     "output_type": "stream",
     "text": [
      "[('total', 0)]\n"
     ]
    }
   ],
   "source": [
    "add_total()"
   ]
  },
  {
   "cell_type": "code",
   "execution_count": null,
   "metadata": {},
   "outputs": [
    {
     "name": "stdout",
     "output_type": "stream",
     "text": [
      "[('total', 0), ('total', 0)]\n"
     ]
    }
   ],
   "source": [
    "add_total()"
   ]
  },
  {
   "cell_type": "markdown",
   "metadata": {},
   "source": [
    "Keyword Arguments:"
   ]
  },
  {
   "cell_type": "code",
   "execution_count": null,
   "metadata": {},
   "outputs": [
    {
     "name": "stdout",
     "output_type": "stream",
     "text": [
      "A  - keep it up!\n",
      "B  - not bad.\n"
     ]
    }
   ],
   "source": [
    "print(feedback(90, comment= \"keep it up!\"))\n",
    "print(feedback(comment=\"not bad.\", grade=88))"
   ]
  },
  {
   "cell_type": "code",
   "execution_count": null,
   "metadata": {},
   "outputs": [
    {
     "name": "stdout",
     "output_type": "stream",
     "text": [
      "B  - not bad.\n"
     ]
    }
   ],
   "source": []
  },
  {
   "cell_type": "markdown",
   "metadata": {},
   "source": [
    "More on keyword arguments: instead of a new line you can add spaces"
   ]
  },
  {
   "cell_type": "code",
   "execution_count": null,
   "metadata": {},
   "outputs": [
    {
     "name": "stdout",
     "output_type": "stream",
     "text": [
      "Default\n",
      "print\n",
      "behavior\n",
      "Modified print behavior."
     ]
    }
   ],
   "source": [
    "print(\"Default\")\n",
    "print(\"print\")\n",
    "print(\"behavior\")\n",
    "\n",
    "print(\"Modified\", end = \" \")\n",
    "print(\"print\", end = \" \")\n",
    "print(\"behavior\", en = \".\")"
   ]
  },
  {
   "cell_type": "markdown",
   "metadata": {},
   "source": [
    "# 5.14.1 Functions are objects\n",
    "Python everything is an object. you can assign functions to variables, pass them as arguemnts to other functions, and even return them from functions.\n",
    "Example:"
   ]
  },
  {
   "cell_type": "code",
   "execution_count": null,
   "metadata": {},
   "outputs": [
    {
     "data": {
      "text/plain": [
       "function"
      ]
     },
     "metadata": {},
     "output_type": "display_data"
    }
   ],
   "source": [
    "def round10(x):\n",
    "    return (x+5) // 10 * 10 #round10 rounds the number x to the nearest 10"
   ]
  },
  {
   "cell_type": "code",
   "execution_count": null,
   "metadata": {},
   "outputs": [
    {
     "data": {
      "text/plain": [
       "10"
      ]
     },
     "metadata": {},
     "output_type": "display_data"
    }
   ],
   "source": [
    "a = round10 #assingns the function to variable a\n",
    "a(12)"
   ]
  },
  {
   "cell_type": "code",
   "execution_count": null,
   "metadata": {},
   "outputs": [],
   "source": [
    "def apply_to_grades(operation, grade_list): #you can pass the fuction as an argument to another fuctions\n",
    "    return [(name, operation(grade)) for name, grade in grade_list] #in this fuction operations is another function that we will apply to each grade in grade list"
   ]
  },
  {
   "cell_type": "code",
   "execution_count": null,
   "metadata": {},
   "outputs": [
    {
     "name": "stdout",
     "output_type": "stream",
     "text": [
      "[('Betty', 90), ('steve', 70), ('Bob', 70), ('teri', 90), ('Sandy', 100)]\n"
     ]
    }
   ],
   "source": [
    "grade_list = [(\"Betty\", 88), (\"steve\", 74), (\"Bob\", 73), (\"teri\", 94), (\"Sandy\", 97)] #example with list of grades\n",
    "print(apply_to_grades(round10, grade_list)) #this will apply round10 to each grade"
   ]
  },
  {
   "cell_type": "code",
   "execution_count": null,
   "metadata": {},
   "outputs": [
    {
     "data": {
      "text/plain": [
       "[20, 50, 40, 70]"
      ]
     },
     "metadata": {},
     "output_type": "display_data"
    }
   ],
   "source": [
    "list(map(round10, (23, 45, 42, 66))) #map () allows us to apply fucntion to all items in the list, in this example (round10, numbers applies the fuction round10"
   ]
  },
  {
   "cell_type": "code",
   "execution_count": null,
   "metadata": {},
   "outputs": [
    {
     "data": {
      "text/plain": [
       "<function __main__.<lambda>(x)>"
      ]
     },
     "metadata": {},
     "output_type": "display_data"
    }
   ],
   "source": [
    "lambda x : 100 - (100 - x)/2 #use lambda because it is compact "
   ]
  },
  {
   "cell_type": "code",
   "execution_count": null,
   "metadata": {},
   "outputs": [
    {
     "data": {
      "text/plain": [
       "[('Betty', 94.0),\n",
       " ('steve', 87.0),\n",
       " ('Bob', 86.5),\n",
       " ('teri', 97.0),\n",
       " ('Sandy', 98.5)]"
      ]
     },
     "metadata": {},
     "output_type": "display_data"
    }
   ],
   "source": [
    "apply_to_grades(lambda x : 100 - (100 - x)/2, grade_list) #this lambda fuction inflates grades"
   ]
  },
  {
   "cell_type": "code",
   "execution_count": null,
   "metadata": {},
   "outputs": [
    {
     "data": {
      "text/plain": [
       "[529, 2025, 1764, 4356]"
      ]
     },
     "metadata": {},
     "output_type": "display_data"
    }
   ],
   "source": [
    "list(map(lambda x: x**2, (23, 45, 42, 66))) #you can use lambda functions with map() to apply an operation to a list."
   ]
  },
  {
   "cell_type": "markdown",
   "metadata": {},
   "source": [
    "# 5.15.1 Exceptions\n"
   ]
  },
  {
   "cell_type": "code",
   "execution_count": null,
   "metadata": {},
   "outputs": [
    {
     "ename": "ValueError",
     "evalue": "invalid literal for int() with base 10: ''",
     "output_type": "error",
     "traceback": [
      "\u001b[0;31m---------------------------------------------------------------------------\u001b[0m\n",
      "\u001b[0;31mValueError\u001b[0m                                Traceback (most recent call last)\n",
      "Cell \u001b[0;32mIn[76], line 1\u001b[0m\n",
      "\u001b[0;32m----> 1\u001b[0m x \u001b[38;5;241m=\u001b[39m \u001b[38;5;28mint\u001b[39m(\u001b[38;5;28minput\u001b[39m(\u001b[38;5;124m\"\u001b[39m\u001b[38;5;124mEnter a number:\u001b[39m\u001b[38;5;124m\"\u001b[39m))\n",
      "\u001b[1;32m      2\u001b[0m \u001b[38;5;28mprint\u001b[39m(\u001b[38;5;124m\"\u001b[39m\u001b[38;5;124mthe reciprocal of your number is:\u001b[39m\u001b[38;5;124m\"\u001b[39m, \u001b[38;5;241m1\u001b[39m\u001b[38;5;241m/\u001b[39mx)\n",
      "\n",
      "\u001b[0;31mValueError\u001b[0m: invalid literal for int() with base 10: ''"
     ]
    }
   ],
   "source": [
    "x = int(input(\"Enter a number:\"))\n",
    "print(\"the reciprocal of your number is:\", 1/x)"
   ]
  },
  {
   "cell_type": "markdown",
   "metadata": {},
   "source": [
    "We receive a value error, which I understand, but may confuse other people who use our program. When there is a chance for the code to go through an exception, meaning when you there is a common error that could be made, encase in a try-except statement. "
   ]
  },
  {
   "cell_type": "code",
   "execution_count": null,
   "metadata": {},
   "outputs": [
    {
     "name": "stdout",
     "output_type": "stream",
     "text": [
      "You did not enter a valid number.\n"
     ]
    }
   ],
   "source": [
    "try:\n",
    "    x = int(input(\"Enter a number:\"))\n",
    "    print(\"the reciprocal of your number is:\", 1/x)\n",
    "except:\n",
    "    print(\"You did not enter a valid number.\")"
   ]
  },
  {
   "cell_type": "markdown",
   "metadata": {},
   "source": [
    "The output is now more graceful and comprehendable. But what if there are different types of potential errors? In this case, we could have an invalid number or 0 entered, causing a zero division error."
   ]
  },
  {
   "cell_type": "code",
   "execution_count": null,
   "metadata": {},
   "outputs": [
    {
     "name": "stdout",
     "output_type": "stream",
     "text": [
      "You did not enter a valid number.\n"
     ]
    }
   ],
   "source": [
    "try:\n",
    "    x = int(input(\"Enter a number:\"))\n",
    "    print(\"the reciprocal of your number is:\", 1/x)\n",
    "except ValueError:\n",
    "    print(\"You did not enter a valid number.\")\n",
    "except ZeroDivisionError:\n",
    "    print(\"Zero does not have a reciprocal.\")\n",
    "except:\n",
    "    print(\"Something other than a ValueError or ZeroDivisionError went wrong.\")"
   ]
  },
  {
   "cell_type": "markdown",
   "metadata": {},
   "source": [
    "You can also raise exceptions work for you within a function."
   ]
  },
  {
   "cell_type": "code",
   "execution_count": null,
   "metadata": {},
   "outputs": [],
   "source": [
    "def sell_no_ex(item, quantity, inventory):\n",
    "    q = inventory[item]\n",
    "    inventory[item] = q-quantity\n",
    "\n",
    "inventory_no_ex = {\"oranges\": 10, \"apples\": 5, \"plums\": 1}"
   ]
  },
  {
   "cell_type": "code",
   "execution_count": null,
   "metadata": {},
   "outputs": [
    {
     "data": {
      "text/plain": [
       "{'oranges': -1, 'apples': 5, 'plums': 1}"
      ]
     },
     "metadata": {},
     "output_type": "display_data"
    }
   ],
   "source": [
    "sell_no_ex(\"oranges\", 11, inventory_no_ex)\n",
    "inventory_no_ex"
   ]
  },
  {
   "cell_type": "markdown",
   "metadata": {},
   "source": [
    "This is clearly illogical, how can we use exceptions to stop a sale?"
   ]
  },
  {
   "cell_type": "code",
   "execution_count": null,
   "metadata": {},
   "outputs": [],
   "source": [
    "def sell(item, quantity, inventory):\n",
    "    if item not in inventory:\n",
    "        raise Exception(str(item) + \"does not appear in inventory.\")\n",
    "    q = inventory[item]\n",
    "    if q < quantity:\n",
    "        raise Exception(\"Inventory does not contain enough of item to sell.\")\n",
    "    inventory[item] = q-quantity\n",
    "\n",
    "inventory = {\"oranges\": 10, \"apples\": 5, \"plums\": 1}"
   ]
  },
  {
   "cell_type": "code",
   "execution_count": null,
   "metadata": {},
   "outputs": [
    {
     "ename": "Exception",
     "evalue": "Inventory does not contain enough of item to sell.",
     "output_type": "error",
     "traceback": [
      "\u001b[0;31m---------------------------------------------------------------------------\u001b[0m\n",
      "\u001b[0;31mException\u001b[0m                                 Traceback (most recent call last)\n",
      "Cell \u001b[0;32mIn[82], line 1\u001b[0m\n",
      "\u001b[0;32m----> 1\u001b[0m sell(\u001b[38;5;124m\"\u001b[39m\u001b[38;5;124moranges\u001b[39m\u001b[38;5;124m\"\u001b[39m, \u001b[38;5;241m11\u001b[39m, inventory)\n",
      "\n",
      "Cell \u001b[0;32mIn[81], line 6\u001b[0m, in \u001b[0;36msell\u001b[0;34m(item, quantity, inventory)\u001b[0m\n",
      "\u001b[1;32m      4\u001b[0m q \u001b[38;5;241m=\u001b[39m inventory[item]\n",
      "\u001b[1;32m      5\u001b[0m \u001b[38;5;28;01mif\u001b[39;00m q \u001b[38;5;241m<\u001b[39m quantity:\n",
      "\u001b[0;32m----> 6\u001b[0m     \u001b[38;5;28;01mraise\u001b[39;00m \u001b[38;5;167;01mException\u001b[39;00m(\u001b[38;5;124m\"\u001b[39m\u001b[38;5;124mInventory does not contain enough of item to sell.\u001b[39m\u001b[38;5;124m\"\u001b[39m)\n",
      "\u001b[1;32m      7\u001b[0m inventory[item] \u001b[38;5;241m=\u001b[39m q\u001b[38;5;241m-\u001b[39mquantity\n",
      "\n",
      "\u001b[0;31mException\u001b[0m: Inventory does not contain enough of item to sell."
     ]
    }
   ],
   "source": [
    "sell(\"oranges\", 11, inventory)"
   ]
  },
  {
   "cell_type": "markdown",
   "metadata": {},
   "source": [
    "Even cleaner:"
   ]
  },
  {
   "cell_type": "code",
   "execution_count": null,
   "metadata": {},
   "outputs": [
    {
     "name": "stdout",
     "output_type": "stream",
     "text": [
      "Could not complete sale: Inventory does not contain enough of item to sell.\n"
     ]
    }
   ],
   "source": [
    "try:\n",
    "    sell(\"oranges\", 11, inventory)\n",
    "except Exception as e:\n",
    "    print(\"Could not complete sale: \" + str(e))"
   ]
  },
  {
   "cell_type": "markdown",
   "metadata": {},
   "source": [
    "# 15.16.1 Lambda Functions"
   ]
  },
  {
   "cell_type": "markdown",
   "metadata": {},
   "source": [
    "Lambda functions are special short-hand function and their compact notation helps us write compact and readable code."
   ]
  },
  {
   "cell_type": "code",
   "execution_count": null,
   "metadata": {},
   "outputs": [
    {
     "data": {
      "text/plain": [
       "[1, 4, 9, 16]"
      ]
     },
     "metadata": {},
     "output_type": "display_data"
    }
   ],
   "source": [
    "#basic function\n",
    "def square_list(list_):\n",
    "    \"\"\"returns a list with squares of original list\"\"\"\n",
    "    new_list = []\n",
    "    for num in list_:\n",
    "        new_list.append(num**2)\n",
    "    return new_list\n",
    "square_list([1, 2, 3, 4])"
   ]
  },
  {
   "cell_type": "code",
   "execution_count": null,
   "metadata": {},
   "outputs": [
    {
     "data": {
      "text/plain": [
       "[1, 4, 9, 16]"
      ]
     },
     "metadata": {},
     "output_type": "display_data"
    }
   ],
   "source": [
    "#lambda function\n",
    "square_list_l = lambda new_list_l: [num ** 2 for num in new_list_l]\n",
    "square_list_l([1, 2, 3, 4])"
   ]
  }
 ],
 "metadata": {
  "language_info": {
   "name": "python"
  }
 },
 "nbformat": 4,
 "nbformat_minor": 2
}
