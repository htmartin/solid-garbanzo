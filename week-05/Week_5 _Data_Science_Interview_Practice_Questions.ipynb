{
 "cells": [
  {
   "cell_type": "markdown",
   "id": "b8d3cbc7-eec7-4e67-88c0-3484a846a015",
   "metadata": {},
   "source": [
    "# Week 5 \n",
    "## General knowledge Data Science Interview Questions \n",
    "\n",
    "### Questions\n",
    "\n",
    "1. What is a function in Python, and why are functions important for writing modular code?\n",
    "2. How do you define and call a function in Python, and what are the roles of parameters and arguments in functions?\n",
    "3. What is the difference between the `return` statement and docstrings in Python functions?\n",
    "4. What is the role of the call stack in Python's function execution flow?\n",
    "5. How do local and global variables differ, and what are the best practices for using global variables inside functions?\n",
    "\n",
    "\n",
    "## Coding/Scripting Data Science Interview Questions \n",
    "\n",
    "### Questions\n",
    "\n",
    "1. Write a Python function that calculates the factorial of a given number using recursion.\n",
    "2. Write a Python function that takes two arguments and swaps them using a return statement.\n",
    "3. Write a Python function that computes the nth Fibonacci number using recursion.\n",
    "4. Write a Python function that checks if a given string is a palindrome, considering the string case-insensitive.\n",
    "5. Write a Python function that sums all elements in a nested list, handling both integers and sublists recursively."
   ]
  },
  {
   "cell_type": "code",
   "execution_count": null,
   "id": "e0638629-e54e-4c61-882c-557df8e0ce6b",
   "metadata": {},
   "outputs": [],
   "source": []
  }
 ],
 "metadata": {
  "kernelspec": {
   "display_name": "Python 3 (ipykernel)",
   "language": "python",
   "name": "python3"
  },
  "language_info": {
   "codemirror_mode": {
    "name": "ipython",
    "version": 3
   },
   "file_extension": ".py",
   "mimetype": "text/x-python",
   "name": "python",
   "nbconvert_exporter": "python",
   "pygments_lexer": "ipython3",
   "version": "3.11.9"
  }
 },
 "nbformat": 4,
 "nbformat_minor": 5
}
