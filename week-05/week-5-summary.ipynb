{
 "cells": [
  {
   "cell_type": "code",
   "execution_count": 17,
   "metadata": {},
   "outputs": [
    {
     "data": {
      "text/html": [
       "<img src=\"images/startImage.jpg\"/>"
      ],
      "text/plain": [
       "<IPython.core.display.Image object>"
      ]
     },
     "execution_count": 17,
     "metadata": {},
     "output_type": "execute_result"
    }
   ],
   "source": [
    "from IPython.display import Image\n",
    "from IPython.core.display import HTML \n",
    "Image(url= \"images/startImage.jpg\")"
   ]
  },
  {
   "cell_type": "markdown",
   "metadata": {},
   "source": [
    "<hr />\n",
    "<div style=\"background-color:skyblue;padding:15px; border-radius:4px;font-size:3vw;line-height:3.5vw;\">\n",
    "    Week 5: Functions, Map, Lambda, SysArg, Recursion, Try/Except\n",
    "    </div>\n",
    "    <p style=\"font-size:9px;\">Candidate Week 5, Spring 2022, Jan 31</p>\n",
    "<div style=\"border-radius:3px;padding:5px;background-color:cornflowerblue;color:white\">Today&rsquo;s Topics: Functions and More\n",
    "<ol>\n",
    "    <li>Functions\n",
    "        <ul>\n",
    "            <li>Baseline example</li>\n",
    "            <li>Parameters and Default Parameters</li>\n",
    "            <li>Errors and Functions</li>\n",
    "            <li>Default Values</li>\n",
    "            <li>Optional: *arg and **kwarg</li>\n",
    "            <li>Keyword Arguments</li>\n",
    "            <li>Global and Local Vars</li>\n",
    "            <li>Wraping functions</li>\n",
    "        </ul>\n",
    "    </li>\n",
    "    <li>System Arguments</li>\n",
    "    <li>Try ... Except Block\n",
    "        <ul>\n",
    "            <li>Basics</li>\n",
    "            <li>Writing our own exceptions</li>\n",
    "            <li>SQL Example</li>\n",
    "        </ul>\n",
    "    </li>\n",
    "    <li>Lambda &amp; Map Functions\n",
    "        <ul>\n",
    "            <li>Lambda</li>\n",
    "            <li>Map and Lambda</li>\n",
    "            <li>Sorting dictionary examples</li>\n",
    "            <li>Review</li>\n",
    "        </ul>\n",
    "    </li>\n",
    "    <li>Recursion</li>\n",
    "    <li>Stack Trace Extra</li>\n",
    "    <li>Optional Demos\n",
    "        <ul>\n",
    "            <li>Counting data examples</li>\n",
    "            <li>Rounding examples and Decimal</li>\n",
    "            <li>Pseudocode Example</li>\n",
    "            <li>Writing a .dat file with pickle</li>\n",
    "            <li>Using the os and re modules</li>\n",
    "        </ul>\n",
    "    </li>\n",
    "</ol>\n",
    "<p>This notebook has additional demos and explanations that might be useful.</p>\n",
    "<hr />\n",
    "</div>\n",
    "<hr />\n",
    "<h2 style=\"background-color:steelblue;padding:10px;border-radius:3px;font-size:2vw;color:white;\">1.  Functions</h2>\n",
    "<p>Overview: Python has a number of function types and features:\n",
    "<ul><li>user-defined</li>\n",
    "    <li>built-in</li>\n",
    "    <li>lambda (and using map())</li>\n",
    "    <li>recursive</li>\n",
    "    <li>a function can call another function (nested)</li>\n",
    "    <li>functions can have default parameters</li>\n",
    "    </ul>\n",
    "</p>\n",
    "<p>and we can use the <code>type()</code> command on a function, too, to see that it&rsquo;s an object.</p>"
   ]
  },
  {
   "cell_type": "markdown",
   "metadata": {},
   "source": [
    "<hr/><h2 style=\"color:steelblue;\">1a.  Creating a Function: baseline</h2>\n",
    "<ol>\n",
    "    <li>define a function with the keyword def</li>\n",
    "    <li>pass <span style=\"color:red;\">zero or more parameters</span> to that function; the parameters are used in the function with scope limited only to that function</li>\n",
    "    <li>functions may look outside themselves if you refer to a variable that is not inside the function; for instance, if there’s a global variable</li>\n",
    "    <li>functions may (but don&rsquo;t have to) <span style=\"color:red;\">return</span> a new value</li>\n",
    "    <li>functions are <span style=\"color:red;\">defined</span> - but <span style=\"color:red;\">not used until called in the code</span></li>\n",
    "    <li>functions can take <span style=\"color:red;\">default values</span>, too.  E.g., def myFunction(x = 5):</li>\n",
    "</ol>\n",
    "<p>(how does passing a default affect your code?)</p>"
   ]
  },
  {
   "cell_type": "markdown",
   "metadata": {},
   "source": [
    "<hr/><h2 style=\"color:steelblue;\">1b. Demo Functions; parameters and default parameters</h2>"
   ]
  },
  {
   "cell_type": "code",
   "execution_count": 3,
   "metadata": {},
   "outputs": [
    {
     "name": "stdout",
     "output_type": "stream",
     "text": [
      "The weather today is great!\n",
      "Thursday's weather will be 75 degrees.\n"
     ]
    }
   ],
   "source": [
    "# ---- FUNCTIONS TO SHOW DEFINITION, 0+ parameters ---\n",
    "# stripped down function, using the def keyword\n",
    "\n",
    "def show_the_weather():\n",
    "    print(\"The weather today is great!\")\n",
    "\n",
    "# call the function whenever we want and as often as we want\n",
    "show_the_weather()\n",
    "\n",
    "\n",
    "def show_the_weather(day, temp):\n",
    "    # this function accepts 2 parameters\n",
    "    print(f\"{day}'s weather will be {temp} degrees.\")\n",
    "\n",
    "show_the_weather(\"Thursday\", 75)"
   ]
  },
  {
   "cell_type": "code",
   "execution_count": 4,
   "metadata": {},
   "outputs": [
    {
     "ename": "NameError",
     "evalue": "name 'cat' is not defined",
     "output_type": "error",
     "traceback": [
      "\u001b[0;31m---------------------------------------------------------------------------\u001b[0m",
      "\u001b[0;31mNameError\u001b[0m                                 Traceback (most recent call last)",
      "Input \u001b[0;32mIn [4]\u001b[0m, in \u001b[0;36m<module>\u001b[0;34m\u001b[0m\n\u001b[0;32m----> 1\u001b[0m \u001b[43mcat\u001b[49m()\n\u001b[1;32m      2\u001b[0m cat(i)\n\u001b[1;32m      3\u001b[0m cat(i, string)\n",
      "\u001b[0;31mNameError\u001b[0m: name 'cat' is not defined"
     ]
    }
   ],
   "source": [
    "cat()\n",
    "cat(i)\n",
    "cat(i, string)\n",
    "\n",
    "cat()\n",
    "cat(5)\n",
    "cat(5, \"hello, kitty\")"
   ]
  },
  {
   "cell_type": "code",
   "execution_count": 5,
   "metadata": {},
   "outputs": [
    {
     "name": "stdout",
     "output_type": "stream",
     "text": [
      "A single parameter in the print method:\n",
      "\n",
      "Today's weather temperate or cool\n",
      "Today's weather is temperate or cool\n"
     ]
    }
   ],
   "source": [
    "def show_the_weather(day, temp):\n",
    "     # this function accepts 2 parameters\n",
    "    print(f\"{day}'s weather:\")\n",
    "    print( day_type(temp) )  #this function in another function\n",
    "\n",
    "\n",
    "def day_type(temp):\n",
    "    if temp >= 85:\n",
    "        return \"hot!\"\n",
    "    elif temp >= 75 and temp < 85:\n",
    "        return \"pretty warm\"\n",
    "    elif temp >= 50 and temp < 75:\n",
    "        return \"temperate or cool\"\n",
    "    else:\n",
    "        return \"may be cold.\"\n",
    "    \n",
    "# notice we can use the print() command to accept 0, 1 or more arguments\n",
    "print(\"A single parameter in the print method:\\n\")\n",
    "\n",
    "print(\"Today's weather\", day_type(65))\n",
    "print(f\"Today's weather is {day_type(65)}\")"
   ]
  },
  {
   "cell_type": "code",
   "execution_count": 6,
   "metadata": {},
   "outputs": [
    {
     "name": "stdout",
     "output_type": "stream",
     "text": [
      "25\n",
      "9\n",
      "Gauri paid $ 62\n"
     ]
    },
    {
     "data": {
      "text/plain": [
       "'The exchange rate for Today is 0.1%'"
      ]
     },
     "execution_count": 6,
     "metadata": {},
     "output_type": "execute_result"
    }
   ],
   "source": [
    "x = 22\n",
    "\n",
    "def demo_zero():\n",
    "    print('hurray')\n",
    "    \n",
    "def demo_one(x):\n",
    "    print(x ** 2)\n",
    "    \n",
    "def demo_two(x, y):\n",
    "    print(x + y)\n",
    "    \n",
    "def demo_three(x, y, name):\n",
    "    print(name, \"paid $\", x+y)\n",
    "    \n",
    "demo_one(5)\n",
    "demo_two(6,3)\n",
    "demo_three(20, 42, \"Gauri\")\n",
    "\n",
    "# and a default in the parameter\n",
    "def inflation(x, y, day = 'Today'):\n",
    "    z = (\"The exchange rate for \" + day + \" is \" + str(x*y/100)  + \"%\")\n",
    "    return(z)\n",
    "\n",
    "\n",
    "# try the function with and without a day parameter.\n",
    "inflation(5, 2, \"Feb 1, 2021\")\n",
    "inflation(5, 2)"
   ]
  },
  {
   "cell_type": "markdown",
   "metadata": {},
   "source": [
    "<hr/><h2 style=\"color:steelblue;\">1c. Errors and Functions</h2>"
   ]
  },
  {
   "cell_type": "code",
   "execution_count": 7,
   "metadata": {},
   "outputs": [
    {
     "name": "stdout",
     "output_type": "stream",
     "text": [
      "I accept a single parameter - here, called name: Dave\n",
      "but what if we don't pass any data?\n"
     ]
    },
    {
     "ename": "TypeError",
     "evalue": "myfunction() missing 1 required positional argument: 'name'",
     "output_type": "error",
     "traceback": [
      "\u001b[0;31m---------------------------------------------------------------------------\u001b[0m",
      "\u001b[0;31mTypeError\u001b[0m                                 Traceback (most recent call last)",
      "Input \u001b[0;32mIn [7]\u001b[0m, in \u001b[0;36m<module>\u001b[0;34m\u001b[0m\n\u001b[1;32m      3\u001b[0m     \u001b[38;5;28mprint\u001b[39m(\u001b[38;5;124m\"\u001b[39m\u001b[38;5;124mbut what if we don\u001b[39m\u001b[38;5;124m'\u001b[39m\u001b[38;5;124mt pass any data?\u001b[39m\u001b[38;5;124m\"\u001b[39m)\n\u001b[1;32m      5\u001b[0m myfunction(\u001b[38;5;124m\"\u001b[39m\u001b[38;5;124mDave\u001b[39m\u001b[38;5;124m\"\u001b[39m)\n\u001b[0;32m----> 6\u001b[0m \u001b[43mmyfunction\u001b[49m\u001b[43m(\u001b[49m\u001b[43m)\u001b[49m\n",
      "\u001b[0;31mTypeError\u001b[0m: myfunction() missing 1 required positional argument: 'name'"
     ]
    }
   ],
   "source": [
    "def myfunction(name):\n",
    "    print(\"I accept a single parameter - here, called name:\", name)\n",
    "    print(\"but what if we don't pass any data?\")\n",
    "\n",
    "myfunction(\"Dave\")\n",
    "myfunction()\n"
   ]
  },
  {
   "cell_type": "markdown",
   "metadata": {},
   "source": [
    "<hr/><h2 style=\"color:steelblue;\">1d.  Default Values and parameters</h2>\n",
    "<p>Note that default names follow last in the list.</p>"
   ]
  },
  {
   "cell_type": "code",
   "execution_count": 8,
   "metadata": {},
   "outputs": [
    {
     "name": "stdout",
     "output_type": "stream",
     "text": [
      "Welcome, Rex\n",
      "Welcome, Tom\n"
     ]
    }
   ],
   "source": [
    "def myfunction(name = \"Tom\"):\n",
    "    print(\"Welcome,\", name)\n",
    "\n",
    "myfunction(\"Rex\")\n",
    "myfunction()"
   ]
  },
  {
   "cell_type": "markdown",
   "metadata": {},
   "source": [
    "<hr/>\n",
    "<h2 style=\"color:steelblue;\">1e. Optional: *arg and **kwarg</h2>\n",
    "<ul>\n",
    "    <li>\n",
    "        <code>*args</code> is used to unpack a list. \"args\" is just a name - call it anything you want. The * is used to pass \"positional arguments\" - that is, not a copy of the full list, but a way to iterate over the positions (0, 1, 2, ... n) to get each element.\n",
    "    </li>\n",
    "    <li>\n",
    "        <code>**kwarg</code> is for unpacking dictionaries\n",
    "    </li>\n",
    "</ul>"
   ]
  },
  {
   "cell_type": "code",
   "execution_count": 9,
   "metadata": {},
   "outputs": [
    {
     "name": "stdout",
     "output_type": "stream",
     "text": [
      "x = 1   1\n",
      "x = 2   3\n",
      "x = 3   6\n",
      "\n",
      "Sumset with list:  6\n",
      "x = 1   1\n",
      "x = 2   3\n",
      "x = 3   6\n",
      "\n",
      "Sumset with hardcoded list: 6\n"
     ]
    },
    {
     "ename": "TypeError",
     "evalue": "unsupported operand type(s) for +=: 'int' and 'list'",
     "output_type": "error",
     "traceback": [
      "\u001b[0;31m---------------------------------------------------------------------------\u001b[0m",
      "\u001b[0;31mTypeError\u001b[0m                                 Traceback (most recent call last)",
      "Input \u001b[0;32mIn [9]\u001b[0m, in \u001b[0;36m<module>\u001b[0;34m\u001b[0m\n\u001b[1;32m     15\u001b[0m \u001b[38;5;28mprint\u001b[39m(\u001b[38;5;124m\"\u001b[39m\u001b[38;5;130;01m\\n\u001b[39;00m\u001b[38;5;124mSumset with hardcoded list:\u001b[39m\u001b[38;5;124m\"\u001b[39m, sumset(\u001b[38;5;241m1\u001b[39m, \u001b[38;5;241m2\u001b[39m, \u001b[38;5;241m3\u001b[39m)) \n\u001b[1;32m     16\u001b[0m \u001b[38;5;66;03m# will work fine.\u001b[39;00m\n\u001b[1;32m     17\u001b[0m \n\u001b[1;32m     18\u001b[0m \u001b[38;5;66;03m#but not using the * to indicate unpacking will fail.\u001b[39;00m\n\u001b[0;32m---> 19\u001b[0m \u001b[38;5;28mprint\u001b[39m(\u001b[43msumset\u001b[49m\u001b[43m(\u001b[49m\u001b[43ml1\u001b[49m\u001b[43m)\u001b[49m)\n",
      "Input \u001b[0;32mIn [9]\u001b[0m, in \u001b[0;36msumset\u001b[0;34m(*args)\u001b[0m\n\u001b[1;32m      7\u001b[0m summer \u001b[38;5;241m=\u001b[39m \u001b[38;5;241m0\u001b[39m\n\u001b[1;32m      8\u001b[0m \u001b[38;5;28;01mfor\u001b[39;00m x \u001b[38;5;129;01min\u001b[39;00m args:\n\u001b[0;32m----> 9\u001b[0m     summer \u001b[38;5;241m+\u001b[39m\u001b[38;5;241m=\u001b[39m x\n\u001b[1;32m     10\u001b[0m     \u001b[38;5;28mprint\u001b[39m(\u001b[38;5;124m\"\u001b[39m\u001b[38;5;124mx =\u001b[39m\u001b[38;5;124m\"\u001b[39m,x, \u001b[38;5;124m\"\u001b[39m\u001b[38;5;124m \u001b[39m\u001b[38;5;124m\"\u001b[39m, summer)\n\u001b[1;32m     11\u001b[0m \u001b[38;5;28;01mreturn\u001b[39;00m summer\n",
      "\u001b[0;31mTypeError\u001b[0m: unsupported operand type(s) for +=: 'int' and 'list'"
     ]
    }
   ],
   "source": [
    "# *args is an unpacking operator.\n",
    "\n",
    "l1 = [1, 2, 3]\n",
    "#print(l1)\n",
    "\n",
    "def sumset(*args):  # NAME doesn't matter - use *cats if you want!\n",
    "    summer = 0\n",
    "    for x in args:\n",
    "        summer += x\n",
    "        print(\"x =\",x, \" \", summer)\n",
    "    return summer\n",
    "\n",
    "print(\"\\nSumset with list: \",sumset(*l1)) \n",
    "\n",
    "print(\"\\nSumset with hardcoded list:\", sumset(1, 2, 3)) \n",
    "# will work fine.\n",
    "\n",
    "#but not using the * to indicate unpacking will fail.\n",
    "print(sumset(l1)) # will fail."
   ]
  },
  {
   "cell_type": "code",
   "execution_count": 10,
   "metadata": {},
   "outputs": [
    {
     "name": "stdout",
     "output_type": "stream",
     "text": [
      "<class 'list'>\n",
      "Who has arrived?  Suky\n"
     ]
    }
   ],
   "source": [
    "# Passing a list of hard-coded names and selecting \n",
    "# only #2 in unknown list.\n",
    "guests = [\"Tom\", \"Rex\", \"Suky\", \"Lars\"]\n",
    "print(type(guests))\n",
    "\n",
    "def invitations(*guests):\n",
    "    print(\"Who has arrived? \", guests[2])\n",
    "\n",
    "invitations(\"Tom\", \"Rex\", \"Suky\", \"Lars\")\n"
   ]
  },
  {
   "cell_type": "markdown",
   "metadata": {},
   "source": [
    "<hr/><h2 style=\"color:steelblue;\">1f.  Keyword Arguments</h2>\n",
    "<p>Keyword arguments **kwargs are usually associated with dictionaries.</p>\n",
    "<p>If you don't know how many arguments will be passed, use **</p>"
   ]
  },
  {
   "cell_type": "code",
   "execution_count": 11,
   "metadata": {},
   "outputs": [
    {
     "name": "stdout",
     "output_type": "stream",
     "text": [
      "Today's host is Rex\n"
     ]
    }
   ],
   "source": [
    "def invitations(**people):\n",
    "  print(\"Today's host is \" + people[\"host\"])\n",
    "\n",
    "invitations(dj = \"Tom\", host = \"Rex\")"
   ]
  },
  {
   "cell_type": "markdown",
   "metadata": {},
   "source": [
    "<p>With <b>dictionaries</b>, you can get data by key or by value:</p>"
   ]
  },
  {
   "cell_type": "code",
   "execution_count": 42,
   "metadata": {},
   "outputs": [
    {
     "name": "stdout",
     "output_type": "stream",
     "text": [
      "<class 'dict'>\n",
      "\n",
      "GETTING VALUES\n",
      "catdog\n"
     ]
    }
   ],
   "source": [
    "dtest = {\"1\":\"cat\", \"2\":\"dog\"}\n",
    "print(type(dtest))\n",
    "\n",
    "print(\"\\nGETTING VALUES\")\n",
    "\n",
    "def dtester(**kwargs):\n",
    "    v = \"\"\n",
    "    for i in kwargs.values():\n",
    "        v += i\n",
    "    return v\n",
    "\n",
    "print(dtester(**dtest))"
   ]
  },
  {
   "cell_type": "code",
   "execution_count": 43,
   "metadata": {},
   "outputs": [
    {
     "name": "stdout",
     "output_type": "stream",
     "text": [
      "GETTING KEYS\n",
      "<class 'dict'>\n",
      "12\n"
     ]
    }
   ],
   "source": [
    "print(\"GETTING KEYS\")\n",
    "dtest = {\"1\":\"cat\", \"2\":\"dog\"}\n",
    "print(type(dtest))\n",
    "\n",
    "def dtester(**kwargs):\n",
    "    v = \"\"\n",
    "    for i in kwargs:\n",
    "        v += i\n",
    "    return v\n",
    "\n",
    "print(dtester(**dtest))"
   ]
  },
  {
   "cell_type": "markdown",
   "metadata": {},
   "source": [
    "<hr/><h2 style=\"color:steelblue;\">\n",
    "1g. Global and Local Variables</h2>\n",
    "<p>Notice the first instance of \"x\", \"y\", and \"a\" are not in a function - they're unbound and so is visible to all parts of the script.</p>\n",
    "<p>But the x defined in demo1() is limited in scope - visible only to that function.</p>"
   ]
  },
  {
   "cell_type": "code",
   "execution_count": null,
   "metadata": {},
   "outputs": [],
   "source": [
    "x = 5\n",
    "a = \"fish\"\n",
    "\n",
    "print(\"\\nAnd functions ... \")\n",
    "def demo1():\n",
    "    x = 27   # demo1.x ≠ global x\n",
    "    return x\n",
    "\n",
    "print(\"Original x: \", x)\n",
    "print(\"\\t Calling demo1\")\n",
    "print(\"\\t x is \", demo1())\n",
    "\n",
    "y = 100 # global\n",
    "def demo2():\n",
    "    x = -1 # local x\n",
    "    print(\"\\nCalling demo2():\\n\\tlocal x * global y =\", end=\"\")\n",
    "    print(x * y)\n",
    "\n",
    "demo2()\n",
    "\n",
    "print(\"_\"*40)"
   ]
  },
  {
   "cell_type": "markdown",
   "metadata": {},
   "source": [
    "<hr/><h2 style=\"color:steelblue;\">1h.  Calling a global var from inside a function.  And optional Wrapping and Nesting Functions</h2>\n",
    "<p>Why wrap a function in another function?  Something called <i>information hiding</i>, among other reasons.  Check out <a href=\"https://en.wikipedia.org/wiki/Nested_function\">Wikipedia</a>.</p>\n",
    "<p>Main point: compare the values of <u>global</u> and <u>local (defined in a function)</u> variables.\n",
    "</p><p>Optional is the nested demo5().</p>"
   ]
  },
  {
   "cell_type": "code",
   "execution_count": null,
   "metadata": {},
   "outputs": [],
   "source": [
    "x = 5\n",
    "y = 32\n",
    "\n",
    "print(\"Global values for x and y: x =\",x,\" id [\",id(x),\"]  y =\",y,\"id [\",id(y),\"]\")\n",
    "\n",
    "def demo3():\n",
    "    # usually only local here ... so to reference global ... \n",
    "    global x\n",
    "    print(\"Calling Demo3: Accessing global x: \",x, \"and id: \", id(x))\n",
    "\n",
    "def demo4():\n",
    "    x = 30  # entirely local!\n",
    "    y = \"dog\"\n",
    "    print(\"\\nCalling Demo4: local x = \",x, \" local y = \", y)\n",
    "    print(\"\\n\\tWhat about global x and y? \")\n",
    "    \n",
    "    def demo5():\n",
    "        global x\n",
    "        x = -5\n",
    "        nonlocal y\n",
    "        y = \"cat\"\n",
    "    \n",
    "    print(\"\\n\",\"-\"*30,\"\\nInside demo4:\\\\t Local value of y:\", y,\" and id:\", id(y))\n",
    "    print(\"\\n\\tAbout to call demo5() to update global x and nonlocal y with nested function...\")\n",
    "    demo5()\n",
    "    print(\"\\n\\t> Local y is 'dog' but nonlocal y is '\",y,\"' and id:\", id(y))\n",
    "\n",
    "print(\"-\"*30,\"\\nStart the demo.\\n\\n\")\n",
    "print(f\"Original values of (global) x {x} and (global) y {y}\\n\")\n",
    "\n",
    "demo3()\n",
    "demo4()\n",
    "\n",
    "print(\"-\"*30,\"\\nAfter running demo3() and demo4(), what's the global value of y?\")\n",
    "print(\"Global y is \", y, \" id: [\", id(y),\"]\")\n",
    "\n",
    "demo5()"
   ]
  },
  {
   "cell_type": "markdown",
   "metadata": {},
   "source": [
    "<hr/>\n",
    "<h2 style=\"background-color:steelblue;padding:10px;border-radius:3px;font-size:2vw;color:white;\">2. System Arguments <code>sys.argv[]</code></h2>\n",
    "<p>Just as we can pass data into a function, so we can pass data from the terminal into our scripts, using <code>sys.argv</code></p>\n",
    "<p>Executing a .py file from the terminal window means we can provide data to the script from outside that script.  The syntax to start a python program also accepts data that are read once the program starts.  These are called the argument vector; in code they’re a Python list (called argv) from the system module (sys).  Hence sys.argv.</p>\n",
    "<p>What is the value of sys.argv[0]?</p>"
   ]
  },
  {
   "cell_type": "code",
   "execution_count": null,
   "metadata": {},
   "outputs": [],
   "source": [
    "# DON'T RUN IN THE NOTEBOOK _ use the argdemo.py from terminal window.\n",
    "import sys\n",
    "\n",
    "print(\"Name of the script\", sys.argv[0])\n",
    "\n",
    "print(\"# of args: \", len(sys.argv))\n",
    "print(\"arguments: \", str(sys.argv))\n",
    "\n",
    "# cat is choice\n",
    "for i in range(0, len(sys.argv)):\n",
    "    print(\"\\t \",i,\" is \", sys.argv[i])\n",
    "    cat = sys.argv[3]\n",
    "\n",
    "print(cat)"
   ]
  },
  {
   "cell_type": "code",
   "execution_count": 12,
   "metadata": {},
   "outputs": [
    {
     "data": {
      "text/html": [
       "<img src=\"images/argv.png\"/>"
      ],
      "text/plain": [
       "<IPython.core.display.Image object>"
      ]
     },
     "execution_count": 12,
     "metadata": {},
     "output_type": "execute_result"
    }
   ],
   "source": [
    "Image(url= \"images/argv.png\")\n",
    "# <img src=\"imags/argv.png\"/>"
   ]
  },
  {
   "cell_type": "markdown",
   "metadata": {},
   "source": [
    "<hr/>\n",
    "<h2 style=\"background-color:steelblue;padding:10px;border-radius:3px;font-size:18px;color:white;\">3.  Try...Except Block\n",
    "</h2>\n",
    "<h2 style=\"color:steelblue;\">3a. Try/Except Basics</h2><p>Here we look at try/except blocks and using built-in specific and generic exceptions.  Later we&rsquo;ll write our own.</p>\n",
    "<p>Two of the errors are \"thrown\" when the value of x aren't right - if the end-user enters a non-number value and if there's the chance of division by 0.  During debugging you can capture the important errors and catch them and respond as you wish.  The except block is for everything else that could happen ... </p>\n",
    "<p>Unique to python is the additional <code>else</code> block: useful for keeping the end-user informed of progress.</p>\n",
    "<p>There are built-in exceptions and we can define our own exceptions.</p>"
   ]
  },
  {
   "cell_type": "code",
   "execution_count": 16,
   "metadata": {},
   "outputs": [
    {
     "name": "stdout",
     "output_type": "stream",
     "text": [
      "Enter a float5\n",
      "reciprocal is  0.2\n",
      "Enter a number: 0\n",
      "Sorry, no reciprocal for 0.\n"
     ]
    }
   ],
   "source": [
    "y = float(input(\"Enter a float\"))\n",
    "print(\"reciprocal is \",1/y)\n",
    "# ----------------------------------\n",
    "\n",
    "try:\n",
    "    x = float(input(\"Enter a number: \"))\n",
    "    print(\"\\tThe reciprocal is \", 1/x)\n",
    "\n",
    "except ValueError:\n",
    "    # in case the user enters a letter\n",
    "    # this is an example of a _specific_ error\n",
    "    print(\"Sorry, only numbers, please.\")\n",
    "\n",
    "except ZeroDivisionError:\n",
    "    # this is an example of a _specific_ error\n",
    "    print(\"Sorry, no reciprocal for 0.\")\n",
    "\n",
    "except:\n",
    "    # this is an example of a _general_ error\n",
    "    # something else went wrong.\n",
    "    print(\"Sorry, there was an error.  Contact Rob.\")\n",
    "\n",
    "else:\n",
    "    print(\"\\nThis is the else section - called no matter what.\")\n",
    "    \n"
   ]
  },
  {
   "cell_type": "markdown",
   "metadata": {},
   "source": [
    "<hr />\n",
    "<h2 style=\"color:steelblue;\">3b. Writing our own exceptions</h2>\n",
    "<p>Why would we want to do this?</p>\n",
    "<p>Notice the <code>Exception</code> class.  We&rsquo;re casting the error into a String variable called <code>e</code> so we humans can read it.  There are different types of Exceptions, too, based on libraries, for instance when using SQL, <a href=\"https://dev.mysql.com/doc/connector-python/en/connector-python-api-errors-error.html\" target=\"new\">SQLException</a> (Example below).</p>"
   ]
  },
  {
   "cell_type": "code",
   "execution_count": 14,
   "metadata": {},
   "outputs": [
    {
     "name": "stdout",
     "output_type": "stream",
     "text": [
      "What do you want? prunes\n",
      "Error: name 'sell' is not defined\n"
     ]
    }
   ],
   "source": [
    "inventory = [\"cheese\",\"bananas\",\"apples\"]\n",
    "\n",
    "try:\n",
    "    s = input(\"What do you want? \").lower()\n",
    "    # reciprocal 1/x -> division by 0 error\n",
    "    sell(s, 1, inventory)\n",
    "except Exception as e:\n",
    "    print(\"Error: \" + str(e))\n",
    "\n",
    "\n",
    "def sell(item, quantity, inventory):\n",
    "    print(f\"Yes, we have lots of {item}!\")\n",
    "    \n",
    "    if item not in inventory:\n",
    "        raise Exception(\"Sorry, \" + item + \" isn't in stock.\")"
   ]
  },
  {
   "cell_type": "markdown",
   "metadata": {},
   "source": [
    "<hr />\n",
    "<p>Example of a specific kind of error, generated when we cannot connect our python script to an SQL server.</p>\n",
    "<pre style=\"font-size:10px;background-color:silver;padding:10px;border-radius:4px;\">import mysql.connector\n",
    "\n",
    "try:\n",
    "  cnx = mysql.connector.connect(user='scott', database='employees')\n",
    "  cursor = cnx.cursor()\n",
    "  cursor.execute(\"SELECT * FORM employees\")   # Syntax error in query\n",
    "  cnx.close()\n",
    "except mysql.connector.Error as err:\n",
    "  print(\"Something went wrong: {}\".format(err))\n",
    "</pre>"
   ]
  },
  {
   "cell_type": "markdown",
   "metadata": {},
   "source": [
    "<hr/>\n",
    "<h2 style=\"background-color:steelblue;padding:10px;border-radius:3px;font-size:2vw;color:white;\">4. Lambda &amp; Map Functions</h2>\n",
    "<h2 style=\"color:steelblue;\">4a. Lambda Functions</h2>\n",
    "<p>The syntax is straight forward: a placeholder variable separated by a colon : and then the action.</p>\n",
    "<p>A <code>lambda</code> is a small, anonymous function, taking any number of arguments but can have only <u>one</u> expression.  The syntax is <code>lambda <i>arguments</i> : <i>expression</i></code>.</p>\n",
    "<p>Notice the \"placeholder\" variable in the middle of the statement, the actions upon (expression) upon that variable.  The lambda acts like the \"eval()\" function in some languages.</p>\n",
    "<p style=\"border-radius:3px;background-color:steelblue;padding:5px;color:white;\">Read each of the below statements and think about how they're read by the computer and where the \"temp\" variable is declared and initialized.</p>"
   ]
  },
  {
   "cell_type": "code",
   "execution_count": 30,
   "metadata": {},
   "outputs": [
    {
     "data": {
      "text/html": [
       "<img src=\"images/mapsyntax.jpg\"/>"
      ],
      "text/plain": [
       "<IPython.core.display.Image object>"
      ]
     },
     "execution_count": 30,
     "metadata": {},
     "output_type": "execute_result"
    }
   ],
   "source": [
    "Image(url= \"images/mapsyntax.jpg\")"
   ]
  },
  {
   "cell_type": "markdown",
   "metadata": {},
   "source": [
    "<p>\n",
    "    In the first pass, the value of <code>x</code> is taken from the iterable (here 23) and passed to the middle x.</p>\n",
    "<p>\n",
    "The lambda says to declare a placeholder variable x.\n",
    "</p><p>\n",
    "Repeat until the iterable is exhausted.</p>\n",
    "<p><hr /></p>"
   ]
  },
  {
   "cell_type": "code",
   "execution_count": 5,
   "metadata": {},
   "outputs": [
    {
     "name": "stdout",
     "output_type": "stream",
     "text": [
      "<function <lambda> at 0x7fb70c017d30>\n",
      "15\n",
      "35\n",
      "68\n",
      "<class 'list'>\n",
      "[11, 22, 33]\n"
     ]
    }
   ],
   "source": [
    "# one var \n",
    "x = lambda a : a + 10\n",
    "print(x)\n",
    "print(x(5))\n",
    "\n",
    "# two vars:\n",
    "total = lambda a, b : a + b\n",
    "print(total(20,15))\n",
    "\n",
    "# lambda accepting 3 vars and adding them \n",
    "x = lambda a, b, c : a + b + c\n",
    "print(x(10, 25, 33))\n",
    "\n",
    "# notice here number1[0] is added to number2[0] and so on\n",
    "number1 = [5,10,15]\n",
    "number2 = [6, 12, 18]\n",
    "\n",
    "print(type(number2))\n",
    "\n",
    "result = map(lambda x, y: x + y, number1, number2)\n",
    "\n",
    "print(list(result))"
   ]
  },
  {
   "cell_type": "markdown",
   "metadata": {},
   "source": [
    "<p>Nest a lambda into another function ... </p>"
   ]
  },
  {
   "cell_type": "code",
   "execution_count": 21,
   "metadata": {},
   "outputs": [
    {
     "name": "stdout",
     "output_type": "stream",
     "text": [
      "Enter the amount: $93\n",
      "€79.05\n"
     ]
    }
   ],
   "source": [
    "def get_rate(currency):\n",
    "    rates = {\"EUR\": .85, \"CND\": 1.23}\n",
    "    return rates[currency]\n",
    "\n",
    "def todays_rates(n):\n",
    "  return lambda a : a * n\n",
    "\n",
    "my_euros = todays_rates( get_rate(\"EUR\") )\n",
    "\n",
    "money_to_convert = int(input(\"Enter the amount: $\"))\n",
    "print(f\"€{my_euros(money_to_convert)}\")"
   ]
  },
  {
   "cell_type": "markdown",
   "metadata": {},
   "source": [
    "<hr />\n",
    "<h2 style=\"color:steelblue;\">3b. Map and Lambda</h2>\n",
    "<p><code>map()</code> executes a specified function for each element in an iterable.</p><p>The syntax is <code>map(<i>function</i>, <i>iterable</i></code>.)\n",
    "</p>\n",
    "<p>Here we define a function that accepts a single parameter and returns the length of that parameter.  The next example passes two iterables.  Think of <code>map()</code> as your own hands - getting the first value from the iterable and passing it into the placeholder variable x that lambda will use.</p>"
   ]
  },
  {
   "cell_type": "code",
   "execution_count": 96,
   "metadata": {},
   "outputs": [
    {
     "data": {
      "text/plain": [
       "[25, 100, 225, 400]"
      ]
     },
     "execution_count": 96,
     "metadata": {},
     "output_type": "execute_result"
    }
   ],
   "source": [
    "list(map(lambda x : x **2, (5, 10, 15, 20)))"
   ]
  },
  {
   "cell_type": "code",
   "execution_count": 10,
   "metadata": {},
   "outputs": [
    {
     "name": "stdout",
     "output_type": "stream",
     "text": [
      "[6, 8, 4, 13]\n"
     ]
    }
   ],
   "source": [
    "# the map command takes each element from the list () and passes \n",
    "# them one-by-one to the function (whoIsLonger()).  The results\n",
    "# are still in RAM, so let's send them to a list for printing.\n",
    "\n",
    "def whoIsLonger(n):\n",
    "    return len(n)\n",
    "\n",
    "x = map(whoIsLonger, ('Boston','Berkeley','Roma', 'Juan-les-Pins'))\n",
    "print(list(x))"
   ]
  },
  {
   "cell_type": "code",
   "execution_count": 11,
   "metadata": {},
   "outputs": [
    {
     "name": "stdout",
     "output_type": "stream",
     "text": [
      "<map object at 0x7fc36732ea90>\n",
      "[2, 4, 6, 8]\n",
      "<map object at 0x7fc36732eca0>\n",
      "['Boston3000', 'BackBay3000', 'Cambridge1203']\n",
      "[18, 16, 14, 12]\n",
      "[11, 22, 33]\n"
     ]
    }
   ],
   "source": [
    "# do the same thing different ways\n",
    "# MAP\n",
    "def addition(n):\n",
    "    return n + n\n",
    "    \n",
    "numbers = (1, 2, 3, 4)\n",
    "result = map(addition, numbers)\n",
    "print(result)\n",
    "print(list(result))\n",
    "\n",
    "# try with strings\n",
    "def additionS(s1, s2):\n",
    "    return s1 + s2\n",
    "\n",
    "x = map(additionS, [\"Boston\", \"BackBay\", \"Cambridge\"], [\"3000\",\"3000\",\"1203\"])\n",
    "print(x)  # notice this is a map object - \n",
    "# need to cast into something usable.\n",
    "\n",
    "converted_x_to_list = list(x)\n",
    "print(converted_x_to_list)\n",
    "\n",
    "# LAMBDA with single var input to iterate over\n",
    "\n",
    "numbers = (9, 8, 7, 6)\n",
    "result = map(lambda x: x + x, numbers)\n",
    "print(list(result))\n",
    "\n",
    "\n",
    "# LAMBDA with more than 1 objects\n",
    "number1 = [5, 10, 15]\n",
    "number2 = [6, 12, 18]\n",
    "\n",
    "result = map(lambda x, y: x + y, number1, number2)\n",
    "print(list(result))\n"
   ]
  },
  {
   "cell_type": "markdown",
   "metadata": {},
   "source": [
    "<hr />\n",
    "<h2 style=\"color:steelblue;\">3c.  Optional: Longer lambda example</h2>\n",
    "<p>See also optional notebooks:\n",
    "<ol><li><b>Lambdas, iterators, and more</b> week_05_functions_intro_extra.ipynb</li>\n",
    "    <li><b>Content Aggregator</b> Week-05-ApplicationDemo.ipynb]</li>\n",
    "</ol></p>"
   ]
  },
  {
   "cell_type": "code",
   "execution_count": 12,
   "metadata": {},
   "outputs": [
    {
     "name": "stdout",
     "output_type": "stream",
     "text": [
      "---------------------------------------- \n",
      "NOT sorted:\n",
      "Berkeley        / Oakland        \n",
      "San Francisco   / San José       \n",
      "Sacramento      / Stockton       \n",
      "San José        / Hayward        \n",
      "Merced          / Stockton       \n",
      "Los Feliz       / Santa Monica   \n",
      "Bakersfield     / Mojave         \n",
      "Long Beach      / Crenshaw       \n",
      "---------------------------------------- \n",
      "Sorted by KEY:\n",
      "Bakersfield     / Mojave         \n",
      "Berkeley        / Oakland        \n",
      "Long Beach      / Crenshaw       \n",
      "Los Feliz       / Santa Monica   \n",
      "Merced          / Stockton       \n",
      "Sacramento      / Stockton       \n",
      "San Francisco   / San José       \n",
      "San José        / Hayward        \n",
      "---------------------------------------- \n",
      "Sorted by VALUE:\n",
      "Long Beach      / Crenshaw       \n",
      "San José        / Hayward        \n",
      "Bakersfield     / Mojave         \n",
      "Berkeley        / Oakland        \n",
      "San Francisco   / San José       \n",
      "Los Feliz       / Santa Monica   \n",
      "Sacramento      / Stockton       \n",
      "Merced          / Stockton       \n"
     ]
    }
   ],
   "source": [
    "# Python 3 - sorting a dictionary\n",
    "\n",
    "counties = {\n",
    "        \"Berkeley\":\"Oakland\", \"San Francisco\":\"San José\",\n",
    "        \"Sacramento\":\"Stockton\", \"San José\":\"Hayward\",\n",
    "        \"Merced\":\"Stockton\", \"Los Feliz\":\"Santa Monica\",\n",
    "        \"Bakersfield\":\"Mojave\",\"Long Beach\":\"Crenshaw\"}\n",
    "\n",
    "print(\"-\"*40,\"\\nNOT sorted:\")\n",
    "for town in counties.keys():\n",
    "        print (\"{:15s} / {:15s}\".format(town,counties[town]))\n",
    "\n",
    "print(\"-\"*40,\"\\nSorted by KEY:\")\n",
    "towns = list(counties.keys())\n",
    "towns.sort()\n",
    "for town in towns:\n",
    "    print (\"{:15s} / {:15s}\".format(town,counties[town]))\n",
    "\n",
    "print(\"-\"*40,\"\\nSorted by VALUE:\")\n",
    "towns = list(counties.keys())\n",
    "towns.sort(key = lambda x:counties[x])\n",
    "for town in towns:\n",
    "    print (\"{:15s} / {:15s}\".format(town,counties[town]))"
   ]
  },
  {
   "cell_type": "markdown",
   "metadata": {},
   "source": [
    "<hr />\n",
    "<h2 style=\"color:steelblue;\">Another optional example: sorting and dictionaries using lambda</h2>\n",
    "<p>You cannot sort a dict.  If you sort a list of strings that are digits, you don't get a numeric sort by default.</p>\n",
    "<p>\n",
    "Solutions<ul>\n",
    "    <li>Sort a list of keys</li>\n",
    "    <li>Specifiy a sort lambda (Python 2 comparator, Python 3 key function) for that list</li>\n",
    "    </ul>"
   ]
  },
  {
   "cell_type": "code",
   "execution_count": 16,
   "metadata": {},
   "outputs": [
    {
     "name": "stdout",
     "output_type": "stream",
     "text": [
      "---------------------------------------- \n",
      "Sorting in NUMERIC order by key\n",
      "---------------------------------------- \n",
      "Output in NUMERIC order \n",
      "6 2\n",
      "8 25\n",
      "9 36\n",
      "10 26\n",
      "---------------------------------------- \n",
      "Filling the 'gaps' with default 0 \n",
      "---------------------------------------- \n",
      "Output in NUMERIC order \n",
      "6 2\n",
      "7 0\n",
      "8 25\n",
      "9 36\n",
      "10 26\n"
     ]
    }
   ],
   "source": [
    "stuff = {'9': 36, '10': 26, '8': 25, '6': 2}\n",
    "\n",
    "print(\"-\"*40,\"\\nSorting in NUMERIC order by key\")\n",
    "names = list(stuff.keys())\n",
    "names.sort(key = lambda x: int(x))\n",
    "\n",
    "print(\"-\"*40,\"\\nOutput in NUMERIC order \")\n",
    "for name in names:\n",
    "    print(name, stuff[name])\n",
    "\n",
    "# Following code fills in the gaps for missing keys\n",
    "# that is, we have 6, 8, 9 but NO 7 as a key.  So we \n",
    "# make one on the fly and provide it a value of 0\n",
    "print(\"-\"*40,\"\\nFilling the 'gaps' with default 0 \")\n",
    "for want in range(int(names[0]),int(names[-1])+1):\n",
    "    stuff[str(want)] = stuff.get(str(want),0)\n",
    "\n",
    "print(\"-\"*40,\"\\nOutput in NUMERIC order \")\n",
    "for name in range(int(names[0]),int(names[-1])+1):\n",
    "    print(name,stuff[str(name)])\n",
    "\n"
   ]
  },
  {
   "cell_type": "markdown",
   "metadata": {},
   "source": [
    "<hr />\n",
    "<h2 style=\"color:steelblue;\">Review of Map and Lambda</h2>"
   ]
  },
  {
   "cell_type": "code",
   "execution_count": 31,
   "metadata": {},
   "outputs": [
    {
     "name": "stdout",
     "output_type": "stream",
     "text": [
      "[18, 16, 14, 12]\n",
      "[11, 22, 33]\n"
     ]
    }
   ],
   "source": [
    "# LAMBDA with single var input to iterate over\n",
    "numbers = (9, 8, 7, 6)\n",
    "result = map(lambda x: x + x, numbers)\n",
    "print(list(result))\n",
    "\n",
    "# OUTPUT: [18, 16, 14, 12]\n",
    "\n",
    "# LAMBDA with more than 1 object\n",
    "number1 = [5, 10, 15]\n",
    "number2 = [6, 12, 18]\n",
    "\n",
    "result = map(lambda x,y : x+y, number1, number2)\n",
    "print(list(result))\n",
    "\n",
    "# OUTPUT: [11, 22, 33]"
   ]
  },
  {
   "cell_type": "code",
   "execution_count": 15,
   "metadata": {},
   "outputs": [
    {
     "name": "stdout",
     "output_type": "stream",
     "text": [
      "[2, 4, 6, 8]\n",
      "['Boston $3000', 'BackBay $3000', 'Cambridge $1203']\n"
     ]
    }
   ],
   "source": [
    "# MAP\n",
    "def addition(n):\n",
    "    return n + n\n",
    "\n",
    "numbers = (1, 2, 3, 4)\n",
    "result = map(addition, numbers)\n",
    "print(list(result))\n",
    "\n",
    "\n",
    "# try with strings\n",
    "def cityMap(x, y):\n",
    "    return x + \" $\" + y\n",
    "\n",
    "x = map(cityMap, (\"Boston\", \"BackBay\", \"Cambridge\"), \n",
    "    (\"3000\",\"3000\",\"1203\"))\n",
    "print(list(x))"
   ]
  },
  {
   "cell_type": "code",
   "execution_count": 20,
   "metadata": {},
   "outputs": [
    {
     "data": {
      "text/html": [
       "<img src=\"images/mendelbrot.jpg\"/>"
      ],
      "text/plain": [
       "<IPython.core.display.Image object>"
      ]
     },
     "execution_count": 20,
     "metadata": {},
     "output_type": "execute_result"
    }
   ],
   "source": [
    "Image(url= \"images/mendelbrot.jpg\")"
   ]
  },
  {
   "cell_type": "markdown",
   "metadata": {},
   "source": [
    "<hr/>\n",
    "<h2 style=\"background-color:steelblue;padding:10px;border-radius:3px;font-size:2vw;color:white;\">5.  Recursion</h2>\n",
    "<p>When a function calls itself repeatedly, until some condition is met to exit.</p>"
   ]
  },
  {
   "cell_type": "code",
   "execution_count": 25,
   "metadata": {},
   "outputs": [
    {
     "data": {
      "text/html": [
       "<img src=\"images/recursion-green.jpg\"/>"
      ],
      "text/plain": [
       "<IPython.core.display.Image object>"
      ]
     },
     "execution_count": 25,
     "metadata": {},
     "output_type": "execute_result"
    }
   ],
   "source": [
    "Image(url= \"images/recursion-green.jpg\")"
   ]
  },
  {
   "cell_type": "markdown",
   "metadata": {},
   "source": [
    "<p>Recursion is when a function is declared and in its operation calls itself.</p>\n",
    "<p>Like all looping behaviors, a recursive call needs an exit condition.</p>\n",
    "There’s “base case” and the “recursive rule”, calling itself.</p>\n",
    "<p>Functions are stored in the stack in RAM; so using 1 function calling itself is better than multiple functions.</p>\n",
    "<p>Is recursion always a faster technique? (no.)</p>"
   ]
  },
  {
   "cell_type": "code",
   "execution_count": 101,
   "metadata": {},
   "outputs": [
    {
     "name": "stdout",
     "output_type": "stream",
     "text": [
      "1\n",
      "24\n",
      "60415263063373835637355132068513997507264512000000000\n"
     ]
    }
   ],
   "source": [
    "def factorial(n):  # n > 1 ..., say 5 ... \n",
    "    if n == 1:\n",
    "        return 1\n",
    "    return n * factorial(n - 1)\n",
    "\n",
    "\"\"\" notice the function calls itself \"\"\"\n",
    "print(factorial(1))\n",
    "print(factorial(4))\n",
    "print(factorial(43))"
   ]
  },
  {
   "cell_type": "code",
   "execution_count": null,
   "metadata": {},
   "outputs": [],
   "source": [
    "def f(i):\n",
    "    sum = 0\n",
    "\n",
    "    # are we done?\n",
    "    counter = 0\n",
    "    while counter < i:  # so if i = 3 ... 0 < 3\n",
    "        sum += i\n",
    "        \n",
    "        if counter == i:\n",
    "            #stop!\n",
    "        else:\n",
    "    f(i-1)   #  so if n = 3, then the call is i-1 = 2\n",
    "\n",
    "# --- RUN IT\n",
    "f(3)\n",
    "\n",
    "# CHECK OUT THE OPTIONAL RESOURCES FOR READING AND EXAMPLES."
   ]
  },
  {
   "cell_type": "markdown",
   "metadata": {},
   "source": [
    "<hr/>\n",
    "<h2 style=\"background-color:steelblue;padding:10px;border-radius:3px;font-size:2vw;color:white;\">6. Demonstrate recursion with stack trace</h2>\n",
    "<p><a href=\"http://www.pythontutor.com/visualize.html#mode=edit\" target=\"new\">PythonTutor</a></p>"
   ]
  },
  {
   "cell_type": "code",
   "execution_count": 32,
   "metadata": {},
   "outputs": [
    {
     "data": {
      "text/html": [
       "<img src=\"images/trace.jpg\"/>"
      ],
      "text/plain": [
       "<IPython.core.display.Image object>"
      ]
     },
     "execution_count": 32,
     "metadata": {},
     "output_type": "execute_result"
    }
   ],
   "source": [
    "Image(url= \"images/trace.jpg\")"
   ]
  },
  {
   "cell_type": "markdown",
   "metadata": {},
   "source": [
    "<hr />\n",
    "<div style=\"background-color:steelblue;padding:15px;border-radius:4px;font-size:3vw;line-height:3.5vw;color:white;\">Optional Examples: A little recap and discussion about rounding.</div>\n",
    "<p>... and then to the breakout rooms!</p>"
   ]
  },
  {
   "cell_type": "markdown",
   "metadata": {},
   "source": [
    "<h2 style=\"color:steelblue;\">Progress of counting data, using return, try/except, raising our own exceptions, etc.</p>"
   ]
  },
  {
   "cell_type": "code",
   "execution_count": 22,
   "metadata": {},
   "outputs": [],
   "source": [
    "def vowel_density(word, vowel=\"e\"):\n",
    "    \"\"\"Return fraction of characters within \n",
    "        string that match a certain vowel. \"\"\"\n",
    "    return sum([word[i] == vowel \n",
    "                for i in range(0,len(word))])/len(word)"
   ]
  },
  {
   "cell_type": "code",
   "execution_count": 23,
   "metadata": {},
   "outputs": [
    {
     "name": "stdout",
     "output_type": "stream",
     "text": [
      "Enter a word: birmingham\n",
      "Enter a vowel: u\n",
      "0.00 of the letters in birmingham are u\n"
     ]
    }
   ],
   "source": [
    "try:\n",
    "    word = input(\"Enter a word: \")\n",
    "    vowel = input(\"Enter a vowel: \")\n",
    "    print(\"{:.2f} of the letters in {} are {}\".format(vowel_density(word, vowel), word, vowel))\n",
    "except:\n",
    "    print(\"You have entered zero letters so a vowel density cannot be computed.\")"
   ]
  },
  {
   "cell_type": "code",
   "execution_count": null,
   "metadata": {},
   "outputs": [],
   "source": [
    "def vowel_density(word, vowel=\"e\"):\n",
    "    \"\"\"Return fraction of characters within string that match a certain vowel.\"\"\"\n",
    "    \n",
    "    if vowel not in \"aeiou\":\n",
    "        raise Exception(vowel + \" is not a vowel.\")\n",
    "    \n",
    "    if not all([word[i] in \"abcdefghijklmnopqrstuvwxyz\" for i in range(0,len(word))]):\n",
    "        raise Exception(word + \" is not a valid word.\")\n",
    "    \n",
    "    return sum([word[i] == vowel for i in range(0,len(word))])/len(word)"
   ]
  },
  {
   "cell_type": "code",
   "execution_count": null,
   "metadata": {},
   "outputs": [],
   "source": [
    "def imma_notherfunction(NumLs):\n",
    "    return list(map(lambda x: x**3, NumLs))\n",
    "\n",
    "print(imma_notherfunction(range(1,10)))"
   ]
  },
  {
   "cell_type": "code",
   "execution_count": null,
   "metadata": {},
   "outputs": [],
   "source": [
    "imma_notherfunction = lambda x: [i**3 for i in x] \n",
    "\n",
    "print(imma_notherfunction(range(1,10)))"
   ]
  },
  {
   "cell_type": "markdown",
   "metadata": {},
   "source": [
    "<h2 style=\"color:steelblue;\">Formatting decimals, tests with floats, etc.</h2>\n",
    "<blockquote>There's a lot of rightful confusion about using int, float, decimal, round in computing with python.\n",
    "Python changes the # of decimal places, it seems, depending on what we're doing the variable.  The round function is particulary weird this way.  When a float is instantiated with many values, they're preserved.  compare <code>x = 4.0</code> and <code>y = 4.0000000000</code>.\n",
    "The command print(x) outputs \"4.0\".  The command print(y) returns \"4.0000000000\".</blockquote>"
   ]
  },
  {
   "cell_type": "code",
   "execution_count": 24,
   "metadata": {},
   "outputs": [
    {
     "name": "stdout",
     "output_type": "stream",
     "text": [
      "4\n",
      "4.0000\n",
      "4.0000\n"
     ]
    }
   ],
   "source": [
    "x = 4\n",
    "print(x)\n",
    "print(\"%.4f\" % x)\n",
    "print(f\"{x:.4f}\")"
   ]
  },
  {
   "cell_type": "markdown",
   "metadata": {},
   "source": [
    "<blockquote><h3>ROUND</h3><p>\n",
    "    it might seem that round would provide what we want but rounding depends on some settings and funkyness of printing versus storing and when performing an arthmetic operation.  As the python documentation says \"Context precision and rounding only come into play during arithmetic operations.\"  And that python's round has lots of options for rounding up/down, half_even, etc.</p>\n",
    "<p>\n",
    "    Compare these inputs.  Here <code>x = 6.5</code>.  Printing (x) returns 6.5. <code>print(round(x))</code> returns 6.  [Why not 7?]  Check out the <code>math.ciel()</code> method.\n",
    "    </p>\n",
    "   <h3>\n",
    "       DECIMAL AND ROUNDING</h3><p>\n",
    "    The <code>decimal.Decimal</code> class is like float - the \"significance of a new Decimal is determined solely by the number of digits input.\" and as noted above \"Context precision and rounding only come into play during arithmetic operations.\"</p>\n",
    "<p>\n",
    "    Check these out: <code>x = 2.5</code>   print(x) returns just 2.5.  <br />\n",
    "    <code>print(round(5/2)</code> returns <b>2</b> instead of 3.  <br />\n",
    "    BUT ... if we convert the variable to a Decimal class and indicate the precision, then the answer is safe(r):  <code>print(round(Decimal(x),2))</code> returns 2.50</p>\n",
    "    </blockquote>"
   ]
  },
  {
   "cell_type": "code",
   "execution_count": 13,
   "metadata": {},
   "outputs": [
    {
     "name": "stdout",
     "output_type": "stream",
     "text": [
      "6.10392841234\n",
      "6.1039\n"
     ]
    }
   ],
   "source": [
    "f = 6.10392841234\n",
    "print(f)\n",
    "print(round(f, 4))"
   ]
  },
  {
   "cell_type": "code",
   "execution_count": 9,
   "metadata": {},
   "outputs": [
    {
     "name": "stdout",
     "output_type": "stream",
     "text": [
      "1.34\n",
      "3\n",
      "3\n",
      "1.3400\n"
     ]
    }
   ],
   "source": [
    "import decimal\n",
    "from decimal import Decimal\n",
    "\n",
    "x = 1.34\n",
    "float(x)\n",
    "round(x, 4)\n",
    "print(round(x,4))\n",
    "\n",
    "y = Decimal(3)\n",
    "print(y)\n",
    "print(Decimal(float(y)))\n",
    "\n",
    "x = Decimal(1.34)\n",
    "type(x)\n",
    "float(x)\n",
    "round(x, 4)\n",
    "print(round(x, 4))"
   ]
  },
  {
   "cell_type": "code",
   "execution_count": 18,
   "metadata": {},
   "outputs": [
    {
     "name": "stdout",
     "output_type": "stream",
     "text": [
      "[Decimal('4.0000'), Decimal('2.0000'), Decimal('8.0000'), Decimal('3.0000')]\n"
     ]
    }
   ],
   "source": [
    "\"\"\" with a list of decimals \"\"\"\n",
    "\n",
    "declist = (Decimal(4), Decimal(2), Decimal(8), Decimal(3))\n",
    "\n",
    "print( list(round(c,4) for c in declist) )"
   ]
  },
  {
   "cell_type": "code",
   "execution_count": 16,
   "metadata": {},
   "outputs": [
    {
     "name": "stdout",
     "output_type": "stream",
     "text": [
      "(Decimal('4'), Decimal('2'), Decimal('8'), Decimal('3'))\n",
      "4.0000\n",
      "2.0000\n",
      "8.0000\n",
      "3.0000\n"
     ]
    }
   ],
   "source": [
    "# The print statement will remove the Decimal( ) part of the value.\n",
    "print(declist)\n",
    "\n",
    "for i in declist:\n",
    "    print(round(i,4))"
   ]
  },
  {
   "cell_type": "markdown",
   "metadata": {},
   "source": [
    "<h3>Decimal with Map/Lambda</h3>"
   ]
  },
  {
   "cell_type": "code",
   "execution_count": 19,
   "metadata": {},
   "outputs": [
    {
     "name": "stdout",
     "output_type": "stream",
     "text": [
      "[Decimal('4.0000'), Decimal('2.0000'), Decimal('8.0000'), Decimal('3.0000')]\n",
      "\n",
      "Float test\n",
      "[4.0, 2.0, 8.0, 3.0]\n",
      "\n",
      "2.000000001\n",
      "Compare the outputs:\n",
      "2\n",
      "2\n",
      "2.0\n",
      "2.0\n",
      "2.0000\n"
     ]
    }
   ],
   "source": [
    "test = map(lambda x: round(x,4), declist)\n",
    "print(list(test))\n",
    "\n",
    "# FLOAT\n",
    "print(\"\\nFloat test\")\n",
    "test = map(lambda x: float(x), declist)\n",
    "print(list(test))\n",
    "\n",
    "print(\"\")\n",
    "ans = 2 # an int\n",
    "epi = 0.000000001  # float\n",
    "print(ans + epi)\n",
    "\n",
    "print(\"Compare the outputs:\")\n",
    "# Compare the outputs:\n",
    "print(ans)\n",
    "print(round(ans, 2))\n",
    "print(float(ans))\n",
    "print(round(float(ans), 4))\n",
    "print(round(Decimal(ans), 4))"
   ]
  },
  {
   "cell_type": "markdown",
   "metadata": {},
   "source": [
    "<blockquote>\n",
    "    Conclusion: there's lots of ways for -format- and to -store- data.  Sometimes we may need to cast a var into a different class (like Decimal) in order to round with the output precision we might want.\n",
    "    </blockquote>"
   ]
  },
  {
   "cell_type": "markdown",
   "metadata": {},
   "source": [
    "<hr />\n",
    "<h2>Functions &amp; Recursion Extra Notebook Demos</h2>\n",
    "<hr />\n",
    "<p>This extra, optional notebook has scripts to demonstrate a variety of activities: working from pseudocode to actual code, looking at functions; creating lambda functions and more.\n",
    "</p>\n",
    "<hr />\n",
    "<p>In the first example, we want to combine skills with lists, parsing, and pseudocoding to create a nice function-based solution to validate characters in a password.</p>\n",
    "<hr />\n",
    "<p>Pseudocode:<blockquote>\n",
    "valid_password function:\n",
    "    <ul><li>set the <code style=\"color:cornflowerblue\">correct_length</code> var to <code style=\"color:red\">false</code></li>\n",
    "        <li>set the <code style=\"color:cornflowerblue\">has_uppercase</code> var to <code style=\"color:red\">false</code></li>\n",
    "        <li>set the <code style=\"color:cornflowerblue\">has_lowercase</code> variable to <code style=\"color:red\">false</code></li>\n",
    "        <li>set the <code style=\"color:cornflowerblue\">has_digital</code> var to <code style=\"color:red\">false</code></li>\n",
    "        <li>If the password&rsquo;s length is 7 chars or greater:\n",
    "            <ul><li>Set the <code style=\"color:cornflowerblue\">correct_length</code> to <code style=\"color:green\">true</code></li>\n",
    "                <li>for each character in the password:\n",
    "                    <ul><li>if the character is uppercase:\n",
    "                        <ul><li>set the <code style=\"color:cornflowerblue\">has_uppercase</code> to <code style=\"color:green\">true</code>\n",
    "                            </li>\n",
    "                        </ul>\n",
    "                        </li>\n",
    "                    </ul>\n",
    "                    <ul>\n",
    "                        <li>if the char is a lowercase letter:\n",
    "                            <ul><li>set the <code style=\"color:cornflowerblue\">has_lowercase</code> to <code style=\"color:green\">true</code></li></ul>\n",
    "                        </li>\n",
    "                    </ul>\n",
    "                    <ul><li>if the character is a digit<ul>\n",
    "                        <li>set the <code style=\"color:cornflowerblue\">has_digit</code> variable to <code style=\"color:green\">true</code>\n",
    "                        </li>\n",
    "                        </ul>\n",
    "                    </ul>\n",
    "                </li>\n",
    "            </ul>\n",
    "        <li>if <code style=\"color:cornflowerblue\">correct_length</code> and <code style=\"color:cornflowerblue\">has_uppercase</code> and <code style=\"color:cornflowerblue\">has_lowercase</code> and <code style=\"color:cornflowerblue\">has_digit</code>:\n",
    "            <ul><li>set the <code style=\"color:cornflowerblue\">is_valid</code> variable to <code style=\"color:green\">true</code></li>\n",
    "                <li>else set the <code style=\"color:cornflowerblue\">is_valid</code> variable to <code style=\"color:red\">false</code></li>\n",
    "            </ul>\n",
    "        </li>\n",
    "        <li>Return the is_valid variable</li>\n",
    "    </ul>"
   ]
  },
  {
   "cell_type": "code",
   "execution_count": null,
   "metadata": {},
   "outputs": [],
   "source": [
    "\"\"\" Input: the get_login_name function accepts a first name, a last name, and ID as arguments.\n",
    "    Return: a system login name. \"\"\"\n",
    "\n",
    "\"\"\" NOTE: if you save this code in a separate file, say login.py, \n",
    "    you can later <strong>import</strong> it as a module.  See below. \"\"\"\n",
    "\n",
    "def get_login_name(first, last, idno):\n",
    "    # get the first 3 letters of the first name.\n",
    "    # if the name is less than 3 chars, the slide will return entire first name.\n",
    "    set1 = first[0:3]\n",
    "    \n",
    "    # get the first three of last name ... \n",
    "    set2 = last[0:3]\n",
    "    \n",
    "    # get ID, if < 3, return entire ID\n",
    "    set3 = idno[-3:]\n",
    "    \n",
    "    # concatenate\n",
    "    login_name = set1 + set2 + set3\n",
    "    \n",
    "    # return the login_name\n",
    "    return login_name\n",
    "\n",
    "\"\"\" The valid_password function accepts a passwor as an argument and returns either true or false. \n",
    "    The password must have at least 7 letters, at least one upper case and one lower case, and \n",
    "    one digit.\n",
    "\"\"\"\n",
    "def valid_password(password):\n",
    "    # set the boolean vars to false to get ready ...\n",
    "    correct_length = False\n",
    "    has_uppercase = False\n",
    "    has_lowercase = False\n",
    "    has_digit = False\n",
    "    \n",
    "    # begin validation test:\n",
    "    if len(password) >= 7:\n",
    "        correct_length = True\n",
    "        \n",
    "        \"\"\" Test each char and set appropriate flag when required char is found \"\"\"\n",
    "        for ch in password:\n",
    "            if ch.isupper():\n",
    "                has_uppercase = True\n",
    "            if ch.islower():\n",
    "                has_lowercase = True\n",
    "            if ch.isdigit():\n",
    "                has_digit = True\n",
    "        \n",
    "        \"\"\" are all requirements met?  if so, set is_valid to true \"\"\"\n",
    "        if correct_length and has_uppercase and \\\n",
    "            has_lowercase and has_digit:\n",
    "            is_valid = True\n",
    "        else:\n",
    "            is_valid = False\n",
    "            \n",
    "        return is_valid"
   ]
  },
  {
   "cell_type": "markdown",
   "metadata": {},
   "source": [
    "<p>Now we want to write a little code to validate the password.  Notice the import statement.  It&rsquo;s not used here in the notebook, but if you had a separate .py file, say \"validate_password.py\", you could import the code from the above as a module.</p>\n",
    "<p>Note line 10 below: if we imported the login module, we would write <code>while not  login.valid_password(password)</code>"
   ]
  },
  {
   "cell_type": "code",
   "execution_count": null,
   "metadata": {},
   "outputs": [],
   "source": [
    "# this program gets the password from the user and validates it.\n",
    "\n",
    "# import login \"\"\" this is a reference to the above snippet if used as a separate .py file \"\"\"\n",
    "\n",
    "def main():\n",
    "    # get the password from the enduser\n",
    "    password = input(\"Enter your password: \")\n",
    "    \n",
    "    # validate - notice we could use while not login.valid_password(password)\n",
    "    while not valid_password(password):\n",
    "        print(\"Sorry, that's not a valid password.\")\n",
    "        password = input(\"Enter your password again: \")\n",
    "    \n",
    "    print(f\"-\"*40,\"Thanks. The password seems legit.\")\n",
    "\n",
    "# call the main function - this is one way. \n",
    "main()\n",
    "\n",
    "# I prefer the more pythonic object approach:\n",
    "# if __name__ == \"__main__\":\n",
    "#     main()"
   ]
  },
  {
   "cell_type": "markdown",
   "metadata": {},
   "source": [
    "<hr />Here's another example of functions for discussion.  \n",
    "Note the features: <ul><li>importing a library</li>\n",
    "    <li>demo'ing a global variable and local variables</li>\n",
    "    <li>several functions with different number of arguments</li>\n",
    "    <li>using the defined functions in the order we wish, controlling 'em in a <code>main()</code> function</li>\n",
    "    <li>calling the functions when we wish by invoking the main()</li></ul>\n",
    "<p>Review the code.  Ignore the display commands - they're just for the notebook."
   ]
  },
  {
   "cell_type": "code",
   "execution_count": null,
   "metadata": {},
   "outputs": [],
   "source": [
    "from IPython.display import Markdown, display\n",
    "import html\n",
    "\n",
    "\n",
    "\"\"\" Week 05: Functions:\n",
    " this script is for in-class discussion of the features and anatomy of a function\n",
    "\"\"\"\n",
    "\n",
    "import sys   # a demo for calling tools for the operating system\n",
    "\n",
    "\n",
    "# demo a global var and local versions\n",
    "l1 = [\"Tom\", \"Stan\", \"明娃\", \"Rex\", \"लक़समी\", \"Geraldo\"]\n",
    "\n",
    "# define functions demo'ing different approaches\n",
    "def about_me():\n",
    "    display(Markdown((f\"\\n<text style=color:red>About this script: demo of different functions.</text>\\n\")))\n",
    "\n",
    "def no_parameters():\n",
    "    display(Markdown((f\"\\n<text style=color:red>\\nNo Parameters</text>: \\n\\tThis is a demo function that accepts no parameters and it does not return anything.\")))\n",
    "\n",
    "\n",
    "def parameter_one(s):\n",
    "    display(Markdown((f\"\\n<text style=color:red>\\nOne parameter:</text> \\n\\tWelcome, to the function, {s}.\")))\n",
    "\n",
    "\n",
    "def parameter_two_with_default(name, lang = 'EN'):\n",
    "    \"\"\" note that the default follows other arguments \"\"\"\n",
    "    display(Markdown((f\"\\n<text style=color:red>\\nParameter with two values - one default</text> (language).\\n\\tHey, {name}.  Today we'll study {lang}.\")))\n",
    "\n",
    "def find_highest_value(l1, l2):\n",
    "    \"\"\" printing the highest values in two strings, passed as parameters\n",
    "        NOTE that l1 has global scope and l2 has local scope.\n",
    "    \"\"\"\n",
    "\n",
    "    display(Markdown((f\"\\n<text style=color:red>Finding the highest value of two lists</text>; lists passed as parameters</text>.\\n\")))\n",
    "    print(f\"\\n\\tThe maximum value in this list is: {max(l1)}\")\n",
    "    print(f\"\\n\\tAnd the max for this one of integers is: {max(l2)}\")\n",
    "    \n",
    "def return_string(f, l, id):\n",
    "    \"\"\" This function accepts a first name, last name, and an ID - and returns a password\n",
    "        takes the first 3 letters of each and jumbles 'em. \"\"\"\n",
    "    # for fun will test if id is int or string - we want to use a string\n",
    "    id = str(id)\n",
    "    # the first 3 characters of firstname are returned\n",
    "    # the 4 chars starting with the second letter and then \n",
    "    # ID will be less than 3 characters, else the entire ID\n",
    "    return f[0:3]+l[1:4]+id[-3:]\n",
    "\n",
    "\n",
    "def all_done():\n",
    "    display(Markdown((f\"\\n<text style=color:orange>\\n\"+\"-\"*60 + \"\\nThat's it.</text> Notice the use of main() to start the show!\\n\")))\n",
    "\n",
    "def main():\n",
    "    about_me()\n",
    "\n",
    "    # demos for class\n",
    "    no_parameters()\n",
    "    parameter_one(\"Tom\")\n",
    "    parameter_two_with_default(\"Fifi\")\n",
    "\n",
    "    # passing objects (two lists)\n",
    "    l2 = [5,3,1,4,2,6,6,9]\n",
    "    find_highest_value(l1, l2)\n",
    "\n",
    "# returning a value: passing data to the call to the function and wrapping back the answer\n",
    "print(f\"\\nHere's your new easy-to-break password: {return_string('Jack','Kline',6666)}\")\n",
    "\n",
    "# when starting the script you entered data from the command line, called system argument vector\n",
    "# the data are captured from the input in a variable called argv and accessed thru the library sys\n",
    "# note that we *could* use an if statement to \tif len(sys.argv)-1 > 0:\t\n",
    "\n",
    "try:\n",
    "    print(\"\\nWere there any parameters? \", len(sys.argv)-1)\n",
    "    print(\"Here are the arguments from the command line: \"+sys.argv[0])\n",
    "    print(f\"\\nHere's your new easy-to-break password: {return_string(sys.argv[1], sys.argv[2], sys.argv[3])}\")\n",
    "except IndexError:\n",
    "    print(\"\\n* Oh, no! An IndexError was thrown 'cause there aren't enough data passed.\")\n",
    "\n",
    "    # close up the script.\n",
    "    all_done()\n",
    "\n",
    "# call the main function\n",
    "main()"
   ]
  },
  {
   "cell_type": "markdown",
   "metadata": {},
   "source": [
    "<h2>Getting ready: using functions and file serialization</h2>\n",
    "    <p>This optional snippet is to demo data being saved and shared and the use of dictionaries with our imported data</p>\n",
    "    <p>Saving data, such as dictionaries, to a file should be <strong>serialized</strong>.  This means the data are converted to a stream of bytes that are easier to save, retrieve, share. In python, the process of serialization is called <strong>pickling</strong>.</p>\n",
    "<p>Once you import the pickle module, you'll ...</p>\n",
    "    <ul>\n",
    "        <li>open a file for binary writing, using the \"wb\" argument, for write-binary</li>\n",
    "        <li>call the pickle module's <code>dump</code> method to pickle the object and write it to the selected file</li>\n",
    "        <li>close the pickle jar (grin).</li>\n",
    "    </ul>"
   ]
  },
  {
   "cell_type": "code",
   "execution_count": 34,
   "metadata": {},
   "outputs": [
    {
     "data": {
      "text/plain": [
       "' check your harddrive for your phonebook file. '"
      ]
     },
     "execution_count": 34,
     "metadata": {},
     "output_type": "execute_result"
    }
   ],
   "source": [
    "\"\"\" demo 1 for pickling \"\"\"\n",
    "import pickle\n",
    "\n",
    "phonebook = {'Chris': \"617-555-1212\",\n",
    "            'Tracy': \"408-123-4444\",\n",
    "            'Gunnar': \"510-333-9292\"}\n",
    "\n",
    "output_file = open(\"phonebook.dat\", \"wb\")\n",
    "pickle.dump(phonebook, output_file)\n",
    "output_file.close()\n",
    "\n",
    "\"\"\" check your harddrive for your phonebook file. \"\"\""
   ]
  },
  {
   "cell_type": "code",
   "execution_count": 35,
   "metadata": {},
   "outputs": [
    {
     "name": "stdout",
     "output_type": "stream",
     "text": [
      "Name: Fish\n",
      "Age: 33\n",
      "Weight: 29\n",
      "Enter more data [y/n]: n\n"
     ]
    }
   ],
   "source": [
    "\"\"\" demo 2 for pickling object \"\"\"\n",
    "import pickle\n",
    "\n",
    "# main function\n",
    "def main():\n",
    "    again = 'y'\n",
    "    \n",
    "    # open a file for binary writing.\n",
    "    output_file = open('catinfo.dat', 'wb')\n",
    "    \n",
    "    # accept data 'til user wants to stop. \n",
    "    while again.lower() == \"y\":\n",
    "        # get the data and save 'em (yes, \"data\" are plural; \"datum\" is the singular.)\n",
    "        save_data(output_file)\n",
    "        \n",
    "        # more data?\n",
    "        again = input(\"Enter more data [y/n]: \")\n",
    "    \n",
    "    # close the file.\n",
    "    output_file.close()\n",
    "\n",
    "# save_data function gets data and stores them in a dictionary.\n",
    "# then the dictionary is pickled to the file.\n",
    "def save_data(file):\n",
    "    # create an empty dictionary\n",
    "    cat = {}\n",
    "    \n",
    "    # get the data for the person and store 'em.\n",
    "    cat['name'] = input(\"Name: \")\n",
    "    cat['age']  = int(input(\"Age: \"))\n",
    "    cat['weight'] = float(input(\"Weight: \"))\n",
    "    \n",
    "    # pickle the dictionary\n",
    "    pickle.dump(cat, file)\n",
    "\n",
    "# now start the show by calling the main function\n",
    "main()"
   ]
  },
  {
   "cell_type": "markdown",
   "metadata": {},
   "source": [
    "<hr />\n",
    "<h2><font color='maroon'>In this example we have mutible and immutible [list, tuple, dict].</font></h2>"
   ]
  },
  {
   "cell_type": "code",
   "execution_count": null,
   "metadata": {},
   "outputs": [],
   "source": [
    "# list - mutable (i.e. changable within itself)\n",
    "names = [\"Pierre\",\"Ryan\",\"Barrette\",\"Cruella\"]\n",
    "\n",
    "# tuple - immutable (i.e. once set up, changes mean rebuilding whole thing)\n",
    "days = (\"Monday\",\"Tuesday\",\"Nextday\",\"Thursday\")\n",
    "\n",
    "# dict - mutable and keyed by name\n",
    "routes = {\"X72\":\"Berkeley - Oakland\",\"272\":\"San José - Fremont\",\n",
    "        \"Zigzag\":\"Santa Clara - Livermore the pretty way\"}\n",
    "\n",
    "# string can be treated as a list of letters\n",
    "place = \"Triple Rock Brewery\"\n",
    "\n",
    "print(names[1])\n",
    "print(days[1])\n",
    "print(place[1])\n",
    "print(routes[\"272\"])\n",
    "\n",
    "names[2] = \"Graham\"; names[3] = \"Lisa\"\n",
    "for name in names:\n",
    "    print(\"Give some cavier to\",name)\n",
    "\n",
    "# days[3] = \"Wednesday\"\n",
    "# Can't assign to tuple member - previous line is a comment\n",
    "for dau in days:\n",
    "    print(\"We will learn on\",dau)\n",
    "\n",
    "# place[0] = \"B\"\n",
    "# Can't assign to string member - previous line is a comment\n",
    "for letter in place:\n",
    "    print(\"Gimme a\",letter)\n",
    "\n",
    "routes[\"C\"] = \"Boston - Cambridge\"  # Adds new - new key\n",
    "routes[\"272\"] = \"Modesto - Santa Barbara\"  # Replaces - key exists\n",
    "for route in routes.keys():\n",
    "    print(route,\"goes between\",routes[route])"
   ]
  },
  {
   "cell_type": "markdown",
   "metadata": {},
   "source": [
    "<hr />\n",
    "<h3>Looking ahead:</h3> counting data and making subsets by some criteria are important activities. In this example, we import the re (regular expressions) library and use it to parse a file.  The test source file could be replaced in real life with data from a live stream, another collection prepared by your team, etc."
   ]
  },
  {
   "cell_type": "code",
   "execution_count": 33,
   "metadata": {},
   "outputs": [
    {
     "name": "stdout",
     "output_type": "stream",
     "text": [
      "Sorry the file blog.txt is not available.\n"
     ]
    }
   ],
   "source": [
    "import os.path\n",
    "from os import path   # demoing os imports\n",
    "\n",
    "import re     # for regular expressions\n",
    "word = re.compile(r'[A-Z]{2,}',re.I)\n",
    "wordcount = {}\n",
    "\n",
    "filename = \"blog.txt\"\n",
    "\n",
    "\"\"\" check if there's a file to process \"\"\"\n",
    "if path.exists(filename):\n",
    "    \n",
    "    \"\"\" the text is from \"\"\"\n",
    "    for line in open(filename):\n",
    "        words = word.findall(line)\n",
    "        for item in words:\n",
    "            i2 = item.lower()\n",
    "            wordcount[i2] = wordcount.get(i2,0) + 1\n",
    "\n",
    "    used = list(wordcount.keys())\n",
    "    try:\n",
    "        used.sort(lambda y,x:wordcount[x]-wordcount[y])\n",
    "    except:\n",
    "        used.sort(key = lambda y:-wordcount[y])\n",
    "\n",
    "    # 'sample' variable used just for testing / truncating output\n",
    "\n",
    "    sample = 0\n",
    "    for item in used:\n",
    "        print(item + \"\\t\" + str( wordcount[item]))\n",
    "        sample += 1\n",
    "        # if sample > 50: break\n",
    "\n",
    "else:\n",
    "    print(f\"Sorry the file {filename} is not available.\")"
   ]
  },
  {
   "cell_type": "markdown",
   "metadata": {},
   "source": [
    "<hr /><h3>Thinking about functions and planning for OOD. </h3>\n",
    "<p>There's lots of way to run a python script.  Consider this OOD-feeling approach of calling main() if there's a python magic method (<code>__name__</code>) that's been set to <code>__main__</code> ... \n",
    "</p>"
   ]
  },
  {
   "cell_type": "code",
   "execution_count": null,
   "metadata": {},
   "outputs": [],
   "source": [
    "import os.path\n",
    "\n",
    "def doesFileExist(fileToFind):\n",
    "    returnValue = path.exists(filename)\n",
    "    return returnValue\n",
    "\n",
    "def printContents(fileToFind):\n",
    "    print(f\"Here are the contents of {fileToFind}.\")\n",
    "\n",
    "def getFileName():\n",
    "    return input(\"Enter the file name: \")\n",
    "\n",
    "def genericErrorMsg(i):\n",
    "    if i == 1:\n",
    "        return \"Sorry, the file is not found\"\n",
    "    else:\n",
    "        return \"An exception has been logged.  Cannot go on.\"\n",
    "\n",
    "def main():\n",
    "    userFileName = getFileName()\n",
    "    lineNo = 1\n",
    "    \n",
    "    if doesFileExist(userFileName):\n",
    "        printContents(userFileName)\n",
    "        print(f\"-\"*40,\"\\n\\tNow trying line by line\\n\")\n",
    "        f = open(userFileName, \"r\")\n",
    "        for line in f:\n",
    "            print(f\"\\nLine: {lineNo} = {line} \\n\")\n",
    "            lineNo += 1\n",
    "    else:\n",
    "        genericErrorMsg(1)\n",
    "\n",
    "if __name__ == \"__main__\":\n",
    "    main()"
   ]
  },
  {
   "cell_type": "markdown",
   "metadata": {},
   "source": [
    "<hr />\n",
    "<p>End of the week 5 main points with optional more advanced and applications.</p>"
   ]
  },
  {
   "cell_type": "code",
   "execution_count": null,
   "metadata": {},
   "outputs": [],
   "source": []
  }
 ],
 "metadata": {
  "kernelspec": {
   "display_name": "Python 3 (ipykernel)",
   "language": "python",
   "name": "python3"
  },
  "language_info": {
   "codemirror_mode": {
    "name": "ipython",
    "version": 3
   },
   "file_extension": ".py",
   "mimetype": "text/x-python",
   "name": "python",
   "nbconvert_exporter": "python",
   "pygments_lexer": "ipython3",
   "version": "3.11.9"
  }
 },
 "nbformat": 4,
 "nbformat_minor": 4
}
