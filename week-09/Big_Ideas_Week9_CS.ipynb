{
 "cells": [
  {
   "cell_type": "markdown",
   "metadata": {},
   "source": [
    "# Big Idea Module 9\n",
    "- key concepts: vectorization, matrix operations, and the linear model "
   ]
  },
  {
   "cell_type": "markdown",
   "metadata": {},
   "source": [
    "## The PyData Ecosystem\n",
    "The PyData ecosystem is a collection of libraries used to handle, analyze, and visualize data in Python. It includes libraries like NumPy, pandas, and Matplotlib."
   ]
  },
  {
   "cell_type": "markdown",
   "metadata": {},
   "source": [
    "Examples: importing a few essential libraries from the PyData ecosystem. These libraries are the backbone of data science workflows in Python"
   ]
  },
  {
   "cell_type": "code",
   "execution_count": null,
   "metadata": {},
   "outputs": [],
   "source": [
    "import numpy as np\n",
    "# It’s the foundation for handling numerical data. You can think of it as the engine behind more advanced libraries like pandas.\n",
    "import pandas as pd\n",
    "# It builds on NumPy to handle tabular data efficiently.\n",
    "import matplotlib.pyplot as plt\n",
    "# Used for visualizing data, built on NumPy arrays to provide flexibility.\n"
   ]
  },
  {
   "cell_type": "markdown",
   "metadata": {},
   "source": [
    "## Numpy\n",
    "Why is NumPy faster than Python lists? Python lists are great for flexibility, but NumPy arrays offer performance benefits.\n",
    "NumPy arrays are more efficient because they store data in contiguous blocks of memory. This allows for fast access and manipulation, compared to Python lists, which store references to objects. NumPy also leverages C under the hood for optimized computations.\n",
    "NumPy, in particular, serves as the computational backbone because of its ability to efficiently manipulate large datasets, making it essential for high-performance tasks like matrix operations and linear modeling.\n",
    "\n",
    "- NumPy is preferred over Python lists for numerical computations because it optimizes the way data is stored and accessed in memory. With NumPy, arrays store elements in contiguous memory blocks, unlike lists, which store references to objects. This results in faster data access and manipulation. Moreover, NumPy is built on top of optimized C code and operates on raw memory arrays\n",
    "\n",
    "In this example, we see that using NumPy arrays gives us a performance boost (varies on size) over Python lists when applying the same operation."
   ]
  },
  {
   "cell_type": "code",
   "execution_count": 19,
   "metadata": {},
   "outputs": [
    {
     "name": "stdout",
     "output_type": "stream",
     "text": [
      "NumPy vectorized operation took: 0.001146 seconds\n",
      "Python list comprehension took: 0.047512 seconds\n"
     ]
    }
   ],
   "source": [
    "import numpy as np\n",
    "import time\n",
    "\n",
    "# Create large NumPy array and Python list\n",
    "arr = np.arange(1000000)\n",
    "lst = list(range(1000000))\n",
    "\n",
    "# NumPy vectorized operation\n",
    "start_time = time.time()\n",
    "arr = arr + 1\n",
    "print(f\"NumPy vectorized operation took: {time.time() - start_time:.6f} seconds\")\n",
    "\n",
    "# Python list comprehension\n",
    "start_time = time.time()\n",
    "lst = [x + 1 for x in lst]\n",
    "print(f\"Python list comprehension took: {time.time() - start_time:.6f} seconds\")"
   ]
  },
  {
   "cell_type": "markdown",
   "metadata": {},
   "source": [
    "# Vectorization \n",
    "One of the reasons NumPy is so powerful is because of vectorization. Vectorization allows us to apply operations across entire arrays without using loops. This makes the code faster and more concise.\n"
   ]
  },
  {
   "cell_type": "code",
   "execution_count": 11,
   "metadata": {},
   "outputs": [
    {
     "name": "stdout",
     "output_type": "stream",
     "text": [
      "Without vectorization: [1, 4, 9, 16, 25]\n",
      "With vectorization: [ 1  4  9 16 25]\n"
     ]
    }
   ],
   "source": [
    "arr = np.array([1, 2, 3, 4, 5])\n",
    "# Without vectorization\n",
    "arr_squared = [x**2 for x in arr]\n",
    "\n",
    "# With vectorization\n",
    "arr_squared_np = arr ** 2\n",
    "\n",
    "print(\"Without vectorization:\", arr_squared)\n",
    "print(\"With vectorization:\", arr_squared_np)"
   ]
  },
  {
   "cell_type": "markdown",
   "metadata": {},
   "source": [
    "This code shows how we can square each element of an array using vectorization, which avoids the need for a for-loop."
   ]
  },
  {
   "cell_type": "markdown",
   "metadata": {},
   "source": [
    "## Reshaping Arrays in NumPy:\n",
    "In data science, it’s common to reshape data into different formats. NumPy makes it easy to reshape arrays to match the structure we need for analysis, like transforming a 1D array into a matrix. Reshaping arrays is important when transitioning from 1D to 2D or multidimensional arrays. It’s essential for handling real-world data in different formats.\n",
    "\n",
    "- Reshaping arrays allows us to adjust data into the desired structure for analysis.\n",
    "\n",
    "- Reshaping arrays: When working with real-world datasets, it’s common to reshape arrays. For example, if you have a one-dimensional array and need it to represent a matrix or a multidimensional array, you can use reshape. This is especially useful when we need to perform matrix operations like those in machine learning models\n"
   ]
  },
  {
   "cell_type": "code",
   "execution_count": 20,
   "metadata": {},
   "outputs": [
    {
     "name": "stdout",
     "output_type": "stream",
     "text": [
      "Original 1D array: [0 1 2 3 4 5 6 7 8]\n",
      "Reshaped into 3x3 matrix:\n",
      " [[0 1 2]\n",
      " [3 4 5]\n",
      " [6 7 8]]\n"
     ]
    }
   ],
   "source": [
    "# Reshaping a 1D array into a 3x3 matrix\n",
    "arr = np.arange(9)\n",
    "print(\"Original 1D array:\", arr)\n",
    "\n",
    "arr_reshaped = arr.reshape(3, 3)\n",
    "print(\"Reshaped into 3x3 matrix:\\n\", arr_reshaped)"
   ]
  },
  {
   "cell_type": "markdown",
   "metadata": {},
   "source": [
    "# Boolean Indexing\n",
    "Boolean indexing is a powerful tool that lets us filter arrays based on specific conditions. This can be especially useful when cleaning data or selecting specific rows or columns based on a condition.\n",
    "\n",
    "Boolean Indexing: Boolean indexing is like filtering rows in a table. In this case, I’m filtering for values in the array that are greater than 5. This kind of operation is invaluable when we need to work with only part of the data, such as selecting outliers or missing data."
   ]
  },
  {
   "cell_type": "code",
   "execution_count": 21,
   "metadata": {},
   "outputs": [
    {
     "name": "stdout",
     "output_type": "stream",
     "text": [
      "Original array: [0 1 2 3 4 5 6 7 8 9]\n",
      "Values greater than 5: [6 7 8 9]\n"
     ]
    }
   ],
   "source": [
    "# Boolean indexing example: Select values greater than 5\n",
    "arr = np.arange(10)\n",
    "print(\"Original array:\", arr)\n",
    "\n",
    "filtered_arr = arr[arr > 5]\n",
    "print(\"Values greater than 5:\", filtered_arr)\n",
    "# We use Boolean indexing to select elements of an array that meet a specific condition. It’s useful for filtering data quickly.\n",
    "# Boolean indexing allows us to filter elements easily and intuitively, without needing loops or complex logic."
   ]
  },
  {
   "cell_type": "markdown",
   "metadata": {},
   "source": [
    "## Matrix Operations in NumPy \n",
    "- Matrix operations are fundamental in data science, especially for tasks like linear modeling, where we use matrix multiplication and other linear algebra techniques.\n",
    "Matrix operations, like matrix multiplication and transposition, are central to data science, especially when working with linear models or machine learning algorithms.\n",
    "\n",
    "Matrix multiplication is used to combine different sets of data or apply weights in linear models. \n",
    "\n",
    "The transpose operation swaps rows and columns, which is useful in many mathematical and machine learning tasks."
   ]
  },
  {
   "cell_type": "code",
   "execution_count": 16,
   "metadata": {},
   "outputs": [
    {
     "name": "stdout",
     "output_type": "stream",
     "text": [
      "Matrix Multiplication (A @ B):\n",
      " [[ 27  30  33]\n",
      " [ 61  68  75]\n",
      " [ 95 106 117]]\n",
      "Transpose of A:\n",
      " [[1 3 5]\n",
      " [2 4 6]]\n"
     ]
    }
   ],
   "source": [
    "# Creating matrices A and B\n",
    "A = np.array([[1, 2], [3, 4], [5, 6]])\n",
    "B = np.array([[7, 8, 9], [10, 11, 12]])\n",
    "\n",
    "# Matrix multiplication\n",
    "C = A @ B\n",
    "print(\"Matrix Multiplication (A @ B):\\n\", C)\n",
    "# Matrix multiplication is at the core of many machine learning algorithms, and NumPy makes it easy with the @ operator.\n",
    "\n",
    "# Transpose of A\n",
    "A_T = A.T\n",
    "print(\"Transpose of A:\\n\", A_T)\n",
    "# The transpose of a matrix switches its rows and columns. It’s used frequently in data transformations."
   ]
  },
  {
   "cell_type": "markdown",
   "metadata": {},
   "source": [
    "Matrix operations allow us to transform data in useful ways\n",
    "\n",
    "Matrix Multiplication: Matrix multiplication is a fundamental operation in linear algebra. It’s used in everything from data transformations to neural networks. In this case, we use the @ operator, which is a shorthand for matrix multiplication.\n",
    "\n",
    "Transpose: The transpose operation swaps the rows and columns of a matrix. It’s useful when you need to manipulate the orientation of your data, especially when preparing data for models or visualizations."
   ]
  },
  {
   "cell_type": "markdown",
   "metadata": {},
   "source": [
    "## Building a Linear Model Using Matrix Operations\n",
    "Now that we understand basic matrix operations, let’s see how we can use them to build a simple linear model. We’ll use a dataset that measures caffeine intake, hours of sleep, and test scores.\n",
    "\n",
    "- In data science, matrix operations allow us to build linear models. Here, we’ll predict an output (test score) based on input variables (caffeine intake, sleep hours) using matrix multiplication.\n",
    "\n",
    "Linear models are some of the simplest but most powerful tools in data science. They’re often the first step in predictive modeling, helping us understand relationships between variables.\n",
    "\n",
    "- A linear model predicts an output based on input features using an equation like: y = intercept + slope_1 * feature_1 + slope_2 * feature_2"
   ]
  },
  {
   "cell_type": "code",
   "execution_count": 22,
   "metadata": {},
   "outputs": [
    {
     "name": "stdout",
     "output_type": "stream",
     "text": [
      "Predicted Test Scores: [ 82.5 100.   95. ]\n"
     ]
    }
   ],
   "source": [
    "# Input data (caffeine, sleep) and test scores\n",
    "X = np.array([[100, 5], [200, 4], [150, 6]])  # Input: Caffeine, Sleep\n",
    "y = np.array([75, 82, 89])  # Output: Test scores\n",
    "\n",
    "# Adding an intercept column (1's) to X\n",
    "X_design = np.hstack([np.ones((X.shape[0], 1)), X])\n",
    "\n",
    "# Coefficients: intercept, caffeine, and sleep coefficients\n",
    "beta = np.array([50, 0.2, 2.5])\n",
    "\n",
    "# Prediction using matrix multiplication (linear model)\n",
    "y_pred = X_design @ beta\n",
    "print(\"Predicted Test Scores:\", y_pred)"
   ]
  },
  {
   "cell_type": "markdown",
   "metadata": {},
   "source": [
    "Linear Model: This linear model predicts test scores based on caffeine intake and hours of sleep. By stacking a column of ones, we add an intercept to the model, which helps us account for a baseline prediction.\n",
    "\n",
    "- In this example, we’ve built a basic linear model using matrix multiplication. We add an intercept term, then apply the weights (the beta values) to make predictions.\n",
    "\n",
    "Matrix Multiplication in Modeling: In the model, we use matrix multiplication to combine the input data with our coefficients (the intercept and slopes)."
   ]
  },
  {
   "cell_type": "markdown",
   "metadata": {},
   "source": [
    "\n"
   ]
  }
 ],
 "metadata": {
  "kernelspec": {
   "display_name": "py3jp",
   "language": "python",
   "name": "python3"
  },
  "language_info": {
   "codemirror_mode": {
    "name": "ipython",
    "version": 3
   },
   "file_extension": ".py",
   "mimetype": "text/x-python",
   "name": "python",
   "nbconvert_exporter": "python",
   "pygments_lexer": "ipython3",
   "version": "3.12.7"
  }
 },
 "nbformat": 4,
 "nbformat_minor": 2
}
