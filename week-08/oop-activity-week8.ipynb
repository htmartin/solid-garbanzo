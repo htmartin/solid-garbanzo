{
 "cells": [
  {
   "cell_type": "markdown",
   "id": "638ae9bf-1b8f-4788-b706-9456d1eef3fb",
   "metadata": {},
   "source": [
    "# OOP Activity Week 8\n",
    "\n",
    "## Part I\n",
    "\n",
    "- For this activity, you won't be writing any actual code. \n",
    "- Instead, your task is to create solution designs for 2 of the problems below.\n",
    "- Develop a solution design for each that utilizes the OOP principles of polymorphism, inheritance, and encapsulation.\n",
    "- You can use the example below as a model for your design documents\n",
    "- In your design documents: \n",
    "   1. Specify the major classes, attributes and methods you will use.\n",
    "   2. Explain how you are applying the OOP principles in your solutions. \n",
    "- Be prepared to present your solutions to the group. "
   ]
  },
  {
   "cell_type": "markdown",
   "id": "ad69c171-7dcf-47a6-9c1c-e0b2ae6f14a2",
   "metadata": {},
   "source": [
    "## Example Design Document: \n",
    "### Payment Processing System\n",
    "\n",
    "- Problem: Create a payment processing system that supports multiple payment methods such as credit cards, PayPal, and bank transfers.\n",
    "\n",
    "#### Classes:\n",
    " \n",
    " `PaymentMethod` (Base class)\n",
    "  - **Attributes**: `amount`\n",
    "  - **Methods**: `process_payment()`\n",
    "\n",
    "\n",
    "`CreditCard` (inherits from `PaymentMethod`)\n",
    "  - **Attributes**: `card_number`, `expiration_date`, `cvv`\n",
    "  - **Methods**: `process_payment()`\n",
    "\n",
    "\n",
    "`PayPal` (inherits from `PaymentMethod`)\n",
    "  - **Attributes**: `email_address`, `password`\n",
    "  - **Methods**: `process_payment()`\n",
    "\n",
    "\n",
    "`BankTransfer` (inherits from `PaymentMethod`)\n",
    "  - **Attributes**: `account_number`, `routing_number`\n",
    "  - **Methods**: `process_payment()`\n",
    "\n",
    "\n",
    "`Transaction`\n",
    "  - **Attributes**: `transaction_id`, `payment_method`, `status`\n",
    "  - **Methods**: `initiate_payment()`, `refund()`\n",
    "\n",
    "\n",
    "#### OOP Principles:\n",
    "\n",
    "**Polymorphism**: The `process_payment()` method is defined differently in each subclass (`CreditCard`, `PayPal`, `BankTransfer`), but all are called in the same way by the `Transaction` class.\n",
    "\n",
    "**Inheritance**: `PaymentMethod` is a base class for different payment types, sharing the `amount` attribute and `process_payment()` method signature.\n",
    "\n",
    "**Encapsulation**: Sensitive details like card numbers or PayPal passwords are stored privately within their respective classes, only accessed through secure methods like `process_payment()`."
   ]
  },
  {
   "cell_type": "markdown",
   "id": "ee9c4f65-1370-4b18-bbb0-c52234a5d967",
   "metadata": {},
   "source": [
    "## Problems\n",
    "\n",
    "1. **Library System**\n",
    "   - Problem: Design a system for managing a library's collection of books, journals, and digital media. The system should handle borrowing, returning, and searching for items."
   ]
  },
  {
   "cell_type": "markdown",
   "id": "1bead8cc-26aa-469b-996e-44ea9aa4f7a5",
   "metadata": {},
   "source": [
    "##### Design Document:"
   ]
  },
  {
   "cell_type": "markdown",
   "id": "3c237b0a-3dd7-4467-b6af-04d07adac7bf",
   "metadata": {},
   "source": [
    " 2. **Vehicle Rental System**\n",
    "   - Problem: Develop a system to manage the rental of different types of vehicles, such as cars, bikes, and trucks."
   ]
  },
  {
   "cell_type": "markdown",
   "id": "f6a09277-b580-4828-9226-e1552ae27a42",
   "metadata": {},
   "source": [
    "##### Design Document:"
   ]
  },
  {
   "cell_type": "markdown",
   "id": "e90cf392-7e1e-41f4-856d-c4777536359f",
   "metadata": {},
   "source": [
    "3. **E-commerce Platform**\n",
    "   - Problem: Create a system for managing different types of products (e.g., electronics, clothing, groceries) in an online store.\n",
    "   \n"
   ]
  },
  {
   "cell_type": "markdown",
   "id": "6b8bcbed-98e7-4009-ac10-5c7e01b556a5",
   "metadata": {},
   "source": [
    "##### Design Document:"
   ]
  },
  {
   "cell_type": "markdown",
   "id": "403d2265-6f22-4578-ba6d-016794a7f49b",
   "metadata": {},
   "source": [
    " 4. **Role-Playing Game (RPG)**\n",
    "   - Problem: Design a system for managing different character classes (e.g., Warrior, Mage, Archer) in an RPG, each with unique abilities and stats."
   ]
  },
  {
   "cell_type": "markdown",
   "id": "b3dc17c9-69db-47b1-81f3-4478112ce2f1",
   "metadata": {},
   "source": [
    "##### Design Document:"
   ]
  },
  {
   "cell_type": "code",
   "execution_count": null,
   "id": "4b9fd55b-0402-4005-9f50-a0cd25258e76",
   "metadata": {},
   "outputs": [],
   "source": []
  }
 ],
 "metadata": {
  "kernelspec": {
   "display_name": "Python 3 (ipykernel)",
   "language": "python",
   "name": "python3"
  },
  "language_info": {
   "codemirror_mode": {
    "name": "ipython",
    "version": 3
   },
   "file_extension": ".py",
   "mimetype": "text/x-python",
   "name": "python",
   "nbconvert_exporter": "python",
   "pygments_lexer": "ipython3",
   "version": "3.11.9"
  }
 },
 "nbformat": 4,
 "nbformat_minor": 5
}
