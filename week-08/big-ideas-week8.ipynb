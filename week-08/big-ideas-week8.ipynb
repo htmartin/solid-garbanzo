{
 "cells": [
  {
   "cell_type": "markdown",
   "id": "5f09bc97-b69d-41f4-94be-697e74eeeda4",
   "metadata": {},
   "source": [
    "# Big Ideas Week 8\n",
    "\n",
    "### Big Idea 1: Object-Oriented Programming (OOP) \n",
    "- OOP is a programming paradigm that uses \"objects\" to design and structure software.\n",
    "- In Python, OOP is a core feature that helps organize and manage code by encapsulating related data and functions into classes and objects.\n",
    "\n",
    "- Let's break down the main concepts:"
   ]
  },
  {
   "cell_type": "markdown",
   "id": "d9dd78b3-6821-4454-8767-7b7578e70ccc",
   "metadata": {},
   "source": [
    "### Big Idea 2: Classes\n",
    "- A class in Python is a blueprint for creating objects (instances).\n",
    "- e.g., The `Pet` class is a blueprint for creating instances of pets, i.e., encapsulates the attributes and behaviors (methods) associated with a pet:"
   ]
  },
  {
   "cell_type": "code",
   "execution_count": 5,
   "id": "6246fbd7-849e-4503-9e23-512565ab0511",
   "metadata": {},
   "outputs": [],
   "source": [
    "class Pet():                    # Defines a new class named `Pet`\n",
    "    \n",
    "    def __init__(self, name):   # The constructor `__init__` method initializes the object's attributes.\n",
    "                                # The parameter `self` refers to the instance of the class\n",
    "                                # The parameter`name` initializes the `name` attribute of the object.\n",
    "        self.name = name        # Assigns the value passed to the `name` parameter to the `name` attribute of the instance.\n",
    "        self.owner = None       # Initializes the `owner` attribute of the `Pet` instance to `None`\n",
    "        self.noise = None       # Initializes the `noise` attribute of the `Pet` instance to `None`"
   ]
  },
  {
   "cell_type": "markdown",
   "id": "0f457f79-a3ea-4a05-bc8e-cb1188bc88e2",
   "metadata": {},
   "source": [
    "### Big Idea 3:  Inheritance \n",
    "\n",
    "-Allows a new class (subclass) to inherit attributes and methods from an existing class (superclass).\n",
    "\n",
    "##### Benefits\n",
    "- Code Reusability: Write once, use multiple times.\n",
    "- Modularity: Easy to extend and maintain.\n",
    "\n"
   ]
  },
  {
   "cell_type": "code",
   "execution_count": null,
   "id": "d604e28e-7096-4f0f-8de7-cc022aeea951",
   "metadata": {},
   "outputs": [],
   "source": [
    "class Dog(Pet):                 # Defines a new class `Dog` that inherits from the `Pet` class.\n",
    "    \n",
    "    count = 0                   # A class variable to keep track of how many dogs we have.\n",
    "    \n",
    "    def __init__(self, name, breed): # Defines the constructor method for the `Dog` class.\n",
    "        Pet.__init__(self,name)  # Explicitly calls the constructor of the `Pet` class, \n",
    "                                 # i.e., initializes the `name` attribute of the `Dog` object using the `Pet` class's `__init__` method. \n",
    "        self.breed = breed\n",
    "        Dog.count += 1\n",
    "        self.noise = \"woof woof\" # dog noise"
   ]
  },
  {
   "cell_type": "markdown",
   "id": "dd3b86bc-9262-4c79-b2cc-26889e7a21bf",
   "metadata": {},
   "source": [
    "- **Why `Pet.`?**: We use `Pet.` here to explicitly refer to the parent class’s `__init__` method. This ensures that the `Pet` part of the `Dog` object is correctly initialized with the `name` attribute."
   ]
  },
  {
   "cell_type": "markdown",
   "id": "9bfa9bab-4abd-486b-8557-75b59f56db38",
   "metadata": {},
   "source": [
    "### Big Idea 4: Encapsulation \n",
    "Writ large, it is the idea of bundling of data (attributes) and methods (functions) that operate on the data into a single unit or class.\n",
    "\n",
    "- Encapsulation often refers specifically to protection:\n",
    "- Encapsulation is restricting direct access to some of an object's components, which can prevent the accidental modification of data.\n",
    "- e.g., Data Hiding:\n",
    "    - Internal representation of an object is hidden from the outside.\n",
    "    - Only the methods defined in the class can access and modify the attributes:\n"
   ]
  },
  {
   "cell_type": "code",
   "execution_count": 2,
   "id": "0f36a40b-c03e-4993-89aa-c998ac1345b1",
   "metadata": {},
   "outputs": [],
   "source": [
    "class Account:\n",
    "    def __init__(self, balance):\n",
    "        self.__balance = balance # Private attribute\n",
    "\n",
    "    def deposit(self, amount):\n",
    "        self.__balance += amount #Controlled access\n",
    "\n",
    "    def get_balance(self):\n",
    "        return self.__balance #Controlled access"
   ]
  },
  {
   "cell_type": "code",
   "execution_count": null,
   "id": "754bd81d-7d24-41c2-998d-f584124540ba",
   "metadata": {},
   "outputs": [],
   "source": [
    "#USAGE\n",
    "\n",
    "acc = Account(100)\n",
    "acc.deposit(50)\n",
    "print(acc.get_balance())\n"
   ]
  },
  {
   "cell_type": "markdown",
   "id": "2b5c36cc-64b4-44f4-872a-c941462a6073",
   "metadata": {},
   "source": [
    "### Big Idea 5: Polymorphism \n",
    "- Allows objects of different classes to be treated as objects of a common superclass. It means \"many forms\" and refers to the ability to call the same method on different objects and have each one respond in its own way.\n",
    "\n",
    "Polymorphic behavior:\n",
    "\n",
    "- Overriding: Define a method in a superclass and then define a method with the same name in a subclass\n",
    "- Ability to call the correct version of an overriden method, depending on the type of object that is used to call it.  \n",
    "    - If a subclass object is used to call an overriden method, then the subclass's version of the method will be executed.  \n",
    "    - If a superclass object is used to call an overridden method, then the superclass's version of the method is the one that’s executed.\n"
   ]
  },
  {
   "cell_type": "code",
   "execution_count": 7,
   "id": "656cfea0-085e-4d8f-abeb-3e2176282ba6",
   "metadata": {},
   "outputs": [],
   "source": [
    "class Animal:\n",
    "    def sound(self):\n",
    "        return \"Some generic sound\"\n",
    "\n",
    "class Dog(Animal):\n",
    "    def sound(self):\n",
    "        return \"Bark\"\n",
    "\n",
    "class Cat(Animal):\n",
    "    def sound(self):\n",
    "        return \"Meow\""
   ]
  },
  {
   "cell_type": "code",
   "execution_count": 10,
   "id": "6c6fe53a-52be-4d91-96f5-7a49ce1a25e1",
   "metadata": {},
   "outputs": [
    {
     "name": "stdout",
     "output_type": "stream",
     "text": [
      "Some generic sound\n",
      "Bark\n",
      "Meow\n"
     ]
    }
   ],
   "source": [
    "# Polymorphic behavior\n",
    "animals = [Animal(), Dog(), Cat()]\n",
    "\n",
    "for animal in animals:\n",
    "    print(animal.sound())  # Calls the correct version of the 'sound' method"
   ]
  },
  {
   "cell_type": "markdown",
   "id": "7c059e49-da91-4eab-a61e-3f424c9f3a14",
   "metadata": {},
   "source": [
    "In this example:\n",
    "- The `sound` method is overridden in the `Dog` and `Cat` subclasses.\n",
    "- Depending on the object type (whether it's `Animal`, `Dog`, or `Cat`), the appropriate `sound` method is called."
   ]
  },
  {
   "cell_type": "markdown",
   "id": "44ffbab6-fa2a-4e50-bac4-0c6f2e9ca6f9",
   "metadata": {},
   "source": []
  },
  {
   "cell_type": "code",
   "execution_count": null,
   "id": "da1efc52-677f-482e-9e4d-7d2680ede37a",
   "metadata": {},
   "outputs": [],
   "source": []
  }
 ],
 "metadata": {
  "kernelspec": {
   "display_name": "Python 3 (ipykernel)",
   "language": "python",
   "name": "python3"
  },
  "language_info": {
   "codemirror_mode": {
    "name": "ipython",
    "version": 3
   },
   "file_extension": ".py",
   "mimetype": "text/x-python",
   "name": "python",
   "nbconvert_exporter": "python",
   "pygments_lexer": "ipython3",
   "version": "3.11.9"
  }
 },
 "nbformat": 4,
 "nbformat_minor": 5
}
