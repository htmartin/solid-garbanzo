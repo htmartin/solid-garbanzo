{
 "cells": [
  {
   "cell_type": "markdown",
   "metadata": {},
   "source": [
    "# Karim's Section: For Loops\n",
    "\n",
    "For loops in Python offer a more readable and intuitive way to iterate over sequences compared to while loops, especially when working with ranges or collections, making them ideal for many common tasks despite being less flexible than while loops."
   ]
  },
  {
   "cell_type": "code",
   "execution_count": 1,
   "metadata": {},
   "outputs": [
    {
     "name": "stdout",
     "output_type": "stream",
     "text": [
      "[1, 4, 9, 16, 25]\n"
     ]
    }
   ],
   "source": [
    "numbers = [1, 2, 3, 4, 5]\n",
    "squares = []\n",
    "\n",
    "for num in numbers:\n",
    "    square = num ** 2       #squaring the number\n",
    "    squares.append(square)  #adding it to the new list of squares\n",
    "\n",
    "print(squares)"
   ]
  },
  {
   "cell_type": "markdown",
   "metadata": {},
   "source": [
    "Looking at fancy loop exits, specifically using tools like the break and continue statements, as well as pairing loops with else clauses, to exit or skip parts of loops early. These techniques improve efficiency and readability by allowing loops to stop once a condition is met or to skip unnecessary steps."
   ]
  },
  {
   "cell_type": "code",
   "execution_count": 7,
   "metadata": {},
   "outputs": [
    {
     "name": "stdout",
     "output_type": "stream",
     "text": [
      "2\n",
      "3\n",
      "9 is not prime.\n"
     ]
    }
   ],
   "source": [
    "x = int(input(\"Enter a number: \"))\n",
    "\n",
    "prime = True            #number is prime until proven otherwise\n",
    "\n",
    "for i in range(2, x):   #loop from 2 and going up to x-1\n",
    "    print(i)\n",
    "    if x % i == 0:      #check if i divides x evenly\n",
    "        \n",
    "        print(f\"{x} is not prime.\")\n",
    "\n",
    "        prime = False   #change prime flag to false\n",
    "        break           #exit since x isn't prime\n",
    "if prime:\n",
    "    print(f\"{x} is prime.\")\n"
   ]
  },
  {
   "cell_type": "markdown",
   "metadata": {},
   "source": [
    "# Josh's section: Algorithms and Comprehensions\n",
    "\n",
    "The big idea: there are many approaches to solving most problems, and different approaches can be more or less efficient. This section illustrates two ways to solve the same problem, but one is much faster. Taking some time to think of the different overall approaches you take will massively improve the efficiency of your code.\n",
    "\n",
    "Both approaches below illustrate a similar \"guess and check\" method to estimating the square root of a number. But one runs way, way faster, because instead of just chugging through every possible solution, it *scales the precision* of its guesses as the algorithm keeps going - getting closer by an order of magnitude with every guess. "
   ]
  },
  {
   "cell_type": "code",
   "execution_count": 8,
   "metadata": {},
   "outputs": [
    {
     "name": "stdout",
     "output_type": "stream",
     "text": [
      "number of guesses: 22360680\n",
      "2.236067999947693 is close to the square root of 5\n",
      "time taken: 1.4588749408721924 seconds\n"
     ]
    }
   ],
   "source": [
    "### brute force:\n",
    "import time                             # a quick package that times how long the run takes. \n",
    "\n",
    "number = int(input(\"enter a number\"))\n",
    "num_guesses = 0\n",
    "increment = 0.0000001\n",
    "ans = 0.0\n",
    "start = time.time()                     #starts the clock on our timer\n",
    "\n",
    "while ans*ans < number:\n",
    "    ans += increment \n",
    "    num_guesses += 1\n",
    "    # at every step, we are just adding our increment. So we checking ALL of the numbers between 0 and the square root,\n",
    "    # adding one ten millionth every time and checking again.\n",
    "end = time.time()                       #stops the clock\n",
    "\n",
    "print(\"number of guesses:\", num_guesses)\n",
    "print(ans, \"is close to the square root of\", number)\n",
    "print(\"time taken:\", end-start, \"seconds\")\n",
    "\n",
    "brute_force_time = end-start"
   ]
  },
  {
   "cell_type": "code",
   "execution_count": 9,
   "metadata": {},
   "outputs": [
    {
     "name": "stdout",
     "output_type": "stream",
     "text": [
      "number of guesses: 27\n",
      "2.2360679879784584 is close to the square root of 5\n",
      "time taken: 9.298324584960938e-05 seconds\n",
      "bisection search was 15689.653846153846 times faster than brute force to find the square root of 5\n"
     ]
    }
   ],
   "source": [
    "## bisection search\n",
    "import time\n",
    "#same problem, but now, lets take a different approach\n",
    "\n",
    "number = int(input(\"enter a number\"))\n",
    "\n",
    "guesses = 0\n",
    "window = 0.0000001                      #note, same tolerance for error as above\n",
    "ceiling = number\n",
    "floor = 0.0\n",
    "\n",
    "start = time.time()                     #starts the clock \n",
    "while abs(ans*ans-number) > window:\n",
    "    ans = floor + (ceiling-floor)/2.0   # this is a simple midpoint calculation\n",
    "    guesses += 1\n",
    "\n",
    "    if ans*ans > number:\n",
    "        ceiling = ans\n",
    "    else:\n",
    "        floor = ans\n",
    "end = time.time()                       #stops the clock\n",
    "\n",
    "#prints out the results\n",
    "print(\"number of guesses:\", guesses)\n",
    "print(ans, \"is close to the square root of\", number)\n",
    "print(\"time taken:\", end-start, \"seconds\")\n",
    "\n",
    "# Shows how much faster bisection search is than brute force\n",
    "bisection_search_time = end-start\n",
    "print(f\"bisection search was {brute_force_time/bisection_search_time} times faster than brute force to find the square root of {number}\")\n"
   ]
  },
  {
   "cell_type": "markdown",
   "metadata": {},
   "source": [
    "## Comprehensions\n",
    "\n",
    "There are many ways to write code that does the exact same thing, some of which are more easily readable when you go back and edit your code. Often, looping is used to generate lists, and python provides shortcuts to do this with fewer lines of code, which helps with readability. \n",
    "\n",
    "Internally, a for loop makes a list, then for every element of that list, it does something. What comprehensions do is just use the same syntax, but instead of defining an operation that happens for every element of the list, comprehensions just return the list that was generated."
   ]
  },
  {
   "cell_type": "code",
   "execution_count": 10,
   "metadata": {},
   "outputs": [
    {
     "name": "stdout",
     "output_type": "stream",
     "text": [
      "[1.0, 1.4142135623730951, 1.7320508075688772, 2.0, 2.23606797749979, 2.449489742783178, 2.6457513110645907, 2.8284271247461903, 3.0, 3.1622776601683795]\n",
      "[1.0, 1.4142135623730951, 1.7320508075688772, 2.0, 2.23606797749979, 2.449489742783178, 2.6457513110645907, 2.8284271247461903, 3.0, 3.1622776601683795]\n"
     ]
    }
   ],
   "source": [
    "# For example, if I wanted a list of the square roots of integers from 1 to 10, I could do\n",
    "\n",
    "new_list = []\n",
    "for k in range(1,11):\n",
    "    new_list.append(k**0.5)\n",
    "print(new_list)\n",
    "\n",
    "# Alternatively, I could just define it all using the same syntax in a list comprehension:\n",
    "comprehension_list = [k**0.5 for k in range(1,11)]\n",
    "print(comprehension_list)\n",
    "# the only thing I did was rearrange everything that I had previously\n"
   ]
  },
  {
   "cell_type": "code",
   "execution_count": null,
   "metadata": {},
   "outputs": [],
   "source": [
    "# We can also add logic statements like if statements to our comprehensions\n",
    "comprehension_list_2 = [k**0.5 for k in range(1,11) if (k**0.5).is_integer()]\n",
    "print(comprehension_list_2)"
   ]
  },
  {
   "cell_type": "markdown",
   "metadata": {},
   "source": [
    "Comprehensions can get as complicated as you want, and you can write quite a lot of logic into them if you feel so inclined. "
   ]
  }
 ],
 "metadata": {
  "kernelspec": {
   "display_name": "py3jp",
   "language": "python",
   "name": "python3"
  },
  "language_info": {
   "codemirror_mode": {
    "name": "ipython",
    "version": 3
   },
   "file_extension": ".py",
   "mimetype": "text/x-python",
   "name": "python",
   "nbconvert_exporter": "python",
   "pygments_lexer": "ipython3",
   "version": "3.12.4"
  }
 },
 "nbformat": 4,
 "nbformat_minor": 2
}
