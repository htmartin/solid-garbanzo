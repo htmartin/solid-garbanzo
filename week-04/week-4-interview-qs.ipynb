{
 "cells": [
  {
   "cell_type": "markdown",
   "id": "b40f2757-660d-4859-9dc9-90324d4db766",
   "metadata": {},
   "source": [
    "### General Knowledge Questions\n",
    "\n",
    "1. What is an algorithm, and how is it used in data science?\n",
    "2. How do you differentiate between while loops and for loops in Python?\n",
    "3. Can you explain the concept of trade-offs in choosing algorithms for solving a problem?\n",
    "4. What is the purpose of using a break statement in loops, and how does it affect code readability?\n",
    "5. How do you approach solving problems using brute-force versus more optimized algorithms like bisection search?"
   ]
  }
 ],
 "metadata": {
  "kernelspec": {
   "display_name": "Python 3 (ipykernel)",
   "language": "python",
   "name": "python3"
  },
  "language_info": {
   "codemirror_mode": {
    "name": "ipython",
    "version": 3
   },
   "file_extension": ".py",
   "mimetype": "text/x-python",
   "name": "python",
   "nbconvert_exporter": "python",
   "pygments_lexer": "ipython3",
   "version": "3.11.9"
  }
 },
 "nbformat": 4,
 "nbformat_minor": 5
}
