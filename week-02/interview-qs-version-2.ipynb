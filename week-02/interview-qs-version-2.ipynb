{
 "cells": [
  {
   "cell_type": "markdown",
   "id": "158d6eeb-cc87-4241-ad2f-e9a95a5a5458",
   "metadata": {},
   "source": [
    "1. What are the different data types available in Python? (GK)\n"
   ]
  },
  {
   "cell_type": "markdown",
   "id": "8b19fa11-a6ce-49f7-bd9b-45b0abc77389",
   "metadata": {},
   "source": [
    "1. How would you convert a list of integers into a comma-separated string in Python? (Coding)\n"
   ]
  },
  {
   "cell_type": "markdown",
   "id": "17a0de0a-9068-43bc-be56-1bc407da331f",
   "metadata": {},
   "source": [
    "2. How do you differentiate between mutable and immutable data types in Python? (GK)\n"
   ]
  },
  {
   "cell_type": "markdown",
   "id": "ec75eaa3-4ce0-4176-93af-6204e6b40656",
   "metadata": {},
   "source": [
    "2. Write a Python script that checks if a given string is a palindrome. (Coding)"
   ]
  },
  {
   "cell_type": "markdown",
   "id": "d44e874b-f3cb-4bd2-bbe7-b73be5c3b961",
   "metadata": {},
   "source": [
    "3. Explain how control flow works in Python with examples. (GK)\n"
   ]
  },
  {
   "cell_type": "markdown",
   "id": "eaf7eef8-e14b-41f3-b1b7-45f78c8d137c",
   "metadata": {},
   "source": [
    "3. How can you remove duplicate elements from a list in Python while preserving the order? (Coding)"
   ]
  },
  {
   "cell_type": "markdown",
   "id": "b7fb3e22-6aee-47a0-844b-d51ea3b3ee93",
   "metadata": {},
   "source": [
    "4. What are the main string operations in Python, and how are they commonly used in data science? (GK)\n"
   ]
  },
  {
   "cell_type": "markdown",
   "id": "13d05685-eac9-4f4f-87c3-3b0956455f8b",
   "metadata": {},
   "source": [
    "4. Given a list of integers, write a Python script that returns the sum of all even numbers in the list. (Coding)"
   ]
  },
  {
   "cell_type": "code",
   "execution_count": null,
   "id": "f20a3f8b-e517-4f0a-808e-852f9d2b5bd7",
   "metadata": {},
   "outputs": [],
   "source": []
  }
 ],
 "metadata": {
  "kernelspec": {
   "display_name": "Python 3 (ipykernel)",
   "language": "python",
   "name": "python3"
  },
  "language_info": {
   "codemirror_mode": {
    "name": "ipython",
    "version": 3
   },
   "file_extension": ".py",
   "mimetype": "text/x-python",
   "name": "python",
   "nbconvert_exporter": "python",
   "pygments_lexer": "ipython3",
   "version": "3.11.9"
  }
 },
 "nbformat": 4,
 "nbformat_minor": 5
}
