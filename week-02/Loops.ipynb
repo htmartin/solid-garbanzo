{
 "cells": [
  {
   "cell_type": "markdown",
   "id": "4c302c4a-1d09-4291-8f85-1d37bbb2e423",
   "metadata": {},
   "source": [
    "## Loops Exercise"
   ]
  },
  {
   "cell_type": "markdown",
   "id": "9cec6939-18e3-436f-b38e-6ee1b6267e61",
   "metadata": {},
   "source": [
    "**1. Write a Python script to calculate the sum of all numbers in a given list.**\n"
   ]
  },
  {
   "cell_type": "code",
   "execution_count": 1,
   "id": "7ec5eae1-07f3-4fa8-af7a-7bdbba1ed709",
   "metadata": {},
   "outputs": [],
   "source": [
    "#Your code here"
   ]
  },
  {
   "cell_type": "code",
   "execution_count": null,
   "id": "f41a46d1-85c4-4251-9612-493e2dc5f1dd",
   "metadata": {},
   "outputs": [],
   "source": [
    "Why did you use the type of loop you chose?\n",
    "\n"
   ]
  },
  {
   "cell_type": "markdown",
   "id": "b1e64e5e-05eb-4da7-8d50-f546c840ede7",
   "metadata": {},
   "source": [
    "**2. Write a Python script that prints numbers from 10 down to 1.** \n"
   ]
  },
  {
   "cell_type": "code",
   "execution_count": null,
   "id": "d65099ea-2665-49b8-8c35-dd32ee990bfc",
   "metadata": {},
   "outputs": [],
   "source": [
    "#Your code here"
   ]
  },
  {
   "cell_type": "markdown",
   "id": "2a35b96d-5573-4d8b-bac1-f2accdcc609d",
   "metadata": {},
   "source": [
    "Why did you use the type of loop you chose?\n"
   ]
  },
  {
   "cell_type": "markdown",
   "id": "6074d206-915c-4262-b264-257480e6e50c",
   "metadata": {},
   "source": [
    "**3. Write a Python script that prints all even numbers between 1 and 20.**\n"
   ]
  },
  {
   "cell_type": "code",
   "execution_count": null,
   "id": "17419e6f-9614-4a47-84ea-0d4a92915f4f",
   "metadata": {},
   "outputs": [],
   "source": [
    "#Your code here"
   ]
  },
  {
   "cell_type": "markdown",
   "id": "b5fad31b-1760-422e-86d7-63e84dc6ae61",
   "metadata": {},
   "source": [
    "Why did you use the type of loop you chose?\n"
   ]
  },
  {
   "cell_type": "markdown",
   "id": "6ecf9cba-11c9-4f6e-a693-46e4ea9b0707",
   "metadata": {},
   "source": [
    "**4. Write a Python script to calculate the factorial of a given number `n`.**"
   ]
  },
  {
   "cell_type": "code",
   "execution_count": null,
   "id": "a449b9a9-33c6-4126-ae49-161b17e7fae8",
   "metadata": {},
   "outputs": [],
   "source": [
    "#Your code here"
   ]
  },
  {
   "cell_type": "markdown",
   "id": "3d81024f-37c5-4fff-9f54-ed627646e32a",
   "metadata": {},
   "source": [
    "Why did you use the type of loop you chose?\n"
   ]
  },
  {
   "cell_type": "markdown",
   "id": "6785e1d8-5173-4163-9e6b-baf9f130d7fe",
   "metadata": {},
   "source": [
    "**5. Write a Python script that finds the maximum number in a given list.**"
   ]
  },
  {
   "cell_type": "code",
   "execution_count": null,
   "id": "54f84cf7-1cd0-49df-be2b-ba400d7dfc67",
   "metadata": {},
   "outputs": [],
   "source": [
    "#Your code here"
   ]
  },
  {
   "cell_type": "markdown",
   "id": "b63ce974-1525-4c19-b59a-66d497c25fd7",
   "metadata": {},
   "source": [
    "Why did you use the type of loop you chose?\n"
   ]
  },
  {
   "cell_type": "code",
   "execution_count": null,
   "id": "80ccd519-136a-479b-b9bc-4467e5301e96",
   "metadata": {},
   "outputs": [],
   "source": []
  }
 ],
 "metadata": {
  "kernelspec": {
   "display_name": "Python 3 (ipykernel)",
   "language": "python",
   "name": "python3"
  },
  "language_info": {
   "codemirror_mode": {
    "name": "ipython",
    "version": 3
   },
   "file_extension": ".py",
   "mimetype": "text/x-python",
   "name": "python",
   "nbconvert_exporter": "python",
   "pygments_lexer": "ipython3",
   "version": "3.11.9"
  }
 },
 "nbformat": 4,
 "nbformat_minor": 5
}
