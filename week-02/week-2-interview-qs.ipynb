{
 "cells": [
  {
   "cell_type": "markdown",
   "id": "3746e25b-f768-42ba-ae39-6ae2161d98ca",
   "metadata": {},
   "source": [
    "\n",
    "## Data Science Interview Questions: Data Types, Control of Flow, & Strings\n",
    "\n",
    "### General Knowledge\n",
    "\n",
    "1. What are the different data types available in Python?\n",
    "2. How do you differentiate between mutable and immutable data types in Python?\n",
    "3. Explain how control flow works in Python with examples.\n",
    "\n",
    "### Coding/Scripting \n",
    "\n",
    "1. How would you convert a list of integers into a comma-separated string in Python?\n",
    "2. Write a Python function that checks if a given string is a palindrome."
   ]
  },
  {
   "cell_type": "code",
   "execution_count": null,
   "id": "55da4efe-5fee-4134-a0e9-59a691d66293",
   "metadata": {},
   "outputs": [],
   "source": []
  }
 ],
 "metadata": {
  "kernelspec": {
   "display_name": "Python 3 (ipykernel)",
   "language": "python",
   "name": "python3"
  },
  "language_info": {
   "codemirror_mode": {
    "name": "ipython",
    "version": 3
   },
   "file_extension": ".py",
   "mimetype": "text/x-python",
   "name": "python",
   "nbconvert_exporter": "python",
   "pygments_lexer": "ipython3",
   "version": "3.11.9"
  }
 },
 "nbformat": 4,
 "nbformat_minor": 5
}
