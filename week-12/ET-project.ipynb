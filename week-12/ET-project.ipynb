{
 "cells": [
  {
   "cell_type": "markdown",
   "id": "0047d5fa-998b-4b10-a6a2-6da1797b7f39",
   "metadata": {},
   "source": [
    "# Extraterrestrial Diplomatic Service Project"
   ]
  },
  {
   "cell_type": "markdown",
   "id": "1d54da58-38c1-44c7-8999-d577ceb49bfa",
   "metadata": {},
   "source": [
    "#### The Problem Statement\n",
    "\n",
    "It's 2733, and you are a data scientist for the Extraterrestrial Diplomatic Service. The Service is regularly tasked with providing guidance to the Galactic Council on potential trade and business relations with extraterrestrial civilizations. This analysis helps the Council in understanding the potential for fruitful collaborations.\n",
    "\n",
    "At the annual meeting of the Extraterrestrial Diplomatic Service, presenters highlighted the success of several joint space missions conducted in collaboration with extraterrestrial civilizations. They suggested that these past achievements could indicate potential for expanding partnerships into areas such as trade and business. They wondered what other characteristics of extraterrestrial civilizations could serve as predictors of future successful partnerships.\n",
    "\n",
    "**Your job** is to do EDA with the dataset to begin this analysis.\n",
    "**The goal** is to create a report that:\n",
    "1. Recommends variables that could serve as predictors of future successful partnerships to the council.\n",
    "2. Backs up your suggestions with numerical data and graphs.\n",
    "\n",
    "- Your dataset, `extraterrestrial_civilizations.csv` has a randomly selected set of 50 civilizations' information for the following variables:\n",
    "\n",
    "`Name_of_civilzation`: The civilization's name\n",
    "\n",
    "`Years_since_first_contact`: Number of years since humanity first made contact with this civilization. (0-300)\n",
    "\n",
    "`Technological_progress`: A measure of the civilization's overall technological progress on a scale from 1 to 100.\n",
    "\n",
    "`Diplomatic_relations_index`: A measure of diplomatic relations between Earth and the civilization on a scale from 1 to 10, with higher values indicating more positive relations.\n",
    "\n",
    "`Cultural_exchange_index`: A measure of the degree of cultural exchange between Earth and the  civilization on a scale from 1 to 10, with higher values indicating more exchange.\n",
    "\n",
    "`Joint_space_missions`: The number of joint space missions between Earth and the civilization.\n",
    "\n",
    "`Hostility_to_Earth_Index`: A measure of the civilization's hostility to Earth on a scale from 1 to 10, with higher values indicating more hostility.\n",
    "\n",
    "`Degree_of_positive_contact`: A continuous variable measuring the degree of positive  contact with Earth on a scale from 1 to 100, with higher values indicating more positive contact.\n",
    "\n"
   ]
  }
 ],
 "metadata": {
  "environment": {
   "kernel": "python3",
   "name": "common-cpu.m87",
   "type": "gcloud",
   "uri": "gcr.io/deeplearning-platform-release/base-cpu:m87"
  },
  "kernelspec": {
   "display_name": "Python 3 (ipykernel)",
   "language": "python",
   "name": "python3"
  },
  "language_info": {
   "codemirror_mode": {
    "name": "ipython",
    "version": 3
   },
   "file_extension": ".py",
   "mimetype": "text/x-python",
   "name": "python",
   "nbconvert_exporter": "python",
   "pygments_lexer": "ipython3",
   "version": "3.11.9"
  }
 },
 "nbformat": 4,
 "nbformat_minor": 5
}
